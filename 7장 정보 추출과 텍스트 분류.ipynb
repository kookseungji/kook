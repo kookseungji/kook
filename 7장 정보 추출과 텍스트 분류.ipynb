{
 "cells": [
  {
   "cell_type": "code",
   "execution_count": 1,
   "metadata": {},
   "outputs": [],
   "source": [
    "import nltk"
   ]
  },
  {
   "cell_type": "code",
   "execution_count": 2,
   "metadata": {},
   "outputs": [
    {
     "name": "stderr",
     "output_type": "stream",
     "text": [
      "[nltk_data] Downloading package words to\n",
      "[nltk_data]     C:\\Users\\student\\AppData\\Roaming\\nltk_data...\n",
      "[nltk_data]   Package words is already up-to-date!\n",
      "[nltk_data] Downloading package treebank to\n",
      "[nltk_data]     C:\\Users\\student\\AppData\\Roaming\\nltk_data...\n",
      "[nltk_data]   Unzipping corpora\\treebank.zip.\n",
      "[nltk_data] Downloading package maxent_ne_chunker to\n",
      "[nltk_data]     C:\\Users\\student\\AppData\\Roaming\\nltk_data...\n",
      "[nltk_data]   Package maxent_ne_chunker is already up-to-date!\n"
     ]
    }
   ],
   "source": [
    "nltk.download('words')\n",
    "nltk.download('treebank')\n",
    "nltk.download('maxent_ne_chunker')\n",
    "\n",
    "def sampleNE():\n",
    "    sent=nltk.corpus.treebank.tagged_sents()[0]\n",
    "    print(nltk.ne_chunk(sent))\n",
    "    "
   ]
  },
  {
   "cell_type": "code",
   "execution_count": 3,
   "metadata": {},
   "outputs": [
    {
     "name": "stdout",
     "output_type": "stream",
     "text": [
      "(S\n",
      "  (PERSON Pierre/NNP)\n",
      "  (ORGANIZATION Vinken/NNP)\n",
      "  ,/,\n",
      "  61/CD\n",
      "  years/NNS\n",
      "  old/JJ\n",
      "  ,/,\n",
      "  will/MD\n",
      "  join/VB\n",
      "  the/DT\n",
      "  board/NN\n",
      "  as/IN\n",
      "  a/DT\n",
      "  nonexecutive/JJ\n",
      "  director/NN\n",
      "  Nov./NNP\n",
      "  29/CD\n",
      "  ./.)\n"
     ]
    }
   ],
   "source": [
    "sampleNE()"
   ]
  },
  {
   "cell_type": "code",
   "execution_count": 14,
   "metadata": {},
   "outputs": [],
   "source": [
    "import nltk\n",
    "import random\n",
    "sampledata = [\n",
    "('KA-01-F 1034 A', 'rtc'),\n",
    "('KA-02-F 1030 B', 'rtc'),\n",
    "('KA-03-FA 1200 C', 'rtc'),\n",
    "('KA-01-G 0001 A', 'gov'),\n",
    "('KA-02-G 1004 A', 'gov'),\n",
    "('KA-03-G 0204 A', 'gov'),\n",
    "('KA-04-G 9230 A', 'gov'),\n",
    "('KA-27 1290', 'oth')\n",
    "]\n",
    "random.shuffle(sampledata)\n",
    "testdata = [\n",
    "'KA-01-G 0109',\n",
    "'KA-02-F 9020 AC',\n",
    "'KA-02-FA 0801',\n",
    "'KA-01 9129']\n",
    "\n",
    "def learnsimplefeature():\n",
    "    def vehiclenumberfeature(vnumber):\n",
    "        return {'vehicle num ber': vnumber[6]}\n",
    "    featureset=[(vehiclenumberfeature(vn),cls) for (vn,cls) in sampledata]\n",
    "    print()\n",
    "    print(featureset)\n",
    "    classifier=nltk.NaiveBayesClassifier.train(featureset)\n",
    "    for num in testdata:\n",
    "        feature =vehiclenumberfeature(num)\n",
    "        print(num,classifier.classify(feature))\n",
    "        "
   ]
  },
  {
   "cell_type": "code",
   "execution_count": 15,
   "metadata": {},
   "outputs": [
    {
     "name": "stdout",
     "output_type": "stream",
     "text": [
      "\n",
      "[({'vehicle num ber': 'G'}, 'gov'), ({'vehicle num ber': 'F'}, 'rtc'), ({'vehicle num ber': 'G'}, 'gov'), ({'vehicle num ber': 'G'}, 'gov'), ({'vehicle num ber': 'G'}, 'gov'), ({'vehicle num ber': 'F'}, 'rtc'), ({'vehicle num ber': 'F'}, 'rtc'), ({'vehicle num ber': '1'}, 'oth')]\n",
      "KA-01-G 0109 gov\n",
      "KA-02-F 9020 AC rtc\n",
      "KA-02-FA 0801 rtc\n",
      "KA-01 9129 gov\n"
     ]
    }
   ],
   "source": [
    "learnsimplefeature()"
   ]
  },
  {
   "cell_type": "code",
   "execution_count": 17,
   "metadata": {},
   "outputs": [],
   "source": [
    "import nltk\n",
    "sentences = [\n",
    "\"What is your address when you're in Bangalore?\", #주소\n",
    "\"the president's address on the state of the economy.\" , #연설\n",
    "\"He addressed his remarks to the lawyers in the audience.\", #연설하다\n",
    "\"In order to address an assembly, we should be ready\", #연설하다\n",
    "\"He laughed inwardly at the scene.\", #웃다\n",
    "\"After all the advance publicity, the prizefight turned out to be a laugh.\", #웃음\n",
    "\"We can learn to laugh a little at even our most serious foibles.\" #웃다\n",
    "]\n",
    "def getSentenceWords():\n",
    "    sentwords = []\n",
    "    for sentence in sentences:\n",
    "        words = nltk.pos_tag(nltk.word_tokenize(sentence))\n",
    "        sentwords.append(words)\n",
    "        #print(\"getSentenceWords\")\n",
    "        #print(sentwords)\n",
    "    return sentwords    \n",
    "def noContextTagger():\n",
    "    tagger = nltk.UnigramTagger(getSentenceWords())\n",
    "    print(\"noContextTagger\")\n",
    "    print(tagger.tag('the little remarks towards assembly are laughable'.split()))\n",
    "def withContextTagger():\n",
    "def wordFeatures(words, wordPosInSentence):\n",
    "    # 모든 ing 형태 등을 추출\n",
    "    endFeatures = {\n",
    "    'last(1)': words[wordPosInSentence][-1],\n",
    "    'last(2)': words[wordPosInSentence][-2:],\n",
    "    'last(3)': words[wordPosInSentence][-3:],\n",
    "    }\n",
    "# 이전 단어를 사용해 현재 단어가 동사인지 명사인지 확인\n",
    "    if wordPosInSentence > 1:\n",
    "        endFeatures['prev'] = words[wordPosInSentence - 1]\n",
    "    else:\n",
    "        endFeatures['prev'] = '|NONE|'\n",
    "    return endFeatures\n",
    "    allsentences = getSentenceWords()\n",
    "    print(\"allsentences\")\n",
    "    print(allsentences)\n",
    "    featureddata = []\n",
    "    for sentence in allsentences:\n",
    "        untaggedSentence = nltk.tag.untag(sentence)\n",
    "        featuredsentence = [(wordFeatures(untaggedSentence, index), tag) \n",
    "        for index, (word, tag) in enume\n",
    "            featureddata.extend(featuredsentence)\n",
    "            print(\"featureddata\")\n",
    "            print(featureddata)\n",
    "            breakup = int(len(featureddata) * 0.5)\n",
    "            traindata = featureddata[breakup:]\n",
    "            testdata = featureddata[:breakup]\n",
    "            classifier = nltk.NaiveBayesClassifier.train(traindata)\n",
    "    print(\"분류기 정확도 : {}\".format(nltk.classify.accuracy(classifier, testdata)))\n",
    "    noContextTagger()\n",
    "    withContextTagger()    "
   ]
  },
  {
   "cell_type": "code",
   "execution_count": null,
   "metadata": {},
   "outputs": [],
   "source": []
  }
 ],
 "metadata": {
  "kernelspec": {
   "display_name": "Python 3",
   "language": "python",
   "name": "python3"
  },
  "language_info": {
   "codemirror_mode": {
    "name": "ipython",
    "version": 3
   },
   "file_extension": ".py",
   "mimetype": "text/x-python",
   "name": "python",
   "nbconvert_exporter": "python",
   "pygments_lexer": "ipython3",
   "version": "3.7.3"
  }
 },
 "nbformat": 4,
 "nbformat_minor": 2
}
