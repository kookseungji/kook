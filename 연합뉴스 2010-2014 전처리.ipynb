{
 "cells": [
  {
   "cell_type": "code",
   "execution_count": 2,
   "metadata": {},
   "outputs": [],
   "source": [
    "import pandas as pd\n",
    "import numpy as np\n",
    "import datetime\n",
    "import re\n",
    "yon=pd.read_csv('연합뉴스_2010-2014.csv')\n",
    "yon['press']=' 연합뉴스'\n",
    "yon['date']=yon['date'].astype('str')\n",
    "yon=yon.drop('link',axis=1)\n",
    "yon['content'] = yon['content'].apply(lambda x: re.sub(\"\\w*\\@.+\",'',x,1))\n",
    "yon['content'] = yon['content'].apply(lambda x: re.sub(\"\\([가-힣].=연합인포맥스\\)|\\([가-힣].=연합뉴스\\)\",'',x,1))\n",
    "yon['date']=pd.to_datetime(yon['date'])\n",
    "#yon['content']=yon['content'].apply(lambda x: re.sub(\".+['기자']{2}\\=|.+['기자']{2} \\=\",'',x,1))\n",
    "# sep = '(끝)'\n",
    "# yonhap['content']=yonhap['content'].apply(lambda x : x.lstrip('\\r\\n\\t').rstrip('\\r\\n\\t').rstrip('\\r\\n').rstrip('\\t\\t').rstrip('\\r\\n\\r\\n\\t\\t\\r\\n\\t\\t,\\r\\n\\r\\n\\t\\t\\'').split(sep, 1)[0])\n",
    "# yonhap['content']=yonhap['content'].apply(lambda x :re.sub('\\(서울=연합인포맥스\\)','',x)).apply(lambda x :re.sub('\\(뉴욕=연합인포맥스\\)','',x))"
   ]
  },
  {
   "cell_type": "code",
   "execution_count": 9,
   "metadata": {},
   "outputs": [],
   "source": [
    "from ekonlpy.sentiment import MPCK\n",
    "def text2ngram(text):\n",
    "    mpck = MPCK()\n",
    "    bef_tokens = mpck.tokenize(text)\n",
    "    ngrams = mpck.ngramize(bef_tokens)\n",
    "    return ngrams"
   ]
  },
  {
   "cell_type": "code",
   "execution_count": 13,
   "metadata": {},
   "outputs": [],
   "source": [
    "n_gram=[]\n",
    "for i in range(11732):\n",
    "    n_gram.append(text2ngram(yon['content'][i]))"
   ]
  },
  {
   "cell_type": "code",
   "execution_count": 17,
   "metadata": {},
   "outputs": [],
   "source": [
    "yon['ngram']=n_gram"
   ]
  },
  {
   "cell_type": "code",
   "execution_count": 18,
   "metadata": {},
   "outputs": [
    {
     "data": {
      "text/html": [
       "<div>\n",
       "<style scoped>\n",
       "    .dataframe tbody tr th:only-of-type {\n",
       "        vertical-align: middle;\n",
       "    }\n",
       "\n",
       "    .dataframe tbody tr th {\n",
       "        vertical-align: top;\n",
       "    }\n",
       "\n",
       "    .dataframe thead th {\n",
       "        text-align: right;\n",
       "    }\n",
       "</style>\n",
       "<table border=\"1\" class=\"dataframe\">\n",
       "  <thead>\n",
       "    <tr style=\"text-align: right;\">\n",
       "      <th></th>\n",
       "      <th>press</th>\n",
       "      <th>date</th>\n",
       "      <th>title</th>\n",
       "      <th>content</th>\n",
       "      <th>ngram</th>\n",
       "    </tr>\n",
       "  </thead>\n",
       "  <tbody>\n",
       "    <tr>\n",
       "      <th>0</th>\n",
       "      <td>연합뉴스</td>\n",
       "      <td>2010-01-19</td>\n",
       "      <td>安교육 \"ICL 학자금 대출금리 인하 노력\"</td>\n",
       "      <td>['','','','','','','약대총정원추가증원도검토…내달초까지결정','이윤영...</td>\n",
       "      <td>[이자/NNG;부담/NNG]</td>\n",
       "    </tr>\n",
       "    <tr>\n",
       "      <th>1</th>\n",
       "      <td>연합뉴스</td>\n",
       "      <td>2010-01-22</td>\n",
       "      <td>학자금 대출금리 5.7%…0.1%P 인하</td>\n",
       "      <td>['','','','','','','이윤영기자=교육과학기술부와한국장학재단은올1학기취...</td>\n",
       "      <td>[금리/NNG;인하/NNG]</td>\n",
       "    </tr>\n",
       "    <tr>\n",
       "      <th>2</th>\n",
       "      <td>연합뉴스</td>\n",
       "      <td>2010-01-23</td>\n",
       "      <td>&lt;표&gt; 은행 정기예금 금리(22일 기준)</td>\n",
       "      <td>['','','','','(단위:%)','┌────┬─────────────────...</td>\n",
       "      <td>[]</td>\n",
       "    </tr>\n",
       "    <tr>\n",
       "      <th>3</th>\n",
       "      <td>연합뉴스</td>\n",
       "      <td>2010-01-21</td>\n",
       "      <td>경남銀 주택담보대출 가산금리 0.20%p 인하</td>\n",
       "      <td>['','','','',김재홍기자=경남은행(은행장문동성)은주택담보대출상품인`뉴집집마...</td>\n",
       "      <td>[대출/NNG;스프레드/NNG;인하/NNG]</td>\n",
       "    </tr>\n",
       "    <tr>\n",
       "      <th>4</th>\n",
       "      <td>연합뉴스</td>\n",
       "      <td>2010-01-20</td>\n",
       "      <td>&lt;코픽스 등장…대출금리 떨어지나&gt;(종합)</td>\n",
       "      <td>['','','','','','','기준금리↑가산금리↓','조재영최현석기자=은행의자...</td>\n",
       "      <td>[높/VA;대출/NNG;금리/NNG;낮/VA, 금리/NNG;서서히/MAG;상승/NN...</td>\n",
       "    </tr>\n",
       "  </tbody>\n",
       "</table>\n",
       "</div>"
      ],
      "text/plain": [
       "   press       date                      title  \\\n",
       "0   연합뉴스 2010-01-19   安교육 \"ICL 학자금 대출금리 인하 노력\"   \n",
       "1   연합뉴스 2010-01-22     학자금 대출금리 5.7%…0.1%P 인하   \n",
       "2   연합뉴스 2010-01-23     <표> 은행 정기예금 금리(22일 기준)   \n",
       "3   연합뉴스 2010-01-21  경남銀 주택담보대출 가산금리 0.20%p 인하   \n",
       "4   연합뉴스 2010-01-20     <코픽스 등장…대출금리 떨어지나>(종합)   \n",
       "\n",
       "                                             content  \\\n",
       "0  ['','','','','','','약대총정원추가증원도검토…내달초까지결정','이윤영...   \n",
       "1  ['','','','','','','이윤영기자=교육과학기술부와한국장학재단은올1학기취...   \n",
       "2  ['','','','','(단위:%)','┌────┬─────────────────...   \n",
       "3  ['','','','',김재홍기자=경남은행(은행장문동성)은주택담보대출상품인`뉴집집마...   \n",
       "4  ['','','','','','','기준금리↑가산금리↓','조재영최현석기자=은행의자...   \n",
       "\n",
       "                                               ngram  \n",
       "0                                    [이자/NNG;부담/NNG]  \n",
       "1                                    [금리/NNG;인하/NNG]  \n",
       "2                                                 []  \n",
       "3                           [대출/NNG;스프레드/NNG;인하/NNG]  \n",
       "4  [높/VA;대출/NNG;금리/NNG;낮/VA, 금리/NNG;서서히/MAG;상승/NN...  "
      ]
     },
     "execution_count": 18,
     "metadata": {},
     "output_type": "execute_result"
    }
   ],
   "source": [
    "yon.head()"
   ]
  },
  {
   "cell_type": "code",
   "execution_count": 19,
   "metadata": {},
   "outputs": [],
   "source": [
    "yon.to_csv(\"yon.csv\")"
   ]
  },
  {
   "cell_type": "code",
   "execution_count": null,
   "metadata": {},
   "outputs": [],
   "source": []
  }
 ],
 "metadata": {
  "kernelspec": {
   "display_name": "Python 3",
   "language": "python",
   "name": "python3"
  },
  "language_info": {
   "codemirror_mode": {
    "name": "ipython",
    "version": 3
   },
   "file_extension": ".py",
   "mimetype": "text/x-python",
   "name": "python",
   "nbconvert_exporter": "python",
   "pygments_lexer": "ipython3",
   "version": "3.7.3"
  }
 },
 "nbformat": 4,
 "nbformat_minor": 2
}
