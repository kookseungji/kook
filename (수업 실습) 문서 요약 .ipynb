{
 "cells": [
  {
   "cell_type": "code",
   "execution_count": 1,
   "metadata": {},
   "outputs": [
    {
     "name": "stderr",
     "output_type": "stream",
     "text": [
      "[nltk_data] Downloading package punkt to\n",
      "[nltk_data]     C:\\Users\\student\\AppData\\Roaming\\nltk_data...\n",
      "[nltk_data]   Package punkt is already up-to-date!\n"
     ]
    },
    {
     "ename": "NameError",
     "evalue": "name 'words_ls' is not defined",
     "output_type": "error",
     "traceback": [
      "\u001b[1;31m---------------------------------------------------------------------------\u001b[0m",
      "\u001b[1;31mNameError\u001b[0m                                 Traceback (most recent call last)",
      "\u001b[1;32m<ipython-input-1-519280e54d47>\u001b[0m in \u001b[0;36m<module>\u001b[1;34m\u001b[0m\n\u001b[0;32m     75\u001b[0m         \u001b[0mbow2\u001b[0m\u001b[1;33m[\u001b[0m\u001b[0mwords_ls\u001b[0m\u001b[1;33m.\u001b[0m\u001b[0mindex\u001b[0m\u001b[1;33m(\u001b[0m\u001b[0mword\u001b[0m\u001b[1;33m)\u001b[0m\u001b[1;33m]\u001b[0m\u001b[1;33m+=\u001b[0m\u001b[1;36m1\u001b[0m\u001b[1;33m\u001b[0m\u001b[1;33m\u001b[0m\u001b[0m\n\u001b[0;32m     76\u001b[0m     \u001b[1;32mreturn\u001b[0m \u001b[0mcosine_similarity\u001b[0m\u001b[1;33m(\u001b[0m\u001b[0mbow1\u001b[0m\u001b[1;33m,\u001b[0m\u001b[0mbow2\u001b[0m\u001b[1;33m)\u001b[0m\u001b[1;33m\u001b[0m\u001b[1;33m\u001b[0m\u001b[0m\n\u001b[1;32m---> 77\u001b[1;33m \u001b[0msentence_similarity\u001b[0m\u001b[1;33m(\u001b[0m\u001b[1;34m'나는 치킨을 좋아해'\u001b[0m\u001b[1;33m,\u001b[0m\u001b[1;34m'나는 치킨을 싫어해'\u001b[0m\u001b[1;33m)\u001b[0m\u001b[1;33m\u001b[0m\u001b[1;33m\u001b[0m\u001b[0m\n\u001b[0m",
      "\u001b[1;32m<ipython-input-1-519280e54d47>\u001b[0m in \u001b[0;36msentence_similarity\u001b[1;34m(sentence1, sentence2)\u001b[0m\n\u001b[0;32m     71\u001b[0m     \u001b[0mbow2\u001b[0m\u001b[1;33m=\u001b[0m\u001b[1;33m[\u001b[0m\u001b[1;36m0\u001b[0m\u001b[1;33m]\u001b[0m\u001b[1;33m*\u001b[0m\u001b[0mlen\u001b[0m\u001b[1;33m(\u001b[0m\u001b[0mword_ls\u001b[0m\u001b[1;33m)\u001b[0m\u001b[1;33m\u001b[0m\u001b[1;33m\u001b[0m\u001b[0m\n\u001b[0;32m     72\u001b[0m     \u001b[1;32mfor\u001b[0m \u001b[0mword\u001b[0m \u001b[1;32min\u001b[0m \u001b[0msentence1\u001b[0m\u001b[1;33m:\u001b[0m\u001b[1;33m\u001b[0m\u001b[1;33m\u001b[0m\u001b[0m\n\u001b[1;32m---> 73\u001b[1;33m         \u001b[0mbow1\u001b[0m\u001b[1;33m[\u001b[0m\u001b[0mwords_ls\u001b[0m\u001b[1;33m.\u001b[0m\u001b[0mindex\u001b[0m\u001b[1;33m(\u001b[0m\u001b[0mword\u001b[0m\u001b[1;33m)\u001b[0m\u001b[1;33m]\u001b[0m\u001b[1;33m+=\u001b[0m\u001b[1;36m1\u001b[0m\u001b[1;33m\u001b[0m\u001b[1;33m\u001b[0m\u001b[0m\n\u001b[0m\u001b[0;32m     74\u001b[0m     \u001b[1;32mfor\u001b[0m \u001b[0mword\u001b[0m \u001b[1;32min\u001b[0m \u001b[0msentence2\u001b[0m\u001b[1;33m:\u001b[0m\u001b[1;33m\u001b[0m\u001b[1;33m\u001b[0m\u001b[0m\n\u001b[0;32m     75\u001b[0m         \u001b[0mbow2\u001b[0m\u001b[1;33m[\u001b[0m\u001b[0mwords_ls\u001b[0m\u001b[1;33m.\u001b[0m\u001b[0mindex\u001b[0m\u001b[1;33m(\u001b[0m\u001b[0mword\u001b[0m\u001b[1;33m)\u001b[0m\u001b[1;33m]\u001b[0m\u001b[1;33m+=\u001b[0m\u001b[1;36m1\u001b[0m\u001b[1;33m\u001b[0m\u001b[1;33m\u001b[0m\u001b[0m\n",
      "\u001b[1;31mNameError\u001b[0m: name 'words_ls' is not defined"
     ]
    }
   ],
   "source": [
    "import re\n",
    "import nltk\n",
    "from nltk.tokenize import TreebankWordTokenizer\n",
    "text = \"The FAANG stocks won’t see much more growth in the near future, according to Bill Studebaker, founder and Chief Investment Officer of Robo Global. \\\n",
    "Studebaker argues we are seeing a 'reallocation' that will continue from large-cap tech stocks into market-weight stocks. \\\n",
    "The FAANG stocks have had a rough few weeks, and have been hit hard since March 12. \\\n",
    "One FAANG to look out for, in the midst of all this, is Amazon, according to Studebaker. \\\n",
    "The stock market is seeing a 'reallocation' out of FAANG stocks, which are not where the smart money is, founder and Chief Investment Officer of Robo Global Bill Studebaker told Business Insider. \\\n",
    "The FAANG stocks (Facebook, Apple, Amazon, Netflix, Google) are all down considerably since March 12, a trend that accelerated when news of a massive Facebook data scandal broke, sending the tech-heavy Nasdaq into a downward frenzy. \\\n",
    "Investors are wondering what’s next. \\\n",
    "And what’s next isn’t good news for FAANG stock optimists, Studebaker thinks. 'This is a dead trade' for the next several months, he said. 'I wouldn’t expect there to be a lot of performance attribution coming from the FAANG stocks,' he added. That is, if the stock market is to see gains in the next several months, they will largely not come from the big tech companies. \\\n",
    "The market is seeing a 'reallocation out of large-cap technology, into other parts of the market,' he said. And this trend could continue for the foreseeable future. 'When you get these reallocation trades, a de-risking, this can go on for months and months.' The FAANG’s are pricey stocks, he said, pointing out that investors will 'factor in the law of big numbers,' he said. 'Just because they’re big cap doesn’t mean they’re safe,' he added. \\\n",
    "Still, he doesn’t necessarily think that investors are going to shift drastically into value stocks. 'With an increasingly favorable macro backdrop, you have strong growth demand.' \\\n",
    "Studebaker, who runs an artificial intelligence and robotics exchange-traded fund with $4 billion in assets under management, thinks that AI and robotics are better areas of growth. His ETF is up 27% in the past year, while the FAANG stocks are also largely up over that same span, even if they are down since March 12. \\\n",
    "While many point to artificial intelligence as an area that will be a boost to Google and Amazon, Studebaker doesn’t see that as a sign of significant growth for the FAANGs. He pointed out that 'eighty to ninety percent of their businesses are still search,' and that 'AI doesn’t really move the needle on the business.' He also said 'the revenue mix [attributable to AI] in those businesses are insignificant.' \\\n",
    "And while he’s not bullish on FAANG’s, he does say that the one FAANG to still watch out for is Amazon, simply because ecommerce still represents a small portion of the global retail market, giving the company room to grow.\" \n",
    "#빈도 기반 요약\n",
    "def get_sentence(txt):\n",
    "    return txt.split('.')\n",
    "def get_words(txt):\n",
    "    return TreebankWordTokenizer().tokenize(txt)\n",
    "def get_keywords(word_list , min_ratio=0.001, max_ratio=0.5) :\n",
    "    assert (min_ratio < 1 and max_ratio < 1) #제약조건, 이걸 만족하지 않으면 종료됨\n",
    "    count_dict={}\n",
    "    for word in word_list:\n",
    "        count_dict.setdefault(word,0)\n",
    "        count_dict[word]+=1\n",
    "        keywords=set()\n",
    "        for word,cnt in count_dict.items():\n",
    "            word_percentage=count_dict[word]/len(word_list)\n",
    "        if word_percentage<=max_ratio and word_percentage>=min_ratio:\n",
    "            keywords.add(word)\n",
    "        return keywords\n",
    "def get_sentence_weight(sentence,keywords):\n",
    "    sen_list=sentence.split(' ')\n",
    "    window_start =0; window_end=-1; #문서 안에서 중요한 정도 측정\n",
    "    for i in range(len(sen_list)):#앞에서 부터 키워드 위치 탐색,window영역 설정\n",
    "        if sen_list[i] in keywords:\n",
    "            window_start=i\n",
    "            break\n",
    "    for i in range(len(sen_list)-1,0,-1):#뒤에서 부터 키워드 위치 탐색,window영역 설정\n",
    "        if sen_list[i] in keywords:\n",
    "            window_start=i\n",
    "            break    \n",
    "    if window_start>window_end:\n",
    "        return 0\n",
    "    window_size = window_end - window_start + 1\n",
    "    #윈도우 사이즈 대비 나온걸로 영향력 알아냄\n",
    "    #keywords 0.01 0.05 윈도우 사이즈 사람이 정해주므로 여기가 핵심문장 찾는 기준, 관건\n",
    "    "
   ]
  },
  {
   "cell_type": "code",
   "execution_count": 4,
   "metadata": {},
   "outputs": [
    {
     "name": "stderr",
     "output_type": "stream",
     "text": [
      "[nltk_data] Downloading package punkt to\n",
      "[nltk_data]     C:\\Users\\student\\AppData\\Roaming\\nltk_data...\n",
      "[nltk_data]   Package punkt is already up-to-date!\n"
     ]
    },
    {
     "data": {
      "text/plain": [
       "0.8333333333333335"
      ]
     },
     "execution_count": 4,
     "metadata": {},
     "output_type": "execute_result"
    }
   ],
   "source": [
    "   \n",
    "    # 2.그래프 기반 요약\n",
    "    #갯수로 1/n 가중치 한게 아니라 코사인유사도로 가중치 구함\n",
    "    \n",
    "from nltk.tokenize import sent_tokenize\n",
    "import numpy as np\n",
    "import re\n",
    "from operator import itemgetter   \n",
    "import nltk\n",
    "nltk.download('punkt')\n",
    "\n",
    "def cosine_similarity(x,y):\n",
    "    nominator=np.dot(x,y)\n",
    "    denominator= np.linalg.norm(x)*np.linalg.norm(y)\n",
    "    return nominator/denominator\n",
    "\n",
    "def sentence_similarity(sentence1,sentence2):\n",
    "    setence1=[word.lower() for word in sentence1.split()]\n",
    "    setence2=[word.lower() for word in sentence2.split()]\n",
    "    words_ls=list(set(sentence1+sentence2))\n",
    "    bow1=[0]*len(words_ls) #bag of word [0,0,0,0,0,0]\n",
    "    bow2=[0]*len(words_ls)\n",
    "    for word in sentence1:\n",
    "        bow1[words_ls.index(word)]+=1\n",
    "    for word in sentence2:\n",
    "        bow2[words_ls.index(word)]+=1\n",
    "    return cosine_similarity(bow1,bow2)\n",
    "sentence_similarity('나는 치킨을 좋아해','나는 치킨을 싫어해')\n"
   ]
  },
  {
   "cell_type": "code",
   "execution_count": 7,
   "metadata": {},
   "outputs": [
    {
     "data": {
      "text/plain": [
       "array([[0.        , 0.04372929, 0.04186875, 0.0446004 , 0.0463891 ,\n",
       "        0.04403424, 0.03980374, 0.04178381, 0.04197938, 0.04602547,\n",
       "        0.04434663, 0.04468691, 0.04506229, 0.04429514, 0.04434619,\n",
       "        0.04070466, 0.04194049, 0.0420769 , 0.04451124, 0.04305256,\n",
       "        0.04415211, 0.04389485, 0.04172691, 0.04498903],\n",
       "       [0.04412331, 0.        , 0.04062955, 0.0418248 , 0.04508793,\n",
       "        0.04424467, 0.04098929, 0.04113214, 0.0421635 , 0.04407669,\n",
       "        0.04479494, 0.04623971, 0.0422241 , 0.04416198, 0.04409967,\n",
       "        0.04119724, 0.04444147, 0.04296413, 0.04566652, 0.04304121,\n",
       "        0.04488939, 0.04421727, 0.04353478, 0.0442558 ],\n",
       "       [0.04450507, 0.04280219, 0.        , 0.04150645, 0.04486834,\n",
       "        0.04661285, 0.0392419 , 0.04027203, 0.04655285, 0.04289433,\n",
       "        0.04469284, 0.04425314, 0.04066852, 0.0438924 , 0.04517726,\n",
       "        0.04440012, 0.04067687, 0.04239557, 0.04406234, 0.04737929,\n",
       "        0.04379795, 0.04372022, 0.04176231, 0.04386521],\n",
       "       [0.04610201, 0.0428469 , 0.04036242, 0.        , 0.04618598,\n",
       "        0.04419   , 0.03698633, 0.04466429, 0.04167248, 0.04615907,\n",
       "        0.0446635 , 0.04508976, 0.04178168, 0.04558161, 0.04598422,\n",
       "        0.03689045, 0.04389051, 0.04242574, 0.04420343, 0.04333855,\n",
       "        0.04625   , 0.04265179, 0.04144334, 0.04663594],\n",
       "       [0.04549624, 0.04382524, 0.04139806, 0.04382164, 0.        ,\n",
       "        0.04390333, 0.03986287, 0.04231552, 0.0431489 , 0.0443955 ,\n",
       "        0.04473062, 0.04452268, 0.04304117, 0.044422  , 0.04487921,\n",
       "        0.04050414, 0.04343193, 0.0413652 , 0.04429402, 0.04358029,\n",
       "        0.04439368, 0.0443414 , 0.04333105, 0.04499531],\n",
       "       [0.0443938 , 0.04420762, 0.04420974, 0.04309975, 0.04513046,\n",
       "        0.        , 0.0399865 , 0.04073834, 0.04370936, 0.04377905,\n",
       "        0.04366049, 0.04492798, 0.0408986 , 0.04447391, 0.0441345 ,\n",
       "        0.04216442, 0.04223819, 0.04413126, 0.04502513, 0.04466105,\n",
       "        0.04513416, 0.04317393, 0.04162392, 0.04449784],\n",
       "       [0.0437359 , 0.04463638, 0.04056437, 0.03931646, 0.04466046,\n",
       "        0.04358086, 0.        , 0.04458015, 0.04371459, 0.04273001,\n",
       "        0.04327948, 0.04337039, 0.0432261 , 0.04566916, 0.04335994,\n",
       "        0.04178585, 0.04426944, 0.04268863, 0.0464086 , 0.04206185,\n",
       "        0.04358789, 0.04564187, 0.04459183, 0.04253983],\n",
       "       [0.04403881, 0.04296485, 0.03993113, 0.04554146, 0.04547447,\n",
       "        0.04258917, 0.04276169, 0.        , 0.04246587, 0.04459157,\n",
       "        0.04450751, 0.0427863 , 0.04136689, 0.04534209, 0.04619038,\n",
       "        0.03893827, 0.04563024, 0.0394473 , 0.04448862, 0.04269363,\n",
       "        0.04503118, 0.04443361, 0.0437999 , 0.04498509],\n",
       "       [0.0429225 , 0.04272579, 0.04477914, 0.04122088, 0.04498411,\n",
       "        0.04432938, 0.04067815, 0.04119661, 0.        , 0.04290773,\n",
       "        0.04465937, 0.04444358, 0.04110383, 0.04450618, 0.04501371,\n",
       "        0.04429888, 0.04295382, 0.04132066, 0.04436516, 0.04516558,\n",
       "        0.04373416, 0.0452993 , 0.04398888, 0.04340258],\n",
       "       [0.04645643, 0.04409213, 0.04073128, 0.04507375, 0.04569062,\n",
       "        0.04383108, 0.03925243, 0.04270442, 0.04235788, 0.        ,\n",
       "        0.0445868 , 0.04542295, 0.04428709, 0.04431649, 0.04421827,\n",
       "        0.04126809, 0.04188878, 0.04180887, 0.04407205, 0.04266866,\n",
       "        0.04433986, 0.04446383, 0.04119053, 0.04527779],\n",
       "       [0.04415101, 0.0441991 , 0.04185993, 0.04301815, 0.04540728,\n",
       "        0.04311584, 0.03921461, 0.04204223, 0.04348542, 0.04397832,\n",
       "        0.        , 0.04526213, 0.04099655, 0.04455436, 0.04536935,\n",
       "        0.04071849, 0.04443857, 0.04018009, 0.04398228, 0.04475719,\n",
       "        0.04488907, 0.0451964 , 0.04350579, 0.04567775],\n",
       "       [0.04440708, 0.04553983, 0.04137104, 0.04334797, 0.04511217,\n",
       "        0.04428503, 0.03922392, 0.04034122, 0.04319485, 0.04471977,\n",
       "        0.04517798, 0.        , 0.04148668, 0.04507552, 0.04446713,\n",
       "        0.04070792, 0.04357475, 0.04335227, 0.04449925, 0.04374266,\n",
       "        0.04514197, 0.04407852, 0.04209019, 0.04506221],\n",
       "       [0.0476458 , 0.04424622, 0.04045295, 0.0427382 , 0.04640191,\n",
       "        0.04289316, 0.0415952 , 0.0414989 , 0.04250546, 0.04639176,\n",
       "        0.04353902, 0.04414161, 0.        , 0.04380364, 0.04320459,\n",
       "        0.0431315 , 0.04249179, 0.04027413, 0.04529166, 0.0417014 ,\n",
       "        0.04282353, 0.0462473 , 0.04332747, 0.04365277],\n",
       "       [0.04409469, 0.04356957, 0.04110552, 0.04389741, 0.04508882,\n",
       "        0.04391408, 0.04137511, 0.04282568, 0.0433313 , 0.04370669,\n",
       "        0.04454925, 0.04515431, 0.04124099, 0.        , 0.04467287,\n",
       "        0.0396658 , 0.04413858, 0.04360206, 0.04481271, 0.04285645,\n",
       "        0.04503031, 0.04423546, 0.04255639, 0.04457603],\n",
       "       [0.04394514, 0.04331061, 0.04211676, 0.04408414, 0.04534613,\n",
       "        0.04338114, 0.03910471, 0.04342886, 0.04362651, 0.04341188,\n",
       "        0.04515825, 0.04434266, 0.04049236, 0.0444701 , 0.        ,\n",
       "        0.03984194, 0.04441399, 0.04155754, 0.04444909, 0.04496692,\n",
       "        0.04516113, 0.04402445, 0.0441241 , 0.04524167],\n",
       "       [0.04401013, 0.04414495, 0.045162  , 0.03858703, 0.04465277,\n",
       "        0.04521919, 0.0411172 , 0.03994456, 0.04684382, 0.04420539,\n",
       "        0.04422014, 0.044291  , 0.04410539, 0.04308185, 0.04347048,\n",
       "        0.        , 0.04089946, 0.04077121, 0.04433774, 0.04479397,\n",
       "        0.04249027, 0.04704338, 0.04400527, 0.04260281],\n",
       "       [0.04280835, 0.04495602, 0.03905917, 0.04333956, 0.04520064,\n",
       "        0.04276303, 0.041123  , 0.04418961, 0.04287931, 0.04235894,\n",
       "        0.04555909, 0.0447567 , 0.04101933, 0.04525672, 0.04574675,\n",
       "        0.03861038, 0.        , 0.04131351, 0.04528061, 0.0431711 ,\n",
       "        0.04570456, 0.04503015, 0.04487108, 0.04500237],\n",
       "       [0.04461042, 0.04514431, 0.0422857 , 0.0435152 , 0.04471654,\n",
       "        0.04640952, 0.04118989, 0.03968097, 0.04284606, 0.04391505,\n",
       "        0.04278815, 0.04625221, 0.04038382, 0.04643755, 0.04446188,\n",
       "        0.03997953, 0.04291308, 0.        , 0.04636323, 0.04304174,\n",
       "        0.04557741, 0.0417486 , 0.04143523, 0.04430393],\n",
       "       [0.04417206, 0.04491385, 0.04113638, 0.0424378 , 0.04481915,\n",
       "        0.04432015, 0.0419143 , 0.04188894, 0.04305971, 0.04333049,\n",
       "        0.04384052, 0.04443844, 0.04250939, 0.04467339, 0.04451295,\n",
       "        0.04069519, 0.04402459, 0.04339694, 0.        , 0.04279972,\n",
       "        0.04539926, 0.04401505, 0.04431131, 0.04339036],\n",
       "       [0.04367233, 0.04327094, 0.04521437, 0.04253053, 0.04507524,\n",
       "        0.04493705, 0.03883127, 0.04109064, 0.04480908, 0.04288138,\n",
       "        0.04560266, 0.04465199, 0.04000799, 0.04367102, 0.04603054,\n",
       "        0.04202604, 0.04290478, 0.04118174, 0.04374923, 0.        ,\n",
       "        0.04480066, 0.04445523, 0.0431572 , 0.04544809],\n",
       "       [0.04389917, 0.04423368, 0.04096747, 0.04448725, 0.04500559,\n",
       "        0.04451214, 0.03944178, 0.04248059, 0.04252817, 0.04367687,\n",
       "        0.04482966, 0.04516619, 0.04026947, 0.04497587, 0.0453122 ,\n",
       "        0.03907381, 0.04452145, 0.0427427 , 0.04548578, 0.04391186,\n",
       "        0.        , 0.04359005, 0.04364379, 0.04524449],\n",
       "       [0.04387056, 0.04379817, 0.04110764, 0.04123973, 0.04518658,\n",
       "        0.04280056, 0.04151537, 0.04213507, 0.04427944, 0.04402697,\n",
       "        0.04537153, 0.04433173, 0.04371542, 0.04441196, 0.04440164,\n",
       "        0.04348602, 0.04409284, 0.03935582, 0.04432847, 0.04380009,\n",
       "        0.04381695, 0.        , 0.04472866, 0.0441987 ],\n",
       "       [0.04292971, 0.04438972, 0.04042096, 0.04124919, 0.04545497,\n",
       "        0.04247691, 0.04175253, 0.04275503, 0.04426247, 0.04198473,\n",
       "        0.04495818, 0.04357633, 0.04215932, 0.04398212, 0.04581028,\n",
       "        0.04187337, 0.04522861, 0.04020859, 0.04593866, 0.0437711 ,\n",
       "        0.04516055, 0.04604346, 0.        , 0.04361321],\n",
       "       [0.04486228, 0.04373704, 0.04115054, 0.04498984, 0.04574909,\n",
       "        0.04401309, 0.03860614, 0.04256139, 0.04232932, 0.04473138,\n",
       "        0.04575088, 0.04521843, 0.04116946, 0.04465251, 0.04552593,\n",
       "        0.03929204, 0.04396582, 0.04167009, 0.04360036, 0.0446769 ,\n",
       "        0.04537698, 0.04409859, 0.04227184, 0.        ]], dtype=float32)"
      ]
     },
     "execution_count": 7,
     "metadata": {},
     "output_type": "execute_result"
    }
   ],
   "source": [
    "def buildMatrix(sentences):\n",
    "    weighted_edge=np.zeros((len(sentences),len(sentences)),dtype=np.float32)\n",
    "    for i in range(len(sentences)):\n",
    "        for j in range(len(sentences)):\n",
    "            if i==j:\n",
    "                continue\n",
    "            weighted_edge[i][j]=sentence_similarity(sentences[i],sentences[j])\n",
    "    for i in range(len(weighted_edge)):\n",
    "        weighted_edge[i]/=weighted_edge[i].sum()\n",
    "    return weighted_edge\n",
    "buildMatrix(sent_tokenize(text))"
   ]
  },
  {
   "cell_type": "code",
   "execution_count": 8,
   "metadata": {},
   "outputs": [],
   "source": [
    "def scoring(A, eps=0.0001, d=0.85, max_iter = 50):\n",
    "    P = np.ones(len(A)) / len(A)\n",
    "    for iter in range(0,max_iter):\n",
    "        newP = (1 - d) + d * A.T.dot(P) #dot():행렬 곱셈\n",
    "        if abs((newP-P).sum())<=eps: \n",
    "            return newP\n",
    "        P=newP\n",
    "    return newP"
   ]
  },
  {
   "cell_type": "code",
   "execution_count": 10,
   "metadata": {},
   "outputs": [
    {
     "data": {
      "text/plain": [
       "array([1.01676396, 1.00896877, 0.96511319, 0.98827241, 1.03387292,\n",
       "       1.00971529, 0.93840409, 0.97209531, 0.99763501, 1.00866166,\n",
       "       1.02059217, 1.02223187, 0.96948462, 1.02073028, 1.02470193,\n",
       "       0.9513037 , 0.99904722, 0.96721417, 1.02348322, 1.0043739 ,\n",
       "       1.02175285, 1.01727118, 0.99232846, 1.01917989])"
      ]
     },
     "execution_count": 10,
     "metadata": {},
     "output_type": "execute_result"
    }
   ],
   "source": [
    "scoring(buildMatrix(sent_tokenize(text)))"
   ]
  },
  {
   "cell_type": "code",
   "execution_count": 14,
   "metadata": {},
   "outputs": [
    {
     "data": {
      "text/plain": [
       "array([0.04253553, 0.04213685, 0.03991187, 0.04106115, 0.04340368,\n",
       "       0.04218152, 0.03856533, 0.04026046, 0.04157274, 0.04211996,\n",
       "       0.04271948, 0.0428053 , 0.04013402, 0.04273781, 0.04293291,\n",
       "       0.03921892, 0.04162375, 0.04000962, 0.04288401, 0.04190141,\n",
       "       0.04277846, 0.04256853, 0.04129257, 0.04264412])"
      ]
     },
     "execution_count": 14,
     "metadata": {},
     "output_type": "execute_result"
    }
   ],
   "source": [
    "A=buildMatrix(sent_tokenize(text))\n",
    "P = np.ones(len(A)) / len(A)\n",
    "A.T.dot(P)"
   ]
  },
  {
   "cell_type": "code",
   "execution_count": 22,
   "metadata": {},
   "outputs": [],
   "source": [
    "import networkx as nx\n",
    "import math"
   ]
  },
  {
   "cell_type": "code",
   "execution_count": 27,
   "metadata": {},
   "outputs": [
    {
     "data": {
      "image/png": "[encoded data removed]",
      "text/plain": [
       "<Figure size 432x288 with 1 Axes>"
      ]
     },
     "metadata": {},
     "output_type": "display_data"
    },
    {
     "name": "stdout",
     "output_type": "stream",
     "text": [
      "0\n",
      "3\n",
      "Investors are wondering what’s next.\n"
     ]
    }
   ],
   "source": [
    "import matplotlib.pyplot as plt\n",
    "def sentences(text):\n",
    "    return sent_tokenize(text)\n",
    "def connect(nodes):\n",
    "    return [(start,end,sentence_similarity(start,end)) for start in nodes for end in nodes if start is not end\n",
    "            ]\n",
    "def rank(nodes,edges):\n",
    "    graph=nx.diamond_graph()\n",
    "    graph.add_nodes_from(nodes)\n",
    "    graph.add_weighted_edges_from(edges)\n",
    "    nx.draw(graph)\n",
    "    plt.show()\n",
    "    return nx.pagerank(graph)\n",
    "def summarize(text,num_summaries=6):\n",
    "    nodes=sentences(text)\n",
    "    edges=connect(nodes)\n",
    "    scores=rank(nodes,edges)\n",
    "    return sorted(scores,key=scores.get)[:num_summaries]\n",
    "summary=summarize(text,3)\n",
    "for sent in summary:\n",
    "    print(sent)"
   ]
  },
  {
   "cell_type": "code",
   "execution_count": null,
   "metadata": {},
   "outputs": [],
   "source": []
  }
 ],
 "metadata": {
  "kernelspec": {
   "display_name": "Python 3",
   "language": "python",
   "name": "python3"
  },
  "language_info": {
   "codemirror_mode": {
    "name": "ipython",
    "version": 3
   },
   "file_extension": ".py",
   "mimetype": "text/x-python",
   "name": "python",
   "nbconvert_exporter": "python",
   "pygments_lexer": "ipython3",
   "version": "3.7.3"
  }
 },
 "nbformat": 4,
 "nbformat_minor": 2
}
