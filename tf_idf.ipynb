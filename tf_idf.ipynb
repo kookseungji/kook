{
 "cells": [
  {
   "cell_type": "code",
   "execution_count": 1,
   "metadata": {},
   "outputs": [],
   "source": [
    "d1 = \"The cat sat on my face I hate a cat\"\n",
    "d2 = \"The dog sat on my bed I love a dog\""
   ]
  },
  {
   "cell_type": "code",
   "execution_count": 2,
   "metadata": {},
   "outputs": [],
   "source": [
    "bowA=d1.split()\n",
    "bow2=d2.split()"
   ]
  },
  {
   "cell_type": "code",
   "execution_count": 4,
   "metadata": {},
   "outputs": [],
   "source": [
    "wordset=set(bowA).union(set(bow2))"
   ]
  },
  {
   "cell_type": "code",
   "execution_count": 7,
   "metadata": {},
   "outputs": [],
   "source": [
    "A=dict.fromkeys(wordset,0)\n",
    "B=dict.fromkeys(wordset,0)"
   ]
  },
  {
   "cell_type": "code",
   "execution_count": 9,
   "metadata": {},
   "outputs": [],
   "source": [
    "for word in bowA:\n",
    "    A[word]+=1\n",
    "for word in bow2:\n",
    "    B[word]+=1"
   ]
  },
  {
   "cell_type": "code",
   "execution_count": 10,
   "metadata": {},
   "outputs": [
    {
     "data": {
      "text/html": [
       "<div>\n",
       "<style scoped>\n",
       "    .dataframe tbody tr th:only-of-type {\n",
       "        vertical-align: middle;\n",
       "    }\n",
       "\n",
       "    .dataframe tbody tr th {\n",
       "        vertical-align: top;\n",
       "    }\n",
       "\n",
       "    .dataframe thead th {\n",
       "        text-align: right;\n",
       "    }\n",
       "</style>\n",
       "<table border=\"1\" class=\"dataframe\">\n",
       "  <thead>\n",
       "    <tr style=\"text-align: right;\">\n",
       "      <th></th>\n",
       "      <th>I</th>\n",
       "      <th>The</th>\n",
       "      <th>a</th>\n",
       "      <th>bed</th>\n",
       "      <th>cat</th>\n",
       "      <th>dog</th>\n",
       "      <th>face</th>\n",
       "      <th>hate</th>\n",
       "      <th>love</th>\n",
       "      <th>my</th>\n",
       "      <th>on</th>\n",
       "      <th>sat</th>\n",
       "    </tr>\n",
       "  </thead>\n",
       "  <tbody>\n",
       "    <tr>\n",
       "      <th>0</th>\n",
       "      <td>1</td>\n",
       "      <td>1</td>\n",
       "      <td>1</td>\n",
       "      <td>0</td>\n",
       "      <td>2</td>\n",
       "      <td>0</td>\n",
       "      <td>1</td>\n",
       "      <td>1</td>\n",
       "      <td>0</td>\n",
       "      <td>1</td>\n",
       "      <td>1</td>\n",
       "      <td>1</td>\n",
       "    </tr>\n",
       "    <tr>\n",
       "      <th>1</th>\n",
       "      <td>1</td>\n",
       "      <td>1</td>\n",
       "      <td>1</td>\n",
       "      <td>1</td>\n",
       "      <td>0</td>\n",
       "      <td>2</td>\n",
       "      <td>0</td>\n",
       "      <td>0</td>\n",
       "      <td>1</td>\n",
       "      <td>1</td>\n",
       "      <td>1</td>\n",
       "      <td>1</td>\n",
       "    </tr>\n",
       "  </tbody>\n",
       "</table>\n",
       "</div>"
      ],
      "text/plain": [
       "   I  The  a  bed  cat  dog  face  hate  love  my  on  sat\n",
       "0  1    1  1    0    2    0     1     1     0   1   1    1\n",
       "1  1    1  1    1    0    2     0     0     1   1   1    1"
      ]
     },
     "execution_count": 10,
     "metadata": {},
     "output_type": "execute_result"
    }
   ],
   "source": [
    "import pandas as pd\n",
    "pd.DataFrame([A,B])"
   ]
  },
  {
   "cell_type": "code",
   "execution_count": 11,
   "metadata": {},
   "outputs": [
    {
     "name": "stdout",
     "output_type": "stream",
     "text": [
      "{'a': 0.1, 'sat': 0.1, 'bed': 0.0, 'hate': 0.1, 'I': 0.1, 'dog': 0.0, 'face': 0.1, 'cat': 0.2, 'love': 0.0, 'my': 0.1, 'on': 0.1, 'The': 0.1} {'a': 0.1, 'sat': 0.1, 'bed': 0.1, 'hate': 0.0, 'I': 0.1, 'dog': 0.2, 'face': 0.0, 'cat': 0.0, 'love': 0.1, 'my': 0.1, 'on': 0.1, 'The': 0.1}\n"
     ]
    }
   ],
   "source": [
    "def func(worddict,bow):\n",
    "    tfdict={}\n",
    "    bowcount=len(bow)\n",
    "    for word,count in worddict.items():\n",
    "        tfdict[word]=count/float(bowcount)\n",
    "    return tfdict\n",
    "print(func(A,bowA),func(B,bow2))"
   ]
  },
  {
   "cell_type": "code",
   "execution_count": 20,
   "metadata": {},
   "outputs": [
    {
     "name": "stdout",
     "output_type": "stream",
     "text": [
      "{'a': 0.0, 'sat': 0.0, 'bed': 0.3010299956639812, 'hate': 0.3010299956639812, 'I': 0.0, 'dog': 0.3010299956639812, 'face': 0.3010299956639812, 'cat': 0.3010299956639812, 'love': 0.3010299956639812, 'my': 0.0, 'on': 0.0, 'The': 0.0}\n"
     ]
    }
   ],
   "source": [
    "def func2(doclist):\n",
    "    import math\n",
    "    idfdict={}\n",
    "    n=len(doclist)\n",
    "    \n",
    "    idfdict=dict.fromkeys(doclist[0].keys(),0)\n",
    "    for doc in doclist:\n",
    "        for word,val in doc.items():\n",
    "            if val>0:\n",
    "                idfdict[word]+=1\n",
    "                \n",
    "    for word,val in idfdict.items():\n",
    "        idfdict[word]=math.log10(n/float(val))\n",
    "        \n",
    "    return idfdict\n",
    "\n",
    "print(func2([A,B]))"
   ]
  },
  {
   "cell_type": "code",
   "execution_count": 21,
   "metadata": {},
   "outputs": [],
   "source": [
    "from math import log10"
   ]
  },
  {
   "cell_type": "code",
   "execution_count": 22,
   "metadata": {},
   "outputs": [],
   "source": [
    "def f(t,d):\n",
    "    return d.count()\n",
    "def ff(t,d):\n",
    "    return 0.5+0.5*f(t,d)/max([f(w,d) for w in d])\n",
    "def fff(t,d):\n",
    "    numerator=len(D)\n",
    "    denominator=1+len([True for d in D if t in d])\n",
    "    return log10(numerator/denominator)\n",
    "    \n",
    "def ffff(t,d,dd):\n",
    "    print(t)\n",
    "    print(f(t,d))\n",
    "    print(ff(t,d))"
   ]
  },
  {
   "cell_type": "code",
   "execution_count": 23,
   "metadata": {},
   "outputs": [],
   "source": [
    "from sklearn.feature_extraction.text import TfidfVectorizer\n",
    "from collections import defaultdict"
   ]
  },
  {
   "cell_type": "code",
   "execution_count": 28,
   "metadata": {},
   "outputs": [],
   "source": [
    "document_ls = [d1, d2]\n",
    "vectorizer=TfidfVectorizer()\n",
    "tf_idf=vectorizer.fit_transform(document_ls)\n",
    "word2id=defaultdict(lambda :0)\n",
    "for idx,feature in enumerate(vectorizer.get_feature_names()):\n",
    "    word2id[feature]=idx"
   ]
  },
  {
   "cell_type": "code",
   "execution_count": 29,
   "metadata": {},
   "outputs": [
    {
     "data": {
      "text/html": [
       "<div>\n",
       "<style scoped>\n",
       "    .dataframe tbody tr th:only-of-type {\n",
       "        vertical-align: middle;\n",
       "    }\n",
       "\n",
       "    .dataframe tbody tr th {\n",
       "        vertical-align: top;\n",
       "    }\n",
       "\n",
       "    .dataframe thead th {\n",
       "        text-align: right;\n",
       "    }\n",
       "</style>\n",
       "<table border=\"1\" class=\"dataframe\">\n",
       "  <thead>\n",
       "    <tr style=\"text-align: right;\">\n",
       "      <th></th>\n",
       "      <th>bed</th>\n",
       "      <th>cat</th>\n",
       "      <th>dog</th>\n",
       "      <th>face</th>\n",
       "      <th>hate</th>\n",
       "      <th>love</th>\n",
       "      <th>my</th>\n",
       "      <th>on</th>\n",
       "      <th>sat</th>\n",
       "      <th>the</th>\n",
       "    </tr>\n",
       "  </thead>\n",
       "  <tbody>\n",
       "    <tr>\n",
       "      <th>0</th>\n",
       "      <td>0.000000</td>\n",
       "      <td>0.706006</td>\n",
       "      <td>0.000000</td>\n",
       "      <td>0.353003</td>\n",
       "      <td>0.353003</td>\n",
       "      <td>0.000000</td>\n",
       "      <td>0.251164</td>\n",
       "      <td>0.251164</td>\n",
       "      <td>0.251164</td>\n",
       "      <td>0.251164</td>\n",
       "    </tr>\n",
       "    <tr>\n",
       "      <th>1</th>\n",
       "      <td>0.353003</td>\n",
       "      <td>0.000000</td>\n",
       "      <td>0.706006</td>\n",
       "      <td>0.000000</td>\n",
       "      <td>0.000000</td>\n",
       "      <td>0.353003</td>\n",
       "      <td>0.251164</td>\n",
       "      <td>0.251164</td>\n",
       "      <td>0.251164</td>\n",
       "      <td>0.251164</td>\n",
       "    </tr>\n",
       "  </tbody>\n",
       "</table>\n",
       "</div>"
      ],
      "text/plain": [
       "        bed       cat       dog      face      hate      love        my  \\\n",
       "0  0.000000  0.706006  0.000000  0.353003  0.353003  0.000000  0.251164   \n",
       "1  0.353003  0.000000  0.706006  0.000000  0.000000  0.353003  0.251164   \n",
       "\n",
       "         on       sat       the  \n",
       "0  0.251164  0.251164  0.251164  \n",
       "1  0.251164  0.251164  0.251164  "
      ]
     },
     "execution_count": 29,
     "metadata": {},
     "output_type": "execute_result"
    }
   ],
   "source": [
    "pd.DataFrame(tf_idf.todense(),columns=vectorizer.get_feature_names())"
   ]
  },
  {
   "cell_type": "code",
   "execution_count": 37,
   "metadata": {},
   "outputs": [],
   "source": [
    "a=pd.read_csv('(완료)연합뉴스2005-2017_ngram.csv')"
   ]
  },
  {
   "cell_type": "code",
   "execution_count": 38,
   "metadata": {},
   "outputs": [
    {
     "data": {
      "text/plain": [
       "24929"
      ]
     },
     "execution_count": 38,
     "metadata": {},
     "output_type": "execute_result"
    }
   ],
   "source": [
    "len(a)"
   ]
  },
  {
   "cell_type": "code",
   "execution_count": 36,
   "metadata": {},
   "outputs": [
    {
     "data": {
      "text/html": [
       "<div>\n",
       "<style scoped>\n",
       "    .dataframe tbody tr th:only-of-type {\n",
       "        vertical-align: middle;\n",
       "    }\n",
       "\n",
       "    .dataframe tbody tr th {\n",
       "        vertical-align: top;\n",
       "    }\n",
       "\n",
       "    .dataframe thead th {\n",
       "        text-align: right;\n",
       "    }\n",
       "</style>\n",
       "<table border=\"1\" class=\"dataframe\">\n",
       "  <thead>\n",
       "    <tr style=\"text-align: right;\">\n",
       "      <th></th>\n",
       "      <th>Unnamed: 0</th>\n",
       "      <th>date</th>\n",
       "      <th>press</th>\n",
       "      <th>title</th>\n",
       "      <th>content</th>\n",
       "      <th>ngram</th>\n",
       "    </tr>\n",
       "  </thead>\n",
       "  <tbody>\n",
       "    <tr>\n",
       "      <th>140973</th>\n",
       "      <td>140973</td>\n",
       "      <td>2019-07-12</td>\n",
       "      <td>연합인포맥스</td>\n",
       "      <td>[도쿄환시] 달러, 美금리 인하 기대에 하락</td>\n",
       "      <td>윤영숙 기자 = 달러화가 미국 연방준비제도(연준·Fed)의 금리 인하 기대에 주요...</td>\n",
       "      <td>fed/NNG;금리/NNG;인하/NNG;기대/NNG;크/VV,완화/NNG;않/VX;...</td>\n",
       "    </tr>\n",
       "    <tr>\n",
       "      <th>140974</th>\n",
       "      <td>140974</td>\n",
       "      <td>2019-07-12</td>\n",
       "      <td>연합인포맥스</td>\n",
       "      <td>中매체 \"美연준 금리인하 저울질…중국도 인하 배제 못 해\"</td>\n",
       "      <td>정선미 기자 = 제롬 파월 연방준비제도(Fed·연준) 의장이 이르면 이달 말 기준...</td>\n",
       "      <td>fed/NNG;금리/NNG;인하/NNG,이례적/VAX;금리/NNG;인하/NNG,잠재...</td>\n",
       "    </tr>\n",
       "    <tr>\n",
       "      <th>140975</th>\n",
       "      <td>140975</td>\n",
       "      <td>2019-07-12</td>\n",
       "      <td>연합인포맥스</td>\n",
       "      <td>[표] 중국 상하이은행간 금리-shibor(12일)</td>\n",
       "      <td>※다음은 12일 오전 11시(상하이 시간) 고시된 중국 상하이 은행간 금리표(shi...</td>\n",
       "      <td>NaN</td>\n",
       "    </tr>\n",
       "    <tr>\n",
       "      <th>140976</th>\n",
       "      <td>140976</td>\n",
       "      <td>2019-07-12</td>\n",
       "      <td>연합인포맥스</td>\n",
       "      <td>국채선물 하락 출발…美 물가 호조에 금리상승</td>\n",
       "      <td>전소영 기자 = 국채선물이 하락 출발했다. 간밤 미국 국채금리가 상승한 부담을 받...</td>\n",
       "      <td>미/NNG;fed/NNG;비둘기/NNG,소비자/NNG;물가/NNG;호조/NNG,국채...</td>\n",
       "    </tr>\n",
       "    <tr>\n",
       "      <th>140977</th>\n",
       "      <td>140977</td>\n",
       "      <td>2019-07-12</td>\n",
       "      <td>연합인포맥스</td>\n",
       "      <td>리치먼드 연은 총재 \"7월 FOMC까지 시간 많다…경제 상당히 긍정적\"(상보)</td>\n",
       "      <td>오진우 특파원 = 토마스 바킨 리치먼드 연방준비은행(연은) 총재는 경제 전망의 위...</td>\n",
       "      <td>fed/NNG;금리/NNG;인하/NNG,경제/NNG;전망/NNG;위험/NNG,금리/...</td>\n",
       "    </tr>\n",
       "  </tbody>\n",
       "</table>\n",
       "</div>"
      ],
      "text/plain": [
       "        Unnamed: 0        date    press  \\\n",
       "140973      140973  2019-07-12   연합인포맥스   \n",
       "140974      140974  2019-07-12   연합인포맥스   \n",
       "140975      140975  2019-07-12   연합인포맥스   \n",
       "140976      140976  2019-07-12   연합인포맥스   \n",
       "140977      140977  2019-07-12   연합인포맥스   \n",
       "\n",
       "                                              title  \\\n",
       "140973                     [도쿄환시] 달러, 美금리 인하 기대에 하락   \n",
       "140974             中매체 \"美연준 금리인하 저울질…중국도 인하 배제 못 해\"   \n",
       "140975                 [표] 중국 상하이은행간 금리-shibor(12일)   \n",
       "140976                     국채선물 하락 출발…美 물가 호조에 금리상승   \n",
       "140977  리치먼드 연은 총재 \"7월 FOMC까지 시간 많다…경제 상당히 긍정적\"(상보)   \n",
       "\n",
       "                                                  content  \\\n",
       "140973   윤영숙 기자 = 달러화가 미국 연방준비제도(연준·Fed)의 금리 인하 기대에 주요...   \n",
       "140974   정선미 기자 = 제롬 파월 연방준비제도(Fed·연준) 의장이 이르면 이달 말 기준...   \n",
       "140975  ※다음은 12일 오전 11시(상하이 시간) 고시된 중국 상하이 은행간 금리표(shi...   \n",
       "140976   전소영 기자 = 국채선물이 하락 출발했다. 간밤 미국 국채금리가 상승한 부담을 받...   \n",
       "140977   오진우 특파원 = 토마스 바킨 리치먼드 연방준비은행(연은) 총재는 경제 전망의 위...   \n",
       "\n",
       "                                                    ngram  \n",
       "140973  fed/NNG;금리/NNG;인하/NNG;기대/NNG;크/VV,완화/NNG;않/VX;...  \n",
       "140974  fed/NNG;금리/NNG;인하/NNG,이례적/VAX;금리/NNG;인하/NNG,잠재...  \n",
       "140975                                                NaN  \n",
       "140976  미/NNG;fed/NNG;비둘기/NNG,소비자/NNG;물가/NNG;호조/NNG,국채...  \n",
       "140977  fed/NNG;금리/NNG;인하/NNG,경제/NNG;전망/NNG;위험/NNG,금리/...  "
      ]
     },
     "execution_count": 36,
     "metadata": {},
     "output_type": "execute_result"
    }
   ],
   "source": [
    "a.tail()"
   ]
  },
  {
   "cell_type": "code",
   "execution_count": null,
   "metadata": {},
   "outputs": [],
   "source": []
  }
 ],
 "metadata": {
  "kernelspec": {
   "display_name": "Python 3",
   "language": "python",
   "name": "python3"
  },
  "language_info": {
   "codemirror_mode": {
    "name": "ipython",
    "version": 3
   },
   "file_extension": ".py",
   "mimetype": "text/x-python",
   "name": "python",
   "nbconvert_exporter": "python",
   "pygments_lexer": "ipython3",
   "version": "3.7.3"
  }
 },
 "nbformat": 4,
 "nbformat_minor": 2
}
