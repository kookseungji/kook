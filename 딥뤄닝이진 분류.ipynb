{
 "cells": [
  {
   "cell_type": "code",
   "execution_count": 23,
   "metadata": {
    "collapsed": true,
    "jupyter": {
     "outputs_hidden": true
    }
   },
   "outputs": [
    {
     "name": "stdout",
     "output_type": "stream",
     "text": [
      "Defaulting to user installation because normal site-packages is not writeable\n",
      "Collecting torch\n",
      "  Downloading torch-1.7.0-cp36-cp36m-manylinux1_x86_64.whl (776.7 MB)\n",
      "\u001b[K     |████████████████████████████████| 776.7 MB 1.7 kB/s eta 0:00:01   |▏                               | 4.5 MB 1.5 MB/s eta 0:08:43     |▋                               | 13.9 MB 853 kB/s eta 0:14:55     |▋                               | 15.7 MB 1.2 MB/s eta 0:10:59     |▊                               | 16.3 MB 1.4 MB/s eta 0:08:45     |▊                               | 18.0 MB 6.7 MB/s eta 0:01:54     |▉                               | 19.9 MB 1.4 MB/s eta 0:09:02     |█▏                              | 29.0 MB 1.6 MB/s eta 0:07:56     |█▌                              | 37.7 MB 1.7 MB/s eta 0:07:27     |█▊                              | 42.8 MB 1.5 MB/s eta 0:08:20     |██▎                             | 54.0 MB 1.5 MB/s eta 0:08:01     |██▍                             | 59.1 MB 1.6 MB/s eta 0:07:35     |██▋                             | 64.6 MB 1.6 MB/s eta 0:07:32     |███                             | 73.5 MB 1.6 MB/s eta 0:07:21     |███▍                            | 81.8 MB 1.3 MB/s eta 0:08:39     |███▍                            | 82.8 MB 1.3 MB/s eta 0:08:39     |███▋                            | 87.0 MB 1.1 MB/s eta 0:10:55     |███▊                            | 90.4 MB 1.0 MB/s eta 0:11:18     |███▊                            | 91.0 MB 1.0 MB/s eta 0:11:18     |████                            | 95.4 MB 1.5 MB/s eta 0:07:49     |████                            | 97.6 MB 1.7 MB/s eta 0:06:50     |████▎                           | 102.5 MB 1.5 MB/s eta 0:07:45     |████▍                           | 107.2 MB 1.8 MB/s eta 0:06:22     |████▌                           | 107.9 MB 991 kB/s eta 0:11:15     |████▋                           | 111.6 MB 1.3 MB/s eta 0:08:34     |█████▎                          | 127.9 MB 1.6 MB/s eta 0:06:36     |█████▎                          | 128.0 MB 1.6 MB/s eta 0:06:36     |█████▊                          | 138.9 MB 1.6 MB/s eta 0:06:28     |█████▊                          | 139.6 MB 1.6 MB/s eta 0:06:28     |█████▉                          | 141.8 MB 1.7 MB/s eta 0:06:22     |██████▏                         | 149.9 MB 1.6 MB/s eta 0:06:21     |██████▏                         | 150.4 MB 1.6 MB/s eta 0:06:20     |██████▎                         | 151.4 MB 1.6 MB/s eta 0:06:20     |██████▋                         | 160.9 MB 1.7 MB/s eta 0:06:03     |██████▊                         | 162.2 MB 1.5 MB/s eta 0:07:01     |██████▉                         | 166.4 MB 1.7 MB/s eta 0:05:55     |███████                         | 167.4 MB 2.1 MB/s eta 0:04:47     |███████                         | 169.6 MB 1.4 MB/s eta 0:07:23     |███████▋                        | 185.7 MB 915 kB/s eta 0:10:46     |███████▉                        | 191.2 MB 983 kB/s eta 0:09:56     |████████                        | 193.1 MB 5.1 MB/s eta 0:01:56     |████████                        | 194.0 MB 1.8 MB/s eta 0:05:31     |████████▏                       | 199.1 MB 1.7 MB/s eta 0:05:43     |████████▎                       | 200.2 MB 1.7 MB/s eta 0:05:42     |████████▋                       | 209.7 MB 1.4 MB/s eta 0:06:55     |█████████▏                      | 222.7 MB 1.5 MB/s eta 0:06:12     |█████████▎                      | 224.4 MB 1.8 MB/s eta 0:05:15     |█████████▍                      | 227.2 MB 1.6 MB/s eta 0:05:54     |█████████▍                      | 227.7 MB 1.8 MB/s eta 0:05:10     |█████████▊                      | 236.1 MB 1.2 MB/s eta 0:07:41     |█████████▊                      | 237.1 MB 1.2 MB/s eta 0:07:34     |██████████                      | 240.8 MB 1.3 MB/s eta 0:06:42     |██████████▍                     | 252.4 MB 1.4 MB/s eta 0:06:18     |██████████▋                     | 257.7 MB 1.7 MB/s eta 0:05:00     |██████████▉                     | 261.8 MB 1.1 MB/s eta 0:08:10     |███████████                     | 267.9 MB 1.6 MB/s eta 0:05:17     |███████████▏                    | 270.4 MB 1.7 MB/s eta 0:04:51     |███████████▉                    | 286.1 MB 94 kB/s eta 1:26:23     |████████████▏                   | 294.1 MB 1.5 MB/s eta 0:05:22     |████████████▎                   | 298.5 MB 1.6 MB/s eta 0:04:55     |████████████▍                   | 301.7 MB 1.4 MB/s eta 0:05:47     |████████████▍                   | 301.9 MB 1.4 MB/s eta 0:05:47     |████████████▌                   | 303.9 MB 1.5 MB/s eta 0:05:06     |████████████▊                   | 307.9 MB 1.1 MB/s eta 0:07:01     |████████████▊                   | 309.1 MB 1.3 MB/s eta 0:05:56     |█████████████                   | 317.9 MB 1.5 MB/s eta 0:05:08     |█████████████▍                  | 325.1 MB 1.6 MB/s eta 0:04:40     |██████████████                  | 337.5 MB 2.0 MB/s eta 0:03:36     |██████████████                  | 340.7 MB 3.1 MB/s eta 0:02:22     |██████████████▏                 | 344.2 MB 1.4 MB/s eta 0:05:07     |██████████████▎                 | 347.5 MB 2.6 MB/s eta 0:02:47     |███████████████                 | 362.7 MB 1.4 MB/s eta 0:04:49     |███████████████                 | 363.5 MB 1.4 MB/s eta 0:04:48     |███████████████                 | 365.2 MB 129 kB/s eta 0:53:06     |███████████████▎                | 371.5 MB 1.5 MB/s eta 0:04:27     |███████████████▍                | 372.3 MB 2.0 MB/s eta 0:03:28     |███████████████▍                | 373.5 MB 1.6 MB/s eta 0:04:15     |███████████████▍                | 373.7 MB 1.6 MB/s eta 0:04:15     |███████████████▍                | 374.3 MB 1.6 MB/s eta 0:04:15     |███████████████▍                | 374.9 MB 1.1 MB/s eta 0:06:16     |███████████████▋                | 377.8 MB 1.2 MB/s eta 0:05:24     |███████████████▋                | 380.1 MB 1.8 MB/s eta 0:03:37     |███████████████▉                | 383.5 MB 3.5 MB/s eta 0:01:52     |███████████████▉                | 384.3 MB 1.7 MB/s eta 0:03:49     |████████████████                | 388.7 MB 1.5 MB/s eta 0:04:19     |████████████████▍               | 399.0 MB 1.5 MB/s eta 0:04:19     |████████████████▌               | 401.1 MB 1.4 MB/s eta 0:04:22     |████████████████▌               | 401.2 MB 1.4 MB/s eta 0:04:22     |█████████████████▏              | 416.7 MB 1.7 MB/s eta 0:03:32     |█████████████████▍              | 421.9 MB 1.5 MB/s eta 0:04:01     |█████████████████▋              | 426.8 MB 1.4 MB/s eta 0:04:05     |██████████████████▏             | 441.0 MB 1.7 MB/s eta 0:03:22     |██████████████████▋             | 450.7 MB 1.8 MB/s eta 0:03:05     |██████████████████▋             | 452.7 MB 2.2 MB/s eta 0:02:29     |██████████████████▊             | 453.7 MB 1.5 MB/s eta 0:03:36     |███████████████████             | 462.2 MB 1.9 MB/s eta 0:02:50     |███████████████████▏            | 464.2 MB 1.8 MB/s eta 0:02:56     |███████████████████▏            | 464.5 MB 1.8 MB/s eta 0:02:55     |███████████████████▎            | 467.2 MB 3.9 MB/s eta 0:01:19     |███████████████████▉            | 482.1 MB 1.8 MB/s eta 0:02:42     |████████████████████            | 483.0 MB 1.8 MB/s eta 0:02:41     |████████████████████▏           | 490.7 MB 1.6 MB/s eta 0:02:54     |████████████████████▎           | 492.6 MB 1.4 MB/s eta 0:03:23     |█████████████████████           | 509.6 MB 1.6 MB/s eta 0:02:46     |█████████████████████           | 512.4 MB 1.7 MB/s eta 0:02:35     |█████████████████████▎          | 515.3 MB 1.7 MB/s eta 0:02:36     |█████████████████████▎          | 515.6 MB 1.7 MB/s eta 0:02:36     |█████████████████████▊          | 527.3 MB 1.6 MB/s eta 0:02:33     |█████████████████████▊          | 527.8 MB 1.6 MB/s eta 0:02:33     |██████████████████████▎         | 540.7 MB 973 kB/s eta 0:04:03     |██████████████████████▍         | 543.9 MB 1.5 MB/s eta 0:02:37     |███████████████████████▎        | 563.9 MB 1.6 MB/s eta 0:02:17     |███████████████████████▊        | 577.1 MB 1.7 MB/s eta 0:01:55     |████████████████████████▏       | 586.2 MB 972 kB/s eta 0:03:16     |████████████████████████▏       | 587.3 MB 972 kB/s eta 0:03:15     |████████████████████████▊       | 600.8 MB 1.7 MB/s eta 0:01:43     |████████████████████████▉       | 601.7 MB 1.7 MB/s eta 0:01:44     |█████████████████████████▍      | 615.3 MB 960 kB/s eta 0:02:49     |█████████████████████████▊      | 624.0 MB 1.6 MB/s eta 0:01:38     |█████████████████████████▉      | 626.4 MB 792 kB/s eta 0:03:10     |██████████████████████████▍     | 641.3 MB 1.6 MB/s eta 0:01:26     |██████████████████████████▌     | 642.3 MB 1.6 MB/s eta 0:01:26     |██████████████████████████▋     | 645.1 MB 964 kB/s eta 0:02:17     |██████████████████████████▊     | 648.6 MB 1.6 MB/s eta 0:01:20     |███████████████████████████     | 656.7 MB 1.5 MB/s eta 0:01:18     |███████████████████████████▌    | 667.4 MB 1.9 MB/s eta 0:00:59     |███████████████████████████▉    | 674.8 MB 899 kB/s eta 0:01:54     |███████████████████████████▉    | 676.2 MB 1.2 MB/s eta 0:01:22     |████████████████████████████    | 678.2 MB 1.1 MB/s eta 0:01:34     |████████████████████████████▋   | 695.5 MB 1.7 MB/s eta 0:00:48     |█████████████████████████████   | 702.1 MB 1.5 MB/s eta 0:00:50     |██████████████████████████████  | 730.6 MB 1.7 MB/s eta 0:00:27     |██████████████████████████████▍ | 736.9 MB 1.8 MB/s eta 0:00:23     |██████████████████████████████▍ | 738.3 MB 1.6 MB/s eta 0:00:24     |██████████████████████████████▍ | 738.9 MB 1.6 MB/s eta 0:00:24     |██████████████████████████████▌ | 740.1 MB 1.8 MB/s eta 0:00:21     |███████████████████████████████ | 749.8 MB 1.4 MB/s eta 0:00:20     |███████████████████████████████ | 751.8 MB 1.8 MB/s eta 0:00:15     |███████████████████████████████▏| 757.5 MB 1.8 MB/s eta 0:00:11     |███████████████████████████████▎| 757.9 MB 1.8 MB/s eta 0:00:11     |███████████████████████████████▍| 761.9 MB 1.8 MB/s eta 0:00:09     |███████████████████████████████▌| 763.4 MB 1.6 MB/s eta 0:00:09     |███████████████████████████████▋| 767.3 MB 1.9 MB/s eta 0:00:05     |███████████████████████████████▋| 768.4 MB 1.9 MB/s eta 0:00:05     |███████████████████████████████▊| 770.4 MB 1.0 MB/s eta 0:00:07\n",
      "\u001b[?25hRequirement already satisfied: dataclasses in /usr/local/lib/python3.6/dist-packages (from torch) (0.7)\n",
      "Requirement already satisfied: typing-extensions in /usr/local/lib/python3.6/dist-packages (from torch) (3.7.4.3)\n",
      "Requirement already satisfied: numpy in /usr/local/lib/python3.6/dist-packages (from torch) (1.18.5)\n",
      "Requirement already satisfied: future in /usr/local/lib/python3.6/dist-packages (from torch) (0.18.2)\n",
      "Installing collected packages: torch\n",
      "\u001b[33m  WARNING: The scripts convert-caffe2-to-onnx and convert-onnx-to-caffe2 are installed in '/home/work/.local/bin' which is not on PATH.\n",
      "  Consider adding this directory to PATH or, if you prefer to suppress this warning, use --no-warn-script-location.\u001b[0m\n",
      "Successfully installed torch-1.7.0\n",
      "\u001b[33mWARNING: You are using pip version 20.2.3; however, version 20.2.4 is available.\n",
      "You should consider upgrading via the '/usr/bin/python3 -m pip install --upgrade pip' command.\u001b[0m\n"
     ]
    }
   ],
   "source": [
    "!pip install torch"
   ]
  },
  {
   "cell_type": "code",
   "execution_count": 3,
   "metadata": {},
   "outputs": [],
   "source": [
    "import pandas as pd \n",
    "train=pd.read_csv('train.csv',index_col=0)\n",
    "test=pd.read_csv('test_x.csv',index_col=0)\n",
    "def tp_score(train):\n",
    "    train['diligence']=round((train['tp03']+ 8-train['tp08'])/2)\n",
    "    train['Affinity']=round((train['tp07']+ 8-train['tp02'])/2)\n",
    "    train['emotional stability']=round((train['tp09']+ 8-train['tp04'])/2)\n",
    "    train['openness']=round((train['tp05']+ 8-train['tp10'])/2)\n",
    "    train['extroversion']=round((train['tp01']+ 8-train['tp06'])/2)\n",
    "    train.drop([ 'tp01', 'tp02', 'tp03', 'tp04', 'tp05','tp06', 'tp07', 'tp08', 'tp09', 'tp10'],axis=1,inplace=True)\n",
    "    return train\n",
    "train=tp_score(train)\n",
    "test=tp_score(test)\n",
    "\n",
    "train.age_group=train.age_group.apply(lambda x : int(x.replace('0s','')) )\n",
    "test.age_group=test.age_group.apply(lambda x : int(x.replace('0s','')) )\n",
    "\n",
    "train=train.drop(['QaE','QbE','QcE','QdE','QeE','QfE','QgE','QhE','QiE','QjE','QkE','QlE','QmE','QnE','QoE','QpE','QqE','QrE','QsE','QtE'], axis=1)\n",
    "test=test.drop(['QaE','QbE','QcE','QdE','QeE','QfE','QgE','QhE','QiE','QjE','QkE','QlE','QmE','QnE','QoE','QpE','QqE','QrE','QsE','QtE'], axis=1)\n",
    "\n",
    "train['race']=train.race.apply(lambda x : 1 if x=='White' else 0 ) \n",
    "train['hand']=train.hand.apply(lambda x : 1 if x==1 else 0 )\n",
    "test['race']=test.race.apply(lambda x : 1 if x=='White' else 0 )\n",
    "test['hand']=test.hand.apply(lambda x : 1 if x==1 else 0 )\n",
    "\n",
    "train1=pd.concat([train[train.columns.difference(['gender', 'religion','voted'])] ,pd.get_dummies(train[['gender','religion']])],axis=1)\n",
    "train1.drop(['gender_Male'],axis=1,inplace=True)"
   ]
  },
  {
   "cell_type": "code",
   "execution_count": 2,
   "metadata": {},
   "outputs": [],
   "source": [
    "# score 용 \n",
    "# test=pd.concat([test[test.columns.difference(['education','gender', 'religion','married','urban'])] ,pd.get_dummies(test[['education','gender',  'religion','married','urban']])],axis=1)\n",
    "# test.drop(['gender_Male'],axis=1,inplace=True)\n",
    "# test=scaler.fit_transform(test)\n",
    "# test=pd.DataFrame(test)"
   ]
  },
  {
   "cell_type": "code",
   "execution_count": 4,
   "metadata": {},
   "outputs": [],
   "source": [
    "import numpy as np\n",
    "from sklearn.preprocessing import OneHotEncoder\n",
    "train_data=[]\n",
    "for i in range(len(train1)):\n",
    "    train_data.append(train1.iloc[train1.index==i,:].values[0].tolist())    \n",
    "train_data = np.array(train_data)  \n",
    "\n",
    "encoder = OneHotEncoder()\n",
    "one_hot_encoded_train = encoder.fit_transform(train_data.reshape(-1,1))\n",
    "one_hot_encoded_train = one_hot_encoded_train.toarray()\n",
    "x_train=one_hot_encoded_train[:35000]\n",
    "y_train=np.array(train['voted'])[:35000]\n",
    "\n",
    "x_test=one_hot_encoded_train[35000:]\n",
    "y_test=np.array(train['voted'])[35000:]"
   ]
  },
  {
   "cell_type": "code",
   "execution_count": 24,
   "metadata": {},
   "outputs": [],
   "source": [
    "import numpy as np\n",
    "import torch\n",
    "train_data=[]\n",
    "for i in range(len(train1)):\n",
    "    train_data.append(train1.iloc[train1.index==i,:].values[0].tolist())    \n",
    "train_data = torch.tensor(train_data)\n",
    "test =torch.tensor(train['voted'])"
   ]
  },
  {
   "cell_type": "code",
   "execution_count": 49,
   "metadata": {},
   "outputs": [
    {
     "data": {
      "text/plain": [
       "()"
      ]
     },
     "execution_count": 49,
     "metadata": {},
     "output_type": "execute_result"
    }
   ],
   "source": [
    "np.asarray(test).astype('str').shape"
   ]
  },
  {
   "cell_type": "code",
   "execution_count": 26,
   "metadata": {
    "collapsed": true,
    "jupyter": {
     "outputs_hidden": true
    }
   },
   "outputs": [
    {
     "ename": "IndexError",
     "evalue": "only integers, slices (`:`), ellipsis (`...`), numpy.newaxis (`None`) and integer or boolean arrays are valid indices",
     "output_type": "error",
     "traceback": [
      "\u001b[0;31m\u001b[0m",
      "\u001b[0;31mIndexError\u001b[0mTraceback (most recent call last)",
      "\u001b[0;32m<ipython-input-26-164cef5c4bf4>\u001b[0m in \u001b[0;36m<module>\u001b[0;34m\u001b[0m\n\u001b[1;32m      7\u001b[0m     \u001b[0;32mreturn\u001b[0m \u001b[0mresults\u001b[0m\u001b[0;34m\u001b[0m\u001b[0;34m\u001b[0m\u001b[0m\n\u001b[1;32m      8\u001b[0m \u001b[0;34m\u001b[0m\u001b[0m\n\u001b[0;32m----> 9\u001b[0;31m \u001b[0mx_train\u001b[0m \u001b[0;34m=\u001b[0m \u001b[0mvectorize_sequences\u001b[0m\u001b[0;34m(\u001b[0m\u001b[0mtrain_data\u001b[0m\u001b[0;34m)\u001b[0m\u001b[0;34m\u001b[0m\u001b[0;34m\u001b[0m\u001b[0m\n\u001b[0m\u001b[1;32m     10\u001b[0m \u001b[0my_train\u001b[0m \u001b[0;34m=\u001b[0m \u001b[0mnp\u001b[0m\u001b[0;34m.\u001b[0m\u001b[0marray\u001b[0m\u001b[0;34m(\u001b[0m\u001b[0mtrain\u001b[0m\u001b[0;34m[\u001b[0m\u001b[0;34m'voted'\u001b[0m\u001b[0;34m]\u001b[0m\u001b[0;34m)\u001b[0m\u001b[0;34m\u001b[0m\u001b[0;34m\u001b[0m\u001b[0m\n\u001b[1;32m     11\u001b[0m \u001b[0;34m\u001b[0m\u001b[0m\n",
      "\u001b[0;32m<ipython-input-26-164cef5c4bf4>\u001b[0m in \u001b[0;36mvectorize_sequences\u001b[0;34m(sequences, dimension)\u001b[0m\n\u001b[1;32m      4\u001b[0m     \u001b[0mresults\u001b[0m \u001b[0;34m=\u001b[0m \u001b[0mnp\u001b[0m\u001b[0;34m.\u001b[0m\u001b[0mzeros\u001b[0m\u001b[0;34m(\u001b[0m\u001b[0;34m(\u001b[0m\u001b[0mlen\u001b[0m\u001b[0;34m(\u001b[0m\u001b[0msequences\u001b[0m\u001b[0;34m)\u001b[0m\u001b[0;34m,\u001b[0m \u001b[0mdimension\u001b[0m\u001b[0;34m)\u001b[0m\u001b[0;34m)\u001b[0m\u001b[0;34m\u001b[0m\u001b[0;34m\u001b[0m\u001b[0m\n\u001b[1;32m      5\u001b[0m     \u001b[0;32mfor\u001b[0m \u001b[0mi\u001b[0m\u001b[0;34m,\u001b[0m \u001b[0msequence\u001b[0m \u001b[0;32min\u001b[0m \u001b[0menumerate\u001b[0m\u001b[0;34m(\u001b[0m\u001b[0msequences\u001b[0m\u001b[0;34m)\u001b[0m\u001b[0;34m:\u001b[0m\u001b[0;34m\u001b[0m\u001b[0;34m\u001b[0m\u001b[0m\n\u001b[0;32m----> 6\u001b[0;31m         \u001b[0mresults\u001b[0m\u001b[0;34m[\u001b[0m\u001b[0mi\u001b[0m\u001b[0;34m,\u001b[0m \u001b[0msequence\u001b[0m\u001b[0;34m]\u001b[0m \u001b[0;34m=\u001b[0m \u001b[0;36m1.\u001b[0m\u001b[0;34m\u001b[0m\u001b[0;34m\u001b[0m\u001b[0m\n\u001b[0m\u001b[1;32m      7\u001b[0m     \u001b[0;32mreturn\u001b[0m \u001b[0mresults\u001b[0m\u001b[0;34m\u001b[0m\u001b[0;34m\u001b[0m\u001b[0m\n\u001b[1;32m      8\u001b[0m \u001b[0;34m\u001b[0m\u001b[0m\n",
      "\u001b[0;31mIndexError\u001b[0m: only integers, slices (`:`), ellipsis (`...`), numpy.newaxis (`None`) and integer or boolean arrays are valid indices"
     ]
    }
   ],
   "source": [
    "import numpy as np\n",
    "\n",
    "def vectorize_sequences(sequences, dimension=10000):\n",
    "    results = np.zeros((len(sequences), dimension))\n",
    "    for i, sequence in enumerate(sequences):\n",
    "        results[i, sequence] = 1. \n",
    "    return results\n",
    "\n",
    "x_train = vectorize_sequences(train_data) \n",
    "y_train = np.array(train['voted'])\n",
    "\n",
    "# x_test = vectorize_sequences(train_data)\n",
    "# y_test =np.array(train['voted'])\n",
    "\n",
    "# y_train = np.asarray(train_labels).astype('float32')\n",
    "# y_test = np.asarray(test_labels).astype('float32')"
   ]
  },
  {
   "cell_type": "code",
   "execution_count": 50,
   "metadata": {},
   "outputs": [
    {
     "ename": "IndexError",
     "evalue": "list index out of range",
     "output_type": "error",
     "traceback": [
      "\u001b[0;31m\u001b[0m",
      "\u001b[0;31mIndexError\u001b[0mTraceback (most recent call last)",
      "\u001b[0;32m<ipython-input-50-278ad0847bd7>\u001b[0m in \u001b[0;36m<module>\u001b[0;34m\u001b[0m\n\u001b[1;32m      8\u001b[0m \u001b[0mmodel\u001b[0m\u001b[0;34m.\u001b[0m\u001b[0madd\u001b[0m\u001b[0;34m(\u001b[0m\u001b[0mDense\u001b[0m\u001b[0;34m(\u001b[0m\u001b[0;36m1\u001b[0m\u001b[0;34m,\u001b[0m \u001b[0mactivation\u001b[0m\u001b[0;34m=\u001b[0m\u001b[0;34m'sigmoid'\u001b[0m\u001b[0;34m)\u001b[0m\u001b[0;34m)\u001b[0m\u001b[0;34m\u001b[0m\u001b[0;34m\u001b[0m\u001b[0m\n\u001b[1;32m      9\u001b[0m \u001b[0mmodel\u001b[0m\u001b[0;34m.\u001b[0m\u001b[0mcompile\u001b[0m\u001b[0;34m(\u001b[0m\u001b[0moptimizer\u001b[0m\u001b[0;34m=\u001b[0m\u001b[0;34m'sgd'\u001b[0m\u001b[0;34m,\u001b[0m \u001b[0mloss\u001b[0m\u001b[0;34m=\u001b[0m\u001b[0;34m'mse'\u001b[0m\u001b[0;34m,\u001b[0m \u001b[0mmetrics\u001b[0m\u001b[0;34m=\u001b[0m\u001b[0;34m[\u001b[0m\u001b[0mtensorflow\u001b[0m\u001b[0;34m.\u001b[0m\u001b[0mkeras\u001b[0m\u001b[0;34m.\u001b[0m\u001b[0mmetrics\u001b[0m\u001b[0;34m.\u001b[0m\u001b[0mAUC\u001b[0m\u001b[0;34m(\u001b[0m\u001b[0;34m)\u001b[0m\u001b[0;34m]\u001b[0m\u001b[0;34m)\u001b[0m\u001b[0;34m\u001b[0m\u001b[0;34m\u001b[0m\u001b[0m\n\u001b[0;32m---> 10\u001b[0;31m \u001b[0mmodel\u001b[0m\u001b[0;34m.\u001b[0m\u001b[0mfit\u001b[0m\u001b[0;34m(\u001b[0m\u001b[0mnp\u001b[0m\u001b[0;34m.\u001b[0m\u001b[0masarray\u001b[0m\u001b[0;34m(\u001b[0m\u001b[0mtrain_data\u001b[0m\u001b[0;34m)\u001b[0m\u001b[0;34m.\u001b[0m\u001b[0mastype\u001b[0m\u001b[0;34m(\u001b[0m\u001b[0;34m'float32'\u001b[0m\u001b[0;34m)\u001b[0m\u001b[0;34m.\u001b[0m\u001b[0mreshape\u001b[0m\u001b[0;34m(\u001b[0m\u001b[0;36m45532\u001b[0m\u001b[0;34m,\u001b[0m \u001b[0;36m62\u001b[0m\u001b[0;34m,\u001b[0m\u001b[0;36m1\u001b[0m\u001b[0;34m)\u001b[0m\u001b[0;34m,\u001b[0m \u001b[0mnp\u001b[0m\u001b[0;34m.\u001b[0m\u001b[0masarray\u001b[0m\u001b[0;34m(\u001b[0m\u001b[0mtest\u001b[0m\u001b[0;34m)\u001b[0m\u001b[0;34m.\u001b[0m\u001b[0mastype\u001b[0m\u001b[0;34m(\u001b[0m\u001b[0;34m'str'\u001b[0m\u001b[0;34m)\u001b[0m\u001b[0;34m,\u001b[0m \u001b[0mepochs\u001b[0m\u001b[0;34m=\u001b[0m\u001b[0;36m4\u001b[0m\u001b[0;34m,\u001b[0m \u001b[0mbatch_size\u001b[0m\u001b[0;34m=\u001b[0m\u001b[0;36m4\u001b[0m\u001b[0;34m)\u001b[0m\u001b[0;34m\u001b[0m\u001b[0;34m\u001b[0m\u001b[0m\n\u001b[0m\u001b[1;32m     11\u001b[0m \u001b[0;31m# results = model.evaluate(x_test, y_test)\u001b[0m\u001b[0;34m\u001b[0m\u001b[0;34m\u001b[0m\u001b[0;34m\u001b[0m\u001b[0m\n\u001b[1;32m     12\u001b[0m \u001b[0;31m# y_predicted = model.predict(x_test)\u001b[0m\u001b[0;34m\u001b[0m\u001b[0;34m\u001b[0m\u001b[0;34m\u001b[0m\u001b[0m\n",
      "\u001b[0;32m~/.local/lib/python3.6/site-packages/tensorflow/python/keras/engine/training.py\u001b[0m in \u001b[0;36m_method_wrapper\u001b[0;34m(self, *args, **kwargs)\u001b[0m\n\u001b[1;32m    106\u001b[0m   \u001b[0;32mdef\u001b[0m \u001b[0m_method_wrapper\u001b[0m\u001b[0;34m(\u001b[0m\u001b[0mself\u001b[0m\u001b[0;34m,\u001b[0m \u001b[0;34m*\u001b[0m\u001b[0margs\u001b[0m\u001b[0;34m,\u001b[0m \u001b[0;34m**\u001b[0m\u001b[0mkwargs\u001b[0m\u001b[0;34m)\u001b[0m\u001b[0;34m:\u001b[0m\u001b[0;34m\u001b[0m\u001b[0;34m\u001b[0m\u001b[0m\n\u001b[1;32m    107\u001b[0m     \u001b[0;32mif\u001b[0m \u001b[0;32mnot\u001b[0m \u001b[0mself\u001b[0m\u001b[0;34m.\u001b[0m\u001b[0m_in_multi_worker_mode\u001b[0m\u001b[0;34m(\u001b[0m\u001b[0;34m)\u001b[0m\u001b[0;34m:\u001b[0m  \u001b[0;31m# pylint: disable=protected-access\u001b[0m\u001b[0;34m\u001b[0m\u001b[0;34m\u001b[0m\u001b[0m\n\u001b[0;32m--> 108\u001b[0;31m       \u001b[0;32mreturn\u001b[0m \u001b[0mmethod\u001b[0m\u001b[0;34m(\u001b[0m\u001b[0mself\u001b[0m\u001b[0;34m,\u001b[0m \u001b[0;34m*\u001b[0m\u001b[0margs\u001b[0m\u001b[0;34m,\u001b[0m \u001b[0;34m**\u001b[0m\u001b[0mkwargs\u001b[0m\u001b[0;34m)\u001b[0m\u001b[0;34m\u001b[0m\u001b[0;34m\u001b[0m\u001b[0m\n\u001b[0m\u001b[1;32m    109\u001b[0m \u001b[0;34m\u001b[0m\u001b[0m\n\u001b[1;32m    110\u001b[0m     \u001b[0;31m# Running inside `run_distribute_coordinator` already.\u001b[0m\u001b[0;34m\u001b[0m\u001b[0;34m\u001b[0m\u001b[0;34m\u001b[0m\u001b[0m\n",
      "\u001b[0;32m~/.local/lib/python3.6/site-packages/tensorflow/python/keras/engine/training.py\u001b[0m in \u001b[0;36mfit\u001b[0;34m(self, x, y, batch_size, epochs, verbose, callbacks, validation_split, validation_data, shuffle, class_weight, sample_weight, initial_epoch, steps_per_epoch, validation_steps, validation_batch_size, validation_freq, max_queue_size, workers, use_multiprocessing)\u001b[0m\n\u001b[1;32m   1061\u001b[0m           \u001b[0muse_multiprocessing\u001b[0m\u001b[0;34m=\u001b[0m\u001b[0muse_multiprocessing\u001b[0m\u001b[0;34m,\u001b[0m\u001b[0;34m\u001b[0m\u001b[0;34m\u001b[0m\u001b[0m\n\u001b[1;32m   1062\u001b[0m           \u001b[0mmodel\u001b[0m\u001b[0;34m=\u001b[0m\u001b[0mself\u001b[0m\u001b[0;34m,\u001b[0m\u001b[0;34m\u001b[0m\u001b[0;34m\u001b[0m\u001b[0m\n\u001b[0;32m-> 1063\u001b[0;31m           steps_per_execution=self._steps_per_execution)\n\u001b[0m\u001b[1;32m   1064\u001b[0m \u001b[0;34m\u001b[0m\u001b[0m\n\u001b[1;32m   1065\u001b[0m       \u001b[0;31m# Container that configures and calls `tf.keras.Callback`s.\u001b[0m\u001b[0;34m\u001b[0m\u001b[0;34m\u001b[0m\u001b[0;34m\u001b[0m\u001b[0m\n",
      "\u001b[0;32m~/.local/lib/python3.6/site-packages/tensorflow/python/keras/engine/data_adapter.py\u001b[0m in \u001b[0;36m__init__\u001b[0;34m(self, x, y, sample_weight, batch_size, steps_per_epoch, initial_epoch, epochs, shuffle, class_weight, max_queue_size, workers, use_multiprocessing, model, steps_per_execution)\u001b[0m\n\u001b[1;32m   1115\u001b[0m         \u001b[0muse_multiprocessing\u001b[0m\u001b[0;34m=\u001b[0m\u001b[0muse_multiprocessing\u001b[0m\u001b[0;34m,\u001b[0m\u001b[0;34m\u001b[0m\u001b[0;34m\u001b[0m\u001b[0m\n\u001b[1;32m   1116\u001b[0m         \u001b[0mdistribution_strategy\u001b[0m\u001b[0;34m=\u001b[0m\u001b[0mds_context\u001b[0m\u001b[0;34m.\u001b[0m\u001b[0mget_strategy\u001b[0m\u001b[0;34m(\u001b[0m\u001b[0;34m)\u001b[0m\u001b[0;34m,\u001b[0m\u001b[0;34m\u001b[0m\u001b[0;34m\u001b[0m\u001b[0m\n\u001b[0;32m-> 1117\u001b[0;31m         model=model)\n\u001b[0m\u001b[1;32m   1118\u001b[0m \u001b[0;34m\u001b[0m\u001b[0m\n\u001b[1;32m   1119\u001b[0m     \u001b[0mstrategy\u001b[0m \u001b[0;34m=\u001b[0m \u001b[0mds_context\u001b[0m\u001b[0;34m.\u001b[0m\u001b[0mget_strategy\u001b[0m\u001b[0;34m(\u001b[0m\u001b[0;34m)\u001b[0m\u001b[0;34m\u001b[0m\u001b[0;34m\u001b[0m\u001b[0m\n",
      "\u001b[0;32m~/.local/lib/python3.6/site-packages/tensorflow/python/keras/engine/data_adapter.py\u001b[0m in \u001b[0;36m__init__\u001b[0;34m(self, x, y, sample_weights, sample_weight_modes, batch_size, epochs, steps, shuffle, **kwargs)\u001b[0m\n\u001b[1;32m    273\u001b[0m     \u001b[0minputs\u001b[0m \u001b[0;34m=\u001b[0m \u001b[0mpack_x_y_sample_weight\u001b[0m\u001b[0;34m(\u001b[0m\u001b[0mx\u001b[0m\u001b[0;34m,\u001b[0m \u001b[0my\u001b[0m\u001b[0;34m,\u001b[0m \u001b[0msample_weights\u001b[0m\u001b[0;34m)\u001b[0m\u001b[0;34m\u001b[0m\u001b[0;34m\u001b[0m\u001b[0m\n\u001b[1;32m    274\u001b[0m \u001b[0;34m\u001b[0m\u001b[0m\n\u001b[0;32m--> 275\u001b[0;31m     \u001b[0mnum_samples\u001b[0m \u001b[0;34m=\u001b[0m \u001b[0mset\u001b[0m\u001b[0;34m(\u001b[0m\u001b[0mint\u001b[0m\u001b[0;34m(\u001b[0m\u001b[0mi\u001b[0m\u001b[0;34m.\u001b[0m\u001b[0mshape\u001b[0m\u001b[0;34m[\u001b[0m\u001b[0;36m0\u001b[0m\u001b[0;34m]\u001b[0m\u001b[0;34m)\u001b[0m \u001b[0;32mfor\u001b[0m \u001b[0mi\u001b[0m \u001b[0;32min\u001b[0m \u001b[0mnest\u001b[0m\u001b[0;34m.\u001b[0m\u001b[0mflatten\u001b[0m\u001b[0;34m(\u001b[0m\u001b[0minputs\u001b[0m\u001b[0;34m)\u001b[0m\u001b[0;34m)\u001b[0m\u001b[0;34m\u001b[0m\u001b[0;34m\u001b[0m\u001b[0m\n\u001b[0m\u001b[1;32m    276\u001b[0m     \u001b[0;32mif\u001b[0m \u001b[0mlen\u001b[0m\u001b[0;34m(\u001b[0m\u001b[0mnum_samples\u001b[0m\u001b[0;34m)\u001b[0m \u001b[0;34m>\u001b[0m \u001b[0;36m1\u001b[0m\u001b[0;34m:\u001b[0m\u001b[0;34m\u001b[0m\u001b[0;34m\u001b[0m\u001b[0m\n\u001b[1;32m    277\u001b[0m       \u001b[0mmsg\u001b[0m \u001b[0;34m=\u001b[0m \u001b[0;34m\"Data cardinality is ambiguous:\\n\"\u001b[0m\u001b[0;34m\u001b[0m\u001b[0;34m\u001b[0m\u001b[0m\n",
      "\u001b[0;32m~/.local/lib/python3.6/site-packages/tensorflow/python/keras/engine/data_adapter.py\u001b[0m in \u001b[0;36m<genexpr>\u001b[0;34m(.0)\u001b[0m\n\u001b[1;32m    273\u001b[0m     \u001b[0minputs\u001b[0m \u001b[0;34m=\u001b[0m \u001b[0mpack_x_y_sample_weight\u001b[0m\u001b[0;34m(\u001b[0m\u001b[0mx\u001b[0m\u001b[0;34m,\u001b[0m \u001b[0my\u001b[0m\u001b[0;34m,\u001b[0m \u001b[0msample_weights\u001b[0m\u001b[0;34m)\u001b[0m\u001b[0;34m\u001b[0m\u001b[0;34m\u001b[0m\u001b[0m\n\u001b[1;32m    274\u001b[0m \u001b[0;34m\u001b[0m\u001b[0m\n\u001b[0;32m--> 275\u001b[0;31m     \u001b[0mnum_samples\u001b[0m \u001b[0;34m=\u001b[0m \u001b[0mset\u001b[0m\u001b[0;34m(\u001b[0m\u001b[0mint\u001b[0m\u001b[0;34m(\u001b[0m\u001b[0mi\u001b[0m\u001b[0;34m.\u001b[0m\u001b[0mshape\u001b[0m\u001b[0;34m[\u001b[0m\u001b[0;36m0\u001b[0m\u001b[0;34m]\u001b[0m\u001b[0;34m)\u001b[0m \u001b[0;32mfor\u001b[0m \u001b[0mi\u001b[0m \u001b[0;32min\u001b[0m \u001b[0mnest\u001b[0m\u001b[0;34m.\u001b[0m\u001b[0mflatten\u001b[0m\u001b[0;34m(\u001b[0m\u001b[0minputs\u001b[0m\u001b[0;34m)\u001b[0m\u001b[0;34m)\u001b[0m\u001b[0;34m\u001b[0m\u001b[0;34m\u001b[0m\u001b[0m\n\u001b[0m\u001b[1;32m    276\u001b[0m     \u001b[0;32mif\u001b[0m \u001b[0mlen\u001b[0m\u001b[0;34m(\u001b[0m\u001b[0mnum_samples\u001b[0m\u001b[0;34m)\u001b[0m \u001b[0;34m>\u001b[0m \u001b[0;36m1\u001b[0m\u001b[0;34m:\u001b[0m\u001b[0;34m\u001b[0m\u001b[0;34m\u001b[0m\u001b[0m\n\u001b[1;32m    277\u001b[0m       \u001b[0mmsg\u001b[0m \u001b[0;34m=\u001b[0m \u001b[0;34m\"Data cardinality is ambiguous:\\n\"\u001b[0m\u001b[0;34m\u001b[0m\u001b[0;34m\u001b[0m\u001b[0m\n",
      "\u001b[0;32m~/.local/lib/python3.6/site-packages/tensorflow/python/framework/tensor_shape.py\u001b[0m in \u001b[0;36m__getitem__\u001b[0;34m(self, key)\u001b[0m\n\u001b[1;32m    885\u001b[0m       \u001b[0;32melse\u001b[0m\u001b[0;34m:\u001b[0m\u001b[0;34m\u001b[0m\u001b[0;34m\u001b[0m\u001b[0m\n\u001b[1;32m    886\u001b[0m         \u001b[0;32mif\u001b[0m \u001b[0mself\u001b[0m\u001b[0;34m.\u001b[0m\u001b[0m_v2_behavior\u001b[0m\u001b[0;34m:\u001b[0m\u001b[0;34m\u001b[0m\u001b[0;34m\u001b[0m\u001b[0m\n\u001b[0;32m--> 887\u001b[0;31m           \u001b[0;32mreturn\u001b[0m \u001b[0mself\u001b[0m\u001b[0;34m.\u001b[0m\u001b[0m_dims\u001b[0m\u001b[0;34m[\u001b[0m\u001b[0mkey\u001b[0m\u001b[0;34m]\u001b[0m\u001b[0;34m.\u001b[0m\u001b[0mvalue\u001b[0m\u001b[0;34m\u001b[0m\u001b[0;34m\u001b[0m\u001b[0m\n\u001b[0m\u001b[1;32m    888\u001b[0m         \u001b[0;32melse\u001b[0m\u001b[0;34m:\u001b[0m\u001b[0;34m\u001b[0m\u001b[0;34m\u001b[0m\u001b[0m\n\u001b[1;32m    889\u001b[0m           \u001b[0;32mreturn\u001b[0m \u001b[0mself\u001b[0m\u001b[0;34m.\u001b[0m\u001b[0m_dims\u001b[0m\u001b[0;34m[\u001b[0m\u001b[0mkey\u001b[0m\u001b[0;34m]\u001b[0m\u001b[0;34m\u001b[0m\u001b[0;34m\u001b[0m\u001b[0m\n",
      "\u001b[0;31mIndexError\u001b[0m: list index out of range"
     ]
    }
   ],
   "source": [
    "import tensorflow\n",
    "from tensorflow.keras.models import Sequential\n",
    "from tensorflow.keras.layers import LSTM\n",
    "from tensorflow.keras.layers import Dense\n",
    "\n",
    "model = Sequential()\n",
    "model.add(Dense(16, input_dim=27, activation='relu'))\n",
    "model.add(Dense(1, activation='sigmoid'))\n",
    "model.compile(optimizer='sgd', loss='mse', metrics=[tensorflow.keras.metrics.AUC()])\n",
    "model.fit(np.asarray(train_data).astype('float32').reshape(45532, 62,1), np.asarray(test).astype('str'), epochs=4, batch_size=4)\n",
    "# results = model.evaluate(x_test, y_test)\n",
    "# y_predicted = model.predict(x_test)"
   ]
  },
  {
   "cell_type": "code",
   "execution_count": null,
   "metadata": {},
   "outputs": [],
   "source": [
    "df = pd.DataFrame(data={'voted':lgb.predict(test)})\n",
    "df.reset_index(inplace=True)\n",
    "# df.iloc[:, 1:] = prediction\n",
    "# df.to_csv('./Result/{}.csv'.format(datetime.now().strftime('%m%d-%H%M')), index=False)"
   ]
  }
 ],
 "metadata": {
  "kernelspec": {
   "display_name": "TensorFlow 2.3 on Python 3.6 (CUDA 10.1)",
   "language": "python",
   "name": "python3"
  },
  "language_info": {
   "codemirror_mode": {
    "name": "ipython",
    "version": 3
   },
   "file_extension": ".py",
   "mimetype": "text/x-python",
   "name": "python",
   "nbconvert_exporter": "python",
   "pygments_lexer": "ipython3",
   "version": "3.6.9"
  }
 },
 "nbformat": 4,
 "nbformat_minor": 4
}
