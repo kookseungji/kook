{
 "cells": [
  {
   "cell_type": "code",
   "execution_count": 34,
   "metadata": {},
   "outputs": [],
   "source": [
    "class Dog:\n",
    "    dogcount=0\n",
    "    def __init__(self,name,color):\n",
    "        self.__hungry=0\n",
    "        self.color=color\n",
    "        self.name=name\n",
    "        Dog.dogcount += 1\n",
    "        \n",
    "    def dogCount(self):\n",
    "        print(Dog.dogcount)\n",
    "    def eat(self):\n",
    "        if self.__hungry<=0:\n",
    "            print('배불러요!')\n",
    "        else:\n",
    "            self.__hungry-=10\n",
    "            print('밥먹음',self.__hungry)\n",
    "        \n",
    "    def walk(self):\n",
    "        self.__hungry+=10\n",
    "        print('산책',self.__hungry)\n",
    "    def hunger(self):\n",
    "        print('%s 배고픔 : %d' % (self.name,self.__hungry))"
   ]
  },
  {
   "cell_type": "code",
   "execution_count": 35,
   "metadata": {},
   "outputs": [],
   "source": [
    "merry=Dog('merry','black')"
   ]
  },
  {
   "cell_type": "code",
   "execution_count": 25,
   "metadata": {},
   "outputs": [
    {
     "name": "stdout",
     "output_type": "stream",
     "text": [
      "merry 배고픔 : 0\n"
     ]
    }
   ],
   "source": [
    "merry.hunger()"
   ]
  },
  {
   "cell_type": "code",
   "execution_count": 9,
   "metadata": {},
   "outputs": [
    {
     "name": "stdout",
     "output_type": "stream",
     "text": [
      "산책 50\n",
      "밥먹음 40\n"
     ]
    }
   ],
   "source": [
    "choco=Dog('choco','black')\n",
    "choco.walk()\n",
    "choco.eat()"
   ]
  },
  {
   "cell_type": "code",
   "execution_count": 40,
   "metadata": {},
   "outputs": [
    {
     "name": "stdout",
     "output_type": "stream",
     "text": [
      "6\n"
     ]
    }
   ],
   "source": [
    "happy=Dog('happy','black')\n",
    "happy.dogCount()"
   ]
  },
  {
   "cell_type": "code",
   "execution_count": 57,
   "metadata": {},
   "outputs": [],
   "source": [
    "class calc:\n",
    "    count=0\n",
    "    @classmethod\n",
    "    def add(cls,a,b):\n",
    "        print(a+b)\n",
    "        cls.count+=1\n",
    "        print(cls.count)"
   ]
  },
  {
   "cell_type": "code",
   "execution_count": 58,
   "metadata": {},
   "outputs": [
    {
     "name": "stdout",
     "output_type": "stream",
     "text": [
      "30\n",
      "1\n"
     ]
    }
   ],
   "source": [
    "calc.add(10,20)"
   ]
  },
  {
   "cell_type": "code",
   "execution_count": 73,
   "metadata": {},
   "outputs": [],
   "source": [
    "\n",
    "class car:\n",
    "    count=0\n",
    "    def __init__(self,name,cc,year):\n",
    "        self.name=name\n",
    "        self.__cc=cc\n",
    "        self.year=year\n",
    "        car.count+=1\n",
    "\n",
    "    def gas(self):\n",
    "        if self.__cc<=1000:\n",
    "            print('소형')\n",
    "        if self.__cc>=1000 and self.__cc<=2000:\n",
    "            print('중형')\n",
    "        else:\n",
    "            print('대형')\n",
    "        \n",
    "    def Count(self):\n",
    "        print(car.count)"
   ]
  },
  {
   "cell_type": "code",
   "execution_count": 99,
   "metadata": {},
   "outputs": [
    {
     "name": "stdout",
     "output_type": "stream",
     "text": [
      "중형\n",
      "4\n"
     ]
    }
   ],
   "source": [
    "cha=car('이름',1995,2018)\n",
    "cha.gas()\n",
    "cha.Count()"
   ]
  },
  {
   "cell_type": "code",
   "execution_count": 115,
   "metadata": {},
   "outputs": [],
   "source": [
    "from abc import *\n",
    "class Animal(metaclass=ABCMeta): #추상화클래스\n",
    "    def __init__(self):\n",
    "        self.hungry=0\n",
    "    @abstractmethod\n",
    "    def sound(self):\n",
    "        pass\n",
    "    def eat(self):\n",
    "        self.hungry-=10\n",
    "        print('배불러요!',self.hungry)\n",
    "                \n",
    "    def walk(self):\n",
    "        self.hungry+=10\n",
    "        print('산책',self.hungry)\n"
   ]
  },
  {
   "cell_type": "code",
   "execution_count": 118,
   "metadata": {},
   "outputs": [
    {
     "ename": "TypeError",
     "evalue": "Can't instantiate abstract class Animal with abstract methods sound",
     "output_type": "error",
     "traceback": [
      "\u001b[1;31m---------------------------------------------------------------------------\u001b[0m",
      "\u001b[1;31mTypeError\u001b[0m                                 Traceback (most recent call last)",
      "\u001b[1;32m<ipython-input-118-487c306a1876>\u001b[0m in \u001b[0;36m<module>\u001b[1;34m\u001b[0m\n\u001b[1;32m----> 1\u001b[1;33m \u001b[0ma\u001b[0m\u001b[1;33m=\u001b[0m\u001b[0mAnimal\u001b[0m\u001b[1;33m(\u001b[0m\u001b[1;33m)\u001b[0m\u001b[1;33m\u001b[0m\u001b[1;33m\u001b[0m\u001b[0m\n\u001b[0m",
      "\u001b[1;31mTypeError\u001b[0m: Can't instantiate abstract class Animal with abstract methods sound"
     ]
    }
   ],
   "source": [
    "a=Animal()"
   ]
  },
  {
   "cell_type": "code",
   "execution_count": 116,
   "metadata": {},
   "outputs": [],
   "source": [
    " class Dog(Animal):\n",
    "    def __init__(self):\n",
    "        super().__init__()\n",
    "    \n",
    "    def sound(self):\n",
    "        print('멍멍')\n",
    "    def eat(self):\n",
    "        super().eat()\n",
    "        print('왕왕')"
   ]
  },
  {
   "cell_type": "code",
   "execution_count": 117,
   "metadata": {},
   "outputs": [
    {
     "name": "stdout",
     "output_type": "stream",
     "text": [
      "멍멍\n"
     ]
    }
   ],
   "source": [
    "dog=Dog()\n",
    "dog.sound()"
   ]
  },
  {
   "cell_type": "code",
   "execution_count": 107,
   "metadata": {},
   "outputs": [
    {
     "name": "stdout",
     "output_type": "stream",
     "text": [
      "배불러요! -10\n",
      "왕왕\n"
     ]
    }
   ],
   "source": [
    "dog=Dog()\n",
    "dog.eat()"
   ]
  },
  {
   "cell_type": "code",
   "execution_count": 114,
   "metadata": {},
   "outputs": [
    {
     "name": "stdout",
     "output_type": "stream",
     "text": [
      "배불러요! -80\n",
      "왕왕\n"
     ]
    }
   ],
   "source": [
    "dog.eat()"
   ]
  },
  {
   "cell_type": "code",
   "execution_count": 179,
   "metadata": {},
   "outputs": [],
   "source": [
    "class character:\n",
    "    def __init__(self,calro):\n",
    "        self.health=health       \n",
    "    def Method(self):    \n",
    "        self.health+=10       \n",
    "    def checkHealth(self):     \n",
    "        print(self.health)\n",
    "    def Move(self):\n",
    "        self.health-=5    "
   ]
  },
  {
   "cell_type": "code",
   "execution_count": 180,
   "metadata": {},
   "outputs": [],
   "source": [
    "class Knight(character):\n",
    "    def __init__(self,health):\n",
    "        super().__init__(health)\n",
    "        self.health=health\n",
    "    def Move(self):\n",
    "        super().Move()\n",
    "        self.health-=5\n",
    "        print(self.health)\n",
    "    def Attack(self):\n",
    "        print('공격합니다')"
   ]
  },
  {
   "cell_type": "code",
   "execution_count": 153,
   "metadata": {},
   "outputs": [],
   "source": [
    "class Healer(character):\n",
    "    def __init__(self,mana):\n",
    "        super().__init__()\n",
    "        self.mana=mana\n",
    "    def Heal(self):\n",
    "        self.mana-=10\n",
    "    def checkMana():\n",
    "        print(self.mana)"
   ]
  },
  {
   "cell_type": "code",
   "execution_count": 181,
   "metadata": {},
   "outputs": [],
   "source": [
    "jin=Knight(100)"
   ]
  },
  {
   "cell_type": "code",
   "execution_count": 184,
   "metadata": {},
   "outputs": [
    {
     "name": "stdout",
     "output_type": "stream",
     "text": [
      "80\n"
     ]
    }
   ],
   "source": [
    "jin.Move()"
   ]
  }
 ],
 "metadata": {
  "kernelspec": {
   "display_name": "Python 3",
   "language": "python",
   "name": "python3"
  },
  "language_info": {
   "codemirror_mode": {
    "name": "ipython",
    "version": 3
   },
   "file_extension": ".py",
   "mimetype": "text/x-python",
   "name": "python",
   "nbconvert_exporter": "python",
   "pygments_lexer": "ipython3",
   "version": "3.7.3"
  }
 },
 "nbformat": 4,
 "nbformat_minor": 2
}
