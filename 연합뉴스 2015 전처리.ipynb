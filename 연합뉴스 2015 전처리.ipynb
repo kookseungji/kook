{
 "cells": [
  {
   "cell_type": "code",
   "execution_count": 15,
   "metadata": {},
   "outputs": [],
   "source": [
    "import pandas as pd\n",
    "import numpy as np\n",
    "import datetime\n",
    "import re\n",
    "yon1=pd.read_csv('연합뉴스_2015.csv')\n",
    "yon1['press']='연합뉴스'\n",
    "yon1=yon1.drop([1,])\n",
    "yon1['date']=yon1['date'].astype('str')\n",
    "yon1=yon1.drop('link',axis=1)\n",
    "yon1['content'] = yon1['content'].apply(lambda x: re.sub(\"\\w*\\@.+\",'',x,1))\n",
    "yon1['content'] = yon1['content'].apply(lambda x: re.sub(\"\\([가-힣].=연합인포맥스\\)|\\([가-힣].=연합뉴스\\)\",'',x,1))\n",
    "yon1['date']=pd.to_datetime(yon1['date'])\n",
    "yon1= yon1.reset_index(drop=True)"
   ]
  },
  {
   "cell_type": "code",
   "execution_count": 24,
   "metadata": {},
   "outputs": [],
   "source": [
    "yon1['content']=yon1['content'].apply(lambda x: re.sub('.+[가-힣]{2} \\=|.+[가-힣]{2}\\=','',x,1))"
   ]
  },
  {
   "cell_type": "code",
   "execution_count": 26,
   "metadata": {},
   "outputs": [],
   "source": [
    "from ekonlpy.sentiment import MPCK\n",
    "def text2ngram(text):\n",
    "    mpck = MPCK()\n",
    "    bef_tokens = mpck.tokenize(text)\n",
    "    ngrams = mpck.ngramize(bef_tokens)\n",
    "    return ngrams"
   ]
  },
  {
   "cell_type": "code",
   "execution_count": 52,
   "metadata": {},
   "outputs": [],
   "source": [
    "n_gram=[]\n",
    "for i in range(979):\n",
    "    n_gram.append(text2ngram(yon1['content'][i]))"
   ]
  },
  {
   "cell_type": "code",
   "execution_count": 54,
   "metadata": {},
   "outputs": [],
   "source": [
    "yon1['ngram']=n_gram"
   ]
  },
  {
   "cell_type": "code",
   "execution_count": 55,
   "metadata": {},
   "outputs": [
    {
     "data": {
      "text/html": [
       "<div>\n",
       "<style scoped>\n",
       "    .dataframe tbody tr th:only-of-type {\n",
       "        vertical-align: middle;\n",
       "    }\n",
       "\n",
       "    .dataframe tbody tr th {\n",
       "        vertical-align: top;\n",
       "    }\n",
       "\n",
       "    .dataframe thead th {\n",
       "        text-align: right;\n",
       "    }\n",
       "</style>\n",
       "<table border=\"1\" class=\"dataframe\">\n",
       "  <thead>\n",
       "    <tr style=\"text-align: right;\">\n",
       "      <th></th>\n",
       "      <th>press</th>\n",
       "      <th>date</th>\n",
       "      <th>title</th>\n",
       "      <th>content</th>\n",
       "      <th>ngram</th>\n",
       "    </tr>\n",
       "  </thead>\n",
       "  <tbody>\n",
       "    <tr>\n",
       "      <th>0</th>\n",
       "      <td>연합뉴스</td>\n",
       "      <td>2015-01-03</td>\n",
       "      <td>미 연방준비은행 총재 \"연준 상반기 금리인상 예상\"</td>\n",
       "      <td>['','','','','로레타메스터\\xa0미국\\xa0클리블랜드연방준비은행\\xa0총...</td>\n",
       "      <td>[금융시장/NNG;금리/NNG;인상/NNG, fed/NNG;금리/NNG;인상/NNG...</td>\n",
       "    </tr>\n",
       "    <tr>\n",
       "      <th>1</th>\n",
       "      <td>연합뉴스</td>\n",
       "      <td>2015-01-22</td>\n",
       "      <td>ECB, 금리 0.05%로 동결…전면적 양적완화 주목(종합)</td>\n",
       "      <td>유럽중앙은행(ECB)은22일독일프랑크푸르트에서통화정책회의를열어기준금리를현행0.05%...</td>\n",
       "      <td>[ecb/NNG;금리/NNG;내리/VV, 금리/NNG;한계/NNG]</td>\n",
       "    </tr>\n",
       "    <tr>\n",
       "      <th>2</th>\n",
       "      <td>연합뉴스</td>\n",
       "      <td>2015-01-23</td>\n",
       "      <td>&lt;오늘의 채권&gt; ECB 양적완화 결정에 금리 하락</td>\n",
       "      <td>국내채권금리가23일유럽중앙은행(ECB)의대규모양적완화결정의영향으로일제히하락했다.',...</td>\n",
       "      <td>[채권/NNG;가격/NNG;강세/NNG]</td>\n",
       "    </tr>\n",
       "    <tr>\n",
       "      <th>3</th>\n",
       "      <td>연합뉴스</td>\n",
       "      <td>2015-01-18</td>\n",
       "      <td>&lt;낮아지는 주택담보대출 금리, 대출 갈아타야 할까&gt;(종합)</td>\n",
       "      <td>주택담보대출금리가연3%아래로내려가면서대출금리를갈아타는게좋을지에대한문의가은행에적지않게...</td>\n",
       "      <td>[고정/NNG;금리/NNG;변동/NNG;금리/NNG;낮/VA, 주택담보대출/NNG;...</td>\n",
       "    </tr>\n",
       "    <tr>\n",
       "      <th>4</th>\n",
       "      <td>연합뉴스</td>\n",
       "      <td>2015-01-17</td>\n",
       "      <td>국내 주식펀드, 코스닥 선전에 플러스 수익률</td>\n",
       "      <td>이번주국내주식형펀드주간수익률은코스닥지수의선전에힘입어중소형주펀드를중심으로플러스수익률을...</td>\n",
       "      <td>[국제/NNG;유가/NNG;원자재/NNG;가격/NNG;하락/NNG, 하락/NNG;채...</td>\n",
       "    </tr>\n",
       "  </tbody>\n",
       "</table>\n",
       "</div>"
      ],
      "text/plain": [
       "  press       date                              title  \\\n",
       "0  연합뉴스 2015-01-03       미 연방준비은행 총재 \"연준 상반기 금리인상 예상\"   \n",
       "1  연합뉴스 2015-01-22  ECB, 금리 0.05%로 동결…전면적 양적완화 주목(종합)   \n",
       "2  연합뉴스 2015-01-23        <오늘의 채권> ECB 양적완화 결정에 금리 하락   \n",
       "3  연합뉴스 2015-01-18   <낮아지는 주택담보대출 금리, 대출 갈아타야 할까>(종합)   \n",
       "4  연합뉴스 2015-01-17           국내 주식펀드, 코스닥 선전에 플러스 수익률   \n",
       "\n",
       "                                             content  \\\n",
       "0  ['','','','','로레타메스터\\xa0미국\\xa0클리블랜드연방준비은행\\xa0총...   \n",
       "1  유럽중앙은행(ECB)은22일독일프랑크푸르트에서통화정책회의를열어기준금리를현행0.05%...   \n",
       "2  국내채권금리가23일유럽중앙은행(ECB)의대규모양적완화결정의영향으로일제히하락했다.',...   \n",
       "3  주택담보대출금리가연3%아래로내려가면서대출금리를갈아타는게좋을지에대한문의가은행에적지않게...   \n",
       "4  이번주국내주식형펀드주간수익률은코스닥지수의선전에힘입어중소형주펀드를중심으로플러스수익률을...   \n",
       "\n",
       "                                               ngram  \n",
       "0  [금융시장/NNG;금리/NNG;인상/NNG, fed/NNG;금리/NNG;인상/NNG...  \n",
       "1              [ecb/NNG;금리/NNG;내리/VV, 금리/NNG;한계/NNG]  \n",
       "2                             [채권/NNG;가격/NNG;강세/NNG]  \n",
       "3  [고정/NNG;금리/NNG;변동/NNG;금리/NNG;낮/VA, 주택담보대출/NNG;...  \n",
       "4  [국제/NNG;유가/NNG;원자재/NNG;가격/NNG;하락/NNG, 하락/NNG;채...  "
      ]
     },
     "execution_count": 55,
     "metadata": {},
     "output_type": "execute_result"
    }
   ],
   "source": [
    "yon1.head()"
   ]
  },
  {
   "cell_type": "code",
   "execution_count": 56,
   "metadata": {},
   "outputs": [],
   "source": [
    "  yon = pd.read_csv(\"yon.csv\")"
   ]
  },
  {
   "cell_type": "code",
   "execution_count": 60,
   "metadata": {},
   "outputs": [
    {
     "data": {
      "text/html": [
       "<div>\n",
       "<style scoped>\n",
       "    .dataframe tbody tr th:only-of-type {\n",
       "        vertical-align: middle;\n",
       "    }\n",
       "\n",
       "    .dataframe tbody tr th {\n",
       "        vertical-align: top;\n",
       "    }\n",
       "\n",
       "    .dataframe thead th {\n",
       "        text-align: right;\n",
       "    }\n",
       "</style>\n",
       "<table border=\"1\" class=\"dataframe\">\n",
       "  <thead>\n",
       "    <tr style=\"text-align: right;\">\n",
       "      <th></th>\n",
       "      <th>press</th>\n",
       "      <th>date</th>\n",
       "      <th>title</th>\n",
       "      <th>content</th>\n",
       "      <th>ngram</th>\n",
       "    </tr>\n",
       "  </thead>\n",
       "  <tbody>\n",
       "    <tr>\n",
       "      <th>0</th>\n",
       "      <td>연합뉴스</td>\n",
       "      <td>2010-01-19</td>\n",
       "      <td>安교육 \"ICL 학자금 대출금리 인하 노력\"</td>\n",
       "      <td>['','','','','','','약대총정원추가증원도검토…내달초까지결정','이윤영...</td>\n",
       "      <td>['이자/NNG;부담/NNG']</td>\n",
       "    </tr>\n",
       "    <tr>\n",
       "      <th>1</th>\n",
       "      <td>연합뉴스</td>\n",
       "      <td>2010-01-22</td>\n",
       "      <td>학자금 대출금리 5.7%…0.1%P 인하</td>\n",
       "      <td>['','','','','','','이윤영기자=교육과학기술부와한국장학재단은올1학기취...</td>\n",
       "      <td>['금리/NNG;인하/NNG']</td>\n",
       "    </tr>\n",
       "    <tr>\n",
       "      <th>2</th>\n",
       "      <td>연합뉴스</td>\n",
       "      <td>2010-01-23</td>\n",
       "      <td>&lt;표&gt; 은행 정기예금 금리(22일 기준)</td>\n",
       "      <td>['','','','','(단위:%)','┌────┬─────────────────...</td>\n",
       "      <td>[]</td>\n",
       "    </tr>\n",
       "    <tr>\n",
       "      <th>3</th>\n",
       "      <td>연합뉴스</td>\n",
       "      <td>2010-01-21</td>\n",
       "      <td>경남銀 주택담보대출 가산금리 0.20%p 인하</td>\n",
       "      <td>['','','','',김재홍기자=경남은행(은행장문동성)은주택담보대출상품인`뉴집집마...</td>\n",
       "      <td>['대출/NNG;스프레드/NNG;인하/NNG']</td>\n",
       "    </tr>\n",
       "    <tr>\n",
       "      <th>4</th>\n",
       "      <td>연합뉴스</td>\n",
       "      <td>2010-01-20</td>\n",
       "      <td>&lt;코픽스 등장…대출금리 떨어지나&gt;(종합)</td>\n",
       "      <td>['','','','','','','기준금리↑가산금리↓','조재영최현석기자=은행의자...</td>\n",
       "      <td>['높/VA;대출/NNG;금리/NNG;낮/VA', '금리/NNG;서서히/MAG;상승...</td>\n",
       "    </tr>\n",
       "  </tbody>\n",
       "</table>\n",
       "</div>"
      ],
      "text/plain": [
       "   press        date                      title  \\\n",
       "0   연합뉴스  2010-01-19   安교육 \"ICL 학자금 대출금리 인하 노력\"   \n",
       "1   연합뉴스  2010-01-22     학자금 대출금리 5.7%…0.1%P 인하   \n",
       "2   연합뉴스  2010-01-23     <표> 은행 정기예금 금리(22일 기준)   \n",
       "3   연합뉴스  2010-01-21  경남銀 주택담보대출 가산금리 0.20%p 인하   \n",
       "4   연합뉴스  2010-01-20     <코픽스 등장…대출금리 떨어지나>(종합)   \n",
       "\n",
       "                                             content  \\\n",
       "0  ['','','','','','','약대총정원추가증원도검토…내달초까지결정','이윤영...   \n",
       "1  ['','','','','','','이윤영기자=교육과학기술부와한국장학재단은올1학기취...   \n",
       "2  ['','','','','(단위:%)','┌────┬─────────────────...   \n",
       "3  ['','','','',김재홍기자=경남은행(은행장문동성)은주택담보대출상품인`뉴집집마...   \n",
       "4  ['','','','','','','기준금리↑가산금리↓','조재영최현석기자=은행의자...   \n",
       "\n",
       "                                               ngram  \n",
       "0                                  ['이자/NNG;부담/NNG']  \n",
       "1                                  ['금리/NNG;인하/NNG']  \n",
       "2                                                 []  \n",
       "3                         ['대출/NNG;스프레드/NNG;인하/NNG']  \n",
       "4  ['높/VA;대출/NNG;금리/NNG;낮/VA', '금리/NNG;서서히/MAG;상승...  "
      ]
     },
     "execution_count": 60,
     "metadata": {},
     "output_type": "execute_result"
    }
   ],
   "source": [
    "yon.head()"
   ]
  },
  {
   "cell_type": "code",
   "execution_count": 59,
   "metadata": {},
   "outputs": [],
   "source": [
    "yon=yon.drop('Unnamed: 0',axis=1)"
   ]
  },
  {
   "cell_type": "code",
   "execution_count": 68,
   "metadata": {},
   "outputs": [],
   "source": [
    "yon['date']=pd.to_datetime(yon['date'])"
   ]
  },
  {
   "cell_type": "code",
   "execution_count": 89,
   "metadata": {},
   "outputs": [],
   "source": [
    "yon2010_2015=yon.append(yon1)"
   ]
  },
  {
   "cell_type": "code",
   "execution_count": 90,
   "metadata": {},
   "outputs": [],
   "source": [
    "yon2010_2015= yon2010_2015.reset_index(drop=True)"
   ]
  },
  {
   "cell_type": "code",
   "execution_count": 95,
   "metadata": {},
   "outputs": [
    {
     "data": {
      "text/html": [
       "<div>\n",
       "<style scoped>\n",
       "    .dataframe tbody tr th:only-of-type {\n",
       "        vertical-align: middle;\n",
       "    }\n",
       "\n",
       "    .dataframe tbody tr th {\n",
       "        vertical-align: top;\n",
       "    }\n",
       "\n",
       "    .dataframe thead th {\n",
       "        text-align: right;\n",
       "    }\n",
       "</style>\n",
       "<table border=\"1\" class=\"dataframe\">\n",
       "  <thead>\n",
       "    <tr style=\"text-align: right;\">\n",
       "      <th></th>\n",
       "      <th>press</th>\n",
       "      <th>date</th>\n",
       "      <th>title</th>\n",
       "      <th>content</th>\n",
       "      <th>ngram</th>\n",
       "    </tr>\n",
       "  </thead>\n",
       "  <tbody>\n",
       "    <tr>\n",
       "      <th>12706</th>\n",
       "      <td>연합뉴스</td>\n",
       "      <td>2015-12-27</td>\n",
       "      <td>역대 7번째 최장 '팔자' 외국인 새해에는 살까</td>\n",
       "      <td>한국거래소)','</td>\n",
       "      <td>[]</td>\n",
       "    </tr>\n",
       "    <tr>\n",
       "      <th>12707</th>\n",
       "      <td>연합뉴스</td>\n",
       "      <td>2015-12-23</td>\n",
       "      <td>이주열 \"미국 금리인상으로 국제자금·환율 변동성 확대\"(속보)</td>\n",
       "      <td>['','','','','','','','','','']</td>\n",
       "      <td>[]</td>\n",
       "    </tr>\n",
       "    <tr>\n",
       "      <th>12708</th>\n",
       "      <td>연합뉴스</td>\n",
       "      <td>2015-12-28</td>\n",
       "      <td>올해 아파트 매매가격 상승률 5.06%…지난해 두배 넘어</td>\n",
       "      <td>올해전국아파트매매가격의상승률이지난해의두배이상인것으로조사됐다.',KB국민은행이28일발...</td>\n",
       "      <td>[주택/NNG;경기/NNG;회복/NNG, 전세가격/NNG;상승/NNG, 전세가격/N...</td>\n",
       "    </tr>\n",
       "    <tr>\n",
       "      <th>12709</th>\n",
       "      <td>연합뉴스</td>\n",
       "      <td>2015-12-31</td>\n",
       "      <td>올해 해외건설 수주 461억달러…5년만에 '최악'</td>\n",
       "      <td>올해해외건설수주액이461억달러로집계돼작년의70%수준에머물렀다고국토교통부가31일밝혔다...</td>\n",
       "      <td>[위험/NNG;국제/NNG;유가/NNG;하락/NNG, 불확실성/NNG;매우/MAG;...</td>\n",
       "    </tr>\n",
       "    <tr>\n",
       "      <th>12710</th>\n",
       "      <td>연합뉴스</td>\n",
       "      <td>2015-12-30</td>\n",
       "      <td>&lt;신년사&gt; 최양희 미래창조과학부 장관</td>\n",
       "      <td>['','','','','국민여러분,2016년희망찬병신(丙申)년새해가밝았습니다.',...</td>\n",
       "      <td>[금리/NNG;인상/NNG;경제/NNG;성장/NNG;둔화/NNG, 미래/NNG;성장...</td>\n",
       "    </tr>\n",
       "  </tbody>\n",
       "</table>\n",
       "</div>"
      ],
      "text/plain": [
       "      press       date                               title  \\\n",
       "12706  연합뉴스 2015-12-27          역대 7번째 최장 '팔자' 외국인 새해에는 살까   \n",
       "12707  연합뉴스 2015-12-23  이주열 \"미국 금리인상으로 국제자금·환율 변동성 확대\"(속보)   \n",
       "12708  연합뉴스 2015-12-28     올해 아파트 매매가격 상승률 5.06%…지난해 두배 넘어   \n",
       "12709  연합뉴스 2015-12-31         올해 해외건설 수주 461억달러…5년만에 '최악'   \n",
       "12710  연합뉴스 2015-12-30                <신년사> 최양희 미래창조과학부 장관   \n",
       "\n",
       "                                                 content  \\\n",
       "12706                                          한국거래소)','   \n",
       "12707                    ['','','','','','','','','','']   \n",
       "12708  올해전국아파트매매가격의상승률이지난해의두배이상인것으로조사됐다.',KB국민은행이28일발...   \n",
       "12709  올해해외건설수주액이461억달러로집계돼작년의70%수준에머물렀다고국토교통부가31일밝혔다...   \n",
       "12710  ['','','','','국민여러분,2016년희망찬병신(丙申)년새해가밝았습니다.',...   \n",
       "\n",
       "                                                   ngram  \n",
       "12706                                                 []  \n",
       "12707                                                 []  \n",
       "12708  [주택/NNG;경기/NNG;회복/NNG, 전세가격/NNG;상승/NNG, 전세가격/N...  \n",
       "12709  [위험/NNG;국제/NNG;유가/NNG;하락/NNG, 불확실성/NNG;매우/MAG;...  \n",
       "12710  [금리/NNG;인상/NNG;경제/NNG;성장/NNG;둔화/NNG, 미래/NNG;성장...  "
      ]
     },
     "execution_count": 95,
     "metadata": {},
     "output_type": "execute_result"
    }
   ],
   "source": [
    "yon2010_2015.tail()"
   ]
  },
  {
   "cell_type": "code",
   "execution_count": 96,
   "metadata": {},
   "outputs": [],
   "source": [
    "yon2010_2015.to_csv(\"연합뉴스2010_2015ngram.csv\")"
   ]
  },
  {
   "cell_type": "code",
   "execution_count": null,
   "metadata": {},
   "outputs": [],
   "source": []
  }
 ],
 "metadata": {
  "kernelspec": {
   "display_name": "Python 3",
   "language": "python",
   "name": "python3"
  },
  "language_info": {
   "codemirror_mode": {
    "name": "ipython",
    "version": 3
   },
   "file_extension": ".py",
   "mimetype": "text/x-python",
   "name": "python",
   "nbconvert_exporter": "python",
   "pygments_lexer": "ipython3",
   "version": "3.7.3"
  }
 },
 "nbformat": 4,
 "nbformat_minor": 2
}
