{
 "cells": [
  {
   "cell_type": "code",
   "execution_count": 3,
   "metadata": {},
   "outputs": [
    {
     "name": "stdout",
     "output_type": "stream",
     "text": [
      "<class 'str'> : 유나;지은;스튜어트;케빈\n"
     ]
    }
   ],
   "source": [
    "name_list=['유나','지은','스튜어트','케빈']\n",
    "sentence='우리 강지는 소파 위에서 잔다'\n",
    "name=';'.join(name_list)\n",
    "print(type(name),':',name)"
   ]
  },
  {
   "cell_type": "code",
   "execution_count": 5,
   "metadata": {},
   "outputs": [
    {
     "name": "stdout",
     "output_type": "stream",
     "text": [
      "['우리', '강지는', '소파', '위에서', '잔다']\n"
     ]
    }
   ],
   "source": [
    "wordlist=sentence.split(' ')\n",
    "print(wordlist)"
   ]
  },
  {
   "cell_type": "code",
   "execution_count": 6,
   "metadata": {},
   "outputs": [
    {
     "name": "stdout",
     "output_type": "stream",
     "text": [
      "파이썬파이썬 파이썬파이썬\n"
     ]
    }
   ],
   "source": [
    "additionexample='파이썬'+'파이썬'\n",
    "multiplicationexample='파이썬'*2\n",
    "print(additionexample, multiplicationexample)"
   ]
  },
  {
   "cell_type": "code",
   "execution_count": 8,
   "metadata": {},
   "outputs": [
    {
     "data": {
      "text/plain": [
       "'L'"
      ]
     },
     "execution_count": 8,
     "metadata": {},
     "output_type": "execute_result"
    }
   ],
   "source": [
    "str='Python NLTK'\n",
    "str[-3]"
   ]
  },
  {
   "cell_type": "code",
   "execution_count": 9,
   "metadata": {},
   "outputs": [],
   "source": [
    "str = 'NLTK Dolly Python'"
   ]
  },
  {
   "cell_type": "code",
   "execution_count": 15,
   "metadata": {},
   "outputs": [
    {
     "name": "stdout",
     "output_type": "stream",
     "text": [
      "ok\n"
     ]
    }
   ],
   "source": [
    "if 'NLTK' in str:\n",
    "    print('ok')"
   ]
  },
  {
   "cell_type": "code",
   "execution_count": 16,
   "metadata": {},
   "outputs": [
    {
     "name": "stdout",
     "output_type": "stream",
     "text": [
      "NLTK Dorothy Python\n"
     ]
    }
   ],
   "source": [
    "print(str.replace('Dolly','Dorothy'))"
   ]
  },
  {
   "cell_type": "code",
   "execution_count": 17,
   "metadata": {},
   "outputs": [
    {
     "name": "stdout",
     "output_type": "stream",
     "text": [
      "Requirement already satisfied: pypdf2 in c:\\programdata\\anaconda3\\lib\\site-packages (1.26.0)\n",
      "Note: you may need to restart the kernel to use updated packages.\n"
     ]
    }
   ],
   "source": [
    "pip install pypdf2"
   ]
  },
  {
   "cell_type": "code",
   "execution_count": 18,
   "metadata": {},
   "outputs": [],
   "source": [
    "from PyPDF2 import PdfFileReader"
   ]
  },
  {
   "cell_type": "code",
   "execution_count": 19,
   "metadata": {},
   "outputs": [],
   "source": [
    "def getTextPDF(pdfFileName,password=''):\n",
    "    pdf_file=open(pdfFileName,'rb')\n",
    "    read_pdf=PdfFileReader(pdf_file)\n",
    "    if password"
   ]
  },
  {
   "cell_type": "code",
   "execution_count": 22,
   "metadata": {},
   "outputs": [
    {
     "name": "stdout",
     "output_type": "stream",
     "text": [
      "Collecting docx\n",
      "  Downloading https://files.pythonhosted.org/packages/4a/8e/5a01644697b03016de339ef444cfff28367f92984dc74eddaab1ed60eada/docx-0.2.4.tar.gz (54kB)\n",
      "Requirement already satisfied: lxml in c:\\programdata\\anaconda3\\lib\\site-packages (from docx) (4.3.2)\n",
      "Requirement already satisfied: Pillow>=2.0 in c:\\programdata\\anaconda3\\lib\\site-packages (from docx) (5.4.1)\n",
      "Building wheels for collected packages: docx\n",
      "  Building wheel for docx (setup.py): started\n",
      "  Building wheel for docx (setup.py): finished with status 'done'\n",
      "  Stored in directory: C:\\Users\\student\\AppData\\Local\\pip\\Cache\\wheels\\cc\\8d\\09\\563edfd874a35c0c7ed129b6c4fa890efa4c26458bdec6ffc1\n",
      "Successfully built docx\n",
      "Installing collected packages: docx\n",
      "Successfully installed docx-0.2.4\n"
     ]
    },
    {
     "ename": "ModuleNotFoundError",
     "evalue": "No module named 'exceptions'",
     "output_type": "error",
     "traceback": [
      "\u001b[1;31m---------------------------------------------------------------------------\u001b[0m",
      "\u001b[1;31mModuleNotFoundError\u001b[0m                       Traceback (most recent call last)",
      "\u001b[1;32m<ipython-input-22-3f5486358d0d>\u001b[0m in \u001b[0;36m<module>\u001b[1;34m\u001b[0m\n\u001b[0;32m      1\u001b[0m \u001b[0mget_ipython\u001b[0m\u001b[1;33m(\u001b[0m\u001b[1;33m)\u001b[0m\u001b[1;33m.\u001b[0m\u001b[0msystem\u001b[0m\u001b[1;33m(\u001b[0m\u001b[1;34m'pip install docx'\u001b[0m\u001b[1;33m)\u001b[0m\u001b[1;33m\u001b[0m\u001b[1;33m\u001b[0m\u001b[0m\n\u001b[1;32m----> 2\u001b[1;33m \u001b[1;32mimport\u001b[0m \u001b[0mdocx\u001b[0m\u001b[1;33m\u001b[0m\u001b[1;33m\u001b[0m\u001b[0m\n\u001b[0m\u001b[0;32m      3\u001b[0m \u001b[1;32mimport\u001b[0m \u001b[0mword\u001b[0m\u001b[1;33m\u001b[0m\u001b[1;33m\u001b[0m\u001b[0m\n\u001b[0;32m      4\u001b[0m \u001b[1;33m\u001b[0m\u001b[0m\n\u001b[0;32m      5\u001b[0m \u001b[0mdocName\u001b[0m \u001b[1;33m=\u001b[0m \u001b[1;34m'sample-one-line.docx'\u001b[0m\u001b[1;33m\u001b[0m\u001b[1;33m\u001b[0m\u001b[0m\n",
      "\u001b[1;32mC:\\ProgramData\\Anaconda3\\lib\\site-packages\\docx.py\u001b[0m in \u001b[0;36m<module>\u001b[1;34m\u001b[0m\n\u001b[0;32m     28\u001b[0m     \u001b[0mTAGS\u001b[0m \u001b[1;33m=\u001b[0m \u001b[1;33m{\u001b[0m\u001b[1;33m}\u001b[0m\u001b[1;33m\u001b[0m\u001b[1;33m\u001b[0m\u001b[0m\n\u001b[0;32m     29\u001b[0m \u001b[1;33m\u001b[0m\u001b[0m\n\u001b[1;32m---> 30\u001b[1;33m \u001b[1;32mfrom\u001b[0m \u001b[0mexceptions\u001b[0m \u001b[1;32mimport\u001b[0m \u001b[0mPendingDeprecationWarning\u001b[0m\u001b[1;33m\u001b[0m\u001b[1;33m\u001b[0m\u001b[0m\n\u001b[0m\u001b[0;32m     31\u001b[0m \u001b[1;32mfrom\u001b[0m \u001b[0mwarnings\u001b[0m \u001b[1;32mimport\u001b[0m \u001b[0mwarn\u001b[0m\u001b[1;33m\u001b[0m\u001b[1;33m\u001b[0m\u001b[0m\n\u001b[0;32m     32\u001b[0m \u001b[1;33m\u001b[0m\u001b[0m\n",
      "\u001b[1;31mModuleNotFoundError\u001b[0m: No module named 'exceptions'"
     ]
    }
   ],
   "source": [
    "!pip install docx\n",
    "import docx\n",
    "import word\n",
    "\n",
    "docName = 'sample-one-line.docx'\n",
    "print('Document in full :\\n',word.getTextWord(docName))\n",
    "\n",
    "doc = docx.Document(docName)\n",
    "print('Number of paragraphs :',len(doc.paragraphs))\n",
    "print('Paragraph 2:',doc.paragraphs[1].text)\n",
    "print('Paragraph 2 style:',doc.paragraphs[1].style)\n",
    "print('Paragraph 1:',doc.paragraphs[0].text)\n",
    "print('Number of runs in paragraph 1:',len(doc.paragraphs[0].runs))\n",
    "for idx, run in enumerate(doc.paragraphs[0].runs):\n",
    "    print('Run %s : %s' %(idx,run.text))\n",
    "\n",
    "print('is Run 0 underlined:',doc.paragraphs[0].runs[5].underline)\n",
    "print('is Run 2 bold:',doc.paragraphs[0].runs[1].bold)\n",
    "print('is Run 7 italic:',doc.paragraphs[0].runs[3].italic)"
   ]
  },
  {
   "cell_type": "code",
   "execution_count": 33,
   "metadata": {},
   "outputs": [
    {
     "name": "stdout",
     "output_type": "stream",
     "text": [
      "Collecting feedparser\n",
      "  Downloading https://files.pythonhosted.org/packages/91/d8/7d37fec71ff7c9dbcdd80d2b48bcdd86d6af502156fc93846fb0102cb2c4/feedparser-5.2.1.tar.bz2 (192kB)\n",
      "Building wheels for collected packages: feedparser\n",
      "  Building wheel for feedparser (setup.py): started\n",
      "  Building wheel for feedparser (setup.py): finished with status 'done'\n",
      "  Stored in directory: C:\\Users\\student\\AppData\\Local\\pip\\Cache\\wheels\\8c\\69\\b7\\f52763c41c5471df57703a0ef718a32a5e81ee35dcf6d4f97f\n",
      "Successfully built feedparser\n",
      "Installing collected packages: feedparser\n",
      "Successfully installed feedparser-5.2.1\n",
      "Feed Title : Mashable\n",
      "Number of posts : 30\n",
      "Post Title : Everything you need to know about Amazon Prime for Australia\n",
      "Raw content :\n",
      " <img alt=\"\" src=\"https://mondrian.mashable.com/uploads%252Fcard%252Fimage%252F1008660%252Fc07f261b-6976-4e54-b610-407897d6ca56.jpg%252F575x323__filters%253Aquality%252880%2529.jpg?signature=ePOOeg4URuno32qUgZRMNcmZWus=&amp;source=https%3A%2F%2Fblueprint-api-production.s3.amazonaws.com\" /><div style=\"float: right; width: 50px;\"><a href=\"https://twitter.com/share?via=Mashable&text=Everything+you+need+to+know+about+Amazon+Prime+for+Australia&url=https%3A%2F%2Fmashable.com%2Fshopping%2Feverything-about-amazon-prime-australia%2F\" style=\"margin: 10px;\"><img alt=\"Twitter\" border=\"0\" src=\"https://a.amz.mshcdn.com/assets/feed-tw-e71baf64f2ec58d01cd28f4e9ef6b2ce0370b42fbd965068e9e7b58be198fb13.jpg\" /></a><a href=\"https://www.facebook.com/sharer.php?u=https%3A%2F%2Fmashable.com%2Fshopping%2Feverything-about-amazon-prime-australia%2F&src=sp\" style=\"margin: 10px;\"><img alt=\"Facebook\" border=\"0\" src=\"https://a.amz.mshcdn.com/assets/feed-fb-8e3bd31e201ea65385a524ef67519d031e6851071807055648790d6a4ca77139.jpg\" /></a></div><p>Although it's been long enjoyed and fretted over across the globe, Australians had been anticipating the arrival of Amazon's <a href=\"https://www.amazon.com.au/l/5602577051/ref=as_li_ss_tl?ie=UTF8&amp;linkCode=sl2&amp;linkId=a79ba790a8b9eba1cd729082a9dcf913&amp;tag=mashable0c-20&amp;tag=mashableau-22\" class=\"product-url\" rel=\"noskim\">Prime Day</a> for quite some time &#8212; and now, it's officially part of the calendar.</p>\n",
      "<p>Following the event's 2018 debut, Amazon is bringing Prime Day back to Australia, as part of its signature worldwide shopping marathon. Being ahead of the timezone, Aussie Prime members will get first access to some pretty epic deals.&#160;</p>\n",
      "<p>Prime members get fast and free delivery, a range of entertainment options, early access to content as well as tonnes of deals and events like the much-anticipated Prime Day. This is all provided through an annual or monthly subscription &#8212; and so far, there&#8217;s more than 100 million paid members around the globe. <a href=\"https://mashable.com/shopping/everything-about-amazon-prime-australia/\">Read more...</a></p>More about <a href=\"https://mashable.com/category/amazon/?utm_campaign=Mash-Prod-RSS-Feedburner-All-Partial&amp;utm_cid=Mash-Prod-RSS-Feedburner-All-Partial\">Amazon</a>, <a href=\"https://mashable.com/category/prime-day/?utm_campaign=Mash-Prod-RSS-Feedburner-All-Partial&amp;utm_cid=Mash-Prod-RSS-Feedburner-All-Partial\">Prime Day</a>, <a href=\"https://mashable.com/category/amazon-prime-day/?utm_campaign=Mash-Prod-RSS-Feedburner-All-Partial&amp;utm_cid=Mash-Prod-RSS-Feedburner-All-Partial\">Amazon Prime Day</a>, <a href=\"https://mashable.com/category/online-shopping/?utm_campaign=Mash-Prod-RSS-Feedburner-All-Partial&amp;utm_cid=Mash-Prod-RSS-Feedburner-All-Partial\">Online Shopping</a>, and <a href=\"https://mashable.com/category/mashable-shopping/?utm_campaign=Mash-Prod-RSS-Feedburner-All-Partial&amp;utm_cid=Mash-Prod-RSS-Feedburner-All-Partial\">Mashable Shopping</a><img src=\"http://feeds.feedburner.com/~r/Mashable/~4/uHpU-WEIPyg\" height=\"1\" width=\"1\" alt=\"\"/>\n"
     ]
    }
   ],
   "source": [
    "!pip install feedparser\n",
    "\n",
    "import feedparser\n",
    "\n",
    "myFeed = feedparser.parse(\"http://feeds.mashable.com/Mashable\")\n",
    "print('Feed Title :', myFeed['feed']['title'])\n",
    "print('Number of posts :', len(myFeed.entries))\n",
    "post = myFeed.entries[0]\n",
    "print('Post Title :',post.title)\n",
    "content = post.content[0].value\n",
    "print('Raw content :\\n',content)"
   ]
  },
  {
   "cell_type": "code",
   "execution_count": 34,
   "metadata": {},
   "outputs": [],
   "source": [
    "import re"
   ]
  },
  {
   "cell_type": "code",
   "execution_count": 37,
   "metadata": {},
   "outputs": [
    {
     "name": "stdout",
     "output_type": "stream",
     "text": [
      "찾앗다!\n"
     ]
    }
   ],
   "source": [
    "def text_match(text,patterns):\n",
    "    if re.search(patterns,text):\n",
    "        return('찾앗다!')\n",
    "    else:\n",
    "        return('아닌데')\n",
    "print(text_match('ac','ab?'))    "
   ]
  },
  {
   "cell_type": "code",
   "execution_count": 38,
   "metadata": {},
   "outputs": [
    {
     "name": "stdout",
     "output_type": "stream",
     "text": [
      "찾앗다!\n"
     ]
    }
   ],
   "source": [
    "print(text_match('ac','ab*'))"
   ]
  },
  {
   "cell_type": "code",
   "execution_count": 39,
   "metadata": {},
   "outputs": [
    {
     "name": "stdout",
     "output_type": "stream",
     "text": [
      "찾앗다!\n"
     ]
    }
   ],
   "source": [
    "print(text_match('abbc','ab{2}'))"
   ]
  },
  {
   "cell_type": "code",
   "execution_count": 63,
   "metadata": {},
   "outputs": [
    {
     "name": "stdout",
     "output_type": "stream",
     "text": [
      "match!\n",
      "match!\n",
      "match!\n",
      "match!\n"
     ]
    }
   ],
   "source": [
    "    \n",
    "import re\n",
    "\n",
    "def text_match(text, patterns):\n",
    "        if re.search(patterns,  text):\n",
    "                return 'match!'\n",
    "        else:\n",
    "                return('Not')\n",
    "\n",
    "\n",
    "print(text_match(\"abghkhjbjkl;bc\", \"^a.*c$\"))\n",
    "\n",
    "print(text_match(\"4\", \"^\\w+\"))\n",
    "\n",
    "print(text_match(\"Tuffyt of run!\", \"\\w+\\S*!$\"))\n",
    "\n",
    "\n",
    "print(text_match(\"Tfufy\", \"\\Bu\\B\"))"
   ]
  },
  {
   "cell_type": "code",
   "execution_count": 91,
   "metadata": {},
   "outputs": [],
   "source": [
    "def is__(string):\n",
    "    charRe=re.compile(r'[^a-zA-Z0-9.]')\n",
    "    string=charRe.search(string)\n",
    "    return not bool(string)#영문이나 숫자가 아닌거=TF 안나옴"
   ]
  },
  {
   "cell_type": "code",
   "execution_count": 92,
   "metadata": {},
   "outputs": [
    {
     "data": {
      "text/plain": [
       "True"
      ]
     },
     "execution_count": 92,
     "metadata": {},
     "output_type": "execute_result"
    }
   ],
   "source": [
    "is__('BCDEFbedef')\n"
   ]
  },
  {
   "cell_type": "code",
   "execution_count": 98,
   "metadata": {},
   "outputs": [
    {
     "name": "stdout",
     "output_type": "stream",
     "text": [
      "21 teheran Rd\n",
      "['Diwal', 'fival', 'light', 'color']\n"
     ]
    }
   ],
   "source": [
    "street='21 teheran road'\n",
    "print(re.sub('road', 'Rd', street))\n",
    "\n",
    "text = 'Diwal is a fival of light Holi is a festival of color!'\n",
    "print(re.findall(r\"\\b\\w{5}\\b\", text))"
   ]
  },
  {
   "cell_type": "code",
   "execution_count": 102,
   "metadata": {},
   "outputs": [],
   "source": [
    "def stem(word):\n",
    "    splits=re.findall(r'^(.*?)(ing|ly|ed|ious|ies)?$',word)\n",
    "    stem=splits[0][0]\n",
    "    return stem"
   ]
  },
  {
   "cell_type": "code",
   "execution_count": 103,
   "metadata": {},
   "outputs": [
    {
     "name": "stdout",
     "output_type": "stream",
     "text": [
      "['keep', 'your', 'friends', 'close', ',']\n"
     ]
    }
   ],
   "source": [
    "raw='keep your friends close,'\n",
    "tokens=re.findall(r'\\w+|\\S\\w*',raw)\n",
    "print(tokens)"
   ]
  },
  {
   "cell_type": "code",
   "execution_count": 106,
   "metadata": {},
   "outputs": [
    {
     "data": {
      "text/plain": [
       "'enem'"
      ]
     },
     "execution_count": 106,
     "metadata": {},
     "output_type": "execute_result"
    }
   ],
   "source": [
    "stem('enemies')"
   ]
  },
  {
   "cell_type": "code",
   "execution_count": 112,
   "metadata": {},
   "outputs": [
    {
     "name": "stdout",
     "output_type": "stream",
     "text": [
      "Processing c:\\users\\student\\mecab_python-0.996_ko_0.9.2_msvc-cp37-cp37m-win_amd64.whl\n",
      "Note: you may need to restart the kernel to use updated packages.\n"
     ]
    },
    {
     "name": "stderr",
     "output_type": "stream",
     "text": [
      "Requirement 'mecab_python-0.996_ko_0.9.2_msvc-cp37-cp37m-win_amd64.whl' looks like a filename, but the file does not exist\n",
      "Could not install packages due to an EnvironmentError: [Errno 2] No such file or directory: 'C:\\\\Users\\\\student\\\\mecab_python-0.996_ko_0.9.2_msvc-cp37-cp37m-win_amd64.whl'\n",
      "\n"
     ]
    }
   ],
   "source": [
    "pip install mecab_python-0.996_ko_0.9.2_msvc-cp37-cp37m-win_amd64.whl"
   ]
  },
  {
   "cell_type": "code",
   "execution_count": 120,
   "metadata": {
    "scrolled": true
   },
   "outputs": [
    {
     "ename": "ModuleNotFoundError",
     "evalue": "No module named 'MeCab'",
     "output_type": "error",
     "traceback": [
      "\u001b[1;31m---------------------------------------------------------------------------\u001b[0m",
      "\u001b[1;31mModuleNotFoundError\u001b[0m                       Traceback (most recent call last)",
      "\u001b[1;32m<ipython-input-120-022fc4ee216d>\u001b[0m in \u001b[0;36m<module>\u001b[1;34m\u001b[0m\n\u001b[1;32m----> 1\u001b[1;33m \u001b[1;32mimport\u001b[0m \u001b[0mMeCab\u001b[0m\u001b[1;33m\u001b[0m\u001b[1;33m\u001b[0m\u001b[0m\n\u001b[0m",
      "\u001b[1;31mModuleNotFoundError\u001b[0m: No module named 'MeCab'"
     ]
    }
   ],
   "source": [
    "import MeCab"
   ]
  },
  {
   "cell_type": "code",
   "execution_count": 114,
   "metadata": {},
   "outputs": [
    {
     "ename": "ModuleNotFoundError",
     "evalue": "No module named 'ekonlpy'",
     "output_type": "error",
     "traceback": [
      "\u001b[1;31m---------------------------------------------------------------------------\u001b[0m",
      "\u001b[1;31mModuleNotFoundError\u001b[0m                       Traceback (most recent call last)",
      "\u001b[1;32m<ipython-input-114-a57c467518ee>\u001b[0m in \u001b[0;36m<module>\u001b[1;34m\u001b[0m\n\u001b[1;32m----> 1\u001b[1;33m \u001b[1;32mfrom\u001b[0m \u001b[0mekonlpy\u001b[0m\u001b[1;33m.\u001b[0m\u001b[0mtag\u001b[0m \u001b[1;32mimport\u001b[0m \u001b[0mMecab\u001b[0m\u001b[1;33m\u001b[0m\u001b[1;33m\u001b[0m\u001b[0m\n\u001b[0m",
      "\u001b[1;31mModuleNotFoundError\u001b[0m: No module named 'ekonlpy'"
     ]
    }
   ],
   "source": [
    "from ekonlpy.tag import Mecab"
   ]
  },
  {
   "cell_type": "code",
   "execution_count": 117,
   "metadata": {},
   "outputs": [
    {
     "ename": "SyntaxError",
     "evalue": "invalid syntax (<ipython-input-117-e4a81cffc7c8>, line 1)",
     "output_type": "error",
     "traceback": [
      "\u001b[1;36m  File \u001b[1;32m\"<ipython-input-117-e4a81cffc7c8>\"\u001b[1;36m, line \u001b[1;32m1\u001b[0m\n\u001b[1;33m    git clone 'https://github.com/entelecheia/eKoNLPy.git'\u001b[0m\n\u001b[1;37m            ^\u001b[0m\n\u001b[1;31mSyntaxError\u001b[0m\u001b[1;31m:\u001b[0m invalid syntax\n"
     ]
    }
   ],
   "source": [
    " git clone 'https://github.com/entelecheia/eKoNLPy.git'\n",
    "\n",
    " cd eKoNLPy\n",
    "\n",
    " pip install .\n",
    "\n",
    " pip install . --upgrade (for upgrade)"
   ]
  },
  {
   "cell_type": "code",
   "execution_count": null,
   "metadata": {},
   "outputs": [],
   "source": []
  }
 ],
 "metadata": {
  "kernelspec": {
   "display_name": "Python 3",
   "language": "python",
   "name": "python3"
  },
  "language_info": {
   "codemirror_mode": {
    "name": "ipython",
    "version": 3
   },
   "file_extension": ".py",
   "mimetype": "text/x-python",
   "name": "python",
   "nbconvert_exporter": "python",
   "pygments_lexer": "ipython3",
   "version": "3.7.3"
  }
 },
 "nbformat": 4,
 "nbformat_minor": 2
}
