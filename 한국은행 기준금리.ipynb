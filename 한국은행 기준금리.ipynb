{
 "cells": [
  {
   "cell_type": "code",
   "execution_count": 5,
   "metadata": {},
   "outputs": [],
   "source": [
    "import codecs\n",
    " \n",
    "한국은행= codecs.open('한국은행_기준금리.xlsx', 'r', encoding='utf-8')\n",
    "# outfile = codecs.open('yonhap.csv', 'w', encoding='euc_kr')\n",
    " \n",
    "# for line in infile:\n",
    "#      line = line.replace(u'\\xa0', ' ') \n",
    "#      outfile.write(line)\n",
    " \n",
    "# infile.close()\n",
    "# outfile.close()"
   ]
  },
  {
   "cell_type": "code",
   "execution_count": null,
   "metadata": {},
   "outputs": [],
   "source": []
  }
 ],
 "metadata": {
  "kernelspec": {
   "display_name": "Python 3",
   "language": "python",
   "name": "python3"
  },
  "language_info": {
   "codemirror_mode": {
    "name": "ipython",
    "version": 3
   },
   "file_extension": ".py",
   "mimetype": "text/x-python",
   "name": "python",
   "nbconvert_exporter": "python",
   "pygments_lexer": "ipython3",
   "version": "3.7.3"
  }
 },
 "nbformat": 4,
 "nbformat_minor": 2
}
