{
 "cells": [
  {
   "cell_type": "markdown",
   "metadata": {},
   "source": [
    "# 패키지 임포트"
   ]
  },
  {
   "cell_type": "code",
   "execution_count": 1,
   "metadata": {},
   "outputs": [],
   "source": [
    "import ldcc_forecast_01_1"
   ]
  },
  {
   "cell_type": "markdown",
   "metadata": {},
   "source": [
    "# 객체 생성"
   ]
  },
  {
   "cell_type": "code",
   "execution_count": 2,
   "metadata": {},
   "outputs": [
    {
     "name": "stdout",
     "output_type": "stream",
     "text": [
      "====================forecast 객체 생성======================\n",
      "forecast 객체 생성됐습니다.\n",
      "==========================================================\n"
     ]
    }
   ],
   "source": [
    "fcst = ldcc_forecast_01_1.ldccForecast()"
   ]
  },
  {
   "cell_type": "markdown",
   "metadata": {},
   "source": [
    "# Amazon Forecast, Forecastquery, S3 에 연동"
   ]
  },
  {
   "cell_type": "code",
   "execution_count": 3,
   "metadata": {},
   "outputs": [
    {
     "name": "stdout",
     "output_type": "stream",
     "text": [
      "======================forecast 연동=======================\n",
      "forecast에 연동됐습니다.\n",
      "연동된 region:   ap-northeast-2\n",
      "<botocore.client.ForecastService object at 0x7fe54b7ee5f8>\n",
      "=========================================================\n",
      "\n",
      "====================forecastquery 연동====================\n",
      "forecastquery에 연동됐습니다.\n",
      "연동된 region:   ap-northeast-2\n",
      "<botocore.client.ForecastQueryService object at 0x7fe54b7aacf8>\n",
      "=========================================================\n",
      "\n",
      "=========================s3 연동==========================\n",
      "s3에 연동됐습니다.\n",
      "<botocore.client.S3 object at 0x7fe54b5e5908>\n",
      "=========================================================\n",
      "\n"
     ]
    }
   ],
   "source": [
    "fcst.region_name = 'ap-northeast-2'\n",
    "#region_name = ['서울': 'ap-northeast-2', '싱가포르': 'ap-southeast-1']\n",
    "\n",
    "\n",
    "fcst.connect_aws()"
   ]
  },
  {
   "cell_type": "markdown",
   "metadata": {},
   "source": [
    "# IAM 설정"
   ]
  },
  {
   "cell_type": "code",
   "execution_count": 4,
   "metadata": {},
   "outputs": [
    {
     "name": "stdout",
     "output_type": "stream",
     "text": [
      "========================Role 생성=========================\n",
      "\n",
      "======================Role 이미 존재=======================\n",
      "RoleName: ForecastRoleDemo\n",
      "RoleArn: arn:aws:iam::461548484502:role/ForecastRoleDemo\n",
      "=========================================================\n",
      "\n"
     ]
    }
   ],
   "source": [
    "fcst.iam_config()"
   ]
  },
  {
   "cell_type": "markdown",
   "metadata": {},
   "source": [
    "# local data -> s3 업로드"
   ]
  },
  {
   "cell_type": "markdown",
   "metadata": {},
   "source": [
    "#### - target total 업로드"
   ]
  },
  {
   "cell_type": "code",
   "execution_count": 38,
   "metadata": {},
   "outputs": [],
   "source": [
    "# fcst.toS3BucketName = 'ldcc-cafeteria-01-bucket-bellship'\n",
    "# fcst.toS3Key = 'target_ts/target_total_0310_001.csv'\n",
    "# fcst.toS3LocalDataName = 'data/target_total_0310_001.csv'\n",
    "\n",
    "\n",
    "# fcst.upload_local_to_s3()"
   ]
  },
  {
   "cell_type": "markdown",
   "metadata": {},
   "source": [
    "#### - target train 업로드"
   ]
  },
  {
   "cell_type": "code",
   "execution_count": 39,
   "metadata": {},
   "outputs": [],
   "source": [
    "# fcst.toS3BucketName = 'ldcc-cafeteria-01-bucket-bellship'\n",
    "# fcst.toS3Key = 'target_ts/target_train_0310_001.csv'\n",
    "# fcst.toS3LocalDataName = 'data/target_train_0310_001.csv'\n",
    "\n",
    "\n",
    "# fcst.upload_local_to_s3()"
   ]
  },
  {
   "cell_type": "markdown",
   "metadata": {},
   "source": [
    "#### - target test 업로드"
   ]
  },
  {
   "cell_type": "code",
   "execution_count": 40,
   "metadata": {},
   "outputs": [],
   "source": [
    "# fcst.toS3BucketName = 'ldcc-cafeteria-01-bucket-bellship'\n",
    "# fcst.toS3Key = 'target_ts/target_test_0310_001.csv'\n",
    "# fcst.toS3LocalDataName = 'data/target_test_0310_001.csv'\n",
    "\n",
    "\n",
    "# fcst.upload_local_to_s3()"
   ]
  },
  {
   "cell_type": "markdown",
   "metadata": {},
   "source": [
    "#### - related total 업로드"
   ]
  },
  {
   "cell_type": "code",
   "execution_count": 8,
   "metadata": {},
   "outputs": [],
   "source": [
    "# fcst.toS3BucketName = 'ldcc-cafeteria-01-bucket-bellship'\n",
    "# fcst.toS3Key = 'related_ts/related_total_0325_001.csv'\n",
    "# fcst.toS3LocalDataName = 'data/related_total_0325_001.csv'\n",
    "\n",
    "\n",
    "# fcst.upload_local_to_s3()"
   ]
  },
  {
   "cell_type": "markdown",
   "metadata": {},
   "source": [
    "#### - related anova 업로드"
   ]
  },
  {
   "cell_type": "code",
   "execution_count": 9,
   "metadata": {},
   "outputs": [],
   "source": [
    "# fcst.toS3BucketName = 'ldcc-cafeteria-01-bucket-bellship'\n",
    "# fcst.toS3Key = 'related_ts/related_scaled.csv'\n",
    "# fcst.toS3LocalDataName = 'data/related_anova_0326_001.csv'\n",
    "\n",
    "\n",
    "# fcst.upload_local_to_s3()"
   ]
  },
  {
   "cell_type": "markdown",
   "metadata": {},
   "source": [
    "# S3에서 데이터 읽어오기"
   ]
  },
  {
   "cell_type": "markdown",
   "metadata": {},
   "source": [
    "#### - target TS train set 읽어오기"
   ]
  },
  {
   "cell_type": "code",
   "execution_count": 10,
   "metadata": {},
   "outputs": [],
   "source": [
    "# fcst.readS3BucketName = 'ldcc-cafeteria-01-bucket-bellship'\n",
    "# fcst.readS3Key = 'target_ts/target_train_0310_001.csv'\n",
    "\n",
    "\n",
    "# fcst.read_s3data()\n",
    "\n",
    "# train_df = fcst.df"
   ]
  },
  {
   "cell_type": "markdown",
   "metadata": {},
   "source": [
    "#### - target TS test set 읽어오기"
   ]
  },
  {
   "cell_type": "code",
   "execution_count": 11,
   "metadata": {},
   "outputs": [],
   "source": [
    "# fcst.readS3BucketName = 'ldcc-cafeteria-01-bucket-bellship'\n",
    "# fcst.readS3Key = 'target_ts/target_test_0310_001.csv'\n",
    "\n",
    "\n",
    "# fcst.read_s3data()\n",
    "\n",
    "# test_df = fcst.df"
   ]
  },
  {
   "cell_type": "markdown",
   "metadata": {},
   "source": [
    "#### - target TS total set 읽어오기"
   ]
  },
  {
   "cell_type": "code",
   "execution_count": 12,
   "metadata": {},
   "outputs": [],
   "source": [
    "# fcst.readS3BucketName = 'ldcc-cafeteria-01-bucket-bellship'\n",
    "# fcst.readS3Key = 'target_ts/target_total_0310_001.csv'\n",
    "\n",
    "\n",
    "# fcst.read_s3data()\n",
    "\n",
    "# total_df = fcst.df"
   ]
  },
  {
   "cell_type": "markdown",
   "metadata": {},
   "source": [
    "#### - related TS total 읽어오기"
   ]
  },
  {
   "cell_type": "code",
   "execution_count": 13,
   "metadata": {},
   "outputs": [],
   "source": [
    "# fcst.readS3BuckectName = 'ldcc-cafeteria-01-bucket-bellship'\n",
    "# fcst.readS3Key = 'related_ts/related_total_0326_001.csv'\n",
    "\n",
    "# fcst.read_s3data()\n",
    "\n",
    "# related_df = fcst.df    "
   ]
  },
  {
   "cell_type": "code",
   "execution_count": 14,
   "metadata": {},
   "outputs": [],
   "source": [
    "# # 불러온 csv를 local에 저장\n",
    "# related_df.to_csv('data/related_total_0326_001.csv', index=False)"
   ]
  },
  {
   "cell_type": "markdown",
   "metadata": {},
   "source": [
    "##### - related TS anova 읽어오기"
   ]
  },
  {
   "cell_type": "code",
   "execution_count": 15,
   "metadata": {},
   "outputs": [],
   "source": [
    "# fcst.readS3BuckectName = 'ldcc-cafeteria-01-bucket-bellship'\n",
    "# fcst.readS3Key = 'related_ts/related_anova_0326_001.csv'\n",
    "\n",
    "# fcst.read_s3data()\n",
    "\n",
    "# related_df = fcst.df    "
   ]
  },
  {
   "cell_type": "markdown",
   "metadata": {},
   "source": [
    "# DSG 생성"
   ]
  },
  {
   "cell_type": "code",
   "execution_count": 5,
   "metadata": {},
   "outputs": [
    {
     "name": "stdout",
     "output_type": "stream",
     "text": [
      "=======================DSG 생성하기========================\n",
      "\n",
      "==========================완료===========================\n",
      "datasetGroupName: dsg_0324_004\n",
      "datsetGroupArn: arn:aws:forecast:ap-northeast-2:461548484502:dataset-group/dsg_0324_004\n",
      "=========================================================\n",
      "\n",
      "======================DSG 설명============================\n",
      "{'DatasetGroupName': 'dsg_0324_004', 'DatasetGroupArn': 'arn:aws:forecast:ap-northeast-2:461548484502:dataset-group/dsg_0324_004', 'DatasetArns': [], 'Domain': 'CUSTOM', 'Status': 'ACTIVE', 'CreationTime': datetime.datetime(2020, 8, 14, 1, 48, 14, 5000, tzinfo=tzlocal()), 'LastModificationTime': datetime.datetime(2020, 8, 14, 1, 48, 14, 5000, tzinfo=tzlocal()), 'ResponseMetadata': {'RequestId': '815c45b8-ec20-475f-9d52-80f795fcb752', 'HTTPStatusCode': 200, 'HTTPHeaders': {'content-type': 'application/x-amz-json-1.1', 'date': 'Fri, 14 Aug 2020 01:48:14 GMT', 'x-amzn-requestid': '815c45b8-ec20-475f-9d52-80f795fcb752', 'content-length': '252', 'connection': 'keep-alive'}, 'RetryAttempts': 0}}\n",
      "=========================================================\n",
      "\n"
     ]
    }
   ],
   "source": [
    "fcst.datasetGroupName = 'dsg_0324_004'\n",
    "fcst.domain = 'CUSTOM'\n",
    "\n",
    "\n",
    "fcst.create_dsg()"
   ]
  },
  {
   "cell_type": "markdown",
   "metadata": {},
   "source": [
    "# DS 생성 - TargetTS"
   ]
  },
  {
   "cell_type": "markdown",
   "metadata": {},
   "source": [
    "#### - Target TS의 Schema 읽기"
   ]
  },
  {
   "cell_type": "code",
   "execution_count": 6,
   "metadata": {},
   "outputs": [
    {
     "name": "stdout",
     "output_type": "stream",
     "text": [
      "====================s3데이터 읽기=====================\n",
      "\n",
      "데이터 읽어온 S3 경로: ldcc-cafeteria-01-bucket-bellship/target_ts/target_total_0310_001.csv\n",
      "\n",
      "==============읽어온 df의 head===============\n",
      "   timestamp  target_value item_id\n",
      "0 2017-01-01             0   조식_소계\n",
      "1 2017-01-02            10   조식_소계\n",
      "2 2017-01-03            33   조식_소계\n",
      "3 2017-01-04            21   조식_소계\n",
      "4 2017-01-05            47   조식_소계\n",
      "===========================================\n",
      "\n",
      "===============읽어온 df의 tail==============\n",
      "      timestamp  target_value item_id\n",
      "3280 2019-12-27            41   석식_소계\n",
      "3281 2019-12-28             0   석식_소계\n",
      "3282 2019-12-29             0   석식_소계\n",
      "3283 2019-12-30            59   석식_소계\n",
      "3284 2019-12-31             0   석식_소계\n",
      "===========================================\n",
      "\n",
      "===============읽어온 df의 shape=============\n",
      "(3285, 3)\n",
      "===========================================\n",
      "\n",
      "===============읽어온 df의 columns===========\n",
      "Index(['timestamp', 'target_value', 'item_id'], dtype='object')\n",
      "===========================================\n",
      "==================================================\n",
      "\n",
      "\n",
      "==================데이터의 스키마 읽기=================\n",
      "==============읽어온 df의 스키마===============\n",
      "{'AttributeName': 'timestamp', 'AttributeType': 'timestamp'}\n",
      "\n",
      "{'AttributeName': 'target_value', 'AttributeType': 'integer'}\n",
      "\n",
      "{'AttributeName': 'item_id', 'AttributeType': 'string'}\n",
      "\n",
      " ... \n",
      "\n",
      "===========================================\n",
      "=================================================\n",
      "\n"
     ]
    }
   ],
   "source": [
    "# schema를 읽을 데이터프레임 임포트\n",
    "fcst.readS3BucketName = 'ldcc-cafeteria-01-bucket-bellship'\n",
    "fcst.readS3Key= 'target_ts/target_total_0310_001.csv'\n",
    "fcst.read_s3data()\n",
    "target_df = fcst.df\n",
    "\n",
    "# schema를 읽을 데이터프레임 선언\n",
    "fcst.schemaDF = target_df\n",
    "\n",
    "# schema 읽기\n",
    "fcst.read_schema()\n",
    "\n",
    "\n",
    "target_schema = fcst.schema"
   ]
  },
  {
   "cell_type": "markdown",
   "metadata": {},
   "source": [
    "### Target TS에 대한 DS 생성"
   ]
  },
  {
   "cell_type": "code",
   "execution_count": 7,
   "metadata": {},
   "outputs": [
    {
     "name": "stdout",
     "output_type": "stream",
     "text": [
      "===================DS 생성하기====================\n",
      "\n",
      "==============입력 가능한 DS Type=============\n",
      "{'DatasetType': ['TARGET_TIME_SERIES', 'RELATED_TIME_SERIES', 'ITEM_METADATA']}\n",
      "\n",
      " - 입력한 DS Type: TARGET_TIME_SERIES\n",
      "===========================================\n",
      "\n",
      "================DS 생성 정보=================\n",
      "datasetName: target_ts_0326_001\n",
      "datsetArn: arn:aws:forecast:ap-northeast-2:461548484502:dataset/target_ts_0326_001\n",
      "===========================================\n",
      "\n",
      "===================DS 설명===================\n",
      "{'CreationTime': datetime.datetime(2020, 8, 14, 1, 48, 20, 379000, tzinfo=tzlocal()),\n",
      " 'DataFrequency': 'D',\n",
      " 'DatasetArn': 'arn:aws:forecast:ap-northeast-2:461548484502:dataset/target_ts_0326_001',\n",
      " 'DatasetName': 'target_ts_0326_001',\n",
      " 'DatasetType': 'TARGET_TIME_SERIES',\n",
      " 'Domain': 'CUSTOM',\n",
      " 'EncryptionConfig': {},\n",
      " 'LastModificationTime': datetime.datetime(2020, 8, 14, 1, 48, 20, 379000, tzinfo=tzlocal()),\n",
      " 'ResponseMetadata': {'HTTPHeaders': {'connection': 'keep-alive',\n",
      "                                      'content-length': '504',\n",
      "                                      'content-type': 'application/x-amz-json-1.1',\n",
      "                                      'date': 'Fri, 14 Aug 2020 01:48:20 GMT',\n",
      "                                      'x-amzn-requestid': '6987bc29-4750-4e44-856e-63fa4d357dfe'},\n",
      "                      'HTTPStatusCode': 200,\n",
      "                      'RequestId': '6987bc29-4750-4e44-856e-63fa4d357dfe',\n",
      "                      'RetryAttempts': 0},\n",
      " 'Schema': {'Attributes': [{'AttributeName': 'timestamp',\n",
      "                            'AttributeType': 'timestamp'},\n",
      "                           {'AttributeName': 'target_value',\n",
      "                            'AttributeType': 'integer'},\n",
      "                           {'AttributeName': 'item_id',\n",
      "                            'AttributeType': 'string'}]},\n",
      " 'Status': 'ACTIVE'}\n",
      "============================================\n",
      "\n"
     ]
    }
   ],
   "source": [
    "fcst.domain = 'CUSTOM'\n",
    "\n",
    "# ===입력 가능한 DS Type===\n",
    "# {'DatasetType': ['TARGET_TIME_SERIES', 'RELATED_TIME_SERIES', 'ITEM_METADATA']}\n",
    "fcst.datasetType='TARGET_TIME_SERIES'\n",
    "fcst.datasetName='target_ts_0326_001'\n",
    "fcst.datasetFrequency='D'\n",
    "fcst.schema=fcst.schema\n",
    "\n",
    "\n",
    "fcst.create_ds()"
   ]
  },
  {
   "cell_type": "markdown",
   "metadata": {},
   "source": [
    "### Target TS에 대한 DSG->DS 추가"
   ]
  },
  {
   "cell_type": "code",
   "execution_count": 8,
   "metadata": {},
   "outputs": [
    {
     "name": "stdout",
     "output_type": "stream",
     "text": [
      "===============DSG에 DS 추가하기================\n",
      "\n",
      "=============DSG에 연결된 DS List==============\n",
      "datasetArnList:  ['arn:aws:forecast:ap-northeast-2:461548484502:dataset/target_ts_0326_001']\n",
      "=============================================\n",
      "\n"
     ]
    }
   ],
   "source": [
    "fcst.add_ds_to_dsg()"
   ]
  },
  {
   "cell_type": "markdown",
   "metadata": {},
   "source": [
    "### Target TS에 대한 S3 -> DS 로 데이터 임포트"
   ]
  },
  {
   "cell_type": "code",
   "execution_count": 9,
   "metadata": {},
   "outputs": [
    {
     "name": "stdout",
     "output_type": "stream",
     "text": [
      "===================DS에 데이터 임포트====================\n",
      "\n",
      "============DS에 데이터 임포트 정보===========\n",
      "s3DataPath: s3://ldcc-cafeteria-01-bucket-bellship/target_ts/target_train_0310_001.csv\n",
      "dsImportJobName: TargetTSImportJob_0326_001\n",
      "dsImportJobArn: arn:aws:forecast:ap-northeast-2:461548484502:dataset-import-job/target_ts_0326_001/TargetTSImportJob_0326_001\n",
      "=========================================\n",
      "\n",
      "CREATE_PENDING\n",
      "CREATE_IN_PROGRESS\n",
      "CREATE_IN_PROGRESS\n",
      "CREATE_IN_PROGRESS\n",
      "CREATE_IN_PROGRESS\n",
      "CREATE_IN_PROGRESS\n",
      "CREATE_IN_PROGRESS\n",
      "CREATE_IN_PROGRESS\n",
      "CREATE_IN_PROGRESS\n",
      "CREATE_IN_PROGRESS\n",
      "CREATE_IN_PROGRESS\n",
      "CREATE_IN_PROGRESS\n",
      "CREATE_IN_PROGRESS\n",
      "CREATE_IN_PROGRESS\n",
      "ACTIVE\n",
      "=============ds_import_job 설명==============\n",
      "{'DatasetImportJobName': 'TargetTSImportJob_0326_001', 'DatasetImportJobArn': 'arn:aws:forecast:ap-northeast-2:461548484502:dataset-import-job/target_ts_0326_001/TargetTSImportJob_0326_001', 'DatasetArn': 'arn:aws:forecast:ap-northeast-2:461548484502:dataset/target_ts_0326_001', 'TimestampFormat': 'yyyy-MM-dd', 'DataSource': {'S3Config': {'Path': 's3://ldcc-cafeteria-01-bucket-bellship/target_ts/target_train_0310_001.csv', 'RoleArn': 'arn:aws:iam::461548484502:role/ForecastRoleDemo'}}, 'FieldStatistics': {'item_id': {'Count': 3192, 'CountDistinct': 3, 'CountNull': 0}, 'target_value': {'Count': 3192, 'CountDistinct': 452, 'CountNull': 0, 'CountNan': 0, 'Min': '0', 'Max': '551', 'Avg': 102.15538847117794, 'Stddev': 131.57805905376267}, 'timestamp': {'Count': 3192, 'CountDistinct': 1064, 'CountNull': 0, 'Min': '2017-01-01T00:00:00Z', 'Max': '2019-11-30T00:00:00Z'}}, 'DataSize': 8.331611752510071e-05, 'Status': 'ACTIVE', 'CreationTime': datetime.datetime(2020, 8, 14, 1, 48, 28, 535000, tzinfo=tzlocal()), 'LastModificationTime': datetime.datetime(2020, 8, 14, 1, 55, 20, 424000, tzinfo=tzlocal()), 'ResponseMetadata': {'RequestId': '11ceee16-dd41-48ac-b998-75084cb46957', 'HTTPStatusCode': 200, 'HTTPHeaders': {'content-type': 'application/x-amz-json-1.1', 'date': 'Fri, 14 Aug 2020 01:55:29 GMT', 'x-amzn-requestid': '11ceee16-dd41-48ac-b998-75084cb46957', 'content-length': '1172', 'connection': 'keep-alive'}, 'RetryAttempts': 0}}\n",
      "============================================\n",
      "\n"
     ]
    }
   ],
   "source": [
    "fcst.datasetImportJobName = 'TargetTSImportJob_0326_001'\n",
    "# fcst.datasetArn\n",
    "fcst.s3DataPath = 's3://ldcc-cafeteria-01-bucket-bellship/target_ts/target_train_0310_001.csv'\n",
    "# fcst.role_arn\n",
    "fcst.timestampFormat = 'yyyy-MM-dd'\n",
    "\n",
    "\n",
    "fcst.ds_import_job()"
   ]
  },
  {
   "cell_type": "code",
   "execution_count": 19,
   "metadata": {},
   "outputs": [],
   "source": [
    "import pandas as pd\n",
    "df.to_csv('urgent.csv',index=False)"
   ]
  },
  {
   "cell_type": "code",
   "execution_count": 17,
   "metadata": {},
   "outputs": [],
   "source": [
    "df=df[['timestamp', 'target_value', 'rainfall', 'temperature', 'abnormal',\n",
    "       'holiday', 'before_holiday', 'after_holiday', 'dayofweek_median',\n",
    "       'day_sin','item_id']]"
   ]
  },
  {
   "cell_type": "markdown",
   "metadata": {},
   "source": [
    "# DS 생성 - RelatedTS"
   ]
  },
  {
   "cell_type": "markdown",
   "metadata": {},
   "source": [
    "#### - Related TS의 Schema 읽기"
   ]
  },
  {
   "cell_type": "code",
   "execution_count": 10,
   "metadata": {},
   "outputs": [
    {
     "name": "stdout",
     "output_type": "stream",
     "text": [
      "====================s3데이터 읽기=====================\n",
      "\n",
      "데이터 읽어온 S3 경로: ldcc-cafeteria-01-bucket-bellship/related_ts/input_data_set.csv\n",
      "\n",
      "==============읽어온 df의 head===============\n",
      "   timestamp  target_value  rainfall  temperature  abnormal  holiday  \\\n",
      "0 2017-01-01           0.0       0.0          5.5       0.0      0.0   \n",
      "1 2017-01-02         360.0       0.3          4.8       0.0      0.0   \n",
      "2 2017-01-03         376.0       0.0          2.9       0.0      0.0   \n",
      "3 2017-01-04         396.0       0.0          3.7       0.0      0.0   \n",
      "4 2017-01-05         367.0       0.0          6.7       0.0      0.0   \n",
      "\n",
      "   before_holiday  after_holiday  dayofweek_median       day_sin  \\\n",
      "0             0.0            0.0               0.0 -2.450000e-16   \n",
      "1             0.0            0.0             353.5  7.818315e-01   \n",
      "2             0.0            0.0             330.5  9.749279e-01   \n",
      "3             0.0            0.0             311.0  4.338837e-01   \n",
      "4             0.0            0.0             326.0 -4.338837e-01   \n",
      "\n",
      "                            menu     menu_nouns menu_origin menu_nouns2  \\\n",
      "0                            NaN            NaN         NaN         NaN   \n",
      "1                모듬생선구이<가자미, 꽁치>  모듬생선구이 가자미 꽁치         NaN      모듬생선구이   \n",
      "2               돈육단호박찜 (돈육: 미국산)         돈육단호박찜        돼지고기      돈육단호박찜   \n",
      "3  기츠동 (돈육: 국내산, 배추:국내, 고추분: 중국)            기츠동     돼지고기 배추         가츠동   \n",
      "4     쑥갓동태알탕 (동태: 러시아, 대구고니: 미국)         쑥갓동태알탕  동태 대구고니 미국          알탕   \n",
      "\n",
      "   scaled_target  weekday  same_menu item_id  \n",
      "0       1.000000      6.0   0.000000    중식소계  \n",
      "1       1.653358      0.0   1.575318    중식소계  \n",
      "2       1.682396      1.0   1.575228    중식소계  \n",
      "3       1.718693      2.0   1.575104    중식소계  \n",
      "4       1.666062      3.0   1.574938    중식소계  \n",
      "===========================================\n",
      "\n",
      "===============읽어온 df의 tail==============\n",
      "      timestamp  target_value  rainfall  temperature  abnormal  holiday  \\\n",
      "1303 2020-07-27         392.0       2.2         25.5       0.0      0.0   \n",
      "1304 2020-07-28         244.0       0.4         26.4       0.0      0.0   \n",
      "1305 2020-07-29         287.0      50.1         24.9       0.0      0.0   \n",
      "1306 2020-07-30         254.0       0.1         28.4       1.0      0.0   \n",
      "1307 2020-07-31           0.0       2.6         29.0       1.0      0.0   \n",
      "\n",
      "      before_holiday  after_holiday  dayofweek_median   day_sin  menu  \\\n",
      "1303             0.0            0.0             353.5  0.781831  김치찌개   \n",
      "1304             0.0            0.0             330.5  0.974928    찜닭   \n",
      "1305             0.0            0.0             311.0  0.433884   순대국   \n",
      "1306             0.0            0.0             326.0 -0.433884   영양밥   \n",
      "1307             0.0            0.0             192.0 -0.974928   NaN   \n",
      "\n",
      "     menu_nouns menu_origin menu_nouns2  scaled_target  weekday  same_menu  \\\n",
      "1303       김치찌개         NaN        김치찌개       1.711434      0.0   1.534029   \n",
      "1304         찜닭         NaN          찜닭       1.442831      1.0   1.474894   \n",
      "1305        순대국         NaN         순대국       1.520871      2.0   1.490926   \n",
      "1306        영양밥         NaN         영양밥       1.460980      3.0   1.460980   \n",
      "1307        NaN         NaN         NaN       1.000000      4.0   0.000000   \n",
      "\n",
      "     item_id  \n",
      "1303    중식소계  \n",
      "1304    중식소계  \n",
      "1305    중식소계  \n",
      "1306    중식소계  \n",
      "1307    중식소계  \n",
      "===========================================\n",
      "\n",
      "===============읽어온 df의 shape=============\n",
      "(1308, 18)\n",
      "===========================================\n",
      "\n",
      "===============읽어온 df의 columns===========\n",
      "Index(['timestamp', 'target_value', 'rainfall', 'temperature', 'abnormal',\n",
      "       'holiday', 'before_holiday', 'after_holiday', 'dayofweek_median',\n",
      "       'day_sin', 'menu', 'menu_nouns', 'menu_origin', 'menu_nouns2',\n",
      "       'scaled_target', 'weekday', 'same_menu', 'item_id'],\n",
      "      dtype='object')\n",
      "===========================================\n",
      "==================================================\n",
      "\n",
      "\n",
      "==================데이터의 스키마 읽기=================\n"
     ]
    },
    {
     "ename": "ValueError",
     "evalue": "malformed node or string: <_ast.Name object at 0x7fe54ac6da90>",
     "output_type": "error",
     "traceback": [
      "\u001b[0;31m\u001b[0m",
      "\u001b[0;31mValueError\u001b[0mTraceback (most recent call last)",
      "\u001b[0;32m<ipython-input-10-765743217931>\u001b[0m in \u001b[0;36m<module>\u001b[0;34m\u001b[0m\n\u001b[1;32m      9\u001b[0m \u001b[0;34m\u001b[0m\u001b[0m\n\u001b[1;32m     10\u001b[0m \u001b[0;31m# schema 읽기\u001b[0m\u001b[0;34m\u001b[0m\u001b[0;34m\u001b[0m\u001b[0;34m\u001b[0m\u001b[0m\n\u001b[0;32m---> 11\u001b[0;31m \u001b[0mfcst\u001b[0m\u001b[0;34m.\u001b[0m\u001b[0mread_schema\u001b[0m\u001b[0;34m(\u001b[0m\u001b[0;34m)\u001b[0m\u001b[0;34m\u001b[0m\u001b[0;34m\u001b[0m\u001b[0m\n\u001b[0m\u001b[1;32m     12\u001b[0m \u001b[0;34m\u001b[0m\u001b[0m\n\u001b[1;32m     13\u001b[0m \u001b[0;34m\u001b[0m\u001b[0m\n",
      "\u001b[0;32m~/forecast-ksj/식수 (stop)/ldcc_forecast_01_1.py\u001b[0m in \u001b[0;36mread_schema\u001b[0;34m(self)\u001b[0m\n\u001b[1;32m    336\u001b[0m \u001b[0;34m\u001b[0m\u001b[0m\n\u001b[1;32m    337\u001b[0m         \u001b[0;31m# 칼럼만 추출하여 '스키마' 딕셔너리 생성\u001b[0m\u001b[0;34m\u001b[0m\u001b[0;34m\u001b[0m\u001b[0;34m\u001b[0m\u001b[0m\n\u001b[0;32m--> 338\u001b[0;31m         \u001b[0mdf_schema\u001b[0m \u001b[0;34m=\u001b[0m \u001b[0mast\u001b[0m\u001b[0;34m.\u001b[0m\u001b[0mliteral_eval\u001b[0m\u001b[0;34m(\u001b[0m\u001b[0mjsn\u001b[0m\u001b[0;34m)\u001b[0m\u001b[0;34m\u001b[0m\u001b[0;34m\u001b[0m\u001b[0m\n\u001b[0m\u001b[1;32m    339\u001b[0m         \u001b[0mschema_dict\u001b[0m \u001b[0;34m=\u001b[0m \u001b[0mdf_schema\u001b[0m\u001b[0;34m[\u001b[0m\u001b[0;34m'schema'\u001b[0m\u001b[0;34m]\u001b[0m\u001b[0;34m[\u001b[0m\u001b[0;34m'fields'\u001b[0m\u001b[0;34m]\u001b[0m\u001b[0;34m[\u001b[0m\u001b[0;36m1\u001b[0m\u001b[0;34m:\u001b[0m\u001b[0;34m]\u001b[0m\u001b[0;34m\u001b[0m\u001b[0;34m\u001b[0m\u001b[0m\n\u001b[1;32m    340\u001b[0m \u001b[0;34m\u001b[0m\u001b[0m\n",
      "\u001b[0;32m/usr/lib/python3.6/ast.py\u001b[0m in \u001b[0;36mliteral_eval\u001b[0;34m(node_or_string)\u001b[0m\n\u001b[1;32m     83\u001b[0m                     \u001b[0;32mreturn\u001b[0m \u001b[0mleft\u001b[0m \u001b[0;34m-\u001b[0m \u001b[0mright\u001b[0m\u001b[0;34m\u001b[0m\u001b[0;34m\u001b[0m\u001b[0m\n\u001b[1;32m     84\u001b[0m         \u001b[0;32mraise\u001b[0m \u001b[0mValueError\u001b[0m\u001b[0;34m(\u001b[0m\u001b[0;34m'malformed node or string: '\u001b[0m \u001b[0;34m+\u001b[0m \u001b[0mrepr\u001b[0m\u001b[0;34m(\u001b[0m\u001b[0mnode\u001b[0m\u001b[0;34m)\u001b[0m\u001b[0;34m)\u001b[0m\u001b[0;34m\u001b[0m\u001b[0;34m\u001b[0m\u001b[0m\n\u001b[0;32m---> 85\u001b[0;31m     \u001b[0;32mreturn\u001b[0m \u001b[0m_convert\u001b[0m\u001b[0;34m(\u001b[0m\u001b[0mnode_or_string\u001b[0m\u001b[0;34m)\u001b[0m\u001b[0;34m\u001b[0m\u001b[0;34m\u001b[0m\u001b[0m\n\u001b[0m\u001b[1;32m     86\u001b[0m \u001b[0;34m\u001b[0m\u001b[0m\n\u001b[1;32m     87\u001b[0m \u001b[0;34m\u001b[0m\u001b[0m\n",
      "\u001b[0;32m/usr/lib/python3.6/ast.py\u001b[0m in \u001b[0;36m_convert\u001b[0;34m(node)\u001b[0m\n\u001b[1;32m     64\u001b[0m         \u001b[0;32melif\u001b[0m \u001b[0misinstance\u001b[0m\u001b[0;34m(\u001b[0m\u001b[0mnode\u001b[0m\u001b[0;34m,\u001b[0m \u001b[0mDict\u001b[0m\u001b[0;34m)\u001b[0m\u001b[0;34m:\u001b[0m\u001b[0;34m\u001b[0m\u001b[0;34m\u001b[0m\u001b[0m\n\u001b[1;32m     65\u001b[0m             return dict((_convert(k), _convert(v)) for k, v\n\u001b[0;32m---> 66\u001b[0;31m                         in zip(node.keys, node.values))\n\u001b[0m\u001b[1;32m     67\u001b[0m         \u001b[0;32melif\u001b[0m \u001b[0misinstance\u001b[0m\u001b[0;34m(\u001b[0m\u001b[0mnode\u001b[0m\u001b[0;34m,\u001b[0m \u001b[0mNameConstant\u001b[0m\u001b[0;34m)\u001b[0m\u001b[0;34m:\u001b[0m\u001b[0;34m\u001b[0m\u001b[0;34m\u001b[0m\u001b[0m\n\u001b[1;32m     68\u001b[0m             \u001b[0;32mreturn\u001b[0m \u001b[0mnode\u001b[0m\u001b[0;34m.\u001b[0m\u001b[0mvalue\u001b[0m\u001b[0;34m\u001b[0m\u001b[0;34m\u001b[0m\u001b[0m\n",
      "\u001b[0;32m/usr/lib/python3.6/ast.py\u001b[0m in \u001b[0;36m<genexpr>\u001b[0;34m(.0)\u001b[0m\n\u001b[1;32m     63\u001b[0m             \u001b[0;32mreturn\u001b[0m \u001b[0mset\u001b[0m\u001b[0;34m(\u001b[0m\u001b[0mmap\u001b[0m\u001b[0;34m(\u001b[0m\u001b[0m_convert\u001b[0m\u001b[0;34m,\u001b[0m \u001b[0mnode\u001b[0m\u001b[0;34m.\u001b[0m\u001b[0melts\u001b[0m\u001b[0;34m)\u001b[0m\u001b[0;34m)\u001b[0m\u001b[0;34m\u001b[0m\u001b[0;34m\u001b[0m\u001b[0m\n\u001b[1;32m     64\u001b[0m         \u001b[0;32melif\u001b[0m \u001b[0misinstance\u001b[0m\u001b[0;34m(\u001b[0m\u001b[0mnode\u001b[0m\u001b[0;34m,\u001b[0m \u001b[0mDict\u001b[0m\u001b[0;34m)\u001b[0m\u001b[0;34m:\u001b[0m\u001b[0;34m\u001b[0m\u001b[0;34m\u001b[0m\u001b[0m\n\u001b[0;32m---> 65\u001b[0;31m             return dict((_convert(k), _convert(v)) for k, v\n\u001b[0m\u001b[1;32m     66\u001b[0m                         in zip(node.keys, node.values))\n\u001b[1;32m     67\u001b[0m         \u001b[0;32melif\u001b[0m \u001b[0misinstance\u001b[0m\u001b[0;34m(\u001b[0m\u001b[0mnode\u001b[0m\u001b[0;34m,\u001b[0m \u001b[0mNameConstant\u001b[0m\u001b[0;34m)\u001b[0m\u001b[0;34m:\u001b[0m\u001b[0;34m\u001b[0m\u001b[0;34m\u001b[0m\u001b[0m\n",
      "\u001b[0;32m/usr/lib/python3.6/ast.py\u001b[0m in \u001b[0;36m_convert\u001b[0;34m(node)\u001b[0m\n\u001b[1;32m     59\u001b[0m             \u001b[0;32mreturn\u001b[0m \u001b[0mtuple\u001b[0m\u001b[0;34m(\u001b[0m\u001b[0mmap\u001b[0m\u001b[0;34m(\u001b[0m\u001b[0m_convert\u001b[0m\u001b[0;34m,\u001b[0m \u001b[0mnode\u001b[0m\u001b[0;34m.\u001b[0m\u001b[0melts\u001b[0m\u001b[0;34m)\u001b[0m\u001b[0;34m)\u001b[0m\u001b[0;34m\u001b[0m\u001b[0;34m\u001b[0m\u001b[0m\n\u001b[1;32m     60\u001b[0m         \u001b[0;32melif\u001b[0m \u001b[0misinstance\u001b[0m\u001b[0;34m(\u001b[0m\u001b[0mnode\u001b[0m\u001b[0;34m,\u001b[0m \u001b[0mList\u001b[0m\u001b[0;34m)\u001b[0m\u001b[0;34m:\u001b[0m\u001b[0;34m\u001b[0m\u001b[0;34m\u001b[0m\u001b[0m\n\u001b[0;32m---> 61\u001b[0;31m             \u001b[0;32mreturn\u001b[0m \u001b[0mlist\u001b[0m\u001b[0;34m(\u001b[0m\u001b[0mmap\u001b[0m\u001b[0;34m(\u001b[0m\u001b[0m_convert\u001b[0m\u001b[0;34m,\u001b[0m \u001b[0mnode\u001b[0m\u001b[0;34m.\u001b[0m\u001b[0melts\u001b[0m\u001b[0;34m)\u001b[0m\u001b[0;34m)\u001b[0m\u001b[0;34m\u001b[0m\u001b[0;34m\u001b[0m\u001b[0m\n\u001b[0m\u001b[1;32m     62\u001b[0m         \u001b[0;32melif\u001b[0m \u001b[0misinstance\u001b[0m\u001b[0;34m(\u001b[0m\u001b[0mnode\u001b[0m\u001b[0;34m,\u001b[0m \u001b[0mSet\u001b[0m\u001b[0;34m)\u001b[0m\u001b[0;34m:\u001b[0m\u001b[0;34m\u001b[0m\u001b[0;34m\u001b[0m\u001b[0m\n\u001b[1;32m     63\u001b[0m             \u001b[0;32mreturn\u001b[0m \u001b[0mset\u001b[0m\u001b[0;34m(\u001b[0m\u001b[0mmap\u001b[0m\u001b[0;34m(\u001b[0m\u001b[0m_convert\u001b[0m\u001b[0;34m,\u001b[0m \u001b[0mnode\u001b[0m\u001b[0;34m.\u001b[0m\u001b[0melts\u001b[0m\u001b[0;34m)\u001b[0m\u001b[0;34m)\u001b[0m\u001b[0;34m\u001b[0m\u001b[0;34m\u001b[0m\u001b[0m\n",
      "\u001b[0;32m/usr/lib/python3.6/ast.py\u001b[0m in \u001b[0;36m_convert\u001b[0;34m(node)\u001b[0m\n\u001b[1;32m     64\u001b[0m         \u001b[0;32melif\u001b[0m \u001b[0misinstance\u001b[0m\u001b[0;34m(\u001b[0m\u001b[0mnode\u001b[0m\u001b[0;34m,\u001b[0m \u001b[0mDict\u001b[0m\u001b[0;34m)\u001b[0m\u001b[0;34m:\u001b[0m\u001b[0;34m\u001b[0m\u001b[0;34m\u001b[0m\u001b[0m\n\u001b[1;32m     65\u001b[0m             return dict((_convert(k), _convert(v)) for k, v\n\u001b[0;32m---> 66\u001b[0;31m                         in zip(node.keys, node.values))\n\u001b[0m\u001b[1;32m     67\u001b[0m         \u001b[0;32melif\u001b[0m \u001b[0misinstance\u001b[0m\u001b[0;34m(\u001b[0m\u001b[0mnode\u001b[0m\u001b[0;34m,\u001b[0m \u001b[0mNameConstant\u001b[0m\u001b[0;34m)\u001b[0m\u001b[0;34m:\u001b[0m\u001b[0;34m\u001b[0m\u001b[0;34m\u001b[0m\u001b[0m\n\u001b[1;32m     68\u001b[0m             \u001b[0;32mreturn\u001b[0m \u001b[0mnode\u001b[0m\u001b[0;34m.\u001b[0m\u001b[0mvalue\u001b[0m\u001b[0;34m\u001b[0m\u001b[0;34m\u001b[0m\u001b[0m\n",
      "\u001b[0;32m/usr/lib/python3.6/ast.py\u001b[0m in \u001b[0;36m<genexpr>\u001b[0;34m(.0)\u001b[0m\n\u001b[1;32m     63\u001b[0m             \u001b[0;32mreturn\u001b[0m \u001b[0mset\u001b[0m\u001b[0;34m(\u001b[0m\u001b[0mmap\u001b[0m\u001b[0;34m(\u001b[0m\u001b[0m_convert\u001b[0m\u001b[0;34m,\u001b[0m \u001b[0mnode\u001b[0m\u001b[0;34m.\u001b[0m\u001b[0melts\u001b[0m\u001b[0;34m)\u001b[0m\u001b[0;34m)\u001b[0m\u001b[0;34m\u001b[0m\u001b[0;34m\u001b[0m\u001b[0m\n\u001b[1;32m     64\u001b[0m         \u001b[0;32melif\u001b[0m \u001b[0misinstance\u001b[0m\u001b[0;34m(\u001b[0m\u001b[0mnode\u001b[0m\u001b[0;34m,\u001b[0m \u001b[0mDict\u001b[0m\u001b[0;34m)\u001b[0m\u001b[0;34m:\u001b[0m\u001b[0;34m\u001b[0m\u001b[0;34m\u001b[0m\u001b[0m\n\u001b[0;32m---> 65\u001b[0;31m             return dict((_convert(k), _convert(v)) for k, v\n\u001b[0m\u001b[1;32m     66\u001b[0m                         in zip(node.keys, node.values))\n\u001b[1;32m     67\u001b[0m         \u001b[0;32melif\u001b[0m \u001b[0misinstance\u001b[0m\u001b[0;34m(\u001b[0m\u001b[0mnode\u001b[0m\u001b[0;34m,\u001b[0m \u001b[0mNameConstant\u001b[0m\u001b[0;34m)\u001b[0m\u001b[0;34m:\u001b[0m\u001b[0;34m\u001b[0m\u001b[0;34m\u001b[0m\u001b[0m\n",
      "\u001b[0;32m/usr/lib/python3.6/ast.py\u001b[0m in \u001b[0;36m_convert\u001b[0;34m(node)\u001b[0m\n\u001b[1;32m     82\u001b[0m                 \u001b[0;32melse\u001b[0m\u001b[0;34m:\u001b[0m\u001b[0;34m\u001b[0m\u001b[0;34m\u001b[0m\u001b[0m\n\u001b[1;32m     83\u001b[0m                     \u001b[0;32mreturn\u001b[0m \u001b[0mleft\u001b[0m \u001b[0;34m-\u001b[0m \u001b[0mright\u001b[0m\u001b[0;34m\u001b[0m\u001b[0;34m\u001b[0m\u001b[0m\n\u001b[0;32m---> 84\u001b[0;31m         \u001b[0;32mraise\u001b[0m \u001b[0mValueError\u001b[0m\u001b[0;34m(\u001b[0m\u001b[0;34m'malformed node or string: '\u001b[0m \u001b[0;34m+\u001b[0m \u001b[0mrepr\u001b[0m\u001b[0;34m(\u001b[0m\u001b[0mnode\u001b[0m\u001b[0;34m)\u001b[0m\u001b[0;34m)\u001b[0m\u001b[0;34m\u001b[0m\u001b[0;34m\u001b[0m\u001b[0m\n\u001b[0m\u001b[1;32m     85\u001b[0m     \u001b[0;32mreturn\u001b[0m \u001b[0m_convert\u001b[0m\u001b[0;34m(\u001b[0m\u001b[0mnode_or_string\u001b[0m\u001b[0;34m)\u001b[0m\u001b[0;34m\u001b[0m\u001b[0;34m\u001b[0m\u001b[0m\n\u001b[1;32m     86\u001b[0m \u001b[0;34m\u001b[0m\u001b[0m\n",
      "\u001b[0;31mValueError\u001b[0m: malformed node or string: <_ast.Name object at 0x7fe54ac6da90>"
     ]
    }
   ],
   "source": [
    "# schema를 읽을 데이터프레임 임포트\n",
    "fcst.readS3BucketName = 'ldcc-cafeteria-01-bucket-bellship'\n",
    "fcst.readS3Key= 'related_ts/input_data_set.csv'\n",
    "fcst.read_s3data()\n",
    "related_df = fcst.df\n",
    "\n",
    "# schema를 읽을 데이터프레임 선언\n",
    "fcst.schemaDF = related_df\n",
    "\n",
    "# schema 읽기\n",
    "fcst.read_schema()\n",
    "\n",
    "\n",
    "relateed_schema = fcst.schema"
   ]
  },
  {
   "cell_type": "markdown",
   "metadata": {},
   "source": [
    "### Related TS에 대한 DS 생성"
   ]
  },
  {
   "cell_type": "code",
   "execution_count": null,
   "metadata": {},
   "outputs": [],
   "source": [
    "fcst.domain = 'CUSTOM'\n",
    "\n",
    "# ===입력 가능한 DS Type===\n",
    "# {'DatasetType': ['TARGET_TIME_SERIES', 'RELATED_TIME_SERIES', 'ITEM_METADATA']}\n",
    "fcst.datasetType='RELATED_TIME_SERIES'\n",
    "fcst.datasetName='related_ts_0326_001'\n",
    "fcst.datasetFrequency='D'\n",
    "fcst.schema=fcst.schema\n",
    "\n",
    "\n",
    "fcst.create_ds()"
   ]
  },
  {
   "cell_type": "markdown",
   "metadata": {},
   "source": [
    "### Related TS에 대한 DSG->DS 추가"
   ]
  },
  {
   "cell_type": "code",
   "execution_count": null,
   "metadata": {},
   "outputs": [],
   "source": [
    "fcst.add_ds_to_dsg()"
   ]
  },
  {
   "cell_type": "markdown",
   "metadata": {},
   "source": [
    "### Related TS에 대한 S3 -> DS 로 데이터 임포트"
   ]
  },
  {
   "cell_type": "code",
   "execution_count": null,
   "metadata": {},
   "outputs": [],
   "source": [
    "fcst.datasetImportJobName = 'RelatedTSImportJob_0326_001'\n",
    "# fcst.datasetArn\n",
    "fcst.s3DataPath = 's3://ldcc-cafeteria-01-bucket-bellship/related_ts/related_scaled.csv'\n",
    "# fcst.role_arn\n",
    "fcst.timestampFormat = 'yyyy-MM-dd'\n",
    "\n",
    "\n",
    "fcst.ds_import_job()"
   ]
  },
  {
   "cell_type": "markdown",
   "metadata": {},
   "source": [
    "# Predictor 생성"
   ]
  },
  {
   "cell_type": "markdown",
   "metadata": {},
   "source": [
    "### - Predictor 생성: AutoML 기반 "
   ]
  },
  {
   "cell_type": "code",
   "execution_count": null,
   "metadata": {},
   "outputs": [],
   "source": [
    "# fcst.datasetGroupArn\n",
    "fcst.predictorName= 'withRelatedTS_AutoML_fh31_0326_02'\n",
    "# fcst.algorithmArn= 'arn:aws:forecast:::algorithm/Deep_AR_Plus'  \n",
    "fcst.forecastHorizon= 14\n",
    "fcst.numberOfBackTestWindows= 5\n",
    "fcst.backTestWindowOffset= 14\n",
    "fcst.performAutoML= True\n",
    "fcst.performHPO= False\n",
    "fcst.datasetFrequency='D'\n",
    "\n",
    "\n",
    "fcst.create_predictor()"
   ]
  },
  {
   "cell_type": "markdown",
   "metadata": {},
   "source": [
    "### - Predictor 생성: DeepAR x"
   ]
  },
  {
   "cell_type": "code",
   "execution_count": null,
   "metadata": {},
   "outputs": [],
   "source": [
    "# # fcst.datasetGroupArn\n",
    "# fcst.predictorName= 'withRelatedTS_Prophet_fh_31_0326_02'\n",
    "# fcst.algorithmArn= 'arn:aws:forecast:::algorithm/Prophet'  \n",
    "# fcst.forecastHorizon= 31\n",
    "# fcst.numberOfBackTestWindows= 5\n",
    "# fcst.backTestWindowOffset= 31\n",
    "# fcst.performAutoML= False\n",
    "# fcst.performHPO= False\n",
    "# fcst.datasetFrequency='D'\n",
    "\n",
    "\n",
    "# fcst.create_predictor()"
   ]
  },
  {
   "cell_type": "markdown",
   "metadata": {},
   "source": [
    "### - Predictor 생성: DeepAR O, HPO x "
   ]
  },
  {
   "cell_type": "code",
   "execution_count": null,
   "metadata": {},
   "outputs": [],
   "source": [
    "# # fcst.datasetGroupArn\n",
    "# fcst.predictorName= 'withRelatedTS_DeepAR_noHPO_fh31_0326_02'\n",
    "# fcst.algorithmArn= 'arn:aws:forecast:::algorithm/Deep_AR_Plus'  \n",
    "# fcst.forecastHorizon= 31\n",
    "# fcst.numberOfBackTestWindows= 5\n",
    "# fcst.backTestWindowOffset= 31\n",
    "# fcst.performAutoML= False\n",
    "# fcst.performHPO= False\n",
    "# fcst.datasetFrequency='D'\n",
    "\n",
    "# # DeepARp 하이퍼파라미터 튜닝 설정\n",
    "# fcst.deeparParameter = {}\n",
    "# # fcst.deeparParameter = {\n",
    "# #    \"likelihood\": \"student-t\",\n",
    "# #    \"num_cells\": \"40\",\n",
    "# #    \"num_layers\": \"2\",\n",
    "# #    \"learning_rate\": \"1E-3\",\n",
    "# #    \"epochs\": \"500\",\n",
    "# #    \"learning_rate_decay\": \"0.5\",\n",
    "# #    \"max_learning_rate_decays\": \"0\",\n",
    "# #    \"num_averaged_models\": \"1\",\n",
    "# #    \"context_length\": \"0\"\n",
    "# # }\n",
    "\n",
    "\n",
    "# fcst.create_predictor()"
   ]
  },
  {
   "cell_type": "markdown",
   "metadata": {},
   "source": [
    "### - Predictor 생성: DeepAR O, HPO O"
   ]
  },
  {
   "cell_type": "code",
   "execution_count": null,
   "metadata": {},
   "outputs": [],
   "source": [
    "# fcst.datasetGroupArn\n",
    "fcst.predictorName= 'withRelatedTS_DeepAR_HPO_fh31_0326_01'\n",
    "fcst.algorithmArn= 'arn:aws:forecast:::algorithm/Deep_AR_Plus'  \n",
    "fcst.forecastHorizon= 31\n",
    "fcst.numberOfBackTestWindows= 5\n",
    "fcst.backTestWindowOffset= 31\n",
    "fcst.performAutoML= False\n",
    "fcst.performHPO= True\n",
    "fcst.datasetFrequency='D'\n",
    "\n",
    "# DeepARp 하이퍼파라미터 튜닝 설정\n",
    "fcst.deeparParameter = {}\n",
    "# fcst.deeparParameter = {\n",
    "#    \"likelihood\": \"student-t\",\n",
    "#    \"num_cells\": \"40\",\n",
    "#    \"num_layers\": \"2\",\n",
    "#    \"learning_rate\": \"1E-3\",\n",
    "#    \"epochs\": \"500\",\n",
    "#    \"learning_rate_decay\": \"0.5\",\n",
    "#    \"max_learning_rate_decays\": \"0\",\n",
    "#    \"num_averaged_models\": \"1\",\n",
    "#    \"context_length\": \"28\"\n",
    "# }\n",
    "\n",
    "# HPO 하이퍼파라미터 튜닝 설정\n",
    "fcst.hpoConfig = {}\n",
    "# fcst.hpoConfig = {\n",
    "#     \"ParameterRanges\": {\n",
    "#         \"ContinuousParameterRanges\": [\n",
    "#             {\n",
    "#                 \"MaxValue\": 0.1,\n",
    "#                 \"MinValue\": 0.0001,\n",
    "#                 \"ScalingType\": \"Logarithmic\",\n",
    "#                 \"Name\": \"learning_rate\"\n",
    "#             }\n",
    "#         ],\n",
    "#         \"IntegerParameterRanges\": [\n",
    "#             {\n",
    "#                 \"MaxValue\": 200,\n",
    "#                 \"MinValue\": 3,\n",
    "#                 \"ScalingType\": \"Auto\",\n",
    "#                 \"Name\": \"context_length\"\n",
    "#             }\n",
    "#         ]\n",
    "#     }\n",
    "# }\n",
    "\n",
    "\n",
    "fcst.create_predictor()"
   ]
  },
  {
   "cell_type": "markdown",
   "metadata": {},
   "source": [
    "# Forecast 생성"
   ]
  },
  {
   "cell_type": "code",
   "execution_count": null,
   "metadata": {},
   "outputs": [],
   "source": [
    "# fcst.predictorArn\n",
    "# fcst.predictorName\n",
    "fcst.forecastName = fcst.predictorName + '_fcst_0320'\n",
    "\n",
    "\n",
    "fcst.create_forecast()"
   ]
  },
  {
   "cell_type": "markdown",
   "metadata": {},
   "source": [
    "# Forecast 호출"
   ]
  },
  {
   "cell_type": "code",
   "execution_count": null,
   "metadata": {},
   "outputs": [],
   "source": [
    "# fcst.forecastArn\n",
    "fcst.itemIDList = ['조식_소계', '중식_소계', '석식_소계']\n",
    "\n",
    "\n",
    "fcst.query_forecast()"
   ]
  },
  {
   "cell_type": "markdown",
   "metadata": {},
   "source": [
    "# 라인 그래프 시각화"
   ]
  },
  {
   "cell_type": "code",
   "execution_count": null,
   "metadata": {},
   "outputs": [],
   "source": [
    "# fcst.total_pred_df\n",
    "fcst.fromBucketName = 'ldcc-cafeteria-01-bucket-bellship'\n",
    "fcst.fromKey = 'target_ts/target_test_0310_001.csv'\n",
    "\n",
    "\n",
    "fcst.visualize_forecast()"
   ]
  },
  {
   "cell_type": "markdown",
   "metadata": {},
   "source": [
    "# Test set에 대한 Forecast의 오차율 계산"
   ]
  },
  {
   "cell_type": "code",
   "execution_count": null,
   "metadata": {},
   "outputs": [],
   "source": [
    "# fcst.result_df\n",
    "\n",
    "\n",
    "fcst.aws_q_error()"
   ]
  }
 ],
 "metadata": {
  "kernelspec": {
   "display_name": "TensorFlow 2.2 on Python 3.6 (CUDA 10.1)",
   "language": "python",
   "name": "python3"
  },
  "language_info": {
   "codemirror_mode": {
    "name": "ipython",
    "version": 3
   },
   "file_extension": ".py",
   "mimetype": "text/x-python",
   "name": "python",
   "nbconvert_exporter": "python",
   "pygments_lexer": "ipython3",
   "version": "3.6.9"
  }
 },
 "nbformat": 4,
 "nbformat_minor": 4
}
