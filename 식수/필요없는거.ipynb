{
 "cells": [
  {
   "cell_type": "code",
   "execution_count": null,
   "metadata": {},
   "outputs": [],
   "source": [
    "# 강수확률\n",
    "#     bam=requests.get('https://m.weather.naver.com/')  \n",
    "#     soup=BeautifulSoup(bam.text,'html.parser')\n",
    "#     content=soup.find_all('div',{'class':'weather'})\n",
    "#     prob=[]\n",
    "#     for i in range(n):\n",
    "#         prob.append(content[i].find_all('span',{'class':'percent'})[0].text[:-1]) \n",
    "\n",
    "#         prev.loc[prev['timestamp']==datetime.strptime(datetime.today().strftime(\"%Y-%m-%d\"),\"%Y-%m-%d\")+timedelta(days=i),'rain_prob']=int(prob[i])*0.1"
   ]
  },
  {
   "cell_type": "code",
   "execution_count": null,
   "metadata": {},
   "outputs": [],
   "source": [
    "# 미래 temperature         \n",
    "#     from bs4 import BeautifulSoup\n",
    "#     import requests\n",
    "#     bam=requests.get('https://m.weather.naver.com/')\n",
    "#     soup=BeautifulSoup(bam.text,'html.parser')\n",
    "#     content=soup.find_all('div',{'class':'weekly_item_temperature'})\n",
    "#     temp=[]\n",
    "#     for i in range(n):\n",
    "#         temp.append(content[i].find_all('span')[3].text[6:8]) # 06/18~06/27      \n",
    "    \n",
    "#     for i in range(n):\n",
    "#         prev.loc[prev['timestamp']==datetime.strptime(datetime.today().strftime(\"%Y-%m-%d\"),\"%Y-%m-%d\")+timedelta(days=i),'temperature']=temp[i] \n",
    "\n",
    "\n",
    "\n",
    "# 미래 rainfall\n",
    "#     for i in range(n):\n",
    "#         bam=requests.get('https://darksky.net/details/37.5396,127.1197/{date}/si12/en'.format(date=datetime.strptime(datetime.today().strftime(\"%Y-%m-%d\"),\"%Y-%m-%d\")+timedelta(days=i)))\n",
    "#         soup=BeautifulSoup(bam.text,'html.parser')\n",
    "#         content=soup.find_all('span',{'class':'num swip'})\n",
    "#         prev.loc[prev['timestamp']==datetime.strptime(datetime.today().strftime(\"%Y-%m-%d\"),\"%Y-%m-%d\")+timedelta(days=i),'rainfall']=content[0].text\n"
   ]
  },
  {
   "cell_type": "code",
   "execution_count": null,
   "metadata": {},
   "outputs": [],
   "source": [
    "for i in range(n):    \n",
    "    #      prev.loc[num[i]]=np.nan\n",
    "            prev.loc[num[i],'timestamp']=prev.loc[num[i]-1,'timestamp']+timedelta(days=1)\n",
    "            prev.loc[num[i],'day_sin']=prev.loc[num[i]-7,'day_sin']\n",
    "            prev.loc[num[i],'weekday']=prev.loc[num[i]-7,'weekday']\n",
    "            prev.loc[num[i],'dayofweek_median']=prev.loc[num[i]-7,'dayofweek_median']\n"
   ]
  }
 ],
 "metadata": {
  "kernelspec": {
   "display_name": "PyTorch 1.5 on Python 3.6 (CUDA 10.1)",
   "language": "python",
   "name": "python3"
  },
  "language_info": {
   "codemirror_mode": {
    "name": "ipython",
    "version": 3
   },
   "file_extension": ".py",
   "mimetype": "text/x-python",
   "name": "python",
   "nbconvert_exporter": "python",
   "pygments_lexer": "ipython3",
   "version": "3.6.9"
  }
 },
 "nbformat": 4,
 "nbformat_minor": 4
}
