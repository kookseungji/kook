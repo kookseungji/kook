{
 "cells": [
  {
   "cell_type": "code",
   "execution_count": 2,
   "metadata": {
    "collapsed": true,
    "jupyter": {
     "outputs_hidden": true
    }
   },
   "outputs": [
    {
     "name": "stdout",
     "output_type": "stream",
     "text": [
      "Defaulting to user installation because normal site-packages is not writeable\n",
      "Collecting sweetviz\n",
      "  Downloading sweetviz-1.0b6-py3-none-any.whl (325 kB)\n",
      "\u001b[K     |████████████████████████████████| 325 kB 823 kB/s eta 0:00:01\n",
      "\u001b[?25hCollecting matplotlib>=3.1.3\n",
      "  Downloading matplotlib-3.3.2-cp36-cp36m-manylinux1_x86_64.whl (11.6 MB)\n",
      "\u001b[K     |████████████████████████████████| 11.6 MB 1.8 MB/s eta 0:00:01\n",
      "\u001b[?25hRequirement already satisfied: pandas!=1.0.0,!=1.0.1,!=1.0.2,>=0.25.3 in /usr/local/lib/python3.6/dist-packages (from sweetviz) (1.0.4+4.g29edbab4a)\n",
      "Requirement already satisfied: scipy>=1.3.2 in /home/work/.local/lib/python3.6/site-packages (from sweetviz) (1.5.2)\n",
      "Collecting importlib-resources>=1.2.0\n",
      "  Downloading importlib_resources-3.0.0-py2.py3-none-any.whl (23 kB)\n",
      "Requirement already satisfied: jinja2>=2.11.1 in /usr/local/lib/python3.6/dist-packages (from sweetviz) (2.11.1)\n",
      "Requirement already satisfied: tqdm>=4.43.0 in /home/work/.local/lib/python3.6/site-packages (from sweetviz) (4.48.2)\n",
      "Requirement already satisfied: numpy>=1.16.0 in /home/work/.local/lib/python3.6/site-packages (from sweetviz) (1.19.2)\n",
      "Requirement already satisfied: pyparsing!=2.0.4,!=2.1.2,!=2.1.6,>=2.0.3 in /usr/local/lib/python3.6/dist-packages (from matplotlib>=3.1.3->sweetviz) (2.4.6)\n",
      "Requirement already satisfied: pillow>=6.2.0 in /home/work/.local/lib/python3.6/site-packages (from matplotlib>=3.1.3->sweetviz) (7.2.0)\n",
      "Requirement already satisfied: cycler>=0.10 in /usr/local/lib/python3.6/dist-packages (from matplotlib>=3.1.3->sweetviz) (0.10.0)\n",
      "Collecting certifi>=2020.06.20\n",
      "  Downloading certifi-2020.6.20-py2.py3-none-any.whl (156 kB)\n",
      "\u001b[K     |████████████████████████████████| 156 kB 2.9 MB/s eta 0:00:01\n",
      "\u001b[?25hRequirement already satisfied: python-dateutil>=2.1 in /usr/local/lib/python3.6/dist-packages (from matplotlib>=3.1.3->sweetviz) (2.8.1)\n",
      "Requirement already satisfied: kiwisolver>=1.0.1 in /usr/local/lib/python3.6/dist-packages (from matplotlib>=3.1.3->sweetviz) (1.1.0)\n",
      "Requirement already satisfied: pytz>=2017.2 in /usr/local/lib/python3.6/dist-packages (from pandas!=1.0.0,!=1.0.1,!=1.0.2,>=0.25.3->sweetviz) (2019.3)\n",
      "Requirement already satisfied: zipp>=0.4; python_version < \"3.8\" in /usr/local/lib/python3.6/dist-packages (from importlib-resources>=1.2.0->sweetviz) (3.1.0)\n",
      "Requirement already satisfied: MarkupSafe>=0.23 in /usr/local/lib/python3.6/dist-packages (from jinja2>=2.11.1->sweetviz) (1.1.1)\n",
      "Requirement already satisfied: six in /usr/local/lib/python3.6/dist-packages (from cycler>=0.10->matplotlib>=3.1.3->sweetviz) (1.14.0)\n",
      "Requirement already satisfied: setuptools in /usr/local/lib/python3.6/dist-packages (from kiwisolver>=1.0.1->matplotlib>=3.1.3->sweetviz) (49.2.0)\n",
      "\u001b[31mERROR: tpot 0.11.1 has requirement scikit-learn>=0.22.0, but you'll have scikit-learn 0.21.3 which is incompatible.\u001b[0m\n",
      "\u001b[31mERROR: jupyterlab-zip 1.0.1 has requirement jupyterlab<0.35, but you'll have jupyterlab 2.1.4 which is incompatible.\u001b[0m\n",
      "\u001b[31mERROR: jupyterlab-zip 1.0.1 has requirement notebook<6.0a,>=5.2, but you'll have notebook 6.0.3 which is incompatible.\u001b[0m\n",
      "\u001b[31mERROR: google-api-core 1.22.0 has requirement google-auth<2.0dev,>=1.19.1, but you'll have google-auth 1.18.0 which is incompatible.\u001b[0m\n",
      "\u001b[31mERROR: dopamine-rl 3.1.1 has requirement absl-py>=0.9.0, but you'll have absl-py 0.8.0 which is incompatible.\u001b[0m\n",
      "\u001b[31mERROR: dopamine-rl 3.1.1 has requirement gin-config>=0.3.0, but you'll have gin-config 0.1.3 which is incompatible.\u001b[0m\n",
      "Installing collected packages: certifi, matplotlib, importlib-resources, sweetviz\n",
      "Successfully installed certifi-2020.6.20 importlib-resources-3.0.0 matplotlib-3.3.2 sweetviz-1.0b6\n",
      "\u001b[33mWARNING: You are using pip version 20.1.1; however, version 20.2.3 is available.\n",
      "You should consider upgrading via the '/usr/bin/python3 -m pip install --upgrade pip' command.\u001b[0m\n"
     ]
    }
   ],
   "source": [
    "!pip install sweetviz"
   ]
  },
  {
   "cell_type": "code",
   "execution_count": 3,
   "metadata": {},
   "outputs": [],
   "source": [
    "import sweetviz"
   ]
  },
  {
   "cell_type": "code",
   "execution_count": null,
   "metadata": {},
   "outputs": [],
   "source": []
  }
 ],
 "metadata": {
  "kernelspec": {
   "display_name": "TensorFlow 2.2 on Python 3.6 (CUDA 10.1)",
   "language": "python",
   "name": "python3"
  },
  "language_info": {
   "codemirror_mode": {
    "name": "ipython",
    "version": 3
   },
   "file_extension": ".py",
   "mimetype": "text/x-python",
   "name": "python",
   "nbconvert_exporter": "python",
   "pygments_lexer": "ipython3",
   "version": "3.6.9"
  }
 },
 "nbformat": 4,
 "nbformat_minor": 4
}
