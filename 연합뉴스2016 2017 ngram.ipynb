{
 "cells": [
  {
   "cell_type": "code",
   "execution_count": 17,
   "metadata": {},
   "outputs": [],
   "source": [
    "import pandas as pd\n",
    "import numpy as np\n",
    "import datetime\n",
    "import re\n",
    "y2016['press']='연합뉴스'\n",
    "# yon2=yon2.drop([1,])\n",
    "y2016['date']=y2016['date'].astype('str')\n",
    "y2016=y2016.drop('link',axis=1)\n",
    "y2016['content'] = y2016['content'].apply(lambda x: re.sub(\"\\w*\\@.+\",'',x,1))\n",
    "y2016['content'] = y2016['content'].apply(lambda x: re.sub(\"\\([가-힣].=연합인포맥스\\)|\\([가-힣].=연합뉴스\\)\",'',x,1))\n",
    "y2016['date']=pd.to_datetime(y2016['date'])\n",
    "\n"
   ]
  },
  {
   "cell_type": "code",
   "execution_count": 6,
   "metadata": {},
   "outputs": [],
   "source": [
    "y=pd.read_csv(\"연합뉴스2010_2015ngram.csv\")"
   ]
  },
  {
   "cell_type": "code",
   "execution_count": 8,
   "metadata": {},
   "outputs": [],
   "source": [
    "y=y.drop('Unnamed: 0',axis=1)"
   ]
  },
  {
   "cell_type": "code",
   "execution_count": 11,
   "metadata": {},
   "outputs": [
    {
     "data": {
      "text/html": [
       "<div>\n",
       "<style scoped>\n",
       "    .dataframe tbody tr th:only-of-type {\n",
       "        vertical-align: middle;\n",
       "    }\n",
       "\n",
       "    .dataframe tbody tr th {\n",
       "        vertical-align: top;\n",
       "    }\n",
       "\n",
       "    .dataframe thead th {\n",
       "        text-align: right;\n",
       "    }\n",
       "</style>\n",
       "<table border=\"1\" class=\"dataframe\">\n",
       "  <thead>\n",
       "    <tr style=\"text-align: right;\">\n",
       "      <th></th>\n",
       "      <th>press</th>\n",
       "      <th>date</th>\n",
       "      <th>title</th>\n",
       "      <th>content</th>\n",
       "      <th>ngram</th>\n",
       "    </tr>\n",
       "  </thead>\n",
       "  <tbody>\n",
       "    <tr>\n",
       "      <th>0</th>\n",
       "      <td>연합뉴스</td>\n",
       "      <td>2010-01-19</td>\n",
       "      <td>安교육 \"ICL 학자금 대출금리 인하 노력\"</td>\n",
       "      <td>['','','','','','','약대총정원추가증원도검토…내달초까지결정','이윤영...</td>\n",
       "      <td>['이자/NNG;부담/NNG']</td>\n",
       "    </tr>\n",
       "    <tr>\n",
       "      <th>1</th>\n",
       "      <td>연합뉴스</td>\n",
       "      <td>2010-01-22</td>\n",
       "      <td>학자금 대출금리 5.7%…0.1%P 인하</td>\n",
       "      <td>['','','','','','','이윤영기자=교육과학기술부와한국장학재단은올1학기취...</td>\n",
       "      <td>['금리/NNG;인하/NNG']</td>\n",
       "    </tr>\n",
       "    <tr>\n",
       "      <th>2</th>\n",
       "      <td>연합뉴스</td>\n",
       "      <td>2010-01-23</td>\n",
       "      <td>&lt;표&gt; 은행 정기예금 금리(22일 기준)</td>\n",
       "      <td>['','','','','(단위:%)','┌────┬─────────────────...</td>\n",
       "      <td>[]</td>\n",
       "    </tr>\n",
       "    <tr>\n",
       "      <th>3</th>\n",
       "      <td>연합뉴스</td>\n",
       "      <td>2010-01-21</td>\n",
       "      <td>경남銀 주택담보대출 가산금리 0.20%p 인하</td>\n",
       "      <td>['','','','',김재홍기자=경남은행(은행장문동성)은주택담보대출상품인`뉴집집마...</td>\n",
       "      <td>['대출/NNG;스프레드/NNG;인하/NNG']</td>\n",
       "    </tr>\n",
       "    <tr>\n",
       "      <th>4</th>\n",
       "      <td>연합뉴스</td>\n",
       "      <td>2010-01-20</td>\n",
       "      <td>&lt;코픽스 등장…대출금리 떨어지나&gt;(종합)</td>\n",
       "      <td>['','','','','','','기준금리↑가산금리↓','조재영최현석기자=은행의자...</td>\n",
       "      <td>['높/VA;대출/NNG;금리/NNG;낮/VA', '금리/NNG;서서히/MAG;상승...</td>\n",
       "    </tr>\n",
       "  </tbody>\n",
       "</table>\n",
       "</div>"
      ],
      "text/plain": [
       "   press        date                      title  \\\n",
       "0   연합뉴스  2010-01-19   安교육 \"ICL 학자금 대출금리 인하 노력\"   \n",
       "1   연합뉴스  2010-01-22     학자금 대출금리 5.7%…0.1%P 인하   \n",
       "2   연합뉴스  2010-01-23     <표> 은행 정기예금 금리(22일 기준)   \n",
       "3   연합뉴스  2010-01-21  경남銀 주택담보대출 가산금리 0.20%p 인하   \n",
       "4   연합뉴스  2010-01-20     <코픽스 등장…대출금리 떨어지나>(종합)   \n",
       "\n",
       "                                             content  \\\n",
       "0  ['','','','','','','약대총정원추가증원도검토…내달초까지결정','이윤영...   \n",
       "1  ['','','','','','','이윤영기자=교육과학기술부와한국장학재단은올1학기취...   \n",
       "2  ['','','','','(단위:%)','┌────┬─────────────────...   \n",
       "3  ['','','','',김재홍기자=경남은행(은행장문동성)은주택담보대출상품인`뉴집집마...   \n",
       "4  ['','','','','','','기준금리↑가산금리↓','조재영최현석기자=은행의자...   \n",
       "\n",
       "                                               ngram  \n",
       "0                                  ['이자/NNG;부담/NNG']  \n",
       "1                                  ['금리/NNG;인하/NNG']  \n",
       "2                                                 []  \n",
       "3                         ['대출/NNG;스프레드/NNG;인하/NNG']  \n",
       "4  ['높/VA;대출/NNG;금리/NNG;낮/VA', '금리/NNG;서서히/MAG;상승...  "
      ]
     },
     "execution_count": 11,
     "metadata": {},
     "output_type": "execute_result"
    }
   ],
   "source": [
    "y.head()"
   ]
  },
  {
   "cell_type": "code",
   "execution_count": 16,
   "metadata": {},
   "outputs": [],
   "source": [
    "y2016=pd.read_csv(\"연합뉴스_2016.csv\")"
   ]
  },
  {
   "cell_type": "code",
   "execution_count": 21,
   "metadata": {},
   "outputs": [],
   "source": [
    "from ekonlpy.sentiment import MPCK\n",
    "def text2ngram(text):\n",
    "    mpck = MPCK()\n",
    "    bef_tokens = mpck.tokenize(text)\n",
    "    ngrams = mpck.ngramize(bef_tokens)\n",
    "    return ngrams"
   ]
  },
  {
   "cell_type": "code",
   "execution_count": 22,
   "metadata": {},
   "outputs": [],
   "source": [
    "n_gram=[]\n",
    "for i in range(1313):\n",
    "    n_gram.append(text2ngram(y2016['content'][i]))"
   ]
  },
  {
   "cell_type": "code",
   "execution_count": 23,
   "metadata": {},
   "outputs": [],
   "source": [
    "y2016['ngram']=n_gram"
   ]
  },
  {
   "cell_type": "code",
   "execution_count": 25,
   "metadata": {},
   "outputs": [
    {
     "data": {
      "text/html": [
       "<div>\n",
       "<style scoped>\n",
       "    .dataframe tbody tr th:only-of-type {\n",
       "        vertical-align: middle;\n",
       "    }\n",
       "\n",
       "    .dataframe tbody tr th {\n",
       "        vertical-align: top;\n",
       "    }\n",
       "\n",
       "    .dataframe thead th {\n",
       "        text-align: right;\n",
       "    }\n",
       "</style>\n",
       "<table border=\"1\" class=\"dataframe\">\n",
       "  <thead>\n",
       "    <tr style=\"text-align: right;\">\n",
       "      <th></th>\n",
       "      <th>press</th>\n",
       "      <th>date</th>\n",
       "      <th>title</th>\n",
       "      <th>content</th>\n",
       "      <th>ngram</th>\n",
       "    </tr>\n",
       "  </thead>\n",
       "  <tbody>\n",
       "    <tr>\n",
       "      <th>1308</th>\n",
       "      <td>연합뉴스</td>\n",
       "      <td>2016-12-28</td>\n",
       "      <td>은행권 임원 대폭 물갈이…키워드는 '성과주의'(종합)</td>\n",
       "      <td>['','','','','','농협·하나임원교체최대폭…신한도발탁인사','두계단특진에...</td>\n",
       "      <td>[수익성/NNG;악화/NNG, 소비자/NNG;피해/NNG, 금리/NNG;인상/NNG]</td>\n",
       "    </tr>\n",
       "    <tr>\n",
       "      <th>1309</th>\n",
       "      <td>연합뉴스</td>\n",
       "      <td>2016-12-28</td>\n",
       "      <td>실직·입원 때 적격대출도 원금상환 1년 유예된다</td>\n",
       "      <td>['','','','','','원금상환유예제도,모든정책모기지상품으로확대…혜택대상10...</td>\n",
       "      <td>[유예/NNG;금리/NNG;인하/NNG, 모기지/NNG;확대/NNG, 소득/NNG;...</td>\n",
       "    </tr>\n",
       "    <tr>\n",
       "      <th>1310</th>\n",
       "      <td>연합뉴스</td>\n",
       "      <td>2016-12-30</td>\n",
       "      <td>&lt;신년사&gt; 이병래 한국예탁결제원 사장</td>\n",
       "      <td>['','','','','',2016년한해가저물고'붉은닭'의해인정유년(丁酉年)의희망...</td>\n",
       "      <td>[금리/NNG;인상/NNG;가계/NNG;부채/NNG;증가/NNG, 경제/NNG;금융...</td>\n",
       "    </tr>\n",
       "    <tr>\n",
       "      <th>1311</th>\n",
       "      <td>연합뉴스</td>\n",
       "      <td>2016-12-31</td>\n",
       "      <td>트럼프 취임, 獨·佛 정상 결정…새해 일어날 지구촌 대사건</td>\n",
       "      <td>['','','','','',브렉시트첫발·IS락까탈환전·미기준금리인상도'주목',김수...</td>\n",
       "      <td>[미/NNG;금리/NNG;인상/NNG]</td>\n",
       "    </tr>\n",
       "    <tr>\n",
       "      <th>1312</th>\n",
       "      <td>연합뉴스</td>\n",
       "      <td>2016-12-31</td>\n",
       "      <td>中 증시 파란의 1년 12%↓…투자자당 530만원 손실</td>\n",
       "      <td>['','','','','','(상하이=연합뉴스)정주호특파원=파란이거듭됐던중국증권시...</td>\n",
       "      <td>[자본/NNG;유출/NNG;위안/NNG;약세/NNG, 경제/NNG;성장/NNG;금리...</td>\n",
       "    </tr>\n",
       "  </tbody>\n",
       "</table>\n",
       "</div>"
      ],
      "text/plain": [
       "     press       date                             title  \\\n",
       "1308  연합뉴스 2016-12-28     은행권 임원 대폭 물갈이…키워드는 '성과주의'(종합)   \n",
       "1309  연합뉴스 2016-12-28        실직·입원 때 적격대출도 원금상환 1년 유예된다   \n",
       "1310  연합뉴스 2016-12-30              <신년사> 이병래 한국예탁결제원 사장   \n",
       "1311  연합뉴스 2016-12-31  트럼프 취임, 獨·佛 정상 결정…새해 일어날 지구촌 대사건   \n",
       "1312  연합뉴스 2016-12-31    中 증시 파란의 1년 12%↓…투자자당 530만원 손실   \n",
       "\n",
       "                                                content  \\\n",
       "1308  ['','','','','','농협·하나임원교체최대폭…신한도발탁인사','두계단특진에...   \n",
       "1309  ['','','','','','원금상환유예제도,모든정책모기지상품으로확대…혜택대상10...   \n",
       "1310  ['','','','','',2016년한해가저물고'붉은닭'의해인정유년(丁酉年)의희망...   \n",
       "1311  ['','','','','',브렉시트첫발·IS락까탈환전·미기준금리인상도'주목',김수...   \n",
       "1312  ['','','','','','(상하이=연합뉴스)정주호특파원=파란이거듭됐던중국증권시...   \n",
       "\n",
       "                                                  ngram  \n",
       "1308    [수익성/NNG;악화/NNG, 소비자/NNG;피해/NNG, 금리/NNG;인상/NNG]  \n",
       "1309  [유예/NNG;금리/NNG;인하/NNG, 모기지/NNG;확대/NNG, 소득/NNG;...  \n",
       "1310  [금리/NNG;인상/NNG;가계/NNG;부채/NNG;증가/NNG, 경제/NNG;금융...  \n",
       "1311                              [미/NNG;금리/NNG;인상/NNG]  \n",
       "1312  [자본/NNG;유출/NNG;위안/NNG;약세/NNG, 경제/NNG;성장/NNG;금리...  "
      ]
     },
     "execution_count": 25,
     "metadata": {},
     "output_type": "execute_result"
    }
   ],
   "source": [
    "y2016.tail()"
   ]
  },
  {
   "cell_type": "code",
   "execution_count": 26,
   "metadata": {},
   "outputs": [],
   "source": [
    "y2017=pd.read_csv(\"연합뉴스_2017.csv\")\n",
    "y2017['press']='연합뉴스'\n",
    "# y2017=y2017.drop([1,])\n",
    "y2017['date']=y2017['date'].astype('str')\n",
    "y2017=y2017.drop('link',axis=1)\n",
    "y2017['content'] = y2017['content'].apply(lambda x: re.sub(\"\\w*\\@.+\",'',x,1))\n",
    "y2017['content'] = y2017['content'].apply(lambda x: re.sub(\"\\([가-힣].=연합인포맥스\\)|\\([가-힣].=연합뉴스\\)\",'',x,1))\n",
    "y2017['date']=pd.to_datetime(y2017['date'])"
   ]
  },
  {
   "cell_type": "code",
   "execution_count": 29,
   "metadata": {},
   "outputs": [
    {
     "data": {
      "text/plain": [
       "1211"
      ]
     },
     "execution_count": 29,
     "metadata": {},
     "output_type": "execute_result"
    }
   ],
   "source": [
    "len(y2017['content'])"
   ]
  },
  {
   "cell_type": "code",
   "execution_count": 30,
   "metadata": {},
   "outputs": [],
   "source": [
    "n_gram=[]\n",
    "for i in range(1211):\n",
    "    n_gram.append(text2ngram(y2017['content'][i]))"
   ]
  },
  {
   "cell_type": "code",
   "execution_count": 31,
   "metadata": {},
   "outputs": [],
   "source": [
    "y2017['ngram']=n_gram"
   ]
  },
  {
   "cell_type": "code",
   "execution_count": 37,
   "metadata": {},
   "outputs": [
    {
     "data": {
      "text/html": [
       "<div>\n",
       "<style scoped>\n",
       "    .dataframe tbody tr th:only-of-type {\n",
       "        vertical-align: middle;\n",
       "    }\n",
       "\n",
       "    .dataframe tbody tr th {\n",
       "        vertical-align: top;\n",
       "    }\n",
       "\n",
       "    .dataframe thead th {\n",
       "        text-align: right;\n",
       "    }\n",
       "</style>\n",
       "<table border=\"1\" class=\"dataframe\">\n",
       "  <thead>\n",
       "    <tr style=\"text-align: right;\">\n",
       "      <th></th>\n",
       "      <th>press</th>\n",
       "      <th>date</th>\n",
       "      <th>title</th>\n",
       "      <th>content</th>\n",
       "      <th>ngram</th>\n",
       "    </tr>\n",
       "  </thead>\n",
       "  <tbody>\n",
       "    <tr>\n",
       "      <th>0</th>\n",
       "      <td>연합뉴스</td>\n",
       "      <td>2016-01-03</td>\n",
       "      <td>금융연구원 \"미국 금리인상에 소비자물가가 최대 변수\"</td>\n",
       "      <td>['','','','','','','달러강세로신흥국기업채무상환부담커져','노재현기자...</td>\n",
       "      <td>[해지/NNG;fed/NNG;금리/NNG;인상/NNG, 기업/NNG;부채/NNG;상...</td>\n",
       "    </tr>\n",
       "    <tr>\n",
       "      <th>1</th>\n",
       "      <td>연합뉴스</td>\n",
       "      <td>2016-01-09</td>\n",
       "      <td>&lt;표&gt; 은행 정기예금 금리(8일 기준)</td>\n",
       "      <td>['','','','','','','(단위:%)','※KEB하나정기예금금리는1억원이...</td>\n",
       "      <td>[]</td>\n",
       "    </tr>\n",
       "    <tr>\n",
       "      <th>2</th>\n",
       "      <td>연합뉴스</td>\n",
       "      <td>2016-01-14</td>\n",
       "      <td>우리은행, 올해 은행권 첫 예금 금리 인상</td>\n",
       "      <td>['','','','','','','고동욱기자=우리은행은지난12일부터정기예금상품3종...</td>\n",
       "      <td>[금리/NNG;인상/NNG;금리/NNG;오르/VV, 금리/NNG;오르/VV;기대/N...</td>\n",
       "    </tr>\n",
       "    <tr>\n",
       "      <th>3</th>\n",
       "      <td>연합뉴스</td>\n",
       "      <td>2016-01-10</td>\n",
       "      <td>금융硏 \"미국 금리인상 완만해도 세계경제에 큰 부담\"</td>\n",
       "      <td>['','','','','노재현기자=미국이금리를천천히올리더라도세계경제에주는충격이크기...</td>\n",
       "      <td>[fed/NNG;금리/NNG;인상/NNG, 금리/NNG;서서히/MAG;오르/VV, ...</td>\n",
       "    </tr>\n",
       "    <tr>\n",
       "      <th>4</th>\n",
       "      <td>연합뉴스</td>\n",
       "      <td>2016-01-12</td>\n",
       "      <td>스위스서 \"세금 늦게 내달라\"…마이너스 금리의 진풍경</td>\n",
       "      <td>['','','','','','','지방정부,조기납세혜택폐지','김윤구기자=스위스의...</td>\n",
       "      <td>[자국/NNG;통화/NNG;강세/NNG, 금리/NNG;마이너스/NNG, 수출/NNG...</td>\n",
       "    </tr>\n",
       "  </tbody>\n",
       "</table>\n",
       "</div>"
      ],
      "text/plain": [
       "  press       date                          title  \\\n",
       "0  연합뉴스 2016-01-03  금융연구원 \"미국 금리인상에 소비자물가가 최대 변수\"   \n",
       "1  연합뉴스 2016-01-09          <표> 은행 정기예금 금리(8일 기준)   \n",
       "2  연합뉴스 2016-01-14        우리은행, 올해 은행권 첫 예금 금리 인상   \n",
       "3  연합뉴스 2016-01-10  금융硏 \"미국 금리인상 완만해도 세계경제에 큰 부담\"   \n",
       "4  연합뉴스 2016-01-12  스위스서 \"세금 늦게 내달라\"…마이너스 금리의 진풍경   \n",
       "\n",
       "                                             content  \\\n",
       "0  ['','','','','','','달러강세로신흥국기업채무상환부담커져','노재현기자...   \n",
       "1  ['','','','','','','(단위:%)','※KEB하나정기예금금리는1억원이...   \n",
       "2  ['','','','','','','고동욱기자=우리은행은지난12일부터정기예금상품3종...   \n",
       "3  ['','','','','노재현기자=미국이금리를천천히올리더라도세계경제에주는충격이크기...   \n",
       "4  ['','','','','','','지방정부,조기납세혜택폐지','김윤구기자=스위스의...   \n",
       "\n",
       "                                               ngram  \n",
       "0  [해지/NNG;fed/NNG;금리/NNG;인상/NNG, 기업/NNG;부채/NNG;상...  \n",
       "1                                                 []  \n",
       "2  [금리/NNG;인상/NNG;금리/NNG;오르/VV, 금리/NNG;오르/VV;기대/N...  \n",
       "3  [fed/NNG;금리/NNG;인상/NNG, 금리/NNG;서서히/MAG;오르/VV, ...  \n",
       "4  [자국/NNG;통화/NNG;강세/NNG, 금리/NNG;마이너스/NNG, 수출/NNG...  "
      ]
     },
     "execution_count": 37,
     "metadata": {},
     "output_type": "execute_result"
    }
   ],
   "source": [
    "y2016_2017.head()"
   ]
  },
  {
   "cell_type": "code",
   "execution_count": 34,
   "metadata": {},
   "outputs": [],
   "source": [
    "y2016_2017=y2016.append(y2017)\n",
    "y2016_2017= y2016_2017.reset_index(drop=True)\n"
   ]
  },
  {
   "cell_type": "code",
   "execution_count": 38,
   "metadata": {},
   "outputs": [],
   "source": [
    "y2010_2015=pd.read_csv(\"연합뉴스2010_2015ngram.csv\")"
   ]
  },
  {
   "cell_type": "code",
   "execution_count": 41,
   "metadata": {},
   "outputs": [
    {
     "data": {
      "text/html": [
       "<div>\n",
       "<style scoped>\n",
       "    .dataframe tbody tr th:only-of-type {\n",
       "        vertical-align: middle;\n",
       "    }\n",
       "\n",
       "    .dataframe tbody tr th {\n",
       "        vertical-align: top;\n",
       "    }\n",
       "\n",
       "    .dataframe thead th {\n",
       "        text-align: right;\n",
       "    }\n",
       "</style>\n",
       "<table border=\"1\" class=\"dataframe\">\n",
       "  <thead>\n",
       "    <tr style=\"text-align: right;\">\n",
       "      <th></th>\n",
       "      <th>press</th>\n",
       "      <th>date</th>\n",
       "      <th>title</th>\n",
       "      <th>content</th>\n",
       "      <th>ngram</th>\n",
       "    </tr>\n",
       "  </thead>\n",
       "  <tbody>\n",
       "    <tr>\n",
       "      <th>0</th>\n",
       "      <td>연합뉴스</td>\n",
       "      <td>2010-01-19</td>\n",
       "      <td>安교육 \"ICL 학자금 대출금리 인하 노력\"</td>\n",
       "      <td>['','','','','','','약대총정원추가증원도검토…내달초까지결정','이윤영...</td>\n",
       "      <td>['이자/NNG;부담/NNG']</td>\n",
       "    </tr>\n",
       "    <tr>\n",
       "      <th>1</th>\n",
       "      <td>연합뉴스</td>\n",
       "      <td>2010-01-22</td>\n",
       "      <td>학자금 대출금리 5.7%…0.1%P 인하</td>\n",
       "      <td>['','','','','','','이윤영기자=교육과학기술부와한국장학재단은올1학기취...</td>\n",
       "      <td>['금리/NNG;인하/NNG']</td>\n",
       "    </tr>\n",
       "    <tr>\n",
       "      <th>2</th>\n",
       "      <td>연합뉴스</td>\n",
       "      <td>2010-01-23</td>\n",
       "      <td>&lt;표&gt; 은행 정기예금 금리(22일 기준)</td>\n",
       "      <td>['','','','','(단위:%)','┌────┬─────────────────...</td>\n",
       "      <td>[]</td>\n",
       "    </tr>\n",
       "    <tr>\n",
       "      <th>3</th>\n",
       "      <td>연합뉴스</td>\n",
       "      <td>2010-01-21</td>\n",
       "      <td>경남銀 주택담보대출 가산금리 0.20%p 인하</td>\n",
       "      <td>['','','','',김재홍기자=경남은행(은행장문동성)은주택담보대출상품인`뉴집집마...</td>\n",
       "      <td>['대출/NNG;스프레드/NNG;인하/NNG']</td>\n",
       "    </tr>\n",
       "    <tr>\n",
       "      <th>4</th>\n",
       "      <td>연합뉴스</td>\n",
       "      <td>2010-01-20</td>\n",
       "      <td>&lt;코픽스 등장…대출금리 떨어지나&gt;(종합)</td>\n",
       "      <td>['','','','','','','기준금리↑가산금리↓','조재영최현석기자=은행의자...</td>\n",
       "      <td>['높/VA;대출/NNG;금리/NNG;낮/VA', '금리/NNG;서서히/MAG;상승...</td>\n",
       "    </tr>\n",
       "  </tbody>\n",
       "</table>\n",
       "</div>"
      ],
      "text/plain": [
       "   press        date                      title  \\\n",
       "0   연합뉴스  2010-01-19   安교육 \"ICL 학자금 대출금리 인하 노력\"   \n",
       "1   연합뉴스  2010-01-22     학자금 대출금리 5.7%…0.1%P 인하   \n",
       "2   연합뉴스  2010-01-23     <표> 은행 정기예금 금리(22일 기준)   \n",
       "3   연합뉴스  2010-01-21  경남銀 주택담보대출 가산금리 0.20%p 인하   \n",
       "4   연합뉴스  2010-01-20     <코픽스 등장…대출금리 떨어지나>(종합)   \n",
       "\n",
       "                                             content  \\\n",
       "0  ['','','','','','','약대총정원추가증원도검토…내달초까지결정','이윤영...   \n",
       "1  ['','','','','','','이윤영기자=교육과학기술부와한국장학재단은올1학기취...   \n",
       "2  ['','','','','(단위:%)','┌────┬─────────────────...   \n",
       "3  ['','','','',김재홍기자=경남은행(은행장문동성)은주택담보대출상품인`뉴집집마...   \n",
       "4  ['','','','','','','기준금리↑가산금리↓','조재영최현석기자=은행의자...   \n",
       "\n",
       "                                               ngram  \n",
       "0                                  ['이자/NNG;부담/NNG']  \n",
       "1                                  ['금리/NNG;인하/NNG']  \n",
       "2                                                 []  \n",
       "3                         ['대출/NNG;스프레드/NNG;인하/NNG']  \n",
       "4  ['높/VA;대출/NNG;금리/NNG;낮/VA', '금리/NNG;서서히/MAG;상승...  "
      ]
     },
     "execution_count": 41,
     "metadata": {},
     "output_type": "execute_result"
    }
   ],
   "source": [
    "y2010_2015.head()"
   ]
  },
  {
   "cell_type": "code",
   "execution_count": 40,
   "metadata": {},
   "outputs": [],
   "source": [
    "y2010_2015=y2010_2015.drop('Unnamed: 0',axis=1)"
   ]
  },
  {
   "cell_type": "code",
   "execution_count": 49,
   "metadata": {},
   "outputs": [],
   "source": [
    "y2010_2017=y2010_2015.append(y2016_2017)\n",
    "y2010_2017=y2010_2017.reset_index(drop=True)"
   ]
  },
  {
   "cell_type": "code",
   "execution_count": 52,
   "metadata": {},
   "outputs": [
    {
     "data": {
      "text/html": [
       "<div>\n",
       "<style scoped>\n",
       "    .dataframe tbody tr th:only-of-type {\n",
       "        vertical-align: middle;\n",
       "    }\n",
       "\n",
       "    .dataframe tbody tr th {\n",
       "        vertical-align: top;\n",
       "    }\n",
       "\n",
       "    .dataframe thead th {\n",
       "        text-align: right;\n",
       "    }\n",
       "</style>\n",
       "<table border=\"1\" class=\"dataframe\">\n",
       "  <thead>\n",
       "    <tr style=\"text-align: right;\">\n",
       "      <th></th>\n",
       "      <th>press</th>\n",
       "      <th>date</th>\n",
       "      <th>title</th>\n",
       "      <th>content</th>\n",
       "      <th>ngram</th>\n",
       "    </tr>\n",
       "  </thead>\n",
       "  <tbody>\n",
       "    <tr>\n",
       "      <th>0</th>\n",
       "      <td>연합뉴스</td>\n",
       "      <td>2010-01-19</td>\n",
       "      <td>安교육 \"ICL 학자금 대출금리 인하 노력\"</td>\n",
       "      <td>['','','','','','','약대총정원추가증원도검토…내달초까지결정','이윤영...</td>\n",
       "      <td>['이자/NNG;부담/NNG']</td>\n",
       "    </tr>\n",
       "    <tr>\n",
       "      <th>1</th>\n",
       "      <td>연합뉴스</td>\n",
       "      <td>2010-01-22</td>\n",
       "      <td>학자금 대출금리 5.7%…0.1%P 인하</td>\n",
       "      <td>['','','','','','','이윤영기자=교육과학기술부와한국장학재단은올1학기취...</td>\n",
       "      <td>['금리/NNG;인하/NNG']</td>\n",
       "    </tr>\n",
       "    <tr>\n",
       "      <th>2</th>\n",
       "      <td>연합뉴스</td>\n",
       "      <td>2010-01-23</td>\n",
       "      <td>&lt;표&gt; 은행 정기예금 금리(22일 기준)</td>\n",
       "      <td>['','','','','(단위:%)','┌────┬─────────────────...</td>\n",
       "      <td>[]</td>\n",
       "    </tr>\n",
       "    <tr>\n",
       "      <th>3</th>\n",
       "      <td>연합뉴스</td>\n",
       "      <td>2010-01-21</td>\n",
       "      <td>경남銀 주택담보대출 가산금리 0.20%p 인하</td>\n",
       "      <td>['','','','',김재홍기자=경남은행(은행장문동성)은주택담보대출상품인`뉴집집마...</td>\n",
       "      <td>['대출/NNG;스프레드/NNG;인하/NNG']</td>\n",
       "    </tr>\n",
       "    <tr>\n",
       "      <th>4</th>\n",
       "      <td>연합뉴스</td>\n",
       "      <td>2010-01-20</td>\n",
       "      <td>&lt;코픽스 등장…대출금리 떨어지나&gt;(종합)</td>\n",
       "      <td>['','','','','','','기준금리↑가산금리↓','조재영최현석기자=은행의자...</td>\n",
       "      <td>['높/VA;대출/NNG;금리/NNG;낮/VA', '금리/NNG;서서히/MAG;상승...</td>\n",
       "    </tr>\n",
       "  </tbody>\n",
       "</table>\n",
       "</div>"
      ],
      "text/plain": [
       "   press       date                      title  \\\n",
       "0   연합뉴스 2010-01-19   安교육 \"ICL 학자금 대출금리 인하 노력\"   \n",
       "1   연합뉴스 2010-01-22     학자금 대출금리 5.7%…0.1%P 인하   \n",
       "2   연합뉴스 2010-01-23     <표> 은행 정기예금 금리(22일 기준)   \n",
       "3   연합뉴스 2010-01-21  경남銀 주택담보대출 가산금리 0.20%p 인하   \n",
       "4   연합뉴스 2010-01-20     <코픽스 등장…대출금리 떨어지나>(종합)   \n",
       "\n",
       "                                             content  \\\n",
       "0  ['','','','','','','약대총정원추가증원도검토…내달초까지결정','이윤영...   \n",
       "1  ['','','','','','','이윤영기자=교육과학기술부와한국장학재단은올1학기취...   \n",
       "2  ['','','','','(단위:%)','┌────┬─────────────────...   \n",
       "3  ['','','','',김재홍기자=경남은행(은행장문동성)은주택담보대출상품인`뉴집집마...   \n",
       "4  ['','','','','','','기준금리↑가산금리↓','조재영최현석기자=은행의자...   \n",
       "\n",
       "                                               ngram  \n",
       "0                                  ['이자/NNG;부담/NNG']  \n",
       "1                                  ['금리/NNG;인하/NNG']  \n",
       "2                                                 []  \n",
       "3                         ['대출/NNG;스프레드/NNG;인하/NNG']  \n",
       "4  ['높/VA;대출/NNG;금리/NNG;낮/VA', '금리/NNG;서서히/MAG;상승...  "
      ]
     },
     "execution_count": 52,
     "metadata": {},
     "output_type": "execute_result"
    }
   ],
   "source": [
    "y2010_2017.head()"
   ]
  },
  {
   "cell_type": "code",
   "execution_count": 48,
   "metadata": {},
   "outputs": [
    {
     "data": {
      "text/plain": [
       "pandas._libs.tslibs.timestamps.Timestamp"
      ]
     },
     "execution_count": 48,
     "metadata": {},
     "output_type": "execute_result"
    }
   ],
   "source": [
    "type(y2010_2015['date'][0])"
   ]
  },
  {
   "cell_type": "code",
   "execution_count": 47,
   "metadata": {},
   "outputs": [],
   "source": [
    "y2010_2015['date']=pd.to_datetime(y2010_2015['date'])"
   ]
  },
  {
   "cell_type": "code",
   "execution_count": 53,
   "metadata": {},
   "outputs": [],
   "source": [
    "y2005_2007=pd.read_csv(\"연합뉴스2005-2007.csv\")"
   ]
  },
  {
   "cell_type": "code",
   "execution_count": 54,
   "metadata": {},
   "outputs": [],
   "source": [
    "y2008_2009=pd.read_csv(\"연합뉴스2008-2009.csv\")"
   ]
  },
  {
   "cell_type": "code",
   "execution_count": 55,
   "metadata": {},
   "outputs": [],
   "source": [
    "y2005_2007['press']='연합뉴스'\n",
    "y2005_2007['date']=y2005_2007['date'].astype('str')\n",
    "y2005_2007=y2005_2007.drop('link',axis=1)\n",
    "y2005_2007['content'] = y2005_2007['content'].apply(lambda x: re.sub(\"\\w*\\@.+\",'',x,1))\n",
    "y2005_2007['content'] = y2005_2007['content'].apply(lambda x: re.sub(\"\\([가-힣].=연합인포맥스\\)|\\([가-힣].=연합뉴스\\)\",'',x,1))\n",
    "y2005_2007['date']=pd.to_datetime(y2005_2007['date'])\n"
   ]
  },
  {
   "cell_type": "code",
   "execution_count": 62,
   "metadata": {},
   "outputs": [],
   "source": [
    "y2008_2009['press']='연합뉴스'\n",
    "y2008_2009['date']=y2008_2009['date'].astype('str')\n",
    "y2008_2009=y2008_2009.drop('link',axis=1)\n",
    "y2008_2009['content'] = y2008_2009['content'].apply(lambda x: re.sub(\"\\w*\\@.+\",'',x,1))\n",
    "y2008_2009['content'] = y2008_2009['content'].apply(lambda x: re.sub(\"\\([가-힣].=연합인포맥스\\)|\\([가-힣].=연합뉴스\\)\",'',x,1))\n",
    "y2008_2009['date']=pd.to_datetime(y2008_2009['date'])"
   ]
  },
  {
   "cell_type": "code",
   "execution_count": 68,
   "metadata": {},
   "outputs": [],
   "source": [
    "n_gram=[]\n",
    "for i in range(4432):\n",
    "    n_gram.append(text2ngram(y2008_2009['content'][i]))\n",
    "y2008_2009['ngram']=n_gram"
   ]
  },
  {
   "cell_type": "code",
   "execution_count": 73,
   "metadata": {},
   "outputs": [
    {
     "data": {
      "text/html": [
       "<div>\n",
       "<style scoped>\n",
       "    .dataframe tbody tr th:only-of-type {\n",
       "        vertical-align: middle;\n",
       "    }\n",
       "\n",
       "    .dataframe tbody tr th {\n",
       "        vertical-align: top;\n",
       "    }\n",
       "\n",
       "    .dataframe thead th {\n",
       "        text-align: right;\n",
       "    }\n",
       "</style>\n",
       "<table border=\"1\" class=\"dataframe\">\n",
       "  <thead>\n",
       "    <tr style=\"text-align: right;\">\n",
       "      <th></th>\n",
       "      <th>press</th>\n",
       "      <th>date</th>\n",
       "      <th>title</th>\n",
       "      <th>content</th>\n",
       "      <th>ngram</th>\n",
       "    </tr>\n",
       "  </thead>\n",
       "  <tbody>\n",
       "    <tr>\n",
       "      <th>5257</th>\n",
       "      <td>연합뉴스</td>\n",
       "      <td>2007-12-31</td>\n",
       "      <td>&lt;FT가 전망한 2008년&gt;</td>\n",
       "      <td>['\\n\\t', '\\n\\t', '\\n\\n', '\\n', '\\n\\t\\n\\t', '  ...</td>\n",
       "      <td>[수익/NNG;전망/NNG;하향/NNG, 경제/NNG;수출/NNG;호조/NNG, 하...</td>\n",
       "    </tr>\n",
       "    <tr>\n",
       "      <th>5258</th>\n",
       "      <td>연합뉴스</td>\n",
       "      <td>2007-12-31</td>\n",
       "      <td>한국 관련 해외펀드, 자금 유입세로 전환</td>\n",
       "      <td>['\\n\\t', '\\n\\t', '\\n\\n', '\\n', '\\n\\t\\n\\t', '  ...</td>\n",
       "      <td>[금리/NNG;인상/NNG, 자금/NNG;이탈/NNG, 경기/NNG;둔화/NNG]</td>\n",
       "    </tr>\n",
       "    <tr>\n",
       "      <th>5259</th>\n",
       "      <td>연합뉴스</td>\n",
       "      <td>2007-12-30</td>\n",
       "      <td>오늘의 주요뉴스 (오후 9시)</td>\n",
       "      <td>['\\n\\t', '\\n\\t', '\\n\\n\\t', '\\n\\n', '\\n', '\\n\\t...</td>\n",
       "      <td>[가격/NNG;인상/NNG]</td>\n",
       "    </tr>\n",
       "    <tr>\n",
       "      <th>5260</th>\n",
       "      <td>연합뉴스</td>\n",
       "      <td>2007-12-30</td>\n",
       "      <td>오늘의 주요뉴스 (30일 오전 11:00)</td>\n",
       "      <td>['\\n\\t', '\\n\\t', '\\n\\n\\t', '\\n\\n', '\\n', '\\n\\t...</td>\n",
       "      <td>[]</td>\n",
       "    </tr>\n",
       "    <tr>\n",
       "      <th>5261</th>\n",
       "      <td>연합뉴스</td>\n",
       "      <td>2007-12-30</td>\n",
       "      <td>오늘의 주요뉴스 (오후 3시)</td>\n",
       "      <td>['\\n\\t', '\\n\\t', '\\n\\n\\t', '\\n\\n', '\\n', '\\n\\t...</td>\n",
       "      <td>[수출/NNG;경기/NNG;양호/NNG, 경제/NNG;성장/NNG, 가격/NNG;인...</td>\n",
       "    </tr>\n",
       "  </tbody>\n",
       "</table>\n",
       "</div>"
      ],
      "text/plain": [
       "     press       date                    title  \\\n",
       "5257  연합뉴스 2007-12-31          <FT가 전망한 2008년>   \n",
       "5258  연합뉴스 2007-12-31   한국 관련 해외펀드, 자금 유입세로 전환   \n",
       "5259  연합뉴스 2007-12-30         오늘의 주요뉴스 (오후 9시)   \n",
       "5260  연합뉴스 2007-12-30  오늘의 주요뉴스 (30일 오전 11:00)   \n",
       "5261  연합뉴스 2007-12-30         오늘의 주요뉴스 (오후 3시)   \n",
       "\n",
       "                                                content  \\\n",
       "5257  ['\\n\\t', '\\n\\t', '\\n\\n', '\\n', '\\n\\t\\n\\t', '  ...   \n",
       "5258  ['\\n\\t', '\\n\\t', '\\n\\n', '\\n', '\\n\\t\\n\\t', '  ...   \n",
       "5259  ['\\n\\t', '\\n\\t', '\\n\\n\\t', '\\n\\n', '\\n', '\\n\\t...   \n",
       "5260  ['\\n\\t', '\\n\\t', '\\n\\n\\t', '\\n\\n', '\\n', '\\n\\t...   \n",
       "5261  ['\\n\\t', '\\n\\t', '\\n\\n\\t', '\\n\\n', '\\n', '\\n\\t...   \n",
       "\n",
       "                                                  ngram  \n",
       "5257  [수익/NNG;전망/NNG;하향/NNG, 경제/NNG;수출/NNG;호조/NNG, 하...  \n",
       "5258      [금리/NNG;인상/NNG, 자금/NNG;이탈/NNG, 경기/NNG;둔화/NNG]  \n",
       "5259                                    [가격/NNG;인상/NNG]  \n",
       "5260                                                 []  \n",
       "5261  [수출/NNG;경기/NNG;양호/NNG, 경제/NNG;성장/NNG, 가격/NNG;인...  "
      ]
     },
     "execution_count": 73,
     "metadata": {},
     "output_type": "execute_result"
    }
   ],
   "source": [
    "y2005_2007.tail()"
   ]
  },
  {
   "cell_type": "code",
   "execution_count": 72,
   "metadata": {},
   "outputs": [
    {
     "data": {
      "text/html": [
       "<div>\n",
       "<style scoped>\n",
       "    .dataframe tbody tr th:only-of-type {\n",
       "        vertical-align: middle;\n",
       "    }\n",
       "\n",
       "    .dataframe tbody tr th {\n",
       "        vertical-align: top;\n",
       "    }\n",
       "\n",
       "    .dataframe thead th {\n",
       "        text-align: right;\n",
       "    }\n",
       "</style>\n",
       "<table border=\"1\" class=\"dataframe\">\n",
       "  <thead>\n",
       "    <tr style=\"text-align: right;\">\n",
       "      <th></th>\n",
       "      <th>press</th>\n",
       "      <th>date</th>\n",
       "      <th>title</th>\n",
       "      <th>content</th>\n",
       "      <th>ngram</th>\n",
       "    </tr>\n",
       "  </thead>\n",
       "  <tbody>\n",
       "    <tr>\n",
       "      <th>0</th>\n",
       "      <td>연합뉴스</td>\n",
       "      <td>2005-01-01</td>\n",
       "      <td>&lt;표&gt; 은행 금전신탁배당률.정기예금 금리(12.31일)</td>\n",
       "      <td>['\\n\\t', '\\n\\t', '\\n\\n', '\\n', '\\n\\t\\n\\t (단위:%...</td>\n",
       "      <td>[]</td>\n",
       "    </tr>\n",
       "    <tr>\n",
       "      <th>1</th>\n",
       "      <td>연합뉴스</td>\n",
       "      <td>2005-01-03</td>\n",
       "      <td>&lt;채권&gt; 국고채 물량 부담에 금리 급등</td>\n",
       "      <td>['\\n\\t', '\\n\\t', '\\n\\n', '\\n', '\\n\\t\\n\\t  김문성기...</td>\n",
       "      <td>[국고채/NNG;발행/NNG;부담/NNG, 채권/NNG;금리/NNG;급등/NNG, ...</td>\n",
       "    </tr>\n",
       "    <tr>\n",
       "      <th>2</th>\n",
       "      <td>연합뉴스</td>\n",
       "      <td>2005-01-02</td>\n",
       "      <td>해외 주식.채권 투자 8조..1년새 104% 급증</td>\n",
       "      <td>['\\n\\t', '\\n\\t', '\\n\\n', '\\n', '\\n\\t\\n\\t해외투자펀드...</td>\n",
       "      <td>[해외/NNG;증권/NNG;투자/NNG;급증/NNG, 채권/NNG;길/VA]</td>\n",
       "    </tr>\n",
       "    <tr>\n",
       "      <th>3</th>\n",
       "      <td>연합뉴스</td>\n",
       "      <td>2005-01-03</td>\n",
       "      <td>신용평가 업계 \"심사 및 신용위험 공시 강화\"</td>\n",
       "      <td>['\\n\\t', '\\n\\t', '\\n\\n', '\\n', '\\n\\t\\n\\t  김상훈기...</td>\n",
       "      <td>[]</td>\n",
       "    </tr>\n",
       "    <tr>\n",
       "      <th>4</th>\n",
       "      <td>연합뉴스</td>\n",
       "      <td>2005-01-06</td>\n",
       "      <td>한은, 경기상황 유의하는 방향으로 금리정책 운영(2보)</td>\n",
       "      <td>['\\n\\t', '\\n\\t', '\\n\\n', '\\n', '\\n\\t\\n\\t금통위 올해...</td>\n",
       "      <td>[]</td>\n",
       "    </tr>\n",
       "  </tbody>\n",
       "</table>\n",
       "</div>"
      ],
      "text/plain": [
       "  press       date                           title  \\\n",
       "0  연합뉴스 2005-01-01  <표> 은행 금전신탁배당률.정기예금 금리(12.31일)   \n",
       "1  연합뉴스 2005-01-03           <채권> 국고채 물량 부담에 금리 급등   \n",
       "2  연합뉴스 2005-01-02     해외 주식.채권 투자 8조..1년새 104% 급증   \n",
       "3  연합뉴스 2005-01-03       신용평가 업계 \"심사 및 신용위험 공시 강화\"   \n",
       "4  연합뉴스 2005-01-06  한은, 경기상황 유의하는 방향으로 금리정책 운영(2보)   \n",
       "\n",
       "                                             content  \\\n",
       "0  ['\\n\\t', '\\n\\t', '\\n\\n', '\\n', '\\n\\t\\n\\t (단위:%...   \n",
       "1  ['\\n\\t', '\\n\\t', '\\n\\n', '\\n', '\\n\\t\\n\\t  김문성기...   \n",
       "2  ['\\n\\t', '\\n\\t', '\\n\\n', '\\n', '\\n\\t\\n\\t해외투자펀드...   \n",
       "3  ['\\n\\t', '\\n\\t', '\\n\\n', '\\n', '\\n\\t\\n\\t  김상훈기...   \n",
       "4  ['\\n\\t', '\\n\\t', '\\n\\n', '\\n', '\\n\\t\\n\\t금통위 올해...   \n",
       "\n",
       "                                               ngram  \n",
       "0                                                 []  \n",
       "1  [국고채/NNG;발행/NNG;부담/NNG, 채권/NNG;금리/NNG;급등/NNG, ...  \n",
       "2         [해외/NNG;증권/NNG;투자/NNG;급증/NNG, 채권/NNG;길/VA]  \n",
       "3                                                 []  \n",
       "4                                                 []  "
      ]
     },
     "execution_count": 72,
     "metadata": {},
     "output_type": "execute_result"
    }
   ],
   "source": [
    "n_gram=[]\n",
    "for i in range(5262):\n",
    "    n_gram.append(text2ngram(y2005_2007['content'][i]))\n",
    "y2005_2007['ngram']=n_gram\n",
    "y2005_2007.head()"
   ]
  },
  {
   "cell_type": "code",
   "execution_count": 74,
   "metadata": {},
   "outputs": [],
   "source": [
    "y2005_2009=y2005_2007.append(y2008_2009)\n",
    "y2005_2009=y2005_2009.reset_index(drop=True)\n",
    "y2005_2017=y2005_2009.append(y2010_2017)\n",
    "y2005_2017=y2005_2017.reset_index(drop=True)\n",
    "y2005_2017.to_csv(\"(완료)연합뉴스2005-2017_ngram.csv\")"
   ]
  },
  {
   "cell_type": "code",
   "execution_count": 77,
   "metadata": {},
   "outputs": [],
   "source": [
    "y2005_2017.to_csv(\"(완료)연합뉴스2005-2017_ngram.csv\")"
   ]
  },
  {
   "cell_type": "code",
   "execution_count": null,
   "metadata": {},
   "outputs": [],
   "source": []
  }
 ],
 "metadata": {
  "kernelspec": {
   "display_name": "Python 3",
   "language": "python",
   "name": "python3"
  },
  "language_info": {
   "codemirror_mode": {
    "name": "ipython",
    "version": 3
   },
   "file_extension": ".py",
   "mimetype": "text/x-python",
   "name": "python",
   "nbconvert_exporter": "python",
   "pygments_lexer": "ipython3",
   "version": "3.7.3"
  }
 },
 "nbformat": 4,
 "nbformat_minor": 2
}
