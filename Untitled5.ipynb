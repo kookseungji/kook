{
 "cells": [
  {
   "cell_type": "code",
   "execution_count": 1,
   "metadata": {},
   "outputs": [],
   "source": [
    "import os\n",
    "import pandas as pd"
   ]
  },
  {
   "cell_type": "code",
   "execution_count": 19,
   "metadata": {},
   "outputs": [],
   "source": [
    "yonhap=os.path.join(os.path.dirname(os.getcwd()),'yonhap.csv')"
   ]
  },
  {
   "cell_type": "code",
   "execution_count": 41,
   "metadata": {},
   "outputs": [
    {
     "data": {
      "text/html": [
       "<div>\n",
       "<style scoped>\n",
       "    .dataframe tbody tr th:only-of-type {\n",
       "        vertical-align: middle;\n",
       "    }\n",
       "\n",
       "    .dataframe tbody tr th {\n",
       "        vertical-align: top;\n",
       "    }\n",
       "\n",
       "    .dataframe thead th {\n",
       "        text-align: right;\n",
       "    }\n",
       "</style>\n",
       "<table border=\"1\" class=\"dataframe\">\n",
       "  <thead>\n",
       "    <tr style=\"text-align: right;\">\n",
       "      <th></th>\n",
       "      <th></th>\n",
       "      <th></th>\n",
       "      <th></th>\n",
       "      <th></th>\n",
       "      <th></th>\n",
       "      <th></th>\n",
       "      <th></th>\n",
       "      <th></th>\n",
       "      <th></th>\n",
       "      <th></th>\n",
       "      <th></th>\n",
       "      <th></th>\n",
       "      <th></th>\n",
       "      <th></th>\n",
       "      <th></th>\n",
       "      <th></th>\n",
       "      <th></th>\n",
       "      <th></th>\n",
       "      <th></th>\n",
       "      <th></th>\n",
       "      <th></th>\n",
       "      <th></th>\n",
       "      <th></th>\n",
       "      <th></th>\n",
       "      <th></th>\n",
       "      <th></th>\n",
       "      <th>[</th>\n",
       "    </tr>\n",
       "  </thead>\n",
       "  <tbody>\n",
       "    <tr>\n",
       "      <th>{\"title\": \"[\\uc11c\\ud658] \\uacb0\\uc81c \\uc6b0\\uc704\\uc5d0 \\uc8fc\\ub9d0 \\uc55e\\ub454 \\uc20f\\ucee4\\ubc84\\u20263.60\\uc6d0\\u2191\"</th>\n",
       "      <th>\"content\": [\"\\r\\n\\t\\r\\n\\t\\t\\r\\n\\t\\t\\r\\n\\t(\\uc11c\\uc6b8=\\uc5f0\\ud569\\uc778\\ud3ec\\ub9e5\\uc2a4) \\uc724\\uc2dc\\uc724 \\uae30\\uc790 = \\ub2ec\\ub7ec-\\uc6d0 \\ud658\\uc728\\uc774 \\uc218\\uae09\\uc0c1 \\uacb0\\uc81c \\uc218\\uc694 \\uc6b0\\uc704\\uc5d0 \\uc8fc\\ub9d0\\uc744 \\uc55e\\ub454 \\uc20f\\ucee4\\ubc84\\ub85c \\uc624\\ub984\\uc138\\ub97c \\uc774\\uc5b4\\uac00\\uace0 \\uc788\\ub2e4. \"</th>\n",
       "      <th>\"\\n12\\uc77c \\uc11c\\uc6b8 \\uc678\\ud658\\uc2dc\\uc7a5\\uc5d0\\uc11c \\ub2ec\\ub7ec\\ud654\\ub294 \\uc624\\ud6c4 1\\uc2dc 31\\ubd84 \\ud604\\uc7ac \\uc804\\uc77c\\ubcf4\\ub2e4 3.60\\uc6d0 \\uc0c1\\uc2b9\\ud55c 1</th>\n",
       "      <th>177.10\\uc6d0\\uc5d0 \\uac70\\ub798\\ub410\\ub2e4. \"</th>\n",
       "      <th>\"\\n\\uc9c0\\ub09c 6\\uc6d4 \\ubbf8\\uad6d \\uc18c\\ube44\\uc790\\ubb3c\\uac00\\uc9c0\\uc218(CPI) \\ud638\\uc870 \\uc601\\ud5a5\\uc5d0 \\ub2ec\\ub7ec\\ud654\\uac00 \\uac15\\uc138\\ub97c \\uc774\\uc5b4\\uac04 \\uac00\\uc6b4\\ub370 \\uc7a5\\uc911 \\uacb0\\uc81c \\uc218\\uc694\\ub97c \\ubc18\\uc601\\ud574 1</th>\n",
       "      <th>170\\uc6d0\\ub300 \\ud6c4\\ubc18\\uc5d0\\uc11c \\ub4f1\\ub77d\\ud558\\uace0 \\uc788\\ub2e4. \"</th>\n",
       "      <th>\"\\n\\uc2e4\\uc218\\uc694\\uac00 \\ub9ce\\uc9c0 \\uc54a\\uc73c\\ub098 \\uc7a5 \\ucd08\\ubc18 \\ub9e4\\uc218\\uc5d0 \\ub530\\ub77c \\ub808\\ubca8\\uc774 \\ub192\\uc544\\uc84c\\uace0 \\uc7a5\\uc911 \\ub0b4\\ub0b4 \\uc27d\\uac8c \\ubc00\\ub9ac\\uc9c0 \\uc54a\\uace0 \\uc788\\ub2e4.\"</th>\n",
       "      <th>\"\\n\\uc624\\uc804 \\uc911 1</th>\n",
       "      <th>177.70\\uc6d0\\uae4c\\uc9c0 \\uace0\\uc810\\uc744 \\ub192\\uc778 \\uc774\\ud6c4\\ub860 \\uc0c1\\ub2e8\\uc740 \\uc81c\\ud55c\\ub418\\ub294 \\ubaa8\\uc591\\uc0c8\\ub2e4. \"</th>\n",
       "      <th>\"\\n\\uc81c\\ub86c \\ud30c\\uc6d4 \\uc5f0\\ubc29\\uc900\\ube44\\uc81c\\ub3c4(Fed\\u00b7\\uc5f0\\uc900) \\uc758\\uc7a5\\uc758 \\uae08\\ub9ac \\uc778\\ud558 \\uc2dc\\uc0ac \\ubc1c\\uc5b8\\uc774 \\uc18c\\ud654\\ub418\\uba74\\uc11c \\uc601\\ud5a5\\uc774 \\uc81c\\ud55c\\ub410\\uace0 \\uc7a5\\uc911 \\ubcc0\\ub3d9\\ud3ed\\uc740 \\ud06c\\uc9c0 \\uc54a\\ub2e4. \"</th>\n",
       "      <th>\"\\n1</th>\n",
       "      <th>170\\uc6d0\\ub300 \\ud6c4\\ubc18\\uc5d0\\uc120 \\uc218\\ucd9c\\uc5c5\\uccb4 \\ub124\\uace0 \\ubb3c\\ub7c9\\uc774 \\ub098\\uc654\\uc73c\\ub098 \\uc624\\ud6c4 \\ub4e4\\uc5b4 \\uac00\\uaca9 \\ubcc0\\ub3d9\\uc740 \\ub354\\uc6b1 \\ub454\\ud654\\ub418\\uace0 \\uc788\\ub2e4.\"</th>\n",
       "      <th>\"\\n\\uc624\\ub294 18\\uc77c \\uc81c3\\uad6d \\uc911\\uc7ac\\uc704 \\uc124\\uce58 \\uc694\\uad6c \\uc2dc\\ud55c\\uacfc 21\\uc77c \\uc77c\\ubcf8 \\ucc38\\uc758\\uc6d0 \\uc120\\uac70 \\ub4f1\\uc744 \\uc55e\\ub454 \\uacbd\\uacc4\\uc5d0 \\ub530\\ub77c \\uc20f\\ud3ec\\uc9c0\\uc158\\uc774 \\uc815\\ub9ac\\ub410\\ub2e4. \"</th>\n",
       "      <th>\"\\n\\ud55c \\uc2dc\\uc911\\uc740\\ud589 \\uc678\\ud658\\ub51c\\ub7ec\\ub294 \\\"\\uc624\\uc804\\uc5d0 \\uacb0\\uc81c \\uc218\\uc694\\ub85c \\uc624\\ub978 \\uc774\\ud6c4 \\ubcc0\\ub3d9\\uc774 \\ud06c\\uc9c0 \\uc54a\\ub2e4\\\"\\uba70 \\\"\\uc774 \\uc815\\ub3c4 \\uc218\\uc900\\uc5d0\\uc11c \\ub9c8\\ubb34\\ub9ac\\ud560 \\uac83\\uc73c\\ub85c \\ubcf4\\uc778\\ub2e4\\\"\\uace0 \\ub9d0\\ud588\\ub2e4.\"</th>\n",
       "      <th>\"\\n\\uadf8\\ub294 \\uc774\\uc5b4 \\\"\\uc810\\uc2ec\\uc2dc\\uac04\\uc5d0\\ub3c4 \\ubcc0\\ub3d9\\uc774 \\uc5c6\\uace0 \\uc624\\uc804\\uc5d0 \\uace0\\uc810\\uc744 \\ubd24\\uae30 \\ub54c\\ubb38\\uc5d0 1</th>\n",
       "      <th>180\\uc6d0\\uc744 \\ub118\\uae34 \\uc5b4\\ub824\\uc6b8 \\uac83\\\"\\uc774\\ub77c\\uba70 \\\"\\ud30c\\uc6d4 \\uc758\\uc7a5\\uc758 \\uae08\\ub9ac \\uc778\\ud558 \\uc2dc\\uc0ac \\ubc1c\\uc5b8 \\uc601\\ud5a5\\uc740 \\ub2e4 \\ubc18\\uc601\\ub41c \\uac83\\uc73c\\ub85c \\ubcf4\\uc774\\uace0 \\uc720\\ub7fd\\uc911\\uc559\\uc740\\ud589(ECB) \\ud68c\\uc758 \\uc804\\uae4c\\uc9c4 \\ud06c\\uac8c \\ubcc0\\ub3d9\\uc131\\uc774 \\ub098\\ud0c0\\ub098\\uc9c0 \\uc54a\\uc744 \\uac83\\\"\\uc774\\ub77c\\uace0 \\ub0b4\\ub2e4\\ubd24\\ub2e4.\"</th>\n",
       "      <th>\"\\n\\uac19\\uc740 \\uc2dc\\uac01 \\ub2ec\\ub7ec-\\uc5d4 \\ud658\\uc728\\uc740 \\ub274\\uc695\\uc2dc\\uc7a5 \\ub300\\ube44 0.098\\uc5d4 \\ud558\\ub77d\\ud55c 108.394\\uc5d4</th>\n",
       "      <th>\\uc720\\ub85c-\\ub2ec\\ub7ec \\ud658\\uc728\\uc740 0.00168\\ub2ec\\ub7ec \\uc624\\ub978 1.12708\\ub2ec\\ub7ec\\uc5d0 \\uac70\\ub798\\ub410\\ub2e4.\"</th>\n",
       "      <th>\"\\n\\uc5d4-\\uc6d0 \\uc7ac\\uc815\\ud658\\uc728\\uc740 100\\uc5d4\\ub2f9 1</th>\n",
       "      <th>085.82\\uc6d0\\uc744 \\ub098\\ud0c0\\ub0c8\\uace0</th>\n",
       "      <th>\\uc704\\uc548-\\uc6d0 \\ud658\\uc728\\uc740 1\\uc704\\uc548\\ub2f9 171.25\\uc6d0\\uc5d0 \\uac70\\ub798\\ub410\\ub2e4.\"</th>\n",
       "      <th>\"\\nsyyoon@yna.co.kr\"</th>\n",
       "      <th>\"\\n(\\ub05d)\"</th>\n",
       "      <th>\"\\ubcf8 \\uae30\\uc0ac\\ub294 \\uc778\\ud3ec\\ub9e5\\uc2a4 \\uae08\\uc735\\uc815\\ubcf4 \\ub2e8\\ub9d0\\uae30\\ub85c 13\\uc2dc 36\\ubd84\\uc5d0 \\uc11c\\ube44\\uc2a4\\ub41c \\uae30\\uc0ac\\uc785\\ub2c8\\ub2e4.\"</th>\n",
       "      <th>\"\\uc778\\ud3ec\\ub9e5\\uc2a4 \\uae08\\uc735\\uc815\\ubcf4 \\uc11c\\ube44\\uc2a4 \\ubb38\\uc758 (398-5209)\\r\\n\\r\\n\\t\\t\\r\\n\\t\\t\"</th>\n",
       "      <th>\"\\r\\n\\r\\n\\t\\t\"</th>\n",
       "      <th>\"\\r\\n\\r\\n\\t\\r\\n\\r\\n\\t\\r\\n\"]}</th>\n",
       "      <td>NaN</td>\n",
       "    </tr>\n",
       "    <tr>\n",
       "      <th>{\"title\": \"JP\\ubaa8\\uac74 \\\"\\uc5f0\\uc900 \\uae08\\ub9ac\\uc778\\ud558</th>\n",
       "      <th>\\uc778\\ubbfc\\uc740\\ud589 \\uc228\\ud1b5 \\uc5f4\\uc5b4\\uc904 \\uac83\\\"\"</th>\n",
       "      <th>\"content\": [\"\\r\\n\\t\\r\\n\\t\\t\\r\\n\\t\\t\\r\\n\\t(\\uc11c\\uc6b8=\\uc5f0\\ud569\\uc778\\ud3ec\\ub9e5\\uc2a4) \\uc724\\uc815\\uc6d0 \\uae30\\uc790 = JP\\ubaa8\\uac74\\uc740 \\ubbf8\\uad6d \\uc5f0\\ubc29\\uc900\\ube44\\uc81c\\ub3c4(Fed\\u00b7\\uc5f0\\uc900)\\uac00 \\uc2dc\\uc7a5\\uc758 \\uc608\\uc0c1\\ub300\\ub85c \\uae08\\ub9ac \\uc778\\ud558\\uc5d0 \\ub098\\uc120\\ub2e4\\uba74 \\uc911\\uad6d \\uacbd\\uae30\\ub454\\ud654\\ub85c \\uc5b4\\ub824\\uc6c0\\uc744 \\uacaa\\uace0 \\uc788\\ub294 \\uc778\\ubbfc\\uc740\\ud589\\uc758 \\uc228\\ud1b5\\uc774 \\ud2b8\\uc77c \\uac83\\uc774\\ub77c\\uace0 \\ubd84\\uc11d\\ud588\\ub2e4.\"</th>\n",
       "      <th>\"\\n11\\uc77c(\\ud604\\uc9c0\\uc2dc\\uac04) CNBC\\ub294 \\ud1b5\\ud654\\uc815\\ucc45 \\ud658\\uacbd\\uc774 \\ub354 \\uc644\\ud654\\uc801\\uc77c\\uc218\\ub85d \\uc911\\uad6d \\uc778\\ubbfc\\uc740\\ud589\\ub3c4 \\uc644\\ud654\\uc815\\ucc45\\uc5d0 \\ub098\\uc124 \\ub54c \\uc555\\ubc15\\uc744 \\ub35c \\ubc1b\\uc744 \\uac83\\uc774\\ub77c\\uace0 \\uc9c0\\uc801\\ud588\\ub2e4.\"</th>\n",
       "      <th>\"\\n\\uc911\\uad6d \\uacbd\\uc81c\\ub294 \\ubbf8\\u00b7\\uc911 \\ubb34\\uc5ed\\uac08\\ub4f1\\uc774 \\uc774\\uc5b4\\uc9c0\\ub294 \\uac00\\uc6b4\\ub370 \\ubaa8\\uba58\\ud140\\uc744 \\ub418\\ucc3e\\ub294 \\ub370 \\uc5b4\\ub824\\uc6c0\\uc744 \\uacaa\\uace0 \\uc788\\ub2e4.\"</th>\n",
       "      <th>\"\\n\\uc9c0\\ub09c 6\\uc6d4 \\uc911\\uad6d \\ucc28\\uc774\\uc2e0 \\uc81c\\uc870\\uc5c5 \\uad6c\\ub9e4\\uad00\\ub9ac\\uc790\\uc9c0\\uc218(PMI)\\ub294 50 \\uc544\\ub798\\ub85c \\ub5a8\\uc5b4\\uc838 3\\uac1c\\uc6d4 \\ub9cc\\uc5d0 \\uc81c\\uc870\\uc5c5 \\uc704\\ucd95\\uc744 \\uc2dc\\uc0ac\\ud588\\uace0 \\ucc28\\uc774\\uc2e0 \\ube44\\uc81c\\uc870\\uc5c5 PMI\\ub3c4 4\\uac1c\\uc6d4 \\ub798 \\ucd5c\\uc800\\uce58\\ub97c \\ub098\\ud0c0\\ub0b8 \\ubc14 \\uc788\\ub2e4.\"</th>\n",
       "      <th>\"\\n\\uc778\\ubbfc\\uc740\\ud589\\uc740 \\uc774\\uc640 \\uac19\\uc740 \\uacbd\\uae30 \\ub454\\ud654\\uc5d0 \\ub300\\uc751\\ud574 \\uc911\\uad6d \\uacbd\\uc81c \\uc131\\uc7a5 \\ubc0f \\uace0\\uc6a9 \\ucc3d\\ucd9c\\uc758 \\uc0c1\\ub2f9 \\ubd80\\ubd84\\uc744 \\ucc28\\uc9c0\\ud558\\ub294 \\ubbfc\\uc601 \\uae30\\uc5c5\\uc758 \\ucc28\\uc785 \\ube44\\uc6a9\\uc744 \\uc120\\ubcc4\\uc801\\uc73c\\ub85c \\uc778\\ud558\\ud574\\uc8fc\\ub294 \\ub4f1 \\uc5ec\\ub7ec \\uc815\\ucc45\\uc744 \\ud3bc\\ucce4\\ub2e4.\"</th>\n",
       "      <th>\"\\n\\uc774\\uc5d0 \\ub300\\ud574 JP\\ubaa8\\uac74\\uc560\\uc14b\\ub9e4\\ub2c8\\uc9c0\\uba3c\\ud2b8\\uc758 \\ud55c\\ub098 \\uc564\\ub354\\uc2a8 \\uae00\\ub85c\\ubc8c \\ub9c8\\ucf13 \\uc804\\ub7b5\\uac00\\ub294 \\uc5f0\\uc900\\uc758 \\uae08\\ub9ac \\uc778\\ud558\\uac00 \\uae30\\uc815\\uc0ac\\uc2e4\\ud654\\ub41c \\uac83\\uc740 \\uc544\\ub2c8\\ub77c\\uba74\\uc11c\\ub3c4 \\\"\\uc5f0\\uc900\\uc774 \\uae08\\ub9ac\\ub97c \\uc778\\ud558\\ud55c\\ub2e4\\uba74 \\uc778\\ubbfc\\uc740\\ud589\\uc774 \\uadf8\\ub3d9\\uc548 \\uc2dc\\ud589\\ud588\\ub358 \\uc815\\ucc45\\uc774 \\uc2e4\\ubb3c \\uacbd\\uc81c\\uc5d0 \\uc601\\ud5a5\\uc744 \\ubbf8\\ucce4\\ub294\\uc9c0\\ub97c \\ud655\\uc778\\ud574\\ubcfc \\uc218 \\uc788\\ub294 \\uc228\\ud1b5\\uc744 \\uc870\\uae08 \\uc5f4\\uc5b4\\uc904 \\uac83\\\"\\uc774\\ub77c\\uace0 \\ub9d0\\ud588\\ub2e4.\"</th>\n",
       "      <th>\"\\n\\uc564\\ub354\\uc2a4 \\uc804\\ub7b5\\uac00\\ub294 \\uc778\\ubbfc\\uc740\\ud589\\uc774 \\uc704\\uc548\\ud654 \\ud658\\uc728\\uc5d0 \\ub300\\ud55c \\uc555\\ubc15\\ub3c4 \\ub35c \\ubc1b\\uc744 \\uac83\\uc774\\ub77c\\uace0 \\ub0b4\\ub2e4\\ubd24\\ub2e4.\"</th>\n",
       "      <th>\"\\n\\uc778\\ubbfc\\uc740\\ud589\\uc774 \\ud658\\uc728\\uc744 \\uc548\\uc815\\uc801\\uc73c\\ub85c \\uc720\\uc9c0\\ud558\\ub294 \\uac83\\uc774 \\ubcf4\\ub2e4 \\uc218\\uc6d4\\ud574\\uc9c0\\uae30 \\ub54c\\ubb38\\uc774\\ub2e4.\"</th>\n",
       "      <th>\"\\n\\ub610 \\uc5f0\\uc900\\uc758 \\uae08\\ub9ac \\uc778\\ud558\\ub85c \\ubbf8\\uad6d \\uad6d\\ucc44\\uac00\\uaca9\\uc774 \\uc62c\\ub77c\\uac08 \\uacbd\\uc6b0 \\uc778\\ubbfc\\uc740\\ud589\\uc774 \\ubcf4\\uc720\\ud55c \\ubbf8\\uad6d \\uad6d\\ucc44\\uc758 \\uac00\\uaca9\\uc774 \\uc0c1\\uc2b9\\ud558\\ub294 \\ud6a8\\uacfc\\ub3c4 \\ubcfc \\uc218 \\uc788\\ub2e4.\"</th>\n",
       "      <th>\"\\n\\uba87\\uba87 \\uc804\\ubb38\\uac00\\ub4e4\\uc740 \\uc5f0\\uc900\\uc774 \\uae08\\ub9ac\\ub97c \\uc778\\ud558\\ud560 \\uacbd\\uc6b0 \\uc911\\uad6d\\uc758 \\uc778\\ubbfc\\uc740\\ud589\\ub3c4 \\uc720\\uc0ac\\ud55c \\uc870\\uce58\\ub97c \\ucde8\\ud560 \\uc218 \\uc788\\ub2e4\\uace0 \\uc804\\ub9dd\\ud588\\ub2e4.\"</th>\n",
       "      <th>\"\\n\\uc2dc\\uc7a5 \\uc870\\uc0ac\\uae30\\uad00 \\ucc28\\uc774\\ub098 \\ubca0\\uc774\\uc9c0\\ubd81\\uc758 \\ub7a0\\ub9b0\\ub4dc \\ubc00\\ub7ec \\ucd5c\\uace0\\uacbd\\uc601\\uc790(CEO)\\ub294 \\\"\\uc5f0\\uc900\\uc774 \\uae08\\ub9ac\\ub97c \\uc778\\ud558\\ud560 \\uacbd\\uc6b0 \\uc778\\ubbfc\\uc740\\ud589\\uc774 \\ub530\\ub77c \\ud560 \\uac00\\ub2a5\\uc131\\uc774 \\uc0c1\\ub2f9\\ud558\\ub2e4\\\"\\uace0 \\ub9d0\\ud588\\ub2e4.\"</th>\n",
       "      <th>\"\\n\\ub2e4\\ub9cc \\ubc00\\ub7ec CEO\\ub294 \\\"(\\uad6d\\uc601\\uae30\\uc5c5 \\uc911)\\uc77c\\ubd80\\ub9cc \\uae30\\uc900\\uae08\\ub9ac(\\uc218\\uc900\\uc758 \\ub0ae\\uc740 \\uc774\\uc790)\\ub97c \\ub0b4\\uace0 \\uc788\\uace0 \\uadf8 \\uc678 \\ub300\\ub2e4\\uc218 \\uae30\\uc5c5\\uc740 \\uc5b4\\ucc28\\ud53c \\ub300\\ucd9c\\uae08\\uc744 \\uc9c0\\ubd88\\ud558\\uc9c0 \\uc54a\\ub294\\ub2e4\\\"\\uba74\\uc11c \\\"\\uc911\\uad6d\\uc758 \\uae30\\uc900\\uae08\\ub9ac \\uc778\\ud558\\ub294 \\uae30\\uc5c5\\uc5d0\\ub294 \\ubcc4\\ub2e4\\ub978 \\uc601\\ud5a5\\uc744 \\ubbf8\\uce58\\uc9c0 \\ubabb\\ud558\\ub294 \\uc21c\\uc804\\ud788 \\uc0c1\\uc9d5\\uc801\\uc778 \\uc6c0\\uc9c1\\uc784\\uc77c \\uac83\\\"\\uc774\\ub77c\\uace0 \\uc124\\uba85\\ud588\\ub2e4.\"</th>\n",
       "      <th>\"\\n\\ud55c\\ud3b8 \\ub9e5\\ucffc\\ub9ac\\uc758 \\ub798\\ub9ac \\ud6c4 \\uc218\\uc11d \\uc911\\uad6d \\uc774\\ucf54\\ub178\\ubbf8\\uc2a4\\ud2b8\\ub294 \\uc778\\ubbfc\\uc740\\ud589\\uc774 \\uc5f0\\uc900\\uc5d0 \\ub4a4\\ub530\\ub77c \\uace7\\ubc14\\ub85c \\uc720\\uc0ac\\ud55c \\uc870\\uce58\\ub97c \\ucde8\\ud558\\uac70\\ub098 \\uae08\\ub9ac\\ub97c \\uc778\\ud558\\ud558\\uae30\\ubcf4\\ub2e4\\ub294 4\\ubd84\\uae30\\uae4c\\uc9c0 \\uae30\\ub2e4\\ub9b4 \\uac83\\uc73c\\ub85c \\ub0b4\\ub2e4\\ubd24\\ub2e4.\"</th>\n",
       "      <th>\"\\n\\ud6c4 \\uc774\\ucf54\\ub178\\ubbf8\\uc2a4\\ud2b8\\ub294 \\uc911\\uad6d\\uc774 1\\ub144 \\ub9cc\\uae30 \\uc704\\uc548\\ud654 \\ub300\\ucd9c \\uae30\\uc900\\uae08\\ub9ac\\ub97c 2015\\ub144 \\uc774\\ud6c4 \\ub3d9\\uacb0\\ud55c \\uc0c1\\ud669\\uc774\\ub77c\\uace0 \\ubd80\\uc5f0\\ud588\\ub2e4.\"</th>\n",
       "      <th>\"\\njwyoon@yna.co.kr\"</th>\n",
       "      <th>\"\\n(\\ub05d)\"</th>\n",
       "      <th>\"\\ubcf8 \\uae30\\uc0ac\\ub294 \\uc778\\ud3ec\\ub9e5\\uc2a4 \\uae08\\uc735\\uc815\\ubcf4 \\ub2e8\\ub9d0\\uae30\\ub85c 09\\uc2dc 48\\ubd84\\uc5d0 \\uc11c\\ube44\\uc2a4\\ub41c \\uae30\\uc0ac\\uc785\\ub2c8\\ub2e4.\"</th>\n",
       "      <th>\"\\uc778\\ud3ec\\ub9e5\\uc2a4 \\uae08\\uc735\\uc815\\ubcf4 \\uc11c\\ube44\\uc2a4 \\ubb38\\uc758 (398-5209)\\r\\n\\r\\n\\t\\t\\r\\n\\t\\t\"</th>\n",
       "      <th>\"\\r\\n\\r\\n\\t\\t\"</th>\n",
       "      <th>\"\\r\\n\\r\\n\\t\\r\\n\\r\\n\\t\\r\\n\"]}</th>\n",
       "      <th>NaN</th>\n",
       "      <th>NaN</th>\n",
       "      <th>NaN</th>\n",
       "      <th>NaN</th>\n",
       "      <th>NaN</th>\n",
       "      <td>NaN</td>\n",
       "    </tr>\n",
       "    <tr>\n",
       "      <th>{\"title\": \"\\uae30\\uc7ac\\ubd80 \\\"\\uc218\\ucd9c\\u318d\\ud22c\\uc790\\ubd80\\uc9c4 \\uc9c0\\uc18d\\u2026\\ub300\\uc678\\uc5ec\\uac74 \\uc545\\ud654\\\"\"</th>\n",
       "      <th>\"content\": [\"\\r\\n\\t\\r\\n\\t\\t\\r\\n\\t\\t\\r\\n\\t\"</th>\n",
       "      <th>\"\\r\\n\\r\\n\"</th>\n",
       "      <th>\"\\r\\n\\r\\n\\t\\t\\r\\n\\t\\t\"</th>\n",
       "      <th>\"\\r\\n\\r\\n\\t\\t\"</th>\n",
       "      <th>\"\\r\\n\\r\\n\\t\\r\\n\\r\\n\\t\\r\\n\"]}</th>\n",
       "      <th>NaN</th>\n",
       "      <th>NaN</th>\n",
       "      <th>NaN</th>\n",
       "      <th>NaN</th>\n",
       "      <th>NaN</th>\n",
       "      <th>NaN</th>\n",
       "      <th>NaN</th>\n",
       "      <th>NaN</th>\n",
       "      <th>NaN</th>\n",
       "      <th>NaN</th>\n",
       "      <th>NaN</th>\n",
       "      <th>NaN</th>\n",
       "      <th>NaN</th>\n",
       "      <th>NaN</th>\n",
       "      <th>NaN</th>\n",
       "      <th>NaN</th>\n",
       "      <th>NaN</th>\n",
       "      <th>NaN</th>\n",
       "      <th>NaN</th>\n",
       "      <th>NaN</th>\n",
       "      <th>NaN</th>\n",
       "      <td>NaN</td>\n",
       "    </tr>\n",
       "    <tr>\n",
       "      <th>{\"title\": \"\\uae08\\ub9ac\\uc778\\ud558 \\uc784\\ubc15\\ud55c \\uac00\\uc6b4\\ub370 \\ub098\\uc628 'BIS \\uacbd\\uace0'\\u2026\\uae08\\ud1b5\\uc704 \\uc8fc\\ucda4\\ud560\\uae4c\"</th>\n",
       "      <th>\"content\": [\"\\r\\n\\t\\r\\n\\t\\t\\r\\n\\t\\t\\r\\n\\t\"</th>\n",
       "      <th>\"\\r\\n\\r\\n\\t\\t\\r\\n\\t\\t\"</th>\n",
       "      <th>\"\\r\\n\\r\\n\\t\\t\"</th>\n",
       "      <th>\"\\r\\n\\r\\n\\t\\r\\n\\r\\n\\t\\r\\n\"]}</th>\n",
       "      <th>NaN</th>\n",
       "      <th>NaN</th>\n",
       "      <th>NaN</th>\n",
       "      <th>NaN</th>\n",
       "      <th>NaN</th>\n",
       "      <th>NaN</th>\n",
       "      <th>NaN</th>\n",
       "      <th>NaN</th>\n",
       "      <th>NaN</th>\n",
       "      <th>NaN</th>\n",
       "      <th>NaN</th>\n",
       "      <th>NaN</th>\n",
       "      <th>NaN</th>\n",
       "      <th>NaN</th>\n",
       "      <th>NaN</th>\n",
       "      <th>NaN</th>\n",
       "      <th>NaN</th>\n",
       "      <th>NaN</th>\n",
       "      <th>NaN</th>\n",
       "      <th>NaN</th>\n",
       "      <th>NaN</th>\n",
       "      <th>NaN</th>\n",
       "      <td>NaN</td>\n",
       "    </tr>\n",
       "    <tr>\n",
       "      <th>{\"title\": \"ANZ \\\"\\u4e2d 2Q \\uc131\\uc7a5\\ub960 \\uc804\\ub9dd\\uce58 6.2%\\u2026\\uacbd\\uae30\\ubd80\\uc9c4 \\uacc4\\uc18d\\ub420 \\uac83\\\"\"</th>\n",
       "      <th>\"content\": [\"\\r\\n\\t\\r\\n\\t\\t\\r\\n\\t\\t\\r\\n\\t(\\uc11c\\uc6b8=\\uc5f0\\ud569\\uc778\\ud3ec\\ub9e5\\uc2a4) \\uc815\\uc120\\ubbf8 \\uae30\\uc790 = \\uc911\\uad6d\\uc758 \\uacbd\\uae30 \\ubd80\\uc9c4\\uc774 \\ub2e8\\uae30\\uac04 \\ub0b4\\uc5d0 \\ud574\\uc18c\\ub418\\uc9c0 \\uc54a\\uc744 \\uac83\\uc774\\ub77c\\uace0 \\ud638\\uc8fc\\ub274\\uc9c8\\ub79c\\ub4dc\\uc740\\ud589(ANZ)\\uc774 \\uc9c4\\ub2e8\\ud588\\ub2e4.\"</th>\n",
       "      <th>\"\\n12\\uc77c \\ub2e4\\uc6b0\\uc874\\uc2a4\\uc5d0 \\ub530\\ub974\\uba74 ANZ\\ub294 2\\ubd84\\uae30 \\uc911\\uad6d\\uc758 \\uad6d\\ub0b4\\ucd1d\\uc0dd\\uc0b0(GDP) \\uc131\\uc7a5\\ub960\\uc774 \\uc0ac\\uc0c1 \\ucd5c\\uc800\\uce58\\uc778 6.2%\\ub97c \\uae30\\ub85d\\ud588\\uc744 \\uac83\\uc73c\\ub85c \\uc608\\uc0c1\\ud55c\\ub2e4\\uba74\\uc11c \\uc774\\uac19\\uc774 \\ub9d0\\ud588\\ub2e4.\"</th>\n",
       "      <th>\"\\nANZ \\uc608\\uc0c1\\ub300\\ub85c\\ub77c\\uba74 2\\ubd84\\uae30 \\uc131\\uc7a5\\ub960\\uc740 \\ubd84\\uae30 \\uc131\\uc7a5\\ub960 \\uc9d1\\uacc4\\uac00 \\ub098\\uc624\\uae30 \\uc2dc\\uc791\\ud55c 1992\\ub144 \\uc774\\ud6c4 \\ucd5c\\uc800\\uce58\\uc774\\ub2e4.\"</th>\n",
       "      <th>\"\\n\\uc9c0\\ub09c 1\\ubd84\\uae30\\uc5d0\\ub294 6.4%\\ub85c \\uae08\\uc735\\uc704\\uae30 \\ub54c\\uc778 2009\\ub144 1\\ubd84\\uae30\\uc640 \\uac19\\uc740 \\uc218\\uc900\\uc744 \\ub098\\ud0c0\\ub0c8\\ub2e4.\"</th>\n",
       "      <th>\"\\nANZ\\ub294 \\uc911\\uad6d \\uacbd\\uae30 \\ubd80\\uc9c4 \\ub54c\\ubb38\\uc5d0 \\uc778\\ubbfc\\uc740\\ud589\\uc740 \\uc62c\\ud574 \\ub0a8\\uc740 \\uae30\\uac04 \\uc644\\ud654\\uae30\\uc870\\ub97c \\uc720\\uc9c0\\ud560 \\uac83\\uc774\\ub77c\\uba74\\uc11c 7\\uc77c\\ubb3c \\uc5ed\\ud658\\ub9e4\\uc870\\uac74\\ubd80\\ucc44\\uad8c(\\uc5edRP) \\uae08\\ub9ac\\uc640 \\uc9c0\\uae09\\uc900\\ube44\\uc728(RRR\\u00b7\\uc9c0\\uc900\\uc728)\\uc744 \\uc778\\ud558\\ud560 \\uac83\\uc73c\\ub85c \\uc804\\ub9dd\\ud588\\ub2e4.\"</th>\n",
       "      <th>\"\\n\\uc740\\ud589\\uc740 \\uc911\\uad6d \\uc815\\ubd80\\uac00 \\ub300\\ub0b4\\uc678\\uc801\\uc778 \\uce21\\uba74 \\ubaa8\\ub450\\uc5d0\\uc11c \\uc810\\uc810 \\ub354 \\ud070 \\uc5b4\\ub824\\uc6c0\\uc5d0 \\uc9c1\\uba74\\ud558\\uace0 \\uc788\\ub2e4\\uace0 \\uc9c0\\uc801\\ud588\\ub2e4.\"</th>\n",
       "      <th>\"\\n\\uc911\\uad6d\\uc758 2\\ubd84\\uae30 GDP\\ub294 \\uc624\\ub294 15\\uc77c \\ubc1c\\ud45c\\ub41c\\ub2e4.\"</th>\n",
       "      <th>\"\\nANZ\\ub294 \\uac19\\uc740 \\ub0a0 \\ubc1c\\ud45c\\ub418\\ub294 \\uace0\\uc815\\uc790\\uc0b0\\ud22c\\uc790(FAI)\\uac00 \\ubc18\\ub4f1\\ud588\\ub2e4\\uba74 \\uc131\\uc7a5\\ub960 \\uc870\\uae30 \\uc548\\uc815\\uc744 \\uc2dc\\uc0ac\\ud558\\ub294 \\uac83\\uc77c \\uc218 \\uc788\\ub2e4\\uace0 \\ub367\\ubd99\\uc600\\ub2e4. \"</th>\n",
       "      <th>\"\\nsmjeong@yna.co.kr\"</th>\n",
       "      <th>\"\\n(\\ub05d)\"</th>\n",
       "      <th>\"\\ubcf8 \\uae30\\uc0ac\\ub294 \\uc778\\ud3ec\\ub9e5\\uc2a4 \\uae08\\uc735\\uc815\\ubcf4 \\ub2e8\\ub9d0\\uae30\\ub85c 14\\uc2dc 13\\ubd84\\uc5d0 \\uc11c\\ube44\\uc2a4\\ub41c \\uae30\\uc0ac\\uc785\\ub2c8\\ub2e4.\"</th>\n",
       "      <th>\"\\uc778\\ud3ec\\ub9e5\\uc2a4 \\uae08\\uc735\\uc815\\ubcf4 \\uc11c\\ube44\\uc2a4 \\ubb38\\uc758 (398-5209)\\r\\n\\r\\n\\t\\t\\r\\n\\t\\t\"</th>\n",
       "      <th>\"\\r\\n\\r\\n\\t\\t\"</th>\n",
       "      <th>\"\\r\\n\\r\\n\\t\\r\\n\\r\\n\\t\\r\\n\"]}</th>\n",
       "      <th>NaN</th>\n",
       "      <th>NaN</th>\n",
       "      <th>NaN</th>\n",
       "      <th>NaN</th>\n",
       "      <th>NaN</th>\n",
       "      <th>NaN</th>\n",
       "      <th>NaN</th>\n",
       "      <th>NaN</th>\n",
       "      <th>NaN</th>\n",
       "      <th>NaN</th>\n",
       "      <th>NaN</th>\n",
       "      <th>NaN</th>\n",
       "      <td>NaN</td>\n",
       "    </tr>\n",
       "  </tbody>\n",
       "</table>\n",
       "</div>"
      ],
      "text/plain": [
       "                                                                                                                                                                                                                                                                                                                                                                                                                                                                                                                                                                                                                                                                                                                                                                                                                                                                                                                                                                                                                                                                                                                                                                                                                                                                                                                 [\n",
       "{\"title\": \"[\\uc11c\\ud658] \\uacb0\\uc81c \\uc6b0\\u...  \"content\": [\"\\r\\n\\t\\r\\n\\t\\t\\r\\n\\t\\t\\r\\n\\t(\\uc1...  \"\\n12\\uc77c \\uc11c\\uc6b8 \\uc678\\ud658\\uc2dc\\uc... 177.10\\uc6d0\\uc5d0 \\uac70\\ub798\\ub410\\ub2e4. \"      \"\\n\\uc9c0\\ub09c 6\\uc6d4 \\ubbf8\\uad6d \\uc18c\\ub... 170\\uc6d0\\ub300 \\ud6c4\\ubc18\\uc5d0\\uc11c \\ub4f1...  \"\\n\\uc2e4\\uc218\\uc694\\uac00 \\ub9ce\\uc9c0 \\uc54...  \"\\n\\uc624\\uc804 \\uc911 1                          177.70\\uc6d0\\uae4c\\uc9c0 \\uace0\\uc810\\uc744 \\ub...  \"\\n\\uc81c\\ub86c \\ud30c\\uc6d4 \\uc5f0\\ubc29\\uc90...  \"\\n1                                              170\\uc6d0\\ub300 \\ud6c4\\ubc18\\uc5d0\\uc120 \\uc218...  \"\\n\\uc624\\ub294 18\\uc77c \\uc81c3\\uad6d \\uc911\\...  \"\\n\\ud55c \\uc2dc\\uc911\\uc740\\ud589 \\uc678\\ud65...  \"\\n\\uadf8\\ub294 \\uc774\\uc5b4 \\\"\\uc810\\uc2ec\\uc... 180\\uc6d0\\uc744 \\ub118\\uae34 \\uc5b4\\ub824\\uc6b8...  \"\\n\\uac19\\uc740 \\uc2dc\\uac01 \\ub2ec\\ub7ec-\\uc5...  \\uc720\\ub85c-\\ub2ec\\ub7ec \\ud658\\uc728\\uc740 0...  \"\\n\\uc5d4-\\uc6d0 \\uc7ac\\uc815\\ud658\\uc728\\uc74... 085.82\\uc6d0\\uc744 \\ub098\\ud0c0\\ub0c8\\uace0         \\uc704\\uc548-\\uc6d0 \\ud658\\uc728\\uc740 1\\uc704...  \"\\nsyyoon@yna.co.kr\"          \"\\n(\\ub05d)\"  \"\\ubcf8 \\uae30\\uc0ac\\ub294 \\uc778\\ud3ec\\ub9e5\\...  \"\\uc778\\ud3ec\\ub9e5\\uc2a4 \\uae08\\uc735\\uc815\\u...  \"\\r\\n\\r\\n\\t\\t\"  \"\\r\\n\\r\\n\\t\\r\\n\\r\\n\\t\\r\\n\"]} NaN\n",
       "{\"title\": \"JP\\ubaa8\\uac74 \\\"\\uc5f0\\uc900 \\uae08...  \\uc778\\ubbfc\\uc740\\ud589 \\uc228\\ud1b5 \\uc5f4\\u...  \"content\": [\"\\r\\n\\t\\r\\n\\t\\t\\r\\n\\t\\t\\r\\n\\t(\\uc1...  \"\\n11\\uc77c(\\ud604\\uc9c0\\uc2dc\\uac04) CNBC\\ub2...  \"\\n\\uc911\\uad6d \\uacbd\\uc81c\\ub294 \\ubbf8\\u00b...  \"\\n\\uc9c0\\ub09c 6\\uc6d4 \\uc911\\uad6d \\ucc28\\uc...  \"\\n\\uc778\\ubbfc\\uc740\\ud589\\uc740 \\uc774\\uc640...  \"\\n\\uc774\\uc5d0 \\ub300\\ud574 JP\\ubaa8\\uac74\\uc...  \"\\n\\uc564\\ub354\\uc2a4 \\uc804\\ub7b5\\uac00\\ub294...  \"\\n\\uc778\\ubbfc\\uc740\\ud589\\uc774 \\ud658\\uc728...  \"\\n\\ub610 \\uc5f0\\uc900\\uc758 \\uae08\\ub9ac \\uc7...  \"\\n\\uba87\\uba87 \\uc804\\ubb38\\uac00\\ub4e4\\uc740...  \"\\n\\uc2dc\\uc7a5 \\uc870\\uc0ac\\uae30\\uad00 \\ucc2...  \"\\n\\ub2e4\\ub9cc \\ubc00\\ub7ec CEO\\ub294 \\\"(\\uad...  \"\\n\\ud55c\\ud3b8 \\ub9e5\\ucffc\\ub9ac\\uc758 \\ub79...  \"\\n\\ud6c4 \\uc774\\ucf54\\ub178\\ubbf8\\uc2a4\\ud2b8...  \"\\njwyoon@yna.co.kr\"                               \"\\n(\\ub05d)\"                                       \"\\ubcf8 \\uae30\\uc0ac\\ub294 \\uc778\\ud3ec\\ub9e5\\...  \"\\uc778\\ud3ec\\ub9e5\\uc2a4 \\uae08\\uc735\\uc815\\u...  \"\\r\\n\\r\\n\\t\\t\"                                     \"\\r\\n\\r\\n\\t\\r\\n\\r\\n\\t\\r\\n\"]} NaN           NaN                                                NaN                                                NaN             NaN                           NaN\n",
       "{\"title\": \"\\uae30\\uc7ac\\ubd80 \\\"\\uc218\\ucd9c\\u3...  \"content\": [\"\\r\\n\\t\\r\\n\\t\\t\\r\\n\\t\\t\\r\\n\\t\"         \"\\r\\n\\r\\n\"                                         \"\\r\\n\\r\\n\\t\\t\\r\\n\\t\\t\"                             \"\\r\\n\\r\\n\\t\\t\"                                     \"\\r\\n\\r\\n\\t\\r\\n\\r\\n\\t\\r\\n\"]}                      NaN                                                NaN                                                NaN                                                NaN                                                NaN                                                NaN                                                NaN                                                NaN                                                NaN                                                NaN                                                NaN                                                NaN                                                NaN                                                NaN                                                NaN                                                NaN                           NaN           NaN                                                NaN                                                NaN             NaN                           NaN\n",
       "{\"title\": \"\\uae08\\ub9ac\\uc778\\ud558 \\uc784\\ubc1...  \"content\": [\"\\r\\n\\t\\r\\n\\t\\t\\r\\n\\t\\t\\r\\n\\t\"         \"\\r\\n\\r\\n\\t\\t\\r\\n\\t\\t\"                             \"\\r\\n\\r\\n\\t\\t\"                                     \"\\r\\n\\r\\n\\t\\r\\n\\r\\n\\t\\r\\n\"]}                      NaN                                                NaN                                                NaN                                                NaN                                                NaN                                                NaN                                                NaN                                                NaN                                                NaN                                                NaN                                                NaN                                                NaN                                                NaN                                                NaN                                                NaN                                                NaN                                                NaN                           NaN           NaN                                                NaN                                                NaN             NaN                           NaN\n",
       "{\"title\": \"ANZ \\\"\\u4e2d 2Q \\uc131\\uc7a5\\ub960 \\...  \"content\": [\"\\r\\n\\t\\r\\n\\t\\t\\r\\n\\t\\t\\r\\n\\t(\\uc1...  \"\\n12\\uc77c \\ub2e4\\uc6b0\\uc874\\uc2a4\\uc5d0 \\ub...  \"\\nANZ \\uc608\\uc0c1\\ub300\\ub85c\\ub77c\\uba74 2\\...  \"\\n\\uc9c0\\ub09c 1\\ubd84\\uae30\\uc5d0\\ub294 6.4%...  \"\\nANZ\\ub294 \\uc911\\uad6d \\uacbd\\uae30 \\ubd80\\...  \"\\n\\uc740\\ud589\\uc740 \\uc911\\uad6d \\uc815\\ubd8...  \"\\n\\uc911\\uad6d\\uc758 2\\ubd84\\uae30 GDP\\ub294 ...  \"\\nANZ\\ub294 \\uac19\\uc740 \\ub0a0 \\ubc1c\\ud45c\\...  \"\\nsmjeong@yna.co.kr\"                              \"\\n(\\ub05d)\"                                       \"\\ubcf8 \\uae30\\uc0ac\\ub294 \\uc778\\ud3ec\\ub9e5\\...  \"\\uc778\\ud3ec\\ub9e5\\uc2a4 \\uae08\\uc735\\uc815\\u...  \"\\r\\n\\r\\n\\t\\t\"                                     \"\\r\\n\\r\\n\\t\\r\\n\\r\\n\\t\\r\\n\"]}                      NaN                                                NaN                                                NaN                                                NaN                                                NaN                                                NaN                                                NaN                           NaN           NaN                                                NaN                                                NaN             NaN                           NaN"
      ]
     },
     "execution_count": 41,
     "metadata": {},
     "output_type": "execute_result"
    }
   ],
   "source": [
    "data.head()"
   ]
  },
  {
   "cell_type": "code",
   "execution_count": 40,
   "metadata": {},
   "outputs": [
    {
     "name": "stderr",
     "output_type": "stream",
     "text": [
      "b'Skipping line 4: expected 28 fields, saw 35\\nSkipping line 6: expected 28 fields, saw 57\\nSkipping line 7: expected 28 fields, saw 38\\nSkipping line 8: expected 28 fields, saw 32\\nSkipping line 11: expected 28 fields, saw 30\\nSkipping line 12: expected 28 fields, saw 143\\nSkipping line 13: expected 28 fields, saw 32\\nSkipping line 16: expected 28 fields, saw 43\\nSkipping line 18: expected 28 fields, saw 43\\nSkipping line 22: expected 28 fields, saw 50\\nSkipping line 23: expected 28 fields, saw 46\\nSkipping line 25: expected 28 fields, saw 34\\nSkipping line 26: expected 28 fields, saw 72\\nSkipping line 28: expected 28 fields, saw 35\\nSkipping line 30: expected 28 fields, saw 36\\nSkipping line 36: expected 28 fields, saw 58\\nSkipping line 38: expected 28 fields, saw 35\\nSkipping line 43: expected 28 fields, saw 33\\nSkipping line 44: expected 28 fields, saw 47\\nSkipping line 45: expected 28 fields, saw 83\\nSkipping line 46: expected 28 fields, saw 29\\nSkipping line 48: expected 28 fields, saw 36\\nSkipping line 49: expected 28 fields, saw 58\\nSkipping line 51: expected 28 fields, saw 29\\nSkipping line 52: expected 28 fields, saw 31\\nSkipping line 55: expected 28 fields, saw 42\\nSkipping line 57: expected 28 fields, saw 29\\nSkipping line 62: expected 28 fields, saw 57\\nSkipping line 66: expected 28 fields, saw 32\\nSkipping line 69: expected 28 fields, saw 32\\nSkipping line 72: expected 28 fields, saw 57\\nSkipping line 74: expected 28 fields, saw 33\\nSkipping line 76: expected 28 fields, saw 38\\nSkipping line 78: expected 28 fields, saw 66\\nSkipping line 79: expected 28 fields, saw 30\\nSkipping line 81: expected 28 fields, saw 30\\nSkipping line 82: expected 28 fields, saw 128\\nSkipping line 83: expected 28 fields, saw 34\\nSkipping line 84: expected 28 fields, saw 33\\nSkipping line 86: expected 28 fields, saw 78\\nSkipping line 88: expected 28 fields, saw 30\\nSkipping line 93: expected 28 fields, saw 43\\nSkipping line 94: expected 28 fields, saw 78\\nSkipping line 97: expected 28 fields, saw 43\\nSkipping line 100: expected 28 fields, saw 50\\nSkipping line 102: expected 28 fields, saw 143\\nSkipping line 106: expected 28 fields, saw 34\\nSkipping line 109: expected 28 fields, saw 36\\nSkipping line 114: expected 28 fields, saw 46\\nSkipping line 117: expected 28 fields, saw 72\\nSkipping line 118: expected 28 fields, saw 42\\nSkipping line 122: expected 28 fields, saw 29\\nSkipping line 126: expected 28 fields, saw 58\\nSkipping line 127: expected 28 fields, saw 35\\nSkipping line 134: expected 28 fields, saw 35\\nSkipping line 135: expected 28 fields, saw 83\\nSkipping line 136: expected 28 fields, saw 33\\nSkipping line 140: expected 28 fields, saw 36\\nSkipping line 142: expected 28 fields, saw 32\\nSkipping line 144: expected 28 fields, saw 29\\nSkipping line 145: expected 28 fields, saw 47\\nSkipping line 146: expected 28 fields, saw 58\\nSkipping line 147: expected 28 fields, saw 57\\nSkipping line 149: expected 28 fields, saw 29\\nSkipping line 152: expected 28 fields, saw 31\\nSkipping line 157: expected 28 fields, saw 32\\nSkipping line 159: expected 28 fields, saw 30\\nSkipping line 160: expected 28 fields, saw 57\\nSkipping line 161: expected 28 fields, saw 33\\nSkipping line 162: expected 28 fields, saw 38\\nSkipping line 164: expected 28 fields, saw 33\\nSkipping line 166: expected 28 fields, saw 30\\nSkipping line 167: expected 28 fields, saw 128\\nSkipping line 168: expected 28 fields, saw 66\\nSkipping line 169: expected 28 fields, saw 34\\nSkipping line 172: expected 28 fields, saw 30\\nSkipping line 173: expected 28 fields, saw 32\\nSkipping line 178: expected 28 fields, saw 30\\nSkipping line 179: expected 28 fields, saw 57\\nSkipping line 180: expected 28 fields, saw 38\\nSkipping line 181: expected 28 fields, saw 32\\nSkipping line 182: expected 28 fields, saw 34\\n'\n"
     ]
    }
   ],
   "source": [
    "data = pd.read_csv('yonhap.csv', error_bad_lines=False,encoding='utf8')"
   ]
  },
  {
   "cell_type": "code",
   "execution_count": 30,
   "metadata": {},
   "outputs": [
    {
     "ename": "SyntaxError",
     "evalue": "invalid syntax (<ipython-input-30-4b34d67e7f9f>, line 2)",
     "output_type": "error",
     "traceback": [
      "\u001b[1;36m  File \u001b[1;32m\"<ipython-input-30-4b34d67e7f9f>\"\u001b[1;36m, line \u001b[1;32m2\u001b[0m\n\u001b[1;33m    yonhap_dict['date']=\u001b[0m\n\u001b[1;37m                        ^\u001b[0m\n\u001b[1;31mSyntaxError\u001b[0m\u001b[1;31m:\u001b[0m invalid syntax\n"
     ]
    }
   ],
   "source": [
    "yonhap_dict={}\n",
    "yonhap_dict['date']=\n",
    "yonhap_dict['content']=\n",
    "yonhap=pd.DataFrame(yonhap_dict)"
   ]
  },
  {
   "cell_type": "code",
   "execution_count": 12,
   "metadata": {},
   "outputs": [],
   "source": [
    "yonhap=pd.DataFrame(columns=('title','content','date'))"
   ]
  },
  {
   "cell_type": "code",
   "execution_count": 13,
   "metadata": {},
   "outputs": [
    {
     "data": {
      "text/html": [
       "<div>\n",
       "<style scoped>\n",
       "    .dataframe tbody tr th:only-of-type {\n",
       "        vertical-align: middle;\n",
       "    }\n",
       "\n",
       "    .dataframe tbody tr th {\n",
       "        vertical-align: top;\n",
       "    }\n",
       "\n",
       "    .dataframe thead th {\n",
       "        text-align: right;\n",
       "    }\n",
       "</style>\n",
       "<table border=\"1\" class=\"dataframe\">\n",
       "  <thead>\n",
       "    <tr style=\"text-align: right;\">\n",
       "      <th></th>\n",
       "      <th>title</th>\n",
       "      <th>content</th>\n",
       "      <th>date</th>\n",
       "    </tr>\n",
       "  </thead>\n",
       "  <tbody>\n",
       "  </tbody>\n",
       "</table>\n",
       "</div>"
      ],
      "text/plain": [
       "Empty DataFrame\n",
       "Columns: [title, content, date]\n",
       "Index: []"
      ]
     },
     "execution_count": 13,
     "metadata": {},
     "output_type": "execute_result"
    }
   ],
   "source": [
    "yonhap.head()"
   ]
  },
  {
   "cell_type": "code",
   "execution_count": 14,
   "metadata": {},
   "outputs": [
    {
     "ename": "SyntaxError",
     "evalue": "(unicode error) 'unicodeescape' codec can't decode bytes in position 2-3: truncated \\UXXXXXXXX escape (<ipython-input-14-e0773f6ff53f>, line 2)",
     "output_type": "error",
     "traceback": [
      "\u001b[1;36m  File \u001b[1;32m\"<ipython-input-14-e0773f6ff53f>\"\u001b[1;36m, line \u001b[1;32m2\u001b[0m\n\u001b[1;33m    yonhap = load_workbook(\"C:\\Users\\student\\yonhap.csv\", data_only=True)\u001b[0m\n\u001b[1;37m                          ^\u001b[0m\n\u001b[1;31mSyntaxError\u001b[0m\u001b[1;31m:\u001b[0m (unicode error) 'unicodeescape' codec can't decode bytes in position 2-3: truncated \\UXXXXXXXX escape\n"
     ]
    }
   ],
   "source": [
    "from openpyxl import load_workbook\n",
    "yonhap = load_workbook(\"C:\\Users\\student\\yonhap.csv\", data_only=True)"
   ]
  },
  {
   "cell_type": "code",
   "execution_count": 15,
   "metadata": {},
   "outputs": [],
   "source": [
    "from openpyxl import load_workbook"
   ]
  },
  {
   "cell_type": "code",
   "execution_count": 25,
   "metadata": {},
   "outputs": [
    {
     "ename": "FileNotFoundError",
     "evalue": "[Errno 2] No such file or directory: '/Users/student/yonhap.xlsx'",
     "output_type": "error",
     "traceback": [
      "\u001b[1;31m---------------------------------------------------------------------------\u001b[0m",
      "\u001b[1;31mFileNotFoundError\u001b[0m                         Traceback (most recent call last)",
      "\u001b[1;32m<ipython-input-25-61cd46221aea>\u001b[0m in \u001b[0;36m<module>\u001b[1;34m\u001b[0m\n\u001b[1;32m----> 1\u001b[1;33m \u001b[0myonhap\u001b[0m \u001b[1;33m=\u001b[0m \u001b[0mload_workbook\u001b[0m\u001b[1;33m(\u001b[0m\u001b[1;34m\"/Users/student/yonhap.xlsx\"\u001b[0m\u001b[1;33m,\u001b[0m \u001b[0mdata_only\u001b[0m\u001b[1;33m=\u001b[0m\u001b[1;32mTrue\u001b[0m\u001b[1;33m)\u001b[0m\u001b[1;33m\u001b[0m\u001b[1;33m\u001b[0m\u001b[0m\n\u001b[0m",
      "\u001b[1;32mC:\\ProgramData\\Anaconda3\\lib\\site-packages\\openpyxl\\reader\\excel.py\u001b[0m in \u001b[0;36mload_workbook\u001b[1;34m(filename, read_only, keep_vba, data_only, keep_links)\u001b[0m\n\u001b[0;32m    309\u001b[0m     \"\"\"\n\u001b[0;32m    310\u001b[0m     reader = ExcelReader(filename, read_only, keep_vba,\n\u001b[1;32m--> 311\u001b[1;33m                         data_only, keep_links)\n\u001b[0m\u001b[0;32m    312\u001b[0m     \u001b[0mreader\u001b[0m\u001b[1;33m.\u001b[0m\u001b[0mread\u001b[0m\u001b[1;33m(\u001b[0m\u001b[1;33m)\u001b[0m\u001b[1;33m\u001b[0m\u001b[1;33m\u001b[0m\u001b[0m\n\u001b[0;32m    313\u001b[0m     \u001b[1;32mreturn\u001b[0m \u001b[0mreader\u001b[0m\u001b[1;33m.\u001b[0m\u001b[0mwb\u001b[0m\u001b[1;33m\u001b[0m\u001b[1;33m\u001b[0m\u001b[0m\n",
      "\u001b[1;32mC:\\ProgramData\\Anaconda3\\lib\\site-packages\\openpyxl\\reader\\excel.py\u001b[0m in \u001b[0;36m__init__\u001b[1;34m(self, fn, read_only, keep_vba, data_only, keep_links)\u001b[0m\n\u001b[0;32m    124\u001b[0m     def __init__(self,  fn, read_only=False, keep_vba=KEEP_VBA,\n\u001b[0;32m    125\u001b[0m                   data_only=False, keep_links=True):\n\u001b[1;32m--> 126\u001b[1;33m         \u001b[0mself\u001b[0m\u001b[1;33m.\u001b[0m\u001b[0marchive\u001b[0m \u001b[1;33m=\u001b[0m \u001b[0m_validate_archive\u001b[0m\u001b[1;33m(\u001b[0m\u001b[0mfn\u001b[0m\u001b[1;33m)\u001b[0m\u001b[1;33m\u001b[0m\u001b[1;33m\u001b[0m\u001b[0m\n\u001b[0m\u001b[0;32m    127\u001b[0m         \u001b[0mself\u001b[0m\u001b[1;33m.\u001b[0m\u001b[0mvalid_files\u001b[0m \u001b[1;33m=\u001b[0m \u001b[0mself\u001b[0m\u001b[1;33m.\u001b[0m\u001b[0marchive\u001b[0m\u001b[1;33m.\u001b[0m\u001b[0mnamelist\u001b[0m\u001b[1;33m(\u001b[0m\u001b[1;33m)\u001b[0m\u001b[1;33m\u001b[0m\u001b[1;33m\u001b[0m\u001b[0m\n\u001b[0;32m    128\u001b[0m         \u001b[0mself\u001b[0m\u001b[1;33m.\u001b[0m\u001b[0mread_only\u001b[0m \u001b[1;33m=\u001b[0m \u001b[0mread_only\u001b[0m\u001b[1;33m\u001b[0m\u001b[1;33m\u001b[0m\u001b[0m\n",
      "\u001b[1;32mC:\\ProgramData\\Anaconda3\\lib\\site-packages\\openpyxl\\reader\\excel.py\u001b[0m in \u001b[0;36m_validate_archive\u001b[1;34m(filename)\u001b[0m\n\u001b[0;32m     96\u001b[0m             \u001b[1;32mraise\u001b[0m \u001b[0mInvalidFileException\u001b[0m\u001b[1;33m(\u001b[0m\u001b[0mmsg\u001b[0m\u001b[1;33m)\u001b[0m\u001b[1;33m\u001b[0m\u001b[1;33m\u001b[0m\u001b[0m\n\u001b[0;32m     97\u001b[0m \u001b[1;33m\u001b[0m\u001b[0m\n\u001b[1;32m---> 98\u001b[1;33m     \u001b[0marchive\u001b[0m \u001b[1;33m=\u001b[0m \u001b[0mZipFile\u001b[0m\u001b[1;33m(\u001b[0m\u001b[0mfilename\u001b[0m\u001b[1;33m,\u001b[0m \u001b[1;34m'r'\u001b[0m\u001b[1;33m)\u001b[0m\u001b[1;33m\u001b[0m\u001b[1;33m\u001b[0m\u001b[0m\n\u001b[0m\u001b[0;32m     99\u001b[0m     \u001b[1;32mreturn\u001b[0m \u001b[0marchive\u001b[0m\u001b[1;33m\u001b[0m\u001b[1;33m\u001b[0m\u001b[0m\n\u001b[0;32m    100\u001b[0m \u001b[1;33m\u001b[0m\u001b[0m\n",
      "\u001b[1;32mC:\\ProgramData\\Anaconda3\\lib\\zipfile.py\u001b[0m in \u001b[0;36m__init__\u001b[1;34m(self, file, mode, compression, allowZip64, compresslevel)\u001b[0m\n\u001b[0;32m   1202\u001b[0m             \u001b[1;32mwhile\u001b[0m \u001b[1;32mTrue\u001b[0m\u001b[1;33m:\u001b[0m\u001b[1;33m\u001b[0m\u001b[1;33m\u001b[0m\u001b[0m\n\u001b[0;32m   1203\u001b[0m                 \u001b[1;32mtry\u001b[0m\u001b[1;33m:\u001b[0m\u001b[1;33m\u001b[0m\u001b[1;33m\u001b[0m\u001b[0m\n\u001b[1;32m-> 1204\u001b[1;33m                     \u001b[0mself\u001b[0m\u001b[1;33m.\u001b[0m\u001b[0mfp\u001b[0m \u001b[1;33m=\u001b[0m \u001b[0mio\u001b[0m\u001b[1;33m.\u001b[0m\u001b[0mopen\u001b[0m\u001b[1;33m(\u001b[0m\u001b[0mfile\u001b[0m\u001b[1;33m,\u001b[0m \u001b[0mfilemode\u001b[0m\u001b[1;33m)\u001b[0m\u001b[1;33m\u001b[0m\u001b[1;33m\u001b[0m\u001b[0m\n\u001b[0m\u001b[0;32m   1205\u001b[0m                 \u001b[1;32mexcept\u001b[0m \u001b[0mOSError\u001b[0m\u001b[1;33m:\u001b[0m\u001b[1;33m\u001b[0m\u001b[1;33m\u001b[0m\u001b[0m\n\u001b[0;32m   1206\u001b[0m                     \u001b[1;32mif\u001b[0m \u001b[0mfilemode\u001b[0m \u001b[1;32min\u001b[0m \u001b[0mmodeDict\u001b[0m\u001b[1;33m:\u001b[0m\u001b[1;33m\u001b[0m\u001b[1;33m\u001b[0m\u001b[0m\n",
      "\u001b[1;31mFileNotFoundError\u001b[0m: [Errno 2] No such file or directory: '/Users/student/yonhap.xlsx'"
     ]
    }
   ],
   "source": [
    "yonhap = load_workbook(\"/Users/student/yonhap.xlsx\", data_only=True)"
   ]
  },
  {
   "cell_type": "code",
   "execution_count": 44,
   "metadata": {},
   "outputs": [
    {
     "data": {
      "text/plain": [
       "str"
      ]
     },
     "execution_count": 44,
     "metadata": {},
     "output_type": "execute_result"
    }
   ],
   "source": [
    "type(yonhap)"
   ]
  },
  {
   "cell_type": "code",
   "execution_count": null,
   "metadata": {},
   "outputs": [],
   "source": []
  }
 ],
 "metadata": {
  "kernelspec": {
   "display_name": "Python 3",
   "language": "python",
   "name": "python3"
  },
  "language_info": {
   "codemirror_mode": {
    "name": "ipython",
    "version": 3
   },
   "file_extension": ".py",
   "mimetype": "text/x-python",
   "name": "python",
   "nbconvert_exporter": "python",
   "pygments_lexer": "ipython3",
   "version": "3.7.3"
  }
 },
 "nbformat": 4,
 "nbformat_minor": 2
}
