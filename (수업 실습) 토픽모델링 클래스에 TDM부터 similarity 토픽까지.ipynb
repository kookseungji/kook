{
 "cells": [
  {
   "cell_type": "code",
   "execution_count": 6,
   "metadata": {},
   "outputs": [],
   "source": [
    "doc_ls = ['바나나 사과 포도 포도',\n",
    "'사과 포도',\n",
    "'포도 바나나',\n",
    "'짜장면 짬뽕 탕수욕',\n",
    "'볶음밥 탕수욕',\n",
    "'짜장면 짬뽕',\n",
    "'라면 스시',\n",
    "'스시',\n",
    "'가츠동 스시 소바',\n",
    "'된장찌개 김치찌개 김치',\n",
    "'김치 된장',\n",
    "'비빔밥 김치'\n",
    "]\n",
    "import pandas as pd\n",
    "import numpy as np\n",
    "from collections import defaultdict"
   ]
  },
  {
   "cell_type": "code",
   "execution_count": 11,
   "metadata": {
    "scrolled": true
   },
   "outputs": [
    {
     "ename": "ValueError",
     "evalue": "'사과 포도' is not in list",
     "output_type": "error",
     "traceback": [
      "\u001b[1;31m---------------------------------------------------------------------------\u001b[0m",
      "\u001b[1;31mValueError\u001b[0m                                Traceback (most recent call last)",
      "\u001b[1;32m<ipython-input-11-48e80b8a1d61>\u001b[0m in \u001b[0;36m<module>\u001b[1;34m\u001b[0m\n\u001b[0;32m     83\u001b[0m \u001b[0mlsa\u001b[0m\u001b[1;33m.\u001b[0m\u001b[0mGetTermSimilarity\u001b[0m\u001b[1;33m(\u001b[0m\u001b[1;34m'사과'\u001b[0m\u001b[1;33m,\u001b[0m\u001b[1;34m'바나나'\u001b[0m\u001b[1;33m)\u001b[0m\u001b[1;33m\u001b[0m\u001b[1;33m\u001b[0m\u001b[0m\n\u001b[0;32m     84\u001b[0m \u001b[0mlsa\u001b[0m\u001b[1;33m.\u001b[0m\u001b[0mGetTermSimilarity\u001b[0m\u001b[1;33m(\u001b[0m\u001b[1;34m'사과'\u001b[0m\u001b[1;33m,\u001b[0m\u001b[1;34m'짜장면'\u001b[0m\u001b[1;33m)\u001b[0m\u001b[1;33m\u001b[0m\u001b[1;33m\u001b[0m\u001b[0m\n\u001b[1;32m---> 85\u001b[1;33m \u001b[0mlsa\u001b[0m\u001b[1;33m.\u001b[0m\u001b[0mGetDocSimilarity\u001b[0m\u001b[1;33m(\u001b[0m\u001b[1;34m'사과 포도'\u001b[0m\u001b[1;33m,\u001b[0m \u001b[1;34m'포도 바나나'\u001b[0m\u001b[1;33m)\u001b[0m\u001b[1;33m\u001b[0m\u001b[1;33m\u001b[0m\u001b[0m\n\u001b[0m\u001b[0;32m     86\u001b[0m \u001b[0mlsa\u001b[0m\u001b[1;33m.\u001b[0m\u001b[0mGetDocSimilarity\u001b[0m\u001b[1;33m(\u001b[0m\u001b[1;34m'사과 포도'\u001b[0m\u001b[1;33m,\u001b[0m \u001b[1;34m'라면 스시'\u001b[0m\u001b[1;33m)\u001b[0m\u001b[1;33m\u001b[0m\u001b[1;33m\u001b[0m\u001b[0m\n\u001b[0;32m     87\u001b[0m \u001b[0mlsa\u001b[0m\u001b[1;33m.\u001b[0m\u001b[0mGetTermDocSimilarity\u001b[0m\u001b[1;33m(\u001b[0m\u001b[1;34m'사과'\u001b[0m\u001b[1;33m,\u001b[0m \u001b[1;34m'포도 바나나'\u001b[0m\u001b[1;33m)\u001b[0m\u001b[1;33m\u001b[0m\u001b[1;33m\u001b[0m\u001b[0m\n",
      "\u001b[1;32m<ipython-input-11-48e80b8a1d61>\u001b[0m in \u001b[0;36mGetDocSimilarity\u001b[1;34m(self, doc1, doc2)\u001b[0m\n\u001b[0;32m     65\u001b[0m         \u001b[0mU\u001b[0m\u001b[1;33m,\u001b[0m \u001b[0ms\u001b[0m\u001b[1;33m,\u001b[0m \u001b[0mVT\u001b[0m \u001b[1;33m=\u001b[0m \u001b[0mnp\u001b[0m\u001b[1;33m.\u001b[0m\u001b[0mlinalg\u001b[0m\u001b[1;33m.\u001b[0m\u001b[0msvd\u001b[0m\u001b[1;33m(\u001b[0m\u001b[0mtdm\u001b[0m\u001b[1;33m)\u001b[0m\u001b[1;33m\u001b[0m\u001b[1;33m\u001b[0m\u001b[0m\n\u001b[0;32m     66\u001b[0m         \u001b[0mdoc_vec_matrix\u001b[0m\u001b[1;33m=\u001b[0m\u001b[0mnp\u001b[0m\u001b[1;33m.\u001b[0m\u001b[0mdot\u001b[0m\u001b[1;33m(\u001b[0m\u001b[0ms\u001b[0m\u001b[1;33m,\u001b[0m\u001b[0mnp\u001b[0m\u001b[1;33m.\u001b[0m\u001b[0mmatrix\u001b[0m\u001b[1;33m(\u001b[0m\u001b[0mVT\u001b[0m\u001b[1;33m[\u001b[0m\u001b[1;33m:\u001b[0m\u001b[1;36m12\u001b[0m\u001b[1;33m,\u001b[0m\u001b[1;33m:\u001b[0m\u001b[1;33m]\u001b[0m\u001b[1;33m)\u001b[0m\u001b[1;33m)\u001b[0m\u001b[1;33m.\u001b[0m\u001b[0mT\u001b[0m\u001b[1;33m\u001b[0m\u001b[1;33m\u001b[0m\u001b[0m\n\u001b[1;32m---> 67\u001b[1;33m         \u001b[0mdoc1\u001b[0m\u001b[1;33m=\u001b[0m\u001b[0mdoc_vec_matrix\u001b[0m\u001b[1;33m[\u001b[0m\u001b[0mtoken_in_order\u001b[0m\u001b[1;33m.\u001b[0m\u001b[0mindex\u001b[0m\u001b[1;33m(\u001b[0m\u001b[0mdoc1\u001b[0m\u001b[1;33m)\u001b[0m\u001b[1;33m]\u001b[0m\u001b[1;33m\u001b[0m\u001b[1;33m\u001b[0m\u001b[0m\n\u001b[0m\u001b[0;32m     68\u001b[0m         \u001b[0mdoc2\u001b[0m\u001b[1;33m=\u001b[0m\u001b[0mdoc_vec_matrix\u001b[0m\u001b[1;33m[\u001b[0m\u001b[0mtoken_in_order\u001b[0m\u001b[1;33m.\u001b[0m\u001b[0mindex\u001b[0m\u001b[1;33m(\u001b[0m\u001b[0mdoc2\u001b[0m\u001b[1;33m)\u001b[0m\u001b[1;33m]\u001b[0m\u001b[1;33m\u001b[0m\u001b[1;33m\u001b[0m\u001b[0m\n\u001b[0;32m     69\u001b[0m         \u001b[0mnominator\u001b[0m\u001b[1;33m=\u001b[0m\u001b[0mnp\u001b[0m\u001b[1;33m.\u001b[0m\u001b[0mdot\u001b[0m\u001b[1;33m(\u001b[0m\u001b[0mdoc1\u001b[0m\u001b[1;33m,\u001b[0m \u001b[0mdoc2\u001b[0m\u001b[1;33m.\u001b[0m\u001b[0mT\u001b[0m\u001b[1;33m)\u001b[0m\u001b[1;33m\u001b[0m\u001b[1;33m\u001b[0m\u001b[0m\n",
      "\u001b[1;31mValueError\u001b[0m: '사과 포도' is not in list"
     ]
    }
   ],
   "source": [
    "class LSA :\n",
    "    def __init__(self, doc_ls, topic_num):\n",
    "        self.doc_ls = doc_ls\n",
    "        self.topic_num = topic_num\n",
    "        self.term2idx, self.idx2term = self.toIdxDict(' '.join(doc_ls).split())\n",
    "        self.doc2idx, self.idx2doc = self.toIdxDict(doc_ls)\n",
    "        self.tdm = self.TDM(doc_ls)\n",
    "        self.U, self.s, self.VT = self.SVD(self.tdm)\n",
    "        pass\n",
    "\n",
    "    def TDM(self, doc_ls):\n",
    "       \n",
    "        \n",
    "        return tdm        \n",
    "        pass\n",
    "\n",
    "    def TopicModeling(self) :\n",
    "        for i in range(topic_num):\n",
    "            score=self.U[:,i:i+1]\n",
    "            \n",
    "        pass\n",
    "\n",
    "    # 문서를 입력했을 때 문서 벡터 반환\n",
    "    def GetDocVector(self, doc):\n",
    "        pass\n",
    "    # 단어-문서 벡터 행렬 생성\n",
    "    def TermDocVectorMatrix(self, u, s, vt):\n",
    "        pass\n",
    "    # 단어 벡터 행렬에서 단어 간 코사인 유사도 측정하여 행렬형태로 반환\n",
    "    def TermSimilarityMatrix(self, term_vec_matrix):\n",
    "        pass\n",
    "\n",
    "    def GetTermSimilarity(self, term1, term2):\n",
    "        document_ls=[i.split()  for i in doc_ls]\n",
    "        token_dict=defaultdict(lambda:len(token_dict))\n",
    "        for document in document_ls:\n",
    "            for token in document:\n",
    "                token_dict[token]\n",
    "        index_token=sorted((value,key) for key,value in token_dict.items())\n",
    "        token_in_order=[tup[1] for tup in index_token]\n",
    "        n_word = len(token_dict) \n",
    "        n_doc = len(document_ls)\n",
    "        TDM=pd.DataFrame(np.zeros((n_doc,n_word)),columns=token_in_order,index=['문서1','문서2','문서3','문서4','문서5','문서6','문서7','문서8','문서9','문서10','문서11','문서12'],dtype=int)\n",
    "        \n",
    "        for i,document in enumerate(document_ls):\n",
    "            for token in document:\n",
    "                token_location=token_dict[token]\n",
    "                TDM.iloc[i,token_location]+=1\n",
    "                tdm=TDM.T\n",
    "        \n",
    "        U, s, VT = np.linalg.svd(tdm)\n",
    "        term_vec_matrix=np.matrix(U[:, :topic_num])* np.diag(s[:topic_num])\n",
    "        term1= term_vec_matrix[token_in_order.index(term1)]\n",
    "        term2= term_vec_matrix[token_in_order.index(term2)]\n",
    "        nominator=np.dot(term1, term2.T)\n",
    "        denominator=np.linalg.norm(term1)*np.linalg.norm(term2)\n",
    "        return nominator/denominator\n",
    "        pass\n",
    "\n",
    "    def GetDocSimilarity(self, doc1, doc2):\n",
    "        document_ls=[i.split()  for i in doc_ls]\n",
    "        token_dict=defaultdict(lambda:len(token_dict))\n",
    "        for document in document_ls:\n",
    "            for token in document:\n",
    "                token_dict[token]\n",
    "        index_token=sorted((value,key) for key,value in token_dict.items())\n",
    "        token_in_order=[tup[1] for tup in index_token]\n",
    "        n_word = len(token_dict) \n",
    "        n_doc = len(document_ls)\n",
    "        TDM=pd.DataFrame(np.zeros((n_doc,n_word)),columns=token_in_order,index=['문서1','문서2','문서3','문서4','문서5','문서6','문서7','문서8','문서9','문서10','문서11','문서12'],dtype=int)\n",
    "        for i,document in enumerate(document_ls):\n",
    "            for token in document:\n",
    "                token_location=token_dict[token]\n",
    "                TDM.iloc[i,token_location]+=1\n",
    "                tdm=TDM.T\n",
    "        U, s, VT = np.linalg.svd(tdm)       \n",
    "        doc_vec_matrix=np.dot(s,np.matrix(VT[:topic_num,:])).T\n",
    "        doc1=doc_vec_matrix[token_in_order.index(doc1)]\n",
    "        doc2=doc_vec_matrix[token_in_order.index(doc2)]\n",
    "        nominator=np.dot(doc1, doc2.T)\n",
    "        denominator=np.linalg.norm(doc1)*np.linalg.norm(doc2)\n",
    "        return nominator/denominator\n",
    "        pass\n",
    "\n",
    "    def GetTermDocSimilarity(self, term1, doc1):\n",
    "        term1= term_vec_matrix[token_in_order.index(term1)]\n",
    "        doc1= doc_vec_matrix[token_in_order.index(doc1)]\n",
    "        nominator=np.dot(term1, doc1.T)\n",
    "        denominator=np.linalg.norm(term1)*np.linalg.norm(doc1)\n",
    "        return nominator/denominator\n",
    "        pass\n",
    "lsa = LSA(doc_ls, 3)\n",
    "lsa.TopicModeling()\n",
    "lsa.GetTermSimilarity('사과','바나나')\n",
    "lsa.GetTermSimilarity('사과','짜장면')\n",
    "lsa.GetDocSimilarity('사과 포도', '포도 바나나')\n",
    "lsa.GetDocSimilarity('사과 포도', '라면 스시')\n",
    "lsa.GetTermDocSimilarity('사과', '포도 바나나')\n",
    "lsa.GetTermDocSimilarity('사과', '김치 된장')"
   ]
  },
  {
   "cell_type": "code",
   "execution_count": 28,
   "metadata": {},
   "outputs": [],
   "source": [
    "import pandas as pd\n",
    "import numpy as np\n",
    "from collections import defaultdict\n",
    "document_ls=[i.split()  for i in doc_ls]\n",
    "token_dict=defaultdict(lambda:len(token_dict))\n",
    "for document in document_ls:\n",
    "    for token in document:\n",
    "        token_dict[token]\n",
    "index_token=sorted((value,key) for key,value in token_dict.items())\n",
    "token_in_order=[tup[1] for tup in index_token]\n",
    "n_word = len(token_dict) \n",
    "n_doc = len(document_ls)\n",
    "TDM=pd.DataFrame(np.zeros((n_doc,n_word)),columns=token_in_order,index=['문서1','문서2','문서3','문서4','문서5','문서6','문서7','문서8','문서9','문서10','문서11','문서12'],dtype=int)\n",
    "for i,document in enumerate(document_ls):\n",
    "    for token in document:\n",
    "        token_location=token_dict[token]\n",
    "        TDM.iloc[i,token_location]+=1  \n",
    "tdm=TDM.T        \n",
    "U, s, VT = np.linalg.svd(tdm)\n",
    "from sklearn. import randomizedsvd\n",
    "from ..utils.extmath import randomized_svd, safe_sparse_dot, svd_flip\n",
    "U,s,VT=randomized_svd(x,n_component=15,n_iter=5,random_state=None)"
   ]
  },
  {
   "cell_type": "code",
   "execution_count": 35,
   "metadata": {},
   "outputs": [
    {
     "data": {
      "text/plain": [
       "matrix([[0.5]])"
      ]
     },
     "execution_count": 35,
     "metadata": {},
     "output_type": "execute_result"
    }
   ],
   "source": [
    "term1='사과'\n",
    "term2='바나나'\n",
    "term_vec_matrix=np.matrix(U[:, :12])* np.diag(s[:])\n",
    "term1= term_vec_matrix[token_in_order.index(term1)]\n",
    "term2= term_vec_matrix[token_in_order.index(term2)]\n",
    "nominator=np.dot(term1, term2.T)\n",
    "denominator=np.linalg.norm(term1)*np.linalg.norm(term2)\n",
    "nominator/denominator"
   ]
  },
  {
   "cell_type": "code",
   "execution_count": 45,
   "metadata": {},
   "outputs": [
    {
     "data": {
      "text/plain": [
       "matrix([[3.4606787e-17]])"
      ]
     },
     "execution_count": 45,
     "metadata": {},
     "output_type": "execute_result"
    }
   ],
   "source": [
    "term1='사과'\n",
    "doc1='포도 바나나'\n",
    "term_vec_matrix=np.matrix(U[:, :topic_num])* np.diag(s[:topic_num])\n",
    "doc_vec_matrix=np.diag(s[:topic_num])*np.matrix(VT[:topic_num,:])\n",
    "term1= term_vec_matrix[token_in_order.index(term1)]\n",
    "doc1= doc_vec_matrix[doc_ls.index(doc1)]\n",
    "nominator=np.dot(term1, doc1.T)\n",
    "denominator=np.linalg.norm(term1)*np.linalg.norm(doc1)\n",
    "nominator/denominator"
   ]
  },
  {
   "cell_type": "code",
   "execution_count": 87,
   "metadata": {
    "scrolled": true
   },
   "outputs": [
    {
     "ename": "AttributeError",
     "evalue": "'DataFrame' object has no attribute 'dtype'",
     "output_type": "error",
     "traceback": [
      "\u001b[1;31m---------------------------------------------------------------------------\u001b[0m",
      "\u001b[1;31mAttributeError\u001b[0m                            Traceback (most recent call last)",
      "\u001b[1;32m<ipython-input-87-0b6a64e5755c>\u001b[0m in \u001b[0;36m<module>\u001b[1;34m\u001b[0m\n\u001b[0;32m     22\u001b[0m         \u001b[0mTDM\u001b[0m\u001b[1;33m.\u001b[0m\u001b[0miloc\u001b[0m\u001b[1;33m[\u001b[0m\u001b[0mi\u001b[0m\u001b[1;33m,\u001b[0m\u001b[0mtoken_location\u001b[0m\u001b[1;33m]\u001b[0m\u001b[1;33m+=\u001b[0m\u001b[1;36m1\u001b[0m\u001b[1;33m\u001b[0m\u001b[1;33m\u001b[0m\u001b[0m\n\u001b[0;32m     23\u001b[0m \u001b[0mtdm\u001b[0m\u001b[1;33m=\u001b[0m\u001b[0mTDM\u001b[0m\u001b[1;33m.\u001b[0m\u001b[0mT\u001b[0m\u001b[1;33m\u001b[0m\u001b[1;33m\u001b[0m\u001b[0m\n\u001b[1;32m---> 24\u001b[1;33m \u001b[0mU\u001b[0m\u001b[1;33m,\u001b[0m\u001b[0ms\u001b[0m\u001b[1;33m,\u001b[0m\u001b[0mVT\u001b[0m\u001b[1;33m=\u001b[0m\u001b[0mrandomized_svd\u001b[0m\u001b[1;33m(\u001b[0m\u001b[0mtdm\u001b[0m\u001b[1;33m,\u001b[0m\u001b[0mn_components\u001b[0m\u001b[1;33m=\u001b[0m\u001b[1;36m15\u001b[0m\u001b[1;33m,\u001b[0m\u001b[0mn_iter\u001b[0m\u001b[1;33m=\u001b[0m\u001b[1;36m5\u001b[0m\u001b[1;33m,\u001b[0m\u001b[0mrandom_state\u001b[0m\u001b[1;33m=\u001b[0m\u001b[1;32mNone\u001b[0m\u001b[1;33m)\u001b[0m\u001b[1;33m\u001b[0m\u001b[1;33m\u001b[0m\u001b[0m\n\u001b[0m\u001b[0;32m     25\u001b[0m \u001b[1;33m\u001b[0m\u001b[0m\n\u001b[0;32m     26\u001b[0m \u001b[0mdoc1\u001b[0m\u001b[1;33m=\u001b[0m\u001b[1;34m'사과 포도'\u001b[0m\u001b[1;33m\u001b[0m\u001b[1;33m\u001b[0m\u001b[0m\n",
      "\u001b[1;32mC:\\ProgramData\\Anaconda3\\lib\\site-packages\\sklearn\\utils\\extmath.py\u001b[0m in \u001b[0;36mrandomized_svd\u001b[1;34m(M, n_components, n_oversamples, n_iter, power_iteration_normalizer, transpose, flip_sign, random_state)\u001b[0m\n\u001b[0;32m    363\u001b[0m \u001b[1;33m\u001b[0m\u001b[0m\n\u001b[0;32m    364\u001b[0m     Q = randomized_range_finder(M, n_random, n_iter,\n\u001b[1;32m--> 365\u001b[1;33m                                 power_iteration_normalizer, random_state)\n\u001b[0m\u001b[0;32m    366\u001b[0m \u001b[1;33m\u001b[0m\u001b[0m\n\u001b[0;32m    367\u001b[0m     \u001b[1;31m# project M to the (k + p) dimensional space using the basis vectors\u001b[0m\u001b[1;33m\u001b[0m\u001b[1;33m\u001b[0m\u001b[1;33m\u001b[0m\u001b[0m\n",
      "\u001b[1;32mC:\\ProgramData\\Anaconda3\\lib\\site-packages\\sklearn\\utils\\extmath.py\u001b[0m in \u001b[0;36mrandomized_range_finder\u001b[1;34m(A, size, n_iter, power_iteration_normalizer, random_state)\u001b[0m\n\u001b[0;32m    229\u001b[0m     \u001b[1;31m# Generating normal random vectors with shape: (A.shape[1], size)\u001b[0m\u001b[1;33m\u001b[0m\u001b[1;33m\u001b[0m\u001b[1;33m\u001b[0m\u001b[0m\n\u001b[0;32m    230\u001b[0m     \u001b[0mQ\u001b[0m \u001b[1;33m=\u001b[0m \u001b[0mrandom_state\u001b[0m\u001b[1;33m.\u001b[0m\u001b[0mnormal\u001b[0m\u001b[1;33m(\u001b[0m\u001b[0msize\u001b[0m\u001b[1;33m=\u001b[0m\u001b[1;33m(\u001b[0m\u001b[0mA\u001b[0m\u001b[1;33m.\u001b[0m\u001b[0mshape\u001b[0m\u001b[1;33m[\u001b[0m\u001b[1;36m1\u001b[0m\u001b[1;33m]\u001b[0m\u001b[1;33m,\u001b[0m \u001b[0msize\u001b[0m\u001b[1;33m)\u001b[0m\u001b[1;33m)\u001b[0m\u001b[1;33m\u001b[0m\u001b[1;33m\u001b[0m\u001b[0m\n\u001b[1;32m--> 231\u001b[1;33m     \u001b[1;32mif\u001b[0m \u001b[0mA\u001b[0m\u001b[1;33m.\u001b[0m\u001b[0mdtype\u001b[0m\u001b[1;33m.\u001b[0m\u001b[0mkind\u001b[0m \u001b[1;33m==\u001b[0m \u001b[1;34m'f'\u001b[0m\u001b[1;33m:\u001b[0m\u001b[1;33m\u001b[0m\u001b[1;33m\u001b[0m\u001b[0m\n\u001b[0m\u001b[0;32m    232\u001b[0m         \u001b[1;31m# Ensure f32 is preserved as f32\u001b[0m\u001b[1;33m\u001b[0m\u001b[1;33m\u001b[0m\u001b[1;33m\u001b[0m\u001b[0m\n\u001b[0;32m    233\u001b[0m         \u001b[0mQ\u001b[0m \u001b[1;33m=\u001b[0m \u001b[0mQ\u001b[0m\u001b[1;33m.\u001b[0m\u001b[0mastype\u001b[0m\u001b[1;33m(\u001b[0m\u001b[0mA\u001b[0m\u001b[1;33m.\u001b[0m\u001b[0mdtype\u001b[0m\u001b[1;33m,\u001b[0m \u001b[0mcopy\u001b[0m\u001b[1;33m=\u001b[0m\u001b[1;32mFalse\u001b[0m\u001b[1;33m)\u001b[0m\u001b[1;33m\u001b[0m\u001b[1;33m\u001b[0m\u001b[0m\n",
      "\u001b[1;32mC:\\ProgramData\\Anaconda3\\lib\\site-packages\\pandas\\core\\generic.py\u001b[0m in \u001b[0;36m__getattr__\u001b[1;34m(self, name)\u001b[0m\n\u001b[0;32m   5065\u001b[0m             \u001b[1;32mif\u001b[0m \u001b[0mself\u001b[0m\u001b[1;33m.\u001b[0m\u001b[0m_info_axis\u001b[0m\u001b[1;33m.\u001b[0m\u001b[0m_can_hold_identifiers_and_holds_name\u001b[0m\u001b[1;33m(\u001b[0m\u001b[0mname\u001b[0m\u001b[1;33m)\u001b[0m\u001b[1;33m:\u001b[0m\u001b[1;33m\u001b[0m\u001b[1;33m\u001b[0m\u001b[0m\n\u001b[0;32m   5066\u001b[0m                 \u001b[1;32mreturn\u001b[0m \u001b[0mself\u001b[0m\u001b[1;33m[\u001b[0m\u001b[0mname\u001b[0m\u001b[1;33m]\u001b[0m\u001b[1;33m\u001b[0m\u001b[1;33m\u001b[0m\u001b[0m\n\u001b[1;32m-> 5067\u001b[1;33m             \u001b[1;32mreturn\u001b[0m \u001b[0mobject\u001b[0m\u001b[1;33m.\u001b[0m\u001b[0m__getattribute__\u001b[0m\u001b[1;33m(\u001b[0m\u001b[0mself\u001b[0m\u001b[1;33m,\u001b[0m \u001b[0mname\u001b[0m\u001b[1;33m)\u001b[0m\u001b[1;33m\u001b[0m\u001b[1;33m\u001b[0m\u001b[0m\n\u001b[0m\u001b[0;32m   5068\u001b[0m \u001b[1;33m\u001b[0m\u001b[0m\n\u001b[0;32m   5069\u001b[0m     \u001b[1;32mdef\u001b[0m \u001b[0m__setattr__\u001b[0m\u001b[1;33m(\u001b[0m\u001b[0mself\u001b[0m\u001b[1;33m,\u001b[0m \u001b[0mname\u001b[0m\u001b[1;33m,\u001b[0m \u001b[0mvalue\u001b[0m\u001b[1;33m)\u001b[0m\u001b[1;33m:\u001b[0m\u001b[1;33m\u001b[0m\u001b[1;33m\u001b[0m\u001b[0m\n",
      "\u001b[1;31mAttributeError\u001b[0m: 'DataFrame' object has no attribute 'dtype'"
     ]
    }
   ],
   "source": [
    "import numpy as np\n",
    "import scipy.sparse as sp\n",
    "from scipy.sparse.linalg import svds\n",
    "\n",
    "from sklearn.utils.extmath import randomized_svd, safe_sparse_dot, svd_flip\n",
    "import pandas as pd\n",
    "import numpy as np\n",
    "from collections import defaultdict\n",
    "document_ls=[i.split()  for i in doc_ls]\n",
    "token_dict=defaultdict(lambda:len(token_dict))\n",
    "for document in document_ls:\n",
    "    for token in document:\n",
    "        token_dict[token]\n",
    "index_token=sorted((value,key) for key,value in token_dict.items())\n",
    "token_in_order=[tup[1] for tup in index_token]\n",
    "n_word = len(token_dict) \n",
    "n_doc = len(document_ls)\n",
    "TDM=pd.DataFrame(np.zeros((n_doc,n_word)),columns=token_in_order,index=['문서1','문서2','문서3','문서4','문서5','문서6','문서7','문서8','문서9','문서10','문서11','문서12'],dtype=int)\n",
    "for i,document in enumerate(document_ls):\n",
    "    for token in document:\n",
    "        token_location=token_dict[token]\n",
    "        TDM.iloc[i,token_location]+=1  \n",
    "tdm=TDM.T        \n",
    "U,s,VT=randomized_svd(tdm,n_components=15,n_iter=5,random_state=None)\n",
    "\n",
    "doc1='사과 포도'\n",
    "doc2='포도 바나나'\n",
    "doc_vec_matrix=np.diag(s[:topic_num])*np.matrix(VT[:topic_num,:])\n",
    "doc1=doc_vec_matrix[doc_ls.index(doc1)]\n",
    "doc2=doc_vec_matrix[doc_ls.index(doc2)]\n",
    "nominator=np.dot(doc1, doc2.T)\n",
    "denominator=np.linalg.norm(doc1)*np.linalg.norm(doc2)\n",
    "nominator/denominator"
   ]
  },
  {
   "cell_type": "code",
   "execution_count": 62,
   "metadata": {},
   "outputs": [
    {
     "data": {
      "text/plain": [
       "array([3.        , 2.18890106, 2.10100299])"
      ]
     },
     "execution_count": 62,
     "metadata": {},
     "output_type": "execute_result"
    }
   ],
   "source": [
    "s[:3]"
   ]
  },
  {
   "cell_type": "code",
   "execution_count": 61,
   "metadata": {},
   "outputs": [
    {
     "data": {
      "text/plain": [
       "array([[3.        , 0.        , 0.        ],\n",
       "       [0.        , 2.18890106, 0.        ],\n",
       "       [0.        , 0.        , 2.10100299]])"
      ]
     },
     "execution_count": 61,
     "metadata": {},
     "output_type": "execute_result"
    }
   ],
   "source": [
    "np.diag(s[:3])"
   ]
  },
  {
   "cell_type": "code",
   "execution_count": 65,
   "metadata": {},
   "outputs": [
    {
     "data": {
      "text/plain": [
       "matrix([[-2.44948974, -1.22474487, -1.22474487,  0.        ,  0.        ,\n",
       "          0.        ,  0.        ,  0.        ,  0.        ,  0.        ,\n",
       "          0.        ,  0.        ],\n",
       "        [ 0.        ,  0.        ,  0.        , -1.70833729, -0.61202476,\n",
       "         -1.22404953,  0.        ,  0.        ,  0.        ,  0.        ,\n",
       "          0.        ,  0.        ],\n",
       "        [ 0.        ,  0.        ,  0.        ,  0.        ,  0.        ,\n",
       "          0.        ,  0.        ,  0.        ,  0.        , -1.48563346,\n",
       "         -1.05050149, -1.05050149]])"
      ]
     },
     "execution_count": 65,
     "metadata": {},
     "output_type": "execute_result"
    }
   ],
   "source": [
    "doc_vec_matrix"
   ]
  },
  {
   "cell_type": "code",
   "execution_count": 66,
   "metadata": {},
   "outputs": [
    {
     "data": {
      "text/plain": [
       "matrix([[0.]])"
      ]
     },
     "execution_count": 66,
     "metadata": {},
     "output_type": "execute_result"
    }
   ],
   "source": [
    "nominator"
   ]
  },
  {
   "cell_type": "code",
   "execution_count": null,
   "metadata": {},
   "outputs": [],
   "source": []
  }
 ],
 "metadata": {
  "kernelspec": {
   "display_name": "Python 3",
   "language": "python",
   "name": "python3"
  },
  "language_info": {
   "codemirror_mode": {
    "name": "ipython",
    "version": 3
   },
   "file_extension": ".py",
   "mimetype": "text/x-python",
   "name": "python",
   "nbconvert_exporter": "python",
   "pygments_lexer": "ipython3",
   "version": "3.7.3"
  }
 },
 "nbformat": 4,
 "nbformat_minor": 2
}
