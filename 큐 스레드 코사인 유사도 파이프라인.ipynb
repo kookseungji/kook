{
 "cells": [
  {
   "cell_type": "code",
   "execution_count": 1,
   "metadata": {},
   "outputs": [],
   "source": [
    "import queue"
   ]
  },
  {
   "cell_type": "code",
   "execution_count": 2,
   "metadata": {},
   "outputs": [],
   "source": [
    "q1=queue.Queue()\n",
    "q2=queue.Queue(100)"
   ]
  },
  {
   "cell_type": "code",
   "execution_count": 13,
   "metadata": {},
   "outputs": [
    {
     "name": "stdout",
     "output_type": "stream",
     "text": [
      "5\n"
     ]
    }
   ],
   "source": [
    "q1.put('spam')\n",
    "print(q1.qsize())"
   ]
  },
  {
   "cell_type": "code",
   "execution_count": 14,
   "metadata": {},
   "outputs": [
    {
     "data": {
      "text/plain": [
       "'spam'"
      ]
     },
     "execution_count": 14,
     "metadata": {},
     "output_type": "execute_result"
    }
   ],
   "source": [
    "q1.get()"
   ]
  },
  {
   "cell_type": "code",
   "execution_count": 15,
   "metadata": {},
   "outputs": [
    {
     "data": {
      "text/plain": [
       "4"
      ]
     },
     "execution_count": 15,
     "metadata": {},
     "output_type": "execute_result"
    }
   ],
   "source": [
    "q1.qsize()"
   ]
  },
  {
   "cell_type": "code",
   "execution_count": 16,
   "metadata": {},
   "outputs": [],
   "source": [
    "q1.put_nowait('ham')"
   ]
  },
  {
   "cell_type": "code",
   "execution_count": 17,
   "metadata": {},
   "outputs": [
    {
     "data": {
      "text/plain": [
       "5"
      ]
     },
     "execution_count": 17,
     "metadata": {},
     "output_type": "execute_result"
    }
   ],
   "source": [
    "q1.qsize()"
   ]
  },
  {
   "cell_type": "code",
   "execution_count": 20,
   "metadata": {},
   "outputs": [
    {
     "data": {
      "text/plain": [
       "'spam'"
      ]
     },
     "execution_count": 20,
     "metadata": {},
     "output_type": "execute_result"
    }
   ],
   "source": [
    "q1.get()"
   ]
  },
  {
   "cell_type": "code",
   "execution_count": 21,
   "metadata": {},
   "outputs": [
    {
     "data": {
      "text/plain": [
       "'spam'"
      ]
     },
     "execution_count": 21,
     "metadata": {},
     "output_type": "execute_result"
    }
   ],
   "source": [
    "q1.get_nowait()"
   ]
  },
  {
   "cell_type": "code",
   "execution_count": 23,
   "metadata": {},
   "outputs": [
    {
     "data": {
      "text/plain": [
       "False"
      ]
     },
     "execution_count": 23,
     "metadata": {},
     "output_type": "execute_result"
    }
   ],
   "source": [
    "q1.full()"
   ]
  },
  {
   "cell_type": "code",
   "execution_count": 24,
   "metadata": {},
   "outputs": [],
   "source": [
    "from threading import Thread\n",
    "import time"
   ]
  },
  {
   "cell_type": "code",
   "execution_count": 36,
   "metadata": {},
   "outputs": [
    {
     "name": "stdout",
     "output_type": "stream",
     "text": [
      "aaaaabbbbb\n",
      "\n",
      "aaaaa\n",
      "bbbbbaaaaa\n",
      "\n",
      "bbbbb\n"
     ]
    }
   ],
   "source": [
    "def threadd(val):\n",
    "    for i in range(3):\n",
    "        print('aaaaa')\n",
    "        time.sleep(1)                \n",
    "t1=Thread(target=threadd,args=(1,))\n",
    "t1.start()\n",
    "for i in range(3):\n",
    "    print('bbbbb')\n",
    "    time.sleep(2)   \n"
   ]
  },
  {
   "cell_type": "code",
   "execution_count": 39,
   "metadata": {},
   "outputs": [],
   "source": [
    "import nltk\n",
    "import math\n",
    "from sklearn.feature_extraction.text import TfidfVectorizer\n",
    "from sklearn.metrics.pairwise import cosine_similarity"
   ]
  },
  {
   "cell_type": "code",
   "execution_count": 40,
   "metadata": {},
   "outputs": [
    {
     "name": "stderr",
     "output_type": "stream",
     "text": [
      "[nltk_data] Downloading package averaged_perceptron_tagger to\n",
      "[nltk_data]     C:\\Users\\student\\AppData\\Roaming\\nltk_data...\n",
      "[nltk_data]   Package averaged_perceptron_tagger is already up-to-\n",
      "[nltk_data]       date!\n",
      "[nltk_data] Downloading package maxent_ne_chunker to\n",
      "[nltk_data]     C:\\Users\\student\\AppData\\Roaming\\nltk_data...\n",
      "[nltk_data]   Package maxent_ne_chunker is already up-to-date!\n",
      "[nltk_data] Downloading package words to\n",
      "[nltk_data]     C:\\Users\\student\\AppData\\Roaming\\nltk_data...\n",
      "[nltk_data]   Package words is already up-to-date!\n"
     ]
    }
   ],
   "source": [
    "nltk.download('averaged_perceptron_tagger')\n",
    "nltk.download('maxent_ne_chunker')\n",
    "nltk.download('words')\n",
    "import threading\n",
    "import queue\n",
    "import feedparser\n",
    "import uuid"
   ]
  },
  {
   "cell_type": "code",
   "execution_count": 47,
   "metadata": {},
   "outputs": [
    {
     "name": "stdout",
     "output_type": "stream",
     "text": [
      ">> 631db814-23b5-4d7a-a123-9ec6e5ce3d22 : Watch: Journey of Hrithik's Super 30 students\n",
      ">> c1b79b3f-928a-4958-ae2e-459aef20e0dc : Batla House song Rula Diya to be unveiled tom\n",
      ">> fd8c0a5f-3ac7-4a45-af17-f5cc7b24980f : Rahul on being charged Rs 442 for bananas\n",
      ">> 47b3a908-256d-4381-b1f6-cf10b67998c1 : Taimur and Inaaya's fun day out in London\n",
      ">> a644f6b4-7f65-4903-9c81-1fadf98dd6fa : Female action heroes take lead in Hollywood\n"
     ]
    }
   ],
   "source": [
    "threads=[]\n",
    "queues=[queue.Queue(),queue.Queue()]\n",
    "def exWord():\n",
    "    url='https://timesofindia.indiatimes.com/rssfeeds/1081479906.cms'\n",
    "    feed=feedparser.parse(url)\n",
    "    for entry in feed['entries'][:5]:\n",
    "        text=entry['title']\n",
    "        if 'ex' in text:\n",
    "            continue\n",
    "        words=nltk.word_tokenize(text)\n",
    "        data={'uuid':uuid.uuid4(),\n",
    "             'input':words}\n",
    "        queues[0].put(data,True)\n",
    "        print(\">> {} : {}\".format(data['uuid'], text))\n",
    "def exPos():\n",
    "    while True:\n",
    "        if queues[0].empty:\n",
    "            break\n",
    "        else:\n",
    "            data=queues[0].get()\n",
    "            words=data['input']\n",
    "            portags=nltk.pos_tag(words)\n",
    "            queues[0].task_daone()\n",
    "            queues[1].put({'uuid':data['uuid'],\n",
    "                          'input':portags},True)\n",
    "def exNe():\n",
    "    while True:\n",
    "        if queues[1].empty():\n",
    "            break\n",
    "        else:\n",
    "            data=queues[1].get()\n",
    "            postags=data['input']\n",
    "            queues[1].task_done()\n",
    "            chunks=nltk.ne_chunk(postags,binary=False)\n",
    "            for path in chunks:\n",
    "                try:\n",
    "                    label=path.label()\n",
    "                    print(path,end=',')\n",
    "                except:\n",
    "                    pass\n",
    "            print()\n",
    "def runpro():\n",
    "    w=threading.Thread(target=exWord)\n",
    "    w.start()\n",
    "    threads.append(w)\n",
    "    \n",
    "    p=threading.Thread(target=exPos)\n",
    "    p.start()\n",
    "    threads.append(p)\n",
    "    \n",
    "    n=threading.Thread(target=exNe)\n",
    "    n.start()\n",
    "    threads.append(n)\n",
    "    \n",
    "    queues[0].join()\n",
    "    queues[1].join()\n",
    "    \n",
    "    for t in threads:\n",
    "        t.join()\n",
    "\n",
    "runpro()\n",
    "                \n",
    "            \n",
    "        "
   ]
  },
  {
   "cell_type": "code",
   "execution_count": 49,
   "metadata": {},
   "outputs": [
    {
     "name": "stderr",
     "output_type": "stream",
     "text": [
      "'top'은(는) 내부 또는 외부 명령, 실행할 수 있는 프로그램, 또는\n",
      "배치 파일이 아닙니다.\n"
     ]
    }
   ],
   "source": [
    "!top"
   ]
  },
  {
   "cell_type": "code",
   "execution_count": 50,
   "metadata": {},
   "outputs": [],
   "source": [
    "import numpy as np\n",
    "def euclidean_dist(x,y):\n",
    "    x=np.array(x),\n",
    "    y=np.array(y)\n",
    "    return np.sqrt(np.sum(x-y)**2)"
   ]
  },
  {
   "cell_type": "code",
   "execution_count": 52,
   "metadata": {},
   "outputs": [
    {
     "data": {
      "text/plain": [
       "0.6"
      ]
     },
     "execution_count": 52,
     "metadata": {},
     "output_type": "execute_result"
    }
   ],
   "source": [
    "dictt = {\n",
    "'사과' : [1.0, 0.5],\n",
    "'바나나' : [0.9, 1.2],\n",
    "'원숭이' : [0.5, 1.5]\n",
    "}\n",
    "\n",
    "euclidean_dist(dictt['사과'],dictt['바나나'])"
   ]
  },
  {
   "cell_type": "code",
   "execution_count": 53,
   "metadata": {},
   "outputs": [],
   "source": [
    "s1 = '대부분 원숭이는 바나나를 좋아합니다.'\n",
    "s2 = '코주부 원숭이는 바나나를 싫어합니다.'"
   ]
  },
  {
   "cell_type": "code",
   "execution_count": 55,
   "metadata": {},
   "outputs": [],
   "source": [
    "token1=s1.split()\n",
    "token2=s2.split()"
   ]
  },
  {
   "cell_type": "code",
   "execution_count": 56,
   "metadata": {},
   "outputs": [
    {
     "name": "stdout",
     "output_type": "stream",
     "text": [
      "{'코주부', '좋아합니다.', '바나나를', '싫어합니다.', '원숭이는', '대부분'}\n"
     ]
    }
   ],
   "source": [
    "union=set(token1).union(set(token2))\n",
    "print(union)"
   ]
  },
  {
   "cell_type": "code",
   "execution_count": 57,
   "metadata": {},
   "outputs": [
    {
     "name": "stdout",
     "output_type": "stream",
     "text": [
      "{'원숭이는', '바나나를'}\n"
     ]
    }
   ],
   "source": [
    "inter=set(token1).intersection(set(token2))\n",
    "print(inter)"
   ]
  },
  {
   "cell_type": "code",
   "execution_count": 59,
   "metadata": {},
   "outputs": [
    {
     "data": {
      "text/plain": [
       "0.3333333333333333"
      ]
     },
     "execution_count": 59,
     "metadata": {},
     "output_type": "execute_result"
    }
   ],
   "source": [
    "len(inter)/len(union) #얼마나 겹치냐=자카드 유사도"
   ]
  },
  {
   "cell_type": "code",
   "execution_count": 60,
   "metadata": {},
   "outputs": [],
   "source": [
    "def cos(x, y):\n",
    "    nominator = np.dot(x, y)\n",
    "    denominator = np.linalg.norm(x)*np.linalg.norm(y)\n",
    "    return nominator/denominator"
   ]
  },
  {
   "cell_type": "code",
   "execution_count": 61,
   "metadata": {},
   "outputs": [
    {
     "data": {
      "text/plain": [
       "0.8944271909999159"
      ]
     },
     "execution_count": 61,
     "metadata": {},
     "output_type": "execute_result"
    }
   ],
   "source": [
    "cos(dictt['사과'],dictt['바나나'])"
   ]
  },
  {
   "cell_type": "code",
   "execution_count": 62,
   "metadata": {},
   "outputs": [],
   "source": [
    "sentence_ls = [\n",
    "'오늘 동물원에서 코끼리를 봤어'\n",
    ",\n",
    "'오늘 동물원에서 원숭이에게 사과를 줬어']"
   ]
  },
  {
   "cell_type": "code",
   "execution_count": 67,
   "metadata": {},
   "outputs": [],
   "source": [
    "sentence_ls=[sentence.split() for sentence in sentence_ls]"
   ]
  },
  {
   "cell_type": "code",
   "execution_count": 68,
   "metadata": {},
   "outputs": [],
   "source": [
    "from collections import defaultdict\n",
    "token_dict = defaultdict(lambda : len(token_dict))\n",
    "for sentence in sentence_ls:\n",
    "    for token in sentence:\n",
    "        token_dict[token]"
   ]
  },
  {
   "cell_type": "code",
   "execution_count": 69,
   "metadata": {},
   "outputs": [
    {
     "data": {
      "text/plain": [
       "defaultdict(<function __main__.<lambda>()>,\n",
       "            {'오늘': 0,\n",
       "             '동물원에서': 1,\n",
       "             '코끼리를': 2,\n",
       "             '봤어': 3,\n",
       "             '원숭이에게': 4,\n",
       "             '사과를': 5,\n",
       "             '줬어': 6})"
      ]
     },
     "execution_count": 69,
     "metadata": {},
     "output_type": "execute_result"
    }
   ],
   "source": [
    "token_dict"
   ]
  },
  {
   "cell_type": "code",
   "execution_count": 78,
   "metadata": {},
   "outputs": [],
   "source": [
    "a=sorted((value,key) for key,value in token_dict.items())"
   ]
  },
  {
   "cell_type": "code",
   "execution_count": 72,
   "metadata": {},
   "outputs": [],
   "source": [
    "import pandas as pd\n",
    "import numpy as np"
   ]
  },
  {
   "cell_type": "code",
   "execution_count": 83,
   "metadata": {},
   "outputs": [],
   "source": [
    "tt=[t[1] for t in a]\n",
    "BOW=pd.DataFrame(np.zeros((len(sentence_ls),len(token_dict))), columns=tt,index=['문장1','문장2'],dtype=int)\n",
    "for i,sentence in enumerate(sentence_ls):\n",
    "    for token in sentence:\n",
    "        BOW.iloc[i,token_dict[token]]+=1\n",
    "        "
   ]
  },
  {
   "cell_type": "code",
   "execution_count": 84,
   "metadata": {},
   "outputs": [
    {
     "data": {
      "text/html": [
       "<div>\n",
       "<style scoped>\n",
       "    .dataframe tbody tr th:only-of-type {\n",
       "        vertical-align: middle;\n",
       "    }\n",
       "\n",
       "    .dataframe tbody tr th {\n",
       "        vertical-align: top;\n",
       "    }\n",
       "\n",
       "    .dataframe thead th {\n",
       "        text-align: right;\n",
       "    }\n",
       "</style>\n",
       "<table border=\"1\" class=\"dataframe\">\n",
       "  <thead>\n",
       "    <tr style=\"text-align: right;\">\n",
       "      <th></th>\n",
       "      <th>오늘</th>\n",
       "      <th>동물원에서</th>\n",
       "      <th>코끼리를</th>\n",
       "      <th>봤어</th>\n",
       "      <th>원숭이에게</th>\n",
       "      <th>사과를</th>\n",
       "      <th>줬어</th>\n",
       "    </tr>\n",
       "  </thead>\n",
       "  <tbody>\n",
       "    <tr>\n",
       "      <th>문장1</th>\n",
       "      <td>1</td>\n",
       "      <td>1</td>\n",
       "      <td>1</td>\n",
       "      <td>1</td>\n",
       "      <td>0</td>\n",
       "      <td>0</td>\n",
       "      <td>0</td>\n",
       "    </tr>\n",
       "    <tr>\n",
       "      <th>문장2</th>\n",
       "      <td>1</td>\n",
       "      <td>1</td>\n",
       "      <td>0</td>\n",
       "      <td>0</td>\n",
       "      <td>1</td>\n",
       "      <td>1</td>\n",
       "      <td>1</td>\n",
       "    </tr>\n",
       "  </tbody>\n",
       "</table>\n",
       "</div>"
      ],
      "text/plain": [
       "     오늘  동물원에서  코끼리를  봤어  원숭이에게  사과를  줬어\n",
       "문장1   1      1     1   1      0    0   0\n",
       "문장2   1      1     0   0      1    1   1"
      ]
     },
     "execution_count": 84,
     "metadata": {},
     "output_type": "execute_result"
    }
   ],
   "source": [
    "BOW"
   ]
  },
  {
   "cell_type": "code",
   "execution_count": null,
   "metadata": {},
   "outputs": [],
   "source": []
  }
 ],
 "metadata": {
  "kernelspec": {
   "display_name": "Python 3",
   "language": "python",
   "name": "python3"
  },
  "language_info": {
   "codemirror_mode": {
    "name": "ipython",
    "version": 3
   },
   "file_extension": ".py",
   "mimetype": "text/x-python",
   "name": "python",
   "nbconvert_exporter": "python",
   "pygments_lexer": "ipython3",
   "version": "3.7.3"
  }
 },
 "nbformat": 4,
 "nbformat_minor": 2
}
