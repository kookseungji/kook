{
 "cells": [
  {
   "cell_type": "code",
   "execution_count": 34,
   "metadata": {},
   "outputs": [
    {
     "name": "stdout",
     "output_type": "stream",
     "text": [
      "defaultdict(<function <lambda> at 0x0000000005AECE18>, {'me': [1, 1], 'free': [3, 2], 'lottery': [2, 0], 'get': [1, 0], 'you': [2, 2], 'scholarship': [0, 1], 'to': [0, 1], 'contact': [0, 1], 'won': [0, 1], 'award': [0, 1], 'ticket': [1, 0]})\n",
      "defaultdict(<function <lambda> at 0x0000000005248AE8>, {'me': [0.21428571428571427, 0.16666666666666666], 'free': [0.5, 0.2777777777777778], 'lottery': [0.35714285714285715, 0.05555555555555555], 'get': [0.21428571428571427, 0.05555555555555555], 'you': [0.35714285714285715, 0.2777777777777778], 'scholarship': [0.07142857142857142, 0.16666666666666666], 'to': [0.07142857142857142, 0.16666666666666666], 'contact': [0.07142857142857142, 0.16666666666666666], 'won': [0.07142857142857142, 0.16666666666666666], 'award': [0.07142857142857142, 0.16666666666666666], 'ticket': [0.21428571428571427, 0.05555555555555555]})\n"
     ]
    }
   ],
   "source": [
    "from collections import defaultdict\n",
    "import pandas as pd\n",
    "import numpy as np\n",
    "import math\n",
    "docnt0=0\n",
    "docnt1=0\n",
    "input_file = pd.read_csv(\"9_spam.csv\")\n",
    "training_set = np.array(input_file)\n",
    "\n",
    "wordfreq=defaultdict(lambda:[0,0])\n",
    "for doc,point in training_set:\n",
    "    words=doc.split()\n",
    "    for word in words:\n",
    "        if point==1:\n",
    "            wordfreq[word][0]+=1\n",
    "        else:\n",
    "            wordfreq[word][1]+=1\n",
    "for key,(cnt1,cnt0) in wordfreq.items():\n",
    "        if cnt1>0:\n",
    "            docnt1+=1\n",
    "        if cnt0>0:\n",
    "            docnt0+=1\n",
    "print(wordfreq)\n",
    "\n",
    "k =0.5\n",
    "wordprobs = defaultdict(lambda : [0, 0])\n",
    "for key, (cnt1, cnt0) in wordfreq.items() :\n",
    "    wordprobs[key][0] = (cnt1 + k) / (docnt1 + 2*k)\n",
    "    wordprobs[key][1] = (cnt0 + k) / (docnt0 + 2*k)\n",
    "    \n",
    "print(wordprobs)            "
   ]
  },
  {
   "cell_type": "code",
   "execution_count": 35,
   "metadata": {},
   "outputs": [
    {
     "name": "stdout",
     "output_type": "stream",
     "text": [
      "['you', 'ticket', 'lottery']\n"
     ]
    }
   ],
   "source": [
    "print(words)"
   ]
  },
  {
   "cell_type": "code",
   "execution_count": 36,
   "metadata": {},
   "outputs": [],
   "source": [
    "doc = \"free lottery\"\n",
    "tokens = doc.split()\n",
    "log_prob1 = log_prob0 = 0.0\n",
    "for word, (prob1, prob0) in wordprobs.items():\n",
    "    if word in tokens:\n",
    "        log_prob1 += math.log(prob1)\n",
    "        log_prob0 += math.log(prob0)\n",
    "    else:\n",
    "        log_prob1 += math.log(1.0 - prob1)\n",
    "        log_prob0 += math.log(1.0 - prob0)\n",
    "log_prob1 += math.log(docnt1/len(wordfreq))\n",
    "log_prob0 += math.log(docnt0/len(wordfreq))\n",
    "prob1 = math.exp(log_prob1)\n",
    "prob0 = math.exp(log_prob0)"
   ]
  },
  {
   "cell_type": "code",
   "execution_count": 37,
   "metadata": {},
   "outputs": [
    {
     "name": "stdout",
     "output_type": "stream",
     "text": [
      "free lottery\n",
      "스팸확률 : 89.64758762435878%\n",
      "정상확률 : 10.352412375641222%\n"
     ]
    }
   ],
   "source": [
    "print(doc)\n",
    "print(\"스팸확률 : {}%\".format(prob1 / (prob1 + prob0)*100))\n",
    "print(\"정상확률 : {}%\".format(prob0 / (prob1 + prob0)*100))"
   ]
  },
  {
   "cell_type": "code",
   "execution_count": null,
   "metadata": {},
   "outputs": [],
   "source": []
  }
 ],
 "metadata": {
  "kernelspec": {
   "display_name": "Python 3",
   "language": "python",
   "name": "python3"
  },
  "language_info": {
   "codemirror_mode": {
    "name": "ipython",
    "version": 3
   },
   "file_extension": ".py",
   "mimetype": "text/x-python",
   "name": "python",
   "nbconvert_exporter": "python",
   "pygments_lexer": "ipython3",
   "version": "3.7.3"
  }
 },
 "nbformat": 4,
 "nbformat_minor": 2
}
