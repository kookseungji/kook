{
 "cells": [
  {
   "cell_type": "code",
   "execution_count": 2,
   "metadata": {},
   "outputs": [],
   "source": [
    "import numpy as np"
   ]
  },
  {
   "cell_type": "code",
   "execution_count": 3,
   "metadata": {},
   "outputs": [],
   "source": [
    "data=range(10)"
   ]
  },
  {
   "cell_type": "code",
   "execution_count": 4,
   "metadata": {},
   "outputs": [],
   "source": [
    "arr1=np.array(data)"
   ]
  },
  {
   "cell_type": "code",
   "execution_count": 5,
   "metadata": {},
   "outputs": [
    {
     "data": {
      "text/plain": [
       "array([0, 1, 2, 3, 4, 5, 6, 7, 8, 9])"
      ]
     },
     "execution_count": 5,
     "metadata": {},
     "output_type": "execute_result"
    }
   ],
   "source": [
    "arr1"
   ]
  },
  {
   "cell_type": "code",
   "execution_count": 6,
   "metadata": {},
   "outputs": [
    {
     "data": {
      "text/plain": [
       "array([5, 6, 7, 8, 9])"
      ]
     },
     "execution_count": 6,
     "metadata": {},
     "output_type": "execute_result"
    }
   ],
   "source": [
    "arr1[arr1>4]"
   ]
  },
  {
   "cell_type": "code",
   "execution_count": 9,
   "metadata": {},
   "outputs": [],
   "source": [
    "data1=np.array([[1,2,3],[4,5,6],[7,8,9]])"
   ]
  },
  {
   "cell_type": "code",
   "execution_count": 13,
   "metadata": {},
   "outputs": [],
   "source": [
    "arr1.shape=(2,5)"
   ]
  },
  {
   "cell_type": "code",
   "execution_count": 20,
   "metadata": {},
   "outputs": [
    {
     "data": {
      "text/plain": [
       "array([[0, 1, 2, 3, 4],\n",
       "       [5, 6, 7, 8, 9]])"
      ]
     },
     "execution_count": 20,
     "metadata": {},
     "output_type": "execute_result"
    }
   ],
   "source": [
    "np.arange(10).reshape(-1,5)#-1은 shape을 결정하지 않겟다,어쩌구x 5열 미정, #reshape은 변경 형태로 다른 이름으로 반환 vs shape은 resize와 같다, 아예 변경"
   ]
  },
  {
   "cell_type": "code",
   "execution_count": 33,
   "metadata": {},
   "outputs": [
    {
     "data": {
      "text/plain": [
       "array([[[87, 94, 95]],\n",
       "\n",
       "       [[90, 97, 91]],\n",
       "\n",
       "       [[90, 92, 90]]])"
      ]
     },
     "execution_count": 33,
     "metadata": {},
     "output_type": "execute_result"
    }
   ],
   "source": [
    "np.random.randint(80,100,size=(3,1,3))#3x1,3개\n"
   ]
  },
  {
   "cell_type": "code",
   "execution_count": 35,
   "metadata": {},
   "outputs": [
    {
     "data": {
      "text/plain": [
       "array([[0, 1, 2, 3, 4],\n",
       "       [5, 6, 7, 8, 9]])"
      ]
     },
     "execution_count": 35,
     "metadata": {},
     "output_type": "execute_result"
    }
   ],
   "source": [
    "arr1"
   ]
  },
  {
   "cell_type": "code",
   "execution_count": 36,
   "metadata": {},
   "outputs": [],
   "source": [
    "arr1[0,2]=10"
   ]
  },
  {
   "cell_type": "code",
   "execution_count": 37,
   "metadata": {},
   "outputs": [
    {
     "data": {
      "text/plain": [
       "array([[ 0,  1, 10,  3,  4],\n",
       "       [ 5,  6,  7,  8,  9]])"
      ]
     },
     "execution_count": 37,
     "metadata": {},
     "output_type": "execute_result"
    }
   ],
   "source": [
    "arr1"
   ]
  },
  {
   "cell_type": "code",
   "execution_count": 38,
   "metadata": {},
   "outputs": [
    {
     "data": {
      "text/plain": [
       "array([[6, 7, 8, 9]])"
      ]
     },
     "execution_count": 38,
     "metadata": {},
     "output_type": "execute_result"
    }
   ],
   "source": [
    "arr1[1:,1:]"
   ]
  },
  {
   "cell_type": "code",
   "execution_count": 39,
   "metadata": {},
   "outputs": [
    {
     "data": {
      "text/plain": [
       "array([10,  5,  6,  7,  8,  9])"
      ]
     },
     "execution_count": 39,
     "metadata": {},
     "output_type": "execute_result"
    }
   ],
   "source": [
    "arr1[arr1>4]"
   ]
  },
  {
   "cell_type": "code",
   "execution_count": 40,
   "metadata": {},
   "outputs": [
    {
     "data": {
      "text/plain": [
       "array([[False, False,  True, False, False],\n",
       "       [ True,  True,  True,  True,  True]])"
      ]
     },
     "execution_count": 40,
     "metadata": {},
     "output_type": "execute_result"
    }
   ],
   "source": [
    "arr1>4"
   ]
  },
  {
   "cell_type": "code",
   "execution_count": 44,
   "metadata": {},
   "outputs": [
    {
     "data": {
      "text/plain": [
       "array([ 0, 10,  4,  6,  8])"
      ]
     },
     "execution_count": 44,
     "metadata": {},
     "output_type": "execute_result"
    }
   ],
   "source": [
    "arr1[arr1%2==0]"
   ]
  },
  {
   "cell_type": "code",
   "execution_count": 50,
   "metadata": {},
   "outputs": [],
   "source": [
    "A=np.arange(1,7).reshape(2,3)"
   ]
  },
  {
   "cell_type": "code",
   "execution_count": 51,
   "metadata": {},
   "outputs": [
    {
     "data": {
      "text/plain": [
       "array([[1, 4],\n",
       "       [2, 5],\n",
       "       [3, 6]])"
      ]
     },
     "execution_count": 51,
     "metadata": {},
     "output_type": "execute_result"
    }
   ],
   "source": [
    "A.T"
   ]
  },
  {
   "cell_type": "code",
   "execution_count": 52,
   "metadata": {},
   "outputs": [
    {
     "data": {
      "text/plain": [
       "array([[14, 32],\n",
       "       [32, 77]])"
      ]
     },
     "execution_count": 52,
     "metadata": {},
     "output_type": "execute_result"
    }
   ],
   "source": [
    "A.dot(A.T)"
   ]
  },
  {
   "cell_type": "code",
   "execution_count": 58,
   "metadata": {},
   "outputs": [],
   "source": [
    "m=np.linalg.inv(A.dot(A.T)) #linear algebra"
   ]
  },
  {
   "cell_type": "code",
   "execution_count": 68,
   "metadata": {},
   "outputs": [],
   "source": [
    "a=np.vstack((m,m,m))#아래로 3개 붙어,hstack은 옆으로 3개 붙어"
   ]
  },
  {
   "cell_type": "code",
   "execution_count": 69,
   "metadata": {},
   "outputs": [
    {
     "data": {
      "text/plain": [
       "array([[ 1.42592593, -0.59259259],\n",
       "       [-0.59259259,  0.25925926],\n",
       "       [ 1.42592593, -0.59259259],\n",
       "       [-0.59259259,  0.25925926],\n",
       "       [ 1.42592593, -0.59259259],\n",
       "       [-0.59259259,  0.25925926]])"
      ]
     },
     "execution_count": 69,
     "metadata": {},
     "output_type": "execute_result"
    }
   ],
   "source": [
    "a"
   ]
  },
  {
   "cell_type": "code",
   "execution_count": 71,
   "metadata": {},
   "outputs": [
    {
     "data": {
      "text/plain": [
       "[array([[ 1.42592593, -0.59259259],\n",
       "        [-0.59259259,  0.25925926]]), array([[ 1.42592593, -0.59259259],\n",
       "        [-0.59259259,  0.25925926]]), array([[ 1.42592593, -0.59259259],\n",
       "        [-0.59259259,  0.25925926]])]"
      ]
     },
     "execution_count": 71,
     "metadata": {},
     "output_type": "execute_result"
    }
   ],
   "source": [
    "np.vsplit(a,3)"
   ]
  },
  {
   "cell_type": "code",
   "execution_count": 72,
   "metadata": {},
   "outputs": [],
   "source": [
    "from matplotlib import pyplot as plt"
   ]
  },
  {
   "cell_type": "code",
   "execution_count": 73,
   "metadata": {},
   "outputs": [],
   "source": [
    "%matplotlib qt"
   ]
  },
  {
   "cell_type": "code",
   "execution_count": 76,
   "metadata": {},
   "outputs": [],
   "source": [
    "%matplotlib inline"
   ]
  },
  {
   "cell_type": "code",
   "execution_count": 78,
   "metadata": {},
   "outputs": [],
   "source": [
    "x=np.arange(-5,5,0.1)\n",
    "y1=2*x**2\n",
    "y2=3*x+20\n",
    "y3=4*x**3-20"
   ]
  },
  {
   "cell_type": "code",
   "execution_count": 94,
   "metadata": {},
   "outputs": [
    {
     "data": {
      "text/plain": [
       "[<matplotlib.lines.Line2D at 0xa8935f8>]"
      ]
     },
     "execution_count": 94,
     "metadata": {},
     "output_type": "execute_result"
    },
    {
     "data": {
      "image/png": "[encoded data removed]",
      "text/plain": [
       "<Figure size 432x288 with 1 Axes>"
      ]
     },
     "metadata": {
      "needs_background": "light"
     },
     "output_type": "display_data"
    },
    {
     "data": {
      "image/png": "[encoded data removed]",
      "text/plain": [
       "<Figure size 432x288 with 2 Axes>"
      ]
     },
     "metadata": {
      "needs_background": "light"
     },
     "output_type": "display_data"
    }
   ],
   "source": [
    "plt.figure(1)\n",
    "plt.plot(x,y1)\n",
    "plt.figure(2) #따로 그리기\n",
    "plt.plot(x,y2)\n",
    "plt.subplot() #그림 크기 줄여서 한눈에 보기1\n",
    "\n",
    "plt.subplot(1,2,1) #그림 크기 줄여서 한눈에 보기2\n",
    "plt.plot(x,y1)\n",
    "plt.subplot(1,2,2)\n",
    "plt.plot(x,y2)\n"
   ]
  },
  {
   "cell_type": "code",
   "execution_count": 96,
   "metadata": {},
   "outputs": [],
   "source": [
    "xmin,ymin,xmax,ymax=(0,0,1,1)"
   ]
  },
  {
   "cell_type": "code",
   "execution_count": 123,
   "metadata": {},
   "outputs": [
    {
     "data": {
      "text/plain": [
       "[<matplotlib.lines.Line2D at 0xc094a90>]"
      ]
     },
     "execution_count": 123,
     "metadata": {},
     "output_type": "execute_result"
    },
    {
     "data": {
      "image/png": "[encoded data removed]",
      "text/plain": [
       "<Figure size 432x288 with 1 Axes>"
      ]
     },
     "metadata": {
      "needs_background": "light"
     },
     "output_type": "display_data"
    }
   ],
   "source": [
    "plt.plot(x,y1,x,y2)\n",
    "plt.xlim(1,5) #확대!\n",
    "plt.title('title')\n",
    "plt.legend(['y1','y2'])\n",
    "plt.xlabel('x')\n",
    "plt.ylabel('y')\n",
    "plt.plot([1,2,3,4,5,6],[1,4,9,16,25,36],'m')"
   ]
  },
  {
   "cell_type": "code",
   "execution_count": 154,
   "metadata": {},
   "outputs": [
    {
     "data": {
      "text/plain": [
       "[<matplotlib.lines.Line2D at 0xdd24828>]"
      ]
     },
     "execution_count": 154,
     "metadata": {},
     "output_type": "execute_result"
    },
    {
     "data": {
      "image/png": "[encoded data removed]",
      "text/plain": [
       "<Figure size 2160x216 with 1 Axes>"
      ]
     },
     "metadata": {
      "needs_background": "light"
     },
     "output_type": "display_data"
    }
   ],
   "source": [
    "import numpy as np\n",
    "np.random.seed(0) #random이라고 만들어 놓은 것들 중 0번째를 나와라 얍! 그래서 seed 정하면 매번 똑같은거 나옴\n",
    "fl=plt.figure(figsize=(30,3)) #이건 사이즈 지정\n",
    "plt.plot(np.random.randn(100))"
   ]
  },
  {
   "cell_type": "code",
   "execution_count": 156,
   "metadata": {},
   "outputs": [
    {
     "data": {
      "text/plain": [
       "[<matplotlib.lines.Line2D at 0xbfc7f28>]"
      ]
     },
     "execution_count": 156,
     "metadata": {},
     "output_type": "execute_result"
    },
    {
     "data": {
      "image/png": "[encoded data removed]",
      "text/plain": [
       "<Figure size 432x288 with 1 Axes>"
      ]
     },
     "metadata": {
      "needs_background": "light"
     },
     "output_type": "display_data"
    }
   ],
   "source": [
    "f1=plt.figure(1)\n",
    "plt.plot([1, 2, 3, 4],'ro:')"
   ]
  },
  {
   "cell_type": "code",
   "execution_count": 160,
   "metadata": {},
   "outputs": [
    {
     "name": "stdout",
     "output_type": "stream",
     "text": [
      "Figure(432x288) 201316224\n"
     ]
    },
    {
     "data": {
      "text/plain": [
       "<Figure size 432x288 with 0 Axes>"
      ]
     },
     "metadata": {},
     "output_type": "display_data"
    }
   ],
   "source": [
    "f2 = plt.gcf()\n",
    "print(f1, id(f1))"
   ]
  },
  {
   "cell_type": "code",
   "execution_count": 182,
   "metadata": {},
   "outputs": [
    {
     "data": {
      "text/plain": [
       "([<matplotlib.axis.XTick at 0xf29b470>,\n",
       "  <matplotlib.axis.XTick at 0xf29ad68>,\n",
       "  <matplotlib.axis.XTick at 0xf29aa90>,\n",
       "  <matplotlib.axis.XTick at 0xf2cb278>,\n",
       "  <matplotlib.axis.XTick at 0xf2cb710>],\n",
       " <a list of 5 Text xticklabel objects>)"
      ]
     },
     "execution_count": 182,
     "metadata": {},
     "output_type": "execute_result"
    },
    {
     "data": {
      "image/png": "[encoded data removed]",
      "text/plain": [
       "<Figure size 432x288 with 1 Axes>"
      ]
     },
     "metadata": {
      "needs_background": "light"
     },
     "output_type": "display_data"
    }
   ],
   "source": [
    "year = np.arange(2014,2019)\n",
    "_year = np.arange(5)\n",
    "apple_price=np.random.rand(5)\n",
    "width = 0.5\n",
    "\n",
    "plt.bar(year, apple_price, width=width, label='apple')\n",
    "plt.bar(year+width, apple_price, width=width, label='ms')\n",
    "plt.xticks(year+width/2)\n"
   ]
  },
  {
   "cell_type": "code",
   "execution_count": 192,
   "metadata": {},
   "outputs": [
    {
     "data": {
      "text/plain": [
       "Text(2018.5, 180, 'Max')"
      ]
     },
     "execution_count": 192,
     "metadata": {},
     "output_type": "execute_result"
    },
    {
     "data": {
      "image/png": "[encoded data removed]",
      "text/plain": [
       "<Figure size 432x288 with 1 Axes>"
      ]
     },
     "metadata": {
      "needs_background": "light"
     },
     "output_type": "display_data"
    }
   ],
   "source": [
    "data = {\n",
    "    'ms_price': np.array(apple_price),\n",
    "    'apple_price': np.array(apple_price),\n",
    "}\n",
    "plt.scatter(year, apple_price, s=data['apple_price']**3/10000)\n",
    "plt.scatter(year, apple_price, s=data['apple_price']**3/1000)\n",
    "plt.axis([2013, 2019, 0, 200])\n",
    "plt.annotate('Max', xy=(2018, apple_price[-1]), xytext=(2018.5, 180), arrowprops=dict(facecolor='black', shrink=0.05),)\n"
   ]
  },
  {
   "cell_type": "code",
   "execution_count": 193,
   "metadata": {},
   "outputs": [],
   "source": [
    "from mpl_toolkits.mplot3d import Axes3D"
   ]
  },
  {
   "cell_type": "code",
   "execution_count": 195,
   "metadata": {},
   "outputs": [
    {
     "name": "stdout",
     "output_type": "stream",
     "text": [
      "input_feature:\n",
      " [[ 0.64136246 -0.03580636  0.54192503 ...  0.15647796  0.03896525\n",
      "   0.56725485]\n",
      " [ 0.1493233   0.50369739 -1.1222859  ... -1.1073143  -0.74218041\n",
      "  -2.03695109]\n",
      " [ 0.04782433  0.62909262 -1.74908645 ...  0.59346702 -0.31368353\n",
      "   0.96379356]\n",
      " [ 2.01336238 -0.52243905 -0.36009555 ... -0.63137872 -1.26850999\n",
      "  -0.71691255]\n",
      " [-1.9889938  -0.38014306  0.63375679 ... -0.60409708  0.49402253\n",
      "  -0.23215569]]\n",
      "Target_value:\n",
      "[-338.57401063 -196.0311778   131.38045716 -106.23959871   53.85045207]\n"
     ]
    }
   ],
   "source": [
    "from sklearn.datasets import make_regression\n",
    "from sklearn.linear_model import LinearRegression\n",
    "from sklearn.model_selection  import train_test_split\n",
    "X,y=make_regression(n_samples=1000,n_features=1000, bias=10,noise=10)#bias는 y절편=w0임\n",
    "print('input_feature:\\n {}\\nTarget_value:\\n{}'.format(X[:5],y[:5]))\n"
   ]
  },
  {
   "cell_type": "code",
   "execution_count": 199,
   "metadata": {},
   "outputs": [],
   "source": [
    "X_train, X_test, y_train, y_test = train_test_split(X, y, test_size=0.2, shuffle=True)\n",
    "model=LinearRegression().fit(X_train,y_train)"
   ]
  },
  {
   "cell_type": "code",
   "execution_count": 200,
   "metadata": {},
   "outputs": [
    {
     "data": {
      "text/plain": [
       "1.0"
      ]
     },
     "execution_count": 200,
     "metadata": {},
     "output_type": "execute_result"
    }
   ],
   "source": [
    "model.score(X_train,y_train)"
   ]
  },
  {
   "cell_type": "code",
   "execution_count": 205,
   "metadata": {},
   "outputs": [],
   "source": [
    "from sklearn.datasets import load_boston\n",
    "from sklearn.linear_model import LinearRegression\n",
    "from sklearn.model_selection import train_test_split\n",
    "\n",
    "import matplotlib.pyplot as plt\n",
    "import pandas as pd\n",
    "import numpy as np\n",
    "\n",
    "boston=load_boston()"
   ]
  },
  {
   "cell_type": "code",
   "execution_count": 206,
   "metadata": {},
   "outputs": [
    {
     "data": {
      "text/plain": [
       "array(['CRIM', 'ZN', 'INDUS', 'CHAS', 'NOX', 'RM', 'AGE', 'DIS', 'RAD',\n",
       "       'TAX', 'PTRATIO', 'B', 'LSTAT'], dtype='<U7')"
      ]
     },
     "execution_count": 206,
     "metadata": {},
     "output_type": "execute_result"
    }
   ],
   "source": [
    "boston['feature_names']"
   ]
  },
  {
   "cell_type": "code",
   "execution_count": 207,
   "metadata": {},
   "outputs": [
    {
     "data": {
      "text/plain": [
       "dict_keys(['data', 'target', 'feature_names', 'DESCR', 'filename'])"
      ]
     },
     "execution_count": 207,
     "metadata": {},
     "output_type": "execute_result"
    }
   ],
   "source": [
    "boston.keys()"
   ]
  },
  {
   "cell_type": "code",
   "execution_count": 209,
   "metadata": {},
   "outputs": [],
   "source": [
    "X=pd.DataFrame(boston.data,columns=boston.feature_names)"
   ]
  },
  {
   "cell_type": "code",
   "execution_count": 210,
   "metadata": {},
   "outputs": [],
   "source": [
    "y=pd.DataFrame(boston.target,columns=['price'])"
   ]
  },
  {
   "cell_type": "code",
   "execution_count": 211,
   "metadata": {
    "scrolled": true
   },
   "outputs": [
    {
     "data": {
      "text/html": [
       "<div>\n",
       "<style scoped>\n",
       "    .dataframe tbody tr th:only-of-type {\n",
       "        vertical-align: middle;\n",
       "    }\n",
       "\n",
       "    .dataframe tbody tr th {\n",
       "        vertical-align: top;\n",
       "    }\n",
       "\n",
       "    .dataframe thead th {\n",
       "        text-align: right;\n",
       "    }\n",
       "</style>\n",
       "<table border=\"1\" class=\"dataframe\">\n",
       "  <thead>\n",
       "    <tr style=\"text-align: right;\">\n",
       "      <th></th>\n",
       "      <th>price</th>\n",
       "    </tr>\n",
       "  </thead>\n",
       "  <tbody>\n",
       "    <tr>\n",
       "      <th>501</th>\n",
       "      <td>22.4</td>\n",
       "    </tr>\n",
       "    <tr>\n",
       "      <th>502</th>\n",
       "      <td>20.6</td>\n",
       "    </tr>\n",
       "    <tr>\n",
       "      <th>503</th>\n",
       "      <td>23.9</td>\n",
       "    </tr>\n",
       "    <tr>\n",
       "      <th>504</th>\n",
       "      <td>22.0</td>\n",
       "    </tr>\n",
       "    <tr>\n",
       "      <th>505</th>\n",
       "      <td>11.9</td>\n",
       "    </tr>\n",
       "  </tbody>\n",
       "</table>\n",
       "</div>"
      ],
      "text/plain": [
       "     price\n",
       "501   22.4\n",
       "502   20.6\n",
       "503   23.9\n",
       "504   22.0\n",
       "505   11.9"
      ]
     },
     "execution_count": 211,
     "metadata": {},
     "output_type": "execute_result"
    }
   ],
   "source": [
    "y.tail()"
   ]
  },
  {
   "cell_type": "code",
   "execution_count": 213,
   "metadata": {},
   "outputs": [],
   "source": [
    "X_train,X_test,y_train,y_test=train_test_split(X,y,test_size=0.2,shuffle=True)"
   ]
  },
  {
   "cell_type": "code",
   "execution_count": 214,
   "metadata": {},
   "outputs": [],
   "source": [
    "model=LinearRegression().fit(X_train,y_train)"
   ]
  },
  {
   "cell_type": "code",
   "execution_count": 216,
   "metadata": {},
   "outputs": [
    {
     "data": {
      "text/plain": [
       "0.6493813154258676"
      ]
     },
     "execution_count": 216,
     "metadata": {},
     "output_type": "execute_result"
    }
   ],
   "source": [
    "model.score(X_test,y_test)"
   ]
  },
  {
   "cell_type": "code",
   "execution_count": 225,
   "metadata": {},
   "outputs": [],
   "source": [
    "X_new=round(X.mean(axis=0))"
   ]
  },
  {
   "cell_type": "code",
   "execution_count": 228,
   "metadata": {},
   "outputs": [
    {
     "data": {
      "text/html": [
       "<div>\n",
       "<style scoped>\n",
       "    .dataframe tbody tr th:only-of-type {\n",
       "        vertical-align: middle;\n",
       "    }\n",
       "\n",
       "    .dataframe tbody tr th {\n",
       "        vertical-align: top;\n",
       "    }\n",
       "\n",
       "    .dataframe thead th {\n",
       "        text-align: right;\n",
       "    }\n",
       "</style>\n",
       "<table border=\"1\" class=\"dataframe\">\n",
       "  <thead>\n",
       "    <tr style=\"text-align: right;\">\n",
       "      <th></th>\n",
       "      <th>CRIM</th>\n",
       "      <th>ZN</th>\n",
       "      <th>INDUS</th>\n",
       "      <th>CHAS</th>\n",
       "      <th>NOX</th>\n",
       "      <th>RM</th>\n",
       "      <th>AGE</th>\n",
       "      <th>DIS</th>\n",
       "      <th>RAD</th>\n",
       "      <th>TAX</th>\n",
       "      <th>PTRATIO</th>\n",
       "      <th>B</th>\n",
       "      <th>LSTAT</th>\n",
       "    </tr>\n",
       "  </thead>\n",
       "  <tbody>\n",
       "    <tr>\n",
       "      <th>0</th>\n",
       "      <td>4.0</td>\n",
       "      <td>11.0</td>\n",
       "      <td>11.0</td>\n",
       "      <td>0.0</td>\n",
       "      <td>1.0</td>\n",
       "      <td>6.0</td>\n",
       "      <td>69.0</td>\n",
       "      <td>4.0</td>\n",
       "      <td>10.0</td>\n",
       "      <td>408.0</td>\n",
       "      <td>18.0</td>\n",
       "      <td>357.0</td>\n",
       "      <td>13.0</td>\n",
       "    </tr>\n",
       "  </tbody>\n",
       "</table>\n",
       "</div>"
      ],
      "text/plain": [
       "   CRIM    ZN  INDUS  CHAS  NOX   RM   AGE  DIS   RAD    TAX  PTRATIO      B  \\\n",
       "0   4.0  11.0   11.0   0.0  1.0  6.0  69.0  4.0  10.0  408.0     18.0  357.0   \n",
       "\n",
       "   LSTAT  \n",
       "0   13.0  "
      ]
     },
     "execution_count": 228,
     "metadata": {},
     "output_type": "execute_result"
    }
   ],
   "source": [
    "pd.DataFrame(np.array(X_new)[:,np.newaxis].T,columns=boston.feature_names)"
   ]
  },
  {
   "cell_type": "code",
   "execution_count": 230,
   "metadata": {},
   "outputs": [],
   "source": [
    "from sklearn.datasets import make_regression\n",
    "from sklearn.linear_model import Ridge\n",
    "from sklearn.model_selection import train_test_split\n",
    "X, y = make_regression(n_samples=10000, n_features=1000, bias=10, noise=100)\n",
    "\n",
    "X_train, X_test, y_train, y_test = train_test_split(X, y, shuffle=True)\n",
    "model=Ridge(alpha=0.1).fit(X_train,y_train)"
   ]
  },
  {
   "cell_type": "code",
   "execution_count": 233,
   "metadata": {},
   "outputs": [
    {
     "name": "stdout",
     "output_type": "stream",
     "text": [
      "weight: [-1.36775990e+00 -4.40860236e-01  1.47295010e+00 -8.28982406e-01\n",
      " -1.30168711e+00 -7.22568882e-01  3.53853697e+00 -1.81582945e-02\n",
      "  3.89343751e-02 -5.51606508e-01 -2.21898612e+00 -4.90838273e-01\n",
      " -1.83511009e+00  1.11845743e+00  1.78180993e+00  8.78239039e-01\n",
      "  8.55004079e-01 -6.02794163e-01  8.17760607e-01 -1.20340508e+00\n",
      " -7.42218504e-01  8.63778248e-01 -3.56924023e-01  1.40406002e+00\n",
      " -1.28741922e-01  1.80062228e+00 -5.19849361e-02  1.61834094e+00\n",
      " -7.01350438e-01 -7.18539651e-01  6.56669965e-01 -1.60305858e+00\n",
      " -1.37837381e+00  1.96385901e+00  1.15857504e-02 -5.82467635e-01\n",
      "  7.32337155e-01  2.53097698e+00  1.79633913e-01  3.29173176e+00\n",
      "  1.68589856e+00  1.37021865e+00  5.15970548e-01 -8.04084977e-01\n",
      " -2.36788798e+00  2.66731961e+00 -1.05795301e+00  1.28553984e+00\n",
      " -1.16649121e+00  6.73228489e-01 -1.17241755e+00 -1.02465032e+00\n",
      " -2.51848289e-01 -3.26076628e-01  1.60475482e+00 -4.03724086e-01\n",
      "  5.20146184e-01 -1.11395495e+00 -1.38503150e-01 -1.83053421e-01\n",
      " -2.11155905e+00 -1.18172836e+00  3.40703557e-01  8.79758836e+00\n",
      " -2.52002464e-01 -1.20115766e+00 -6.00446848e-01 -7.49031990e-01\n",
      "  1.89501958e+00 -1.09819456e+00 -6.82209240e-01 -7.44015286e-01\n",
      "  1.24164792e+00 -5.53802737e-01  1.44660755e+00 -1.30799295e+00\n",
      " -2.74107819e+00 -9.27904380e-01 -8.40507834e-02 -2.63290519e-01\n",
      " -3.15978165e-01 -3.69974445e+00 -2.36794507e-01  2.74034314e+00\n",
      "  1.10461895e-01  1.60077537e+00  9.00650036e-01  1.38026957e+00\n",
      " -7.27757075e-01 -1.90069244e+00 -5.12241260e-01  6.24391627e-02\n",
      "  2.59643335e-01  1.06543209e+00  1.95592755e+00 -2.51737061e+00\n",
      "  4.46583270e-01  1.12660750e+00 -5.17788458e-01  3.03511368e-02\n",
      " -2.29166493e+00 -5.30747328e-01  1.48282225e+00  9.00025320e-01\n",
      "  1.02648180e+00 -2.34293484e+00  1.71430778e-01  9.58508623e-01\n",
      "  4.72239841e-01  1.19536439e+00  1.09043877e+00  8.56331942e-01\n",
      " -6.84277960e-01 -7.77229049e-01 -2.15833788e+00  1.61748385e+00\n",
      "  1.92366500e+00  1.79344744e+00 -1.41143982e-01  1.32231290e-01\n",
      "  9.32633155e-01  1.71670408e+00  2.60615334e-01  8.16651875e-01\n",
      " -1.40384993e+00 -5.86131576e-01  6.41349683e-01 -5.81647648e-01\n",
      " -8.34970458e-01  1.86803633e+00 -7.46247382e-01 -4.73478167e-01\n",
      "  1.61736510e+00 -1.85098015e+00 -9.06224323e-01 -2.73673457e-01\n",
      " -1.21506079e+00  9.49558758e-01  2.96087533e-01  3.76917153e-01\n",
      " -1.10953339e+00 -7.26912445e-01 -5.16320333e-01  3.23012198e-01\n",
      " -1.81032220e-01  2.88028002e-01 -6.60952201e-01 -3.68282785e-01\n",
      " -3.65307996e-01  4.98786145e-01  3.86511461e-02  1.13322120e-02\n",
      "  1.95210395e+00 -9.31108579e-01 -2.05709626e+00  2.93352206e-01\n",
      "  3.21221449e-01  5.95351634e-01 -3.72402711e+00 -6.29180741e-01\n",
      " -1.71083579e+00  1.06456427e-01  3.40486734e-01 -2.62476145e+00\n",
      " -9.68768421e-01 -1.03991642e+00  1.75827469e+00  1.18394937e+00\n",
      " -6.21106056e-01  1.54351276e+00  5.40252454e-01 -6.42593277e-01\n",
      "  2.90347807e+00  5.93409841e-02  8.95370184e-01 -1.70444960e+00\n",
      " -6.18235720e-01  6.13505631e-01 -1.76617628e+00  1.24073388e+00\n",
      "  3.02272712e-01 -2.27177684e+00  6.11547677e-01 -6.74509142e-01\n",
      " -1.09021727e+00 -1.85135040e+00  1.54287830e+00 -1.23154318e-01\n",
      "  2.60292174e+00 -4.24885474e-02  2.29932139e+00  6.62469203e-01\n",
      "  5.13745630e-01 -1.13591711e+00  1.84026511e+00  3.13037872e+00\n",
      "  1.99437800e+00  1.49543284e+00 -5.38966650e-01  1.24748225e+00\n",
      "  1.63057771e+00  7.76408100e-01  6.90489776e-01 -9.80361613e-01\n",
      " -2.49677293e-03  8.59056837e-01 -1.17422404e+00 -2.02656735e+00\n",
      "  1.00523645e-01 -1.51351863e+00 -1.57315579e+00 -9.46978804e-01\n",
      " -2.44476815e-01  9.14476196e-01 -3.69435989e+00 -2.68374488e-01\n",
      "  3.96481758e-01 -3.01449861e+00  1.17695520e+00 -1.20115277e-01\n",
      " -1.74303770e+00  2.59851060e-01 -6.11687970e-01 -1.55178443e+00\n",
      " -9.93900605e-02 -2.55860600e-01 -4.14293701e-01 -8.32256127e-01\n",
      " -1.52774139e+00  7.26391486e-01 -1.75184532e+00 -4.13638696e-01\n",
      " -7.94046220e-01  6.72140623e-01 -1.33878441e+00  1.72151844e+00\n",
      "  3.52633373e-01  1.97103775e-02  1.05615441e+00  2.37874239e+00\n",
      "  1.73827056e+00  5.92279177e-01 -1.05049004e+00 -2.16693317e-01\n",
      "  1.54464294e-01  6.97786726e+00 -1.87332110e+00  1.92192861e+00\n",
      "  3.67923101e-01 -6.99156125e-01  1.45007348e+00  1.36651875e+00\n",
      "  1.79115138e+00 -2.07501369e+00  3.21346601e-01 -8.89806000e-01\n",
      " -6.81758961e-01 -5.30836311e-01 -4.23248339e-01  1.05317882e+00\n",
      " -9.32832168e-01  4.68218189e-01  1.53733721e+00 -8.34418007e-01\n",
      "  7.52412962e-01  2.02129504e+00  1.09937741e+00  1.06390668e+00\n",
      " -2.28232376e+00 -8.00707456e-01 -1.52901625e+00 -5.93473373e-01\n",
      " -1.55756253e+00  2.66300012e-01  2.34205557e-01  1.05635477e+00\n",
      "  8.12811648e-01  6.27422937e-01 -9.74712918e-01 -9.23577171e-01\n",
      " -5.41591894e-01  1.95169147e+00  9.12313202e-01 -1.11783237e+00\n",
      " -1.66101341e+00  5.70781168e-01  1.32971417e+00 -1.01071076e+00\n",
      " -8.80983298e-01  2.71319642e+00 -1.63581526e+00  1.28074175e+00\n",
      "  1.16226498e-01 -1.08312289e+00 -1.57518968e+00  1.83691184e+00\n",
      "  9.11638517e-01  1.21604280e+00 -4.97599623e-01  7.75461319e-01\n",
      " -1.62971810e+00 -6.91638477e-01  7.20281457e-01 -3.78967979e-01\n",
      "  1.49556931e+00 -2.04610385e+00 -5.66497070e-01  4.52170825e-01\n",
      " -4.06869385e-02 -1.43870125e+00  7.29258012e-01  2.32536545e+00\n",
      " -6.84294093e-01  9.25305473e-01 -1.10530626e+00  2.72865129e-01\n",
      "  1.80421158e+00  1.04011088e+00  6.78361580e-01  9.74026460e-02\n",
      "  1.00585707e+00 -1.71821442e+00  2.28871385e+00  6.02268124e-01\n",
      " -8.30824157e-01 -7.81157168e-01  1.22189607e+00  3.81077954e-01\n",
      " -1.91825489e+00  3.11588548e-01  5.07872102e-01  2.24639669e-01\n",
      "  3.13660210e-01 -1.65812028e-01  1.17513164e+00  9.17869683e-02\n",
      "  4.89390862e-01 -7.62411286e-02  1.82818382e+00  2.42123251e+00\n",
      " -1.06631687e+00  1.80996748e+00  1.79845124e+00  2.04248331e+00\n",
      "  1.41980502e+00  1.72696163e+00  1.21455247e-01  1.56262907e+00\n",
      " -1.58547281e+00 -3.74951742e-01  9.33394446e-01 -2.09981966e+00\n",
      " -2.32493704e-01 -2.23990882e-01  1.10445103e+00 -2.14235642e-01\n",
      " -5.52057344e-01 -3.75846382e-01  1.05026276e+00 -2.64008089e-01\n",
      " -7.12543229e-01  3.31320397e+00 -1.45529583e-01 -1.17922103e+00\n",
      "  2.59602276e+00 -1.24193580e+00 -1.38956230e+00  7.42924868e-01\n",
      " -9.49722713e-01  5.83457947e-01 -2.45804591e+00 -1.14643260e-01\n",
      " -8.76686790e-01 -2.51588055e+00 -9.40857952e-01 -8.32758293e-01\n",
      "  1.46139456e+00 -3.05186167e-01 -3.19344284e-02 -7.91614366e-01\n",
      " -5.06076325e-02  1.62917556e+00 -7.99859294e-01  2.77027534e+00\n",
      "  1.90312908e+00  9.06379222e-01 -1.46962805e+00 -1.24058269e+00\n",
      "  9.49682648e-01  8.24166799e-01 -5.88066065e-01  6.97475432e-01\n",
      "  2.58172809e-01 -2.46667116e+00  3.12129118e-01  5.08605790e-01\n",
      "  3.37127987e-01  1.46651368e-01 -2.08441665e+00 -9.53224930e-01\n",
      "  4.64251873e-01  9.60406874e-01 -2.29909724e+00 -4.39798559e-01\n",
      "  1.37745783e+00 -3.06496135e-01  1.32781849e+00  1.87691574e+00\n",
      " -1.28661703e+00  9.80949386e+01 -5.16583957e-01  1.69305168e-01\n",
      "  1.53250234e+00 -1.14554610e+00 -1.32336444e+00 -1.17212412e+00\n",
      "  4.08987782e-01 -9.82677065e-01  2.92570560e+00 -2.03294364e+00\n",
      "  9.25145364e-01 -1.56392448e+00  1.74789239e+00  3.94582172e-01\n",
      "  1.45895361e+00  1.09615288e+00 -1.33947791e+00  1.60340406e+00\n",
      "  1.92815083e+00 -1.33398434e+00 -1.87744745e+00 -1.76778005e+00\n",
      " -1.79600975e+00  4.78829890e-01 -1.10281708e+00  1.30394283e+00\n",
      "  6.81401223e-01 -5.18904195e-01 -2.00310804e+00  4.89390831e-01\n",
      " -1.54355384e+00  5.60069480e-01  9.50221429e-01 -5.44739245e-01\n",
      " -2.77791487e+00 -1.10272472e+00 -1.52747359e+00 -1.46015725e+00\n",
      "  9.32525281e-02 -1.13827059e+00 -3.35584066e-01  1.40827920e+00\n",
      "  5.70740446e-01 -6.14167419e-01  1.48326642e-01 -1.95715768e+00\n",
      " -2.39223410e-01 -1.15225249e-01  5.07054488e-01  5.48303670e-01\n",
      " -4.24296305e-01 -1.69416519e+00 -8.84721752e-01 -8.33152120e-01\n",
      " -2.23821503e-01  2.17136883e-01 -1.33611837e+00 -9.45613205e-01\n",
      " -2.43326724e-01 -1.23928685e+00  4.86383142e-01 -1.72835692e+00\n",
      " -7.44000849e-01  1.98265716e+00 -3.18674546e-01  7.89348562e-01\n",
      " -3.32643870e-01  1.73380375e+00  1.88778081e+00 -1.55429382e+00\n",
      "  4.30269143e-02  2.87960858e+00 -9.78560679e-01  5.70950820e-01\n",
      "  4.90183017e+00 -1.09816614e+00  1.51341518e+00  3.97814762e-01\n",
      "  1.52310064e+00  1.62455482e+00 -4.90011946e-02 -2.82878161e-01\n",
      "  1.42957844e+00  1.25039052e+00 -1.22039562e+00  1.06117528e+00\n",
      " -9.35414797e-01  3.32331759e-01 -1.32555810e+00 -4.11325764e-01\n",
      "  9.23576371e-01 -2.14862539e+00  1.60075200e+00 -3.73495289e-02\n",
      " -5.57360544e-01  4.22964251e-01 -1.32161168e-01  9.66550061e-01\n",
      " -1.04053154e+00 -7.07944534e-01 -3.65114663e-01  4.60305222e-01\n",
      " -1.16217681e+00  5.30136953e-01  4.35592058e-01 -6.57795329e-01\n",
      " -1.28509574e+00 -9.85853961e-01 -4.72096526e-01 -8.80754344e-01\n",
      " -1.50453461e+00  2.40993080e+00 -1.39368021e+00 -1.89991096e-01\n",
      "  1.89776870e+00 -5.41163111e-01 -1.75274798e+00 -6.52089212e-01\n",
      "  1.78812370e+00 -1.15660119e-01  6.15130121e-02  2.85265552e-01\n",
      "  7.58257739e-01  7.87087119e-03 -1.44612264e+00  1.51055528e+00\n",
      "  1.83656199e+00 -1.13578309e+00 -7.50117093e-01 -5.16594786e-01\n",
      " -1.03721035e+00 -1.78834946e+00 -1.86105169e+00  3.14820428e-02\n",
      " -4.08924360e-01  2.96891515e-01  9.31919224e-01 -1.08598204e+00\n",
      " -1.91959889e+00  3.26927103e-01  1.27707233e+00  5.70966867e-01\n",
      " -1.54887584e-02 -2.48727953e+00  2.26188959e-01  1.09216538e+00\n",
      "  1.90502286e+00 -6.46123290e-01 -8.62265008e-01  5.44804494e-01\n",
      "  1.18614113e+00  7.83388841e-01 -1.00003713e-02  2.11246354e+00\n",
      " -1.64867683e+00 -4.92790259e-01  3.94641912e-01 -9.65868476e-01\n",
      " -1.61623512e-01  1.34424858e+00 -2.28026716e-01 -2.57700405e-01\n",
      "  1.11284573e+00  4.25733137e-01 -5.56880411e-01 -7.36165968e-01\n",
      "  6.63952177e+01 -4.13946579e-01 -1.53505022e-01 -1.53149370e-01\n",
      " -6.58005736e-01 -7.05025729e-02 -1.04870597e+00 -1.41504613e+00\n",
      " -6.49863345e-01 -7.45837101e-01  3.12688030e-01 -1.35543235e+00\n",
      "  3.95086479e-01  1.75334035e-01  1.52980741e+00 -2.05096024e+00\n",
      " -6.70962090e-01 -3.66076341e-01 -1.50179366e+00  2.61336238e+00\n",
      "  9.89096916e-01  3.17303951e-01 -8.63862618e-02 -1.00485501e-01\n",
      " -1.66263442e+00 -5.02610070e-01  5.01694051e-01  2.27068414e-01\n",
      " -1.41747206e+00  1.02562037e+00  2.16523023e+00 -9.08350090e-01\n",
      " -4.03966540e-01 -3.05822473e+00  8.85234444e-01  1.83507393e-01\n",
      " -9.87156544e-01  9.33501756e-01  9.61122537e-01 -1.71348873e+00\n",
      " -2.38704986e-01 -1.64794669e+00  1.45493178e+00  2.45321804e+00\n",
      " -1.32230979e+00 -1.06786626e+00 -1.11170490e+00 -6.50839952e-01\n",
      " -1.14787075e+00 -1.56506550e+00 -9.95144959e-01  4.45422630e-01\n",
      " -3.60815961e-01  6.24197799e-01  1.36982458e+00  1.03305306e+00\n",
      " -2.66172689e+00 -3.47647318e-01  5.16960193e-01 -9.84887055e-02\n",
      "  9.51199733e+01 -5.31626103e-01 -1.07473073e+00  1.05630862e+00\n",
      " -1.34091242e-01  3.00900863e-01  8.19447452e-02  7.29840014e-01\n",
      " -3.67654401e-02 -6.06890349e-01 -3.51289396e-01 -6.79097912e-01\n",
      " -6.11247798e-01 -2.37674375e-01 -1.28763692e+00  4.99466018e-02\n",
      "  5.96391401e-01 -2.91800498e+00  1.55624112e+00  7.30133392e-01\n",
      " -7.38311787e-01  8.85158295e-01  2.02439365e-01  1.34724486e+00\n",
      " -1.95436705e+00  6.00032928e-01 -2.00730300e+00 -4.05914356e-01\n",
      "  2.17301299e+00  1.16841278e+00 -1.86905300e+00 -7.30578979e-01\n",
      " -2.01646577e-01  2.48384204e-01  9.89690791e-01  3.56152346e-01\n",
      " -3.03173884e-01 -1.23681730e+00  8.19282823e-01  9.92293846e-01\n",
      "  6.60506404e-01  2.13646671e-01  1.37912370e+00  8.67509793e-01\n",
      "  1.09238981e+00 -2.60796889e+00  1.56266010e+00 -7.78921822e-01\n",
      "  1.87132243e+00  9.38093888e-01 -2.13781705e+00 -9.14112543e-01\n",
      "  1.04667473e+00 -5.76584741e-01 -4.84301223e-01 -2.61629214e-01\n",
      "  1.72157541e+00 -3.13338898e-01  6.32573724e-01 -4.38054749e-01\n",
      "  2.46862635e+00  2.93744329e-01  1.71916212e-01  1.70864930e-02\n",
      " -6.39329940e-01  1.49383072e+00  2.38763602e+00  9.58924684e-01\n",
      " -1.81033639e+00 -2.13722701e+00 -1.24969032e+00 -2.67949822e-01\n",
      "  1.94930906e-02 -3.74753050e-01 -1.73280056e+00  5.82122958e-01\n",
      " -1.80211591e-01  1.85146875e+00  1.48923974e+00  2.87332461e-01\n",
      " -1.64714519e+00 -1.48418886e+00 -7.22353878e-01 -1.47392322e+00\n",
      " -1.00716818e+00  1.99493304e-01  2.03516763e+00  1.79169763e+00\n",
      "  2.18049722e-01 -9.85149399e-01  4.44685621e-01 -1.34551723e-01\n",
      "  2.11268590e+00  1.30132229e+00 -2.60586219e-01 -1.89107452e+00\n",
      "  4.55151439e-01 -5.60370312e-01 -1.36719762e+00  1.11956050e+00\n",
      " -1.18490583e+00  1.00009916e+00  2.45116981e+00 -1.44387760e+00\n",
      "  6.36710073e-01 -3.21334966e-01 -3.42643102e+00 -8.57310900e-01\n",
      " -3.64512501e-01 -2.49124462e+00  7.79176858e-01 -5.18953224e-01\n",
      "  1.14706362e-01  2.96100207e+00  1.85295809e+00 -1.88598849e+00\n",
      " -8.46666313e-01 -4.86244175e-01 -1.65422491e+00  1.75358402e-01\n",
      "  2.22301103e+00 -9.67094771e-01  7.78936322e-01  2.41945065e-02\n",
      "  2.81469228e+00  1.48012767e+01  1.40994386e-01  1.41365561e+00\n",
      " -3.47254667e+00  1.97977098e+00  4.96202117e-02  1.63551700e+00\n",
      " -1.92234014e+00 -9.58789333e-01  5.26843933e-01 -9.91781059e-01\n",
      "  2.02865921e-01  2.18012665e+00  7.59047098e-01  6.44834674e-01\n",
      "  4.47876824e-01  2.21425129e+00  2.62239297e-01 -1.73478168e+00\n",
      " -4.68647289e-01  6.72223259e-01  7.20638866e-01 -2.20853902e-01\n",
      "  3.58491869e-01 -2.95091371e-01 -1.75084087e-01 -1.49598449e+00\n",
      "  1.56855497e+00 -6.39798070e-01  4.24554069e+01 -3.93907425e-01\n",
      "  3.37811463e-01 -1.76211309e-01  3.08592991e-01 -1.67244204e+00\n",
      "  4.40443847e+01 -7.95107234e-01 -1.16851404e+00  3.69991615e-01\n",
      "  1.10239395e+00 -7.16429057e-01  7.54022227e+01  4.34876244e-01\n",
      "  7.87436609e-01  9.15266826e-01  6.19636701e-01  6.57011675e-01\n",
      " -8.77996949e-01  1.69765965e+00  3.20121372e-01 -1.44940981e+00\n",
      " -1.20744542e+00 -1.27434744e+00 -1.36359435e+00 -2.55726349e+00\n",
      " -7.25953909e-01  8.56090645e-01  9.82111552e-01 -1.64452493e+00\n",
      " -1.78686737e+00  1.28185299e-01  1.67396429e+00  1.28475757e-01\n",
      " -4.60892616e-01  2.30720357e+00  4.79361660e-01  1.46820872e+00\n",
      " -1.43667143e+00 -1.18503812e-01  1.61912700e-01 -9.99124808e-01\n",
      " -1.76466573e+00  1.07491652e+00 -7.93126848e-01  1.99851150e-01\n",
      "  8.79873110e-01  1.38886038e+00 -5.70976353e-01  7.30966007e-01\n",
      "  4.88798083e-01  5.03707478e-01  9.49936151e-01  1.52121641e+00\n",
      " -1.38081277e+00  9.02002755e-01 -3.13933328e+00 -4.39102012e-01\n",
      "  4.42486309e-01 -1.06805294e+00  7.74669883e-01 -2.27592878e+00\n",
      "  8.02560731e-01  5.65475331e-01 -2.33685027e-01 -2.47209802e-01\n",
      " -2.93346412e-02  1.01238970e+00 -9.89688350e-01 -1.90181403e+00\n",
      "  1.03979749e+00  1.24859878e-01 -1.53373357e+00 -5.11169445e-01\n",
      " -6.51865926e-01  2.87491246e-01 -8.27431849e-01  7.33615233e-01\n",
      " -6.34949686e-02 -3.27112717e-02 -4.19050416e-03  2.71443076e-01\n",
      "  3.43965781e-01 -3.06545024e+00  1.54807248e+00  4.04285214e-01\n",
      " -1.01655198e+00  2.41784905e-01  2.07985606e+00  4.92373652e-01\n",
      " -1.27967763e+00 -2.73350432e-01  7.76812823e-01 -9.84094693e-01\n",
      " -6.17712066e-02  4.27543958e-01  1.89017654e-01  1.51348991e+00\n",
      "  2.51998283e+00 -2.08062163e+00 -1.09014475e+00 -8.63880645e-01\n",
      " -1.16298415e+00 -9.62261020e-01 -6.17539750e-01 -2.71095609e+00\n",
      "  1.03333246e+00  1.10234987e+00  4.06117481e-01 -5.16269809e-01\n",
      "  1.36725430e+00  7.93926735e-01 -1.70882727e+00 -1.17023706e+00\n",
      " -7.09815691e-01  7.03338955e+01  9.45246759e-01 -9.60933429e-01\n",
      "  1.83345877e+00  1.30261864e+00  2.28429618e+00 -5.87240169e-01\n",
      " -2.73635414e+00 -1.97768646e+00 -5.90544131e-01  1.59059464e-01\n",
      "  2.15923463e+00  2.52222391e-01 -1.12869574e+00 -3.79360102e+00\n",
      "  1.00005665e+00  1.92306580e-01 -2.00608779e+00  9.54800167e-01\n",
      " -2.05461130e+00 -1.28609204e+00 -1.88065818e-01 -7.59096004e-01\n",
      " -1.25690195e+00  1.93815220e-01 -1.19712691e+00  1.54015767e+00\n",
      " -2.66508877e-01 -1.72948939e+00  1.07843720e+00  2.96853452e-01\n",
      "  1.59939894e-01  4.16677588e-01 -6.43768875e-01 -1.29525290e+00\n",
      "  2.88873017e+00 -7.73519972e-01  9.05880864e-01  7.51968623e-01\n",
      " -8.80733135e-01 -2.50042907e+00 -1.16012462e+00 -2.65412927e+00\n",
      " -3.27319575e+00  9.75150999e-02  4.21551581e-01  1.34647424e+00\n",
      "  1.46475593e+00  1.32537149e+00  2.19726846e+00  1.99950483e+00\n",
      " -1.64056461e+00 -1.50457572e+00 -4.03171359e-01 -5.27919575e-01\n",
      " -1.48122978e+00  1.10440707e+00  4.08248716e-01 -1.38526282e+00\n",
      " -3.09758405e+00 -8.57700454e-02  1.11962593e+00  1.02861202e+00\n",
      " -5.87472408e-01  1.22654333e+00  2.95197929e-01 -7.66118870e-01\n",
      "  1.64098042e-01  6.41084302e-01  9.10837125e-01 -1.73607557e-02\n",
      "  5.72121059e-01  2.14256892e-01 -6.60807569e-01  9.94807747e-01\n",
      " -1.43677949e+00 -1.57469192e-01  2.36044707e-01 -2.70623104e+00\n",
      "  8.89285026e-01  5.57036028e-02 -1.44233351e+00 -2.08257722e+00\n",
      "  3.64279662e+00  2.10234228e-01  1.41257960e+00  5.88079968e-01\n",
      "  8.37151637e-01  1.97887950e-01  1.83832862e+00  1.69800984e-01\n",
      "  1.22287927e+00  1.78973666e+00  7.78968469e-01 -4.54629974e-01]\n"
     ]
    },
    {
     "data": {
      "text/plain": [
       "0.8246344722766054"
      ]
     },
     "execution_count": 233,
     "metadata": {},
     "output_type": "execute_result"
    }
   ],
   "source": [
    "print('weight:',model.coef_)\n",
    "model.score(X_train,y_train)"
   ]
  },
  {
   "cell_type": "code",
   "execution_count": 232,
   "metadata": {},
   "outputs": [
    {
     "data": {
      "text/plain": [
       "0.748073198770373"
      ]
     },
     "execution_count": 232,
     "metadata": {},
     "output_type": "execute_result"
    }
   ],
   "source": [
    "model.score(X_test,y_test)"
   ]
  },
  {
   "cell_type": "code",
   "execution_count": 266,
   "metadata": {},
   "outputs": [],
   "source": [
    "import os\n",
    "HOUSING_PATH= 'datasets'\n",
    "import pandas as pd\n",
    "def load_housing_data(housing_path=HOUSING_PATH):\n",
    "    csv_path = os.path.join(housing_path,'housing.csv')\n",
    "    return pd.read_csv(csv_path)\n",
    "housing = load_housing_data()"
   ]
  },
  {
   "cell_type": "code",
   "execution_count": 267,
   "metadata": {},
   "outputs": [
    {
     "data": {
      "text/plain": [
       "<1H OCEAN     9136\n",
       "INLAND        6551\n",
       "NEAR OCEAN    2658\n",
       "NEAR BAY      2290\n",
       "ISLAND           5\n",
       "Name: ocean_proximity, dtype: int64"
      ]
     },
     "execution_count": 267,
     "metadata": {},
     "output_type": "execute_result"
    }
   ],
   "source": [
    "housing['ocean_proximity'].value_counts()\n"
   ]
  },
  {
   "cell_type": "code",
   "execution_count": 270,
   "metadata": {},
   "outputs": [
    {
     "ename": "KeyError",
     "evalue": "'longtitude'",
     "output_type": "error",
     "traceback": [
      "\u001b[1;31m---------------------------------------------------------------------------\u001b[0m",
      "\u001b[1;31mKeyError\u001b[0m                                  Traceback (most recent call last)",
      "\u001b[1;32mC:\\ProgramData\\Anaconda3\\lib\\site-packages\\pandas\\core\\indexes\\base.py\u001b[0m in \u001b[0;36mget_loc\u001b[1;34m(self, key, method, tolerance)\u001b[0m\n\u001b[0;32m   2656\u001b[0m             \u001b[1;32mtry\u001b[0m\u001b[1;33m:\u001b[0m\u001b[1;33m\u001b[0m\u001b[1;33m\u001b[0m\u001b[0m\n\u001b[1;32m-> 2657\u001b[1;33m                 \u001b[1;32mreturn\u001b[0m \u001b[0mself\u001b[0m\u001b[1;33m.\u001b[0m\u001b[0m_engine\u001b[0m\u001b[1;33m.\u001b[0m\u001b[0mget_loc\u001b[0m\u001b[1;33m(\u001b[0m\u001b[0mkey\u001b[0m\u001b[1;33m)\u001b[0m\u001b[1;33m\u001b[0m\u001b[1;33m\u001b[0m\u001b[0m\n\u001b[0m\u001b[0;32m   2658\u001b[0m             \u001b[1;32mexcept\u001b[0m \u001b[0mKeyError\u001b[0m\u001b[1;33m:\u001b[0m\u001b[1;33m\u001b[0m\u001b[1;33m\u001b[0m\u001b[0m\n",
      "\u001b[1;32mpandas/_libs/index.pyx\u001b[0m in \u001b[0;36mpandas._libs.index.IndexEngine.get_loc\u001b[1;34m()\u001b[0m\n",
      "\u001b[1;32mpandas/_libs/index.pyx\u001b[0m in \u001b[0;36mpandas._libs.index.IndexEngine.get_loc\u001b[1;34m()\u001b[0m\n",
      "\u001b[1;32mpandas/_libs/hashtable_class_helper.pxi\u001b[0m in \u001b[0;36mpandas._libs.hashtable.PyObjectHashTable.get_item\u001b[1;34m()\u001b[0m\n",
      "\u001b[1;32mpandas/_libs/hashtable_class_helper.pxi\u001b[0m in \u001b[0;36mpandas._libs.hashtable.PyObjectHashTable.get_item\u001b[1;34m()\u001b[0m\n",
      "\u001b[1;31mKeyError\u001b[0m: 'longtitude'",
      "\nDuring handling of the above exception, another exception occurred:\n",
      "\u001b[1;31mKeyError\u001b[0m                                  Traceback (most recent call last)",
      "\u001b[1;32m<ipython-input-270-f810f7deaa97>\u001b[0m in \u001b[0;36m<module>\u001b[1;34m\u001b[0m\n\u001b[1;32m----> 1\u001b[1;33m \u001b[0mhousing_plot\u001b[0m\u001b[1;33m=\u001b[0m\u001b[0mhousing\u001b[0m\u001b[1;33m.\u001b[0m\u001b[0mplot\u001b[0m\u001b[1;33m(\u001b[0m\u001b[0mkind\u001b[0m\u001b[1;33m=\u001b[0m\u001b[1;34m'scatter'\u001b[0m\u001b[1;33m,\u001b[0m\u001b[0mx\u001b[0m\u001b[1;33m=\u001b[0m\u001b[1;34m'longtitude'\u001b[0m\u001b[1;33m,\u001b[0m\u001b[0my\u001b[0m\u001b[1;33m=\u001b[0m\u001b[1;34m'latitude'\u001b[0m\u001b[1;33m,\u001b[0m\u001b[0mfigsize\u001b[0m\u001b[1;33m=\u001b[0m\u001b[1;33m(\u001b[0m\u001b[1;36m9\u001b[0m\u001b[1;33m,\u001b[0m\u001b[1;36m9\u001b[0m\u001b[1;33m)\u001b[0m\u001b[1;33m)\u001b[0m\u001b[1;33m\u001b[0m\u001b[1;33m\u001b[0m\u001b[0m\n\u001b[0m",
      "\u001b[1;32mC:\\ProgramData\\Anaconda3\\lib\\site-packages\\pandas\\plotting\\_core.py\u001b[0m in \u001b[0;36m__call__\u001b[1;34m(self, x, y, kind, ax, subplots, sharex, sharey, layout, figsize, use_index, title, grid, legend, style, logx, logy, loglog, xticks, yticks, xlim, ylim, rot, fontsize, colormap, table, yerr, xerr, secondary_y, sort_columns, **kwds)\u001b[0m\n\u001b[0;32m   2940\u001b[0m                           \u001b[0mfontsize\u001b[0m\u001b[1;33m=\u001b[0m\u001b[0mfontsize\u001b[0m\u001b[1;33m,\u001b[0m \u001b[0mcolormap\u001b[0m\u001b[1;33m=\u001b[0m\u001b[0mcolormap\u001b[0m\u001b[1;33m,\u001b[0m \u001b[0mtable\u001b[0m\u001b[1;33m=\u001b[0m\u001b[0mtable\u001b[0m\u001b[1;33m,\u001b[0m\u001b[1;33m\u001b[0m\u001b[1;33m\u001b[0m\u001b[0m\n\u001b[0;32m   2941\u001b[0m                           \u001b[0myerr\u001b[0m\u001b[1;33m=\u001b[0m\u001b[0myerr\u001b[0m\u001b[1;33m,\u001b[0m \u001b[0mxerr\u001b[0m\u001b[1;33m=\u001b[0m\u001b[0mxerr\u001b[0m\u001b[1;33m,\u001b[0m \u001b[0msecondary_y\u001b[0m\u001b[1;33m=\u001b[0m\u001b[0msecondary_y\u001b[0m\u001b[1;33m,\u001b[0m\u001b[1;33m\u001b[0m\u001b[1;33m\u001b[0m\u001b[0m\n\u001b[1;32m-> 2942\u001b[1;33m                           sort_columns=sort_columns, **kwds)\n\u001b[0m\u001b[0;32m   2943\u001b[0m     \u001b[0m__call__\u001b[0m\u001b[1;33m.\u001b[0m\u001b[0m__doc__\u001b[0m \u001b[1;33m=\u001b[0m \u001b[0mplot_frame\u001b[0m\u001b[1;33m.\u001b[0m\u001b[0m__doc__\u001b[0m\u001b[1;33m\u001b[0m\u001b[1;33m\u001b[0m\u001b[0m\n\u001b[0;32m   2944\u001b[0m \u001b[1;33m\u001b[0m\u001b[0m\n",
      "\u001b[1;32mC:\\ProgramData\\Anaconda3\\lib\\site-packages\\pandas\\plotting\\_core.py\u001b[0m in \u001b[0;36mplot_frame\u001b[1;34m(data, x, y, kind, ax, subplots, sharex, sharey, layout, figsize, use_index, title, grid, legend, style, logx, logy, loglog, xticks, yticks, xlim, ylim, rot, fontsize, colormap, table, yerr, xerr, secondary_y, sort_columns, **kwds)\u001b[0m\n\u001b[0;32m   1971\u001b[0m                  \u001b[0myerr\u001b[0m\u001b[1;33m=\u001b[0m\u001b[0myerr\u001b[0m\u001b[1;33m,\u001b[0m \u001b[0mxerr\u001b[0m\u001b[1;33m=\u001b[0m\u001b[0mxerr\u001b[0m\u001b[1;33m,\u001b[0m\u001b[1;33m\u001b[0m\u001b[1;33m\u001b[0m\u001b[0m\n\u001b[0;32m   1972\u001b[0m                  \u001b[0msecondary_y\u001b[0m\u001b[1;33m=\u001b[0m\u001b[0msecondary_y\u001b[0m\u001b[1;33m,\u001b[0m \u001b[0msort_columns\u001b[0m\u001b[1;33m=\u001b[0m\u001b[0msort_columns\u001b[0m\u001b[1;33m,\u001b[0m\u001b[1;33m\u001b[0m\u001b[1;33m\u001b[0m\u001b[0m\n\u001b[1;32m-> 1973\u001b[1;33m                  **kwds)\n\u001b[0m\u001b[0;32m   1974\u001b[0m \u001b[1;33m\u001b[0m\u001b[0m\n\u001b[0;32m   1975\u001b[0m \u001b[1;33m\u001b[0m\u001b[0m\n",
      "\u001b[1;32mC:\\ProgramData\\Anaconda3\\lib\\site-packages\\pandas\\plotting\\_core.py\u001b[0m in \u001b[0;36m_plot\u001b[1;34m(data, x, y, subplots, ax, kind, **kwds)\u001b[0m\n\u001b[0;32m   1738\u001b[0m         \u001b[1;32mif\u001b[0m \u001b[0misinstance\u001b[0m\u001b[1;33m(\u001b[0m\u001b[0mdata\u001b[0m\u001b[1;33m,\u001b[0m \u001b[0mABCDataFrame\u001b[0m\u001b[1;33m)\u001b[0m\u001b[1;33m:\u001b[0m\u001b[1;33m\u001b[0m\u001b[1;33m\u001b[0m\u001b[0m\n\u001b[0;32m   1739\u001b[0m             plot_obj = klass(data, x=x, y=y, subplots=subplots, ax=ax,\n\u001b[1;32m-> 1740\u001b[1;33m                              kind=kind, **kwds)\n\u001b[0m\u001b[0;32m   1741\u001b[0m         \u001b[1;32melse\u001b[0m\u001b[1;33m:\u001b[0m\u001b[1;33m\u001b[0m\u001b[1;33m\u001b[0m\u001b[0m\n\u001b[0;32m   1742\u001b[0m             raise ValueError(\"plot kind %r can only be used for data frames\"\n",
      "\u001b[1;32mC:\\ProgramData\\Anaconda3\\lib\\site-packages\\pandas\\plotting\\_core.py\u001b[0m in \u001b[0;36m__init__\u001b[1;34m(self, data, x, y, s, c, **kwargs)\u001b[0m\n\u001b[0;32m    858\u001b[0m             \u001b[1;31m# the handling of this argument later\u001b[0m\u001b[1;33m\u001b[0m\u001b[1;33m\u001b[0m\u001b[1;33m\u001b[0m\u001b[0m\n\u001b[0;32m    859\u001b[0m             \u001b[0ms\u001b[0m \u001b[1;33m=\u001b[0m \u001b[1;36m20\u001b[0m\u001b[1;33m\u001b[0m\u001b[1;33m\u001b[0m\u001b[0m\n\u001b[1;32m--> 860\u001b[1;33m         \u001b[0msuper\u001b[0m\u001b[1;33m(\u001b[0m\u001b[0mScatterPlot\u001b[0m\u001b[1;33m,\u001b[0m \u001b[0mself\u001b[0m\u001b[1;33m)\u001b[0m\u001b[1;33m.\u001b[0m\u001b[0m__init__\u001b[0m\u001b[1;33m(\u001b[0m\u001b[0mdata\u001b[0m\u001b[1;33m,\u001b[0m \u001b[0mx\u001b[0m\u001b[1;33m,\u001b[0m \u001b[0my\u001b[0m\u001b[1;33m,\u001b[0m \u001b[0ms\u001b[0m\u001b[1;33m=\u001b[0m\u001b[0ms\u001b[0m\u001b[1;33m,\u001b[0m \u001b[1;33m**\u001b[0m\u001b[0mkwargs\u001b[0m\u001b[1;33m)\u001b[0m\u001b[1;33m\u001b[0m\u001b[1;33m\u001b[0m\u001b[0m\n\u001b[0m\u001b[0;32m    861\u001b[0m         \u001b[1;32mif\u001b[0m \u001b[0mis_integer\u001b[0m\u001b[1;33m(\u001b[0m\u001b[0mc\u001b[0m\u001b[1;33m)\u001b[0m \u001b[1;32mand\u001b[0m \u001b[1;32mnot\u001b[0m \u001b[0mself\u001b[0m\u001b[1;33m.\u001b[0m\u001b[0mdata\u001b[0m\u001b[1;33m.\u001b[0m\u001b[0mcolumns\u001b[0m\u001b[1;33m.\u001b[0m\u001b[0mholds_integer\u001b[0m\u001b[1;33m(\u001b[0m\u001b[1;33m)\u001b[0m\u001b[1;33m:\u001b[0m\u001b[1;33m\u001b[0m\u001b[1;33m\u001b[0m\u001b[0m\n\u001b[0;32m    862\u001b[0m             \u001b[0mc\u001b[0m \u001b[1;33m=\u001b[0m \u001b[0mself\u001b[0m\u001b[1;33m.\u001b[0m\u001b[0mdata\u001b[0m\u001b[1;33m.\u001b[0m\u001b[0mcolumns\u001b[0m\u001b[1;33m[\u001b[0m\u001b[0mc\u001b[0m\u001b[1;33m]\u001b[0m\u001b[1;33m\u001b[0m\u001b[1;33m\u001b[0m\u001b[0m\n",
      "\u001b[1;32mC:\\ProgramData\\Anaconda3\\lib\\site-packages\\pandas\\plotting\\_core.py\u001b[0m in \u001b[0;36m__init__\u001b[1;34m(self, data, x, y, **kwargs)\u001b[0m\n\u001b[0;32m    801\u001b[0m         \u001b[1;32mif\u001b[0m \u001b[0mis_integer\u001b[0m\u001b[1;33m(\u001b[0m\u001b[0my\u001b[0m\u001b[1;33m)\u001b[0m \u001b[1;32mand\u001b[0m \u001b[1;32mnot\u001b[0m \u001b[0mself\u001b[0m\u001b[1;33m.\u001b[0m\u001b[0mdata\u001b[0m\u001b[1;33m.\u001b[0m\u001b[0mcolumns\u001b[0m\u001b[1;33m.\u001b[0m\u001b[0mholds_integer\u001b[0m\u001b[1;33m(\u001b[0m\u001b[1;33m)\u001b[0m\u001b[1;33m:\u001b[0m\u001b[1;33m\u001b[0m\u001b[1;33m\u001b[0m\u001b[0m\n\u001b[0;32m    802\u001b[0m             \u001b[0my\u001b[0m \u001b[1;33m=\u001b[0m \u001b[0mself\u001b[0m\u001b[1;33m.\u001b[0m\u001b[0mdata\u001b[0m\u001b[1;33m.\u001b[0m\u001b[0mcolumns\u001b[0m\u001b[1;33m[\u001b[0m\u001b[0my\u001b[0m\u001b[1;33m]\u001b[0m\u001b[1;33m\u001b[0m\u001b[1;33m\u001b[0m\u001b[0m\n\u001b[1;32m--> 803\u001b[1;33m         \u001b[1;32mif\u001b[0m \u001b[0mlen\u001b[0m\u001b[1;33m(\u001b[0m\u001b[0mself\u001b[0m\u001b[1;33m.\u001b[0m\u001b[0mdata\u001b[0m\u001b[1;33m[\u001b[0m\u001b[0mx\u001b[0m\u001b[1;33m]\u001b[0m\u001b[1;33m.\u001b[0m\u001b[0m_get_numeric_data\u001b[0m\u001b[1;33m(\u001b[0m\u001b[1;33m)\u001b[0m\u001b[1;33m)\u001b[0m \u001b[1;33m==\u001b[0m \u001b[1;36m0\u001b[0m\u001b[1;33m:\u001b[0m\u001b[1;33m\u001b[0m\u001b[1;33m\u001b[0m\u001b[0m\n\u001b[0m\u001b[0;32m    804\u001b[0m             \u001b[1;32mraise\u001b[0m \u001b[0mValueError\u001b[0m\u001b[1;33m(\u001b[0m\u001b[0mself\u001b[0m\u001b[1;33m.\u001b[0m\u001b[0m_kind\u001b[0m \u001b[1;33m+\u001b[0m \u001b[1;34m' requires x column to be numeric'\u001b[0m\u001b[1;33m)\u001b[0m\u001b[1;33m\u001b[0m\u001b[1;33m\u001b[0m\u001b[0m\n\u001b[0;32m    805\u001b[0m         \u001b[1;32mif\u001b[0m \u001b[0mlen\u001b[0m\u001b[1;33m(\u001b[0m\u001b[0mself\u001b[0m\u001b[1;33m.\u001b[0m\u001b[0mdata\u001b[0m\u001b[1;33m[\u001b[0m\u001b[0my\u001b[0m\u001b[1;33m]\u001b[0m\u001b[1;33m.\u001b[0m\u001b[0m_get_numeric_data\u001b[0m\u001b[1;33m(\u001b[0m\u001b[1;33m)\u001b[0m\u001b[1;33m)\u001b[0m \u001b[1;33m==\u001b[0m \u001b[1;36m0\u001b[0m\u001b[1;33m:\u001b[0m\u001b[1;33m\u001b[0m\u001b[1;33m\u001b[0m\u001b[0m\n",
      "\u001b[1;32mC:\\ProgramData\\Anaconda3\\lib\\site-packages\\pandas\\core\\frame.py\u001b[0m in \u001b[0;36m__getitem__\u001b[1;34m(self, key)\u001b[0m\n\u001b[0;32m   2925\u001b[0m             \u001b[1;32mif\u001b[0m \u001b[0mself\u001b[0m\u001b[1;33m.\u001b[0m\u001b[0mcolumns\u001b[0m\u001b[1;33m.\u001b[0m\u001b[0mnlevels\u001b[0m \u001b[1;33m>\u001b[0m \u001b[1;36m1\u001b[0m\u001b[1;33m:\u001b[0m\u001b[1;33m\u001b[0m\u001b[1;33m\u001b[0m\u001b[0m\n\u001b[0;32m   2926\u001b[0m                 \u001b[1;32mreturn\u001b[0m \u001b[0mself\u001b[0m\u001b[1;33m.\u001b[0m\u001b[0m_getitem_multilevel\u001b[0m\u001b[1;33m(\u001b[0m\u001b[0mkey\u001b[0m\u001b[1;33m)\u001b[0m\u001b[1;33m\u001b[0m\u001b[1;33m\u001b[0m\u001b[0m\n\u001b[1;32m-> 2927\u001b[1;33m             \u001b[0mindexer\u001b[0m \u001b[1;33m=\u001b[0m \u001b[0mself\u001b[0m\u001b[1;33m.\u001b[0m\u001b[0mcolumns\u001b[0m\u001b[1;33m.\u001b[0m\u001b[0mget_loc\u001b[0m\u001b[1;33m(\u001b[0m\u001b[0mkey\u001b[0m\u001b[1;33m)\u001b[0m\u001b[1;33m\u001b[0m\u001b[1;33m\u001b[0m\u001b[0m\n\u001b[0m\u001b[0;32m   2928\u001b[0m             \u001b[1;32mif\u001b[0m \u001b[0mis_integer\u001b[0m\u001b[1;33m(\u001b[0m\u001b[0mindexer\u001b[0m\u001b[1;33m)\u001b[0m\u001b[1;33m:\u001b[0m\u001b[1;33m\u001b[0m\u001b[1;33m\u001b[0m\u001b[0m\n\u001b[0;32m   2929\u001b[0m                 \u001b[0mindexer\u001b[0m \u001b[1;33m=\u001b[0m \u001b[1;33m[\u001b[0m\u001b[0mindexer\u001b[0m\u001b[1;33m]\u001b[0m\u001b[1;33m\u001b[0m\u001b[1;33m\u001b[0m\u001b[0m\n",
      "\u001b[1;32mC:\\ProgramData\\Anaconda3\\lib\\site-packages\\pandas\\core\\indexes\\base.py\u001b[0m in \u001b[0;36mget_loc\u001b[1;34m(self, key, method, tolerance)\u001b[0m\n\u001b[0;32m   2657\u001b[0m                 \u001b[1;32mreturn\u001b[0m \u001b[0mself\u001b[0m\u001b[1;33m.\u001b[0m\u001b[0m_engine\u001b[0m\u001b[1;33m.\u001b[0m\u001b[0mget_loc\u001b[0m\u001b[1;33m(\u001b[0m\u001b[0mkey\u001b[0m\u001b[1;33m)\u001b[0m\u001b[1;33m\u001b[0m\u001b[1;33m\u001b[0m\u001b[0m\n\u001b[0;32m   2658\u001b[0m             \u001b[1;32mexcept\u001b[0m \u001b[0mKeyError\u001b[0m\u001b[1;33m:\u001b[0m\u001b[1;33m\u001b[0m\u001b[1;33m\u001b[0m\u001b[0m\n\u001b[1;32m-> 2659\u001b[1;33m                 \u001b[1;32mreturn\u001b[0m \u001b[0mself\u001b[0m\u001b[1;33m.\u001b[0m\u001b[0m_engine\u001b[0m\u001b[1;33m.\u001b[0m\u001b[0mget_loc\u001b[0m\u001b[1;33m(\u001b[0m\u001b[0mself\u001b[0m\u001b[1;33m.\u001b[0m\u001b[0m_maybe_cast_indexer\u001b[0m\u001b[1;33m(\u001b[0m\u001b[0mkey\u001b[0m\u001b[1;33m)\u001b[0m\u001b[1;33m)\u001b[0m\u001b[1;33m\u001b[0m\u001b[1;33m\u001b[0m\u001b[0m\n\u001b[0m\u001b[0;32m   2660\u001b[0m         \u001b[0mindexer\u001b[0m \u001b[1;33m=\u001b[0m \u001b[0mself\u001b[0m\u001b[1;33m.\u001b[0m\u001b[0mget_indexer\u001b[0m\u001b[1;33m(\u001b[0m\u001b[1;33m[\u001b[0m\u001b[0mkey\u001b[0m\u001b[1;33m]\u001b[0m\u001b[1;33m,\u001b[0m \u001b[0mmethod\u001b[0m\u001b[1;33m=\u001b[0m\u001b[0mmethod\u001b[0m\u001b[1;33m,\u001b[0m \u001b[0mtolerance\u001b[0m\u001b[1;33m=\u001b[0m\u001b[0mtolerance\u001b[0m\u001b[1;33m)\u001b[0m\u001b[1;33m\u001b[0m\u001b[1;33m\u001b[0m\u001b[0m\n\u001b[0;32m   2661\u001b[0m         \u001b[1;32mif\u001b[0m \u001b[0mindexer\u001b[0m\u001b[1;33m.\u001b[0m\u001b[0mndim\u001b[0m \u001b[1;33m>\u001b[0m \u001b[1;36m1\u001b[0m \u001b[1;32mor\u001b[0m \u001b[0mindexer\u001b[0m\u001b[1;33m.\u001b[0m\u001b[0msize\u001b[0m \u001b[1;33m>\u001b[0m \u001b[1;36m1\u001b[0m\u001b[1;33m:\u001b[0m\u001b[1;33m\u001b[0m\u001b[1;33m\u001b[0m\u001b[0m\n",
      "\u001b[1;32mpandas/_libs/index.pyx\u001b[0m in \u001b[0;36mpandas._libs.index.IndexEngine.get_loc\u001b[1;34m()\u001b[0m\n",
      "\u001b[1;32mpandas/_libs/index.pyx\u001b[0m in \u001b[0;36mpandas._libs.index.IndexEngine.get_loc\u001b[1;34m()\u001b[0m\n",
      "\u001b[1;32mpandas/_libs/hashtable_class_helper.pxi\u001b[0m in \u001b[0;36mpandas._libs.hashtable.PyObjectHashTable.get_item\u001b[1;34m()\u001b[0m\n",
      "\u001b[1;32mpandas/_libs/hashtable_class_helper.pxi\u001b[0m in \u001b[0;36mpandas._libs.hashtable.PyObjectHashTable.get_item\u001b[1;34m()\u001b[0m\n",
      "\u001b[1;31mKeyError\u001b[0m: 'longtitude'"
     ]
    }
   ],
   "source": [
    "housing_plot=housing.plot(kind='scatter',x='longtitude',y='latitude',figsize=(9,9))"
   ]
  },
  {
   "cell_type": "code",
   "execution_count": 271,
   "metadata": {},
   "outputs": [],
   "source": [
    "box_plot_attr=['longtitude','latitude','housing_median_age','median_income']"
   ]
  },
  {
   "cell_type": "code",
   "execution_count": 272,
   "metadata": {},
   "outputs": [
    {
     "ename": "NameError",
     "evalue": "name 'figsize' is not defined",
     "output_type": "error",
     "traceback": [
      "\u001b[1;31m---------------------------------------------------------------------------\u001b[0m",
      "\u001b[1;31mNameError\u001b[0m                                 Traceback (most recent call last)",
      "\u001b[1;32m<ipython-input-272-7a8c8e7e504d>\u001b[0m in \u001b[0;36m<module>\u001b[1;34m\u001b[0m\n\u001b[1;32m----> 1\u001b[1;33m \u001b[0mhousing\u001b[0m\u001b[1;33m.\u001b[0m\u001b[0mboxplot\u001b[0m\u001b[1;33m(\u001b[0m\u001b[0mbox_plot_attr\u001b[0m\u001b[1;33m,\u001b[0m\u001b[0mfigsize\u001b[0m\u001b[1;33m(\u001b[0m\u001b[1;36m9\u001b[0m\u001b[1;33m,\u001b[0m\u001b[1;36m9\u001b[0m\u001b[1;33m)\u001b[0m\u001b[1;33m)\u001b[0m\u001b[1;33m\u001b[0m\u001b[1;33m\u001b[0m\u001b[0m\n\u001b[0m",
      "\u001b[1;31mNameError\u001b[0m: name 'figsize' is not defined"
     ]
    }
   ],
   "source": [
    "housing.boxplot(box_plot_attr,figsize(9,9))"
   ]
  },
  {
   "cell_type": "code",
   "execution_count": 273,
   "metadata": {},
   "outputs": [
    {
     "name": "stdout",
     "output_type": "stream",
     "text": [
      "<class 'pandas.core.frame.DataFrame'>\n",
      "Int64Index: 20433 entries, 0 to 20639\n",
      "Data columns (total 10 columns):\n",
      "longitude             20433 non-null float64\n",
      "latitude              20433 non-null float64\n",
      "housing_median_age    20433 non-null int64\n",
      "total_rooms           20433 non-null int64\n",
      "total_bedrooms        20433 non-null float64\n",
      "population            20433 non-null int64\n",
      "households            20433 non-null int64\n",
      "median_income         20433 non-null float64\n",
      "median_house_value    20433 non-null int64\n",
      "ocean_proximity       20433 non-null object\n",
      "dtypes: float64(4), int64(5), object(1)\n",
      "memory usage: 1.7+ MB\n"
     ]
    }
   ],
   "source": [
    "housing.dropna().info()"
   ]
  },
  {
   "cell_type": "code",
   "execution_count": 276,
   "metadata": {},
   "outputs": [],
   "source": [
    "from sklearn.datasets import make_regression\n",
    "from sklearn.linear_model import Lasso\n",
    "from sklearn.model_selection import train_test_split"
   ]
  },
  {
   "cell_type": "code",
   "execution_count": 277,
   "metadata": {},
   "outputs": [],
   "source": [
    "X, y = make_regression(n_samples=100000, n_features=1000, bias=10, noise=20)\n",
    "\n",
    "X_train, X_test, y_train, y_test = train_test_split(X, y)"
   ]
  },
  {
   "cell_type": "code",
   "execution_count": 282,
   "metadata": {},
   "outputs": [
    {
     "data": {
      "text/plain": [
       "0.9891661229116093"
      ]
     },
     "execution_count": 282,
     "metadata": {},
     "output_type": "execute_result"
    }
   ],
   "source": [
    "model.score(X_test,y_test)"
   ]
  },
  {
   "cell_type": "code",
   "execution_count": 283,
   "metadata": {},
   "outputs": [
    {
     "name": "stdout",
     "output_type": "stream",
     "text": [
      "Collecting pyspider\n",
      "  Downloading https://files.pythonhosted.org/packages/d0/97/d6062c928f53d899ff2a8538fed11d4d425ba3d27c96248a2c601c1c9fef/pyspider-0.3.10.tar.gz (110kB)\n",
      "Requirement already satisfied: Flask>=0.10 in c:\\programdata\\anaconda3\\lib\\site-packages (from pyspider) (1.0.2)\n",
      "Requirement already satisfied: Jinja2>=2.7 in c:\\programdata\\anaconda3\\lib\\site-packages (from pyspider) (2.10)\n",
      "Requirement already satisfied: chardet>=2.2 in c:\\programdata\\anaconda3\\lib\\site-packages (from pyspider) (3.0.4)\n",
      "Collecting cssselect>=0.9 (from pyspider)\n",
      "  Downloading https://files.pythonhosted.org/packages/7b/44/25b7283e50585f0b4156960691d951b05d061abf4a714078393e51929b30/cssselect-1.0.3-py2.py3-none-any.whl\n",
      "Requirement already satisfied: lxml in c:\\programdata\\anaconda3\\lib\\site-packages (from pyspider) (4.3.2)\n",
      "Requirement already satisfied: pycurl in c:\\programdata\\anaconda3\\lib\\site-packages (from pyspider) (7.43.0.2)\n",
      "Requirement already satisfied: requests>=2.2 in c:\\programdata\\anaconda3\\lib\\site-packages (from pyspider) (2.21.0)\n",
      "Collecting Flask-Login>=0.2.11 (from pyspider)\n",
      "  Downloading https://files.pythonhosted.org/packages/c1/ff/bd9a4d2d81bf0c07d9e53e8cd3d675c56553719bbefd372df69bf1b3c1e4/Flask-Login-0.4.1.tar.gz\n",
      "Collecting u-msgpack-python>=1.6 (from pyspider)\n",
      "  Downloading https://files.pythonhosted.org/packages/f1/4c/3dcd00ea071dfe62513bc7e280802eb155e2fd93c3f5384a0caa6e3b4538/u_msgpack_python-2.5.1-py2.py3-none-any.whl\n",
      "Requirement already satisfied: click>=3.3 in c:\\programdata\\anaconda3\\lib\\site-packages (from pyspider) (7.0)\n",
      "Requirement already satisfied: six>=1.5.0 in c:\\programdata\\anaconda3\\lib\\site-packages (from pyspider) (1.12.0)\n",
      "Requirement already satisfied: tblib>=1.3.0 in c:\\programdata\\anaconda3\\lib\\site-packages (from pyspider) (1.3.2)\n",
      "Collecting wsgidav>=2.0.0 (from pyspider)\n",
      "  Downloading https://files.pythonhosted.org/packages/8a/02/4d04115189471e929a2f37a05fc8da061bd36c88105999aae51f4558a704/WsgiDAV-3.0.0-py2.py3-none-any.whl (169kB)\n",
      "Collecting tornado<=4.5.3,>=3.2 (from pyspider)\n",
      "  Downloading https://files.pythonhosted.org/packages/e3/7b/e29ab3d51c8df66922fea216e2bddfcb6430fb29620e5165b16a216e0d3c/tornado-4.5.3.tar.gz (484kB)\n",
      "Collecting pyquery (from pyspider)\n",
      "  Downloading https://files.pythonhosted.org/packages/09/c7/ce8c9c37ab8ff8337faad3335c088d60bed4a35a4bed33a64f0e64fbcf29/pyquery-1.4.0-py2.py3-none-any.whl\n",
      "Requirement already satisfied: Werkzeug>=0.14 in c:\\programdata\\anaconda3\\lib\\site-packages (from Flask>=0.10->pyspider) (0.14.1)\n",
      "Requirement already satisfied: itsdangerous>=0.24 in c:\\programdata\\anaconda3\\lib\\site-packages (from Flask>=0.10->pyspider) (1.1.0)\n",
      "Requirement already satisfied: MarkupSafe>=0.23 in c:\\programdata\\anaconda3\\lib\\site-packages (from Jinja2>=2.7->pyspider) (1.1.1)\n",
      "Requirement already satisfied: idna<2.9,>=2.5 in c:\\programdata\\anaconda3\\lib\\site-packages (from requests>=2.2->pyspider) (2.8)\n",
      "Requirement already satisfied: urllib3<1.25,>=1.21.1 in c:\\programdata\\anaconda3\\lib\\site-packages (from requests>=2.2->pyspider) (1.24.1)\n",
      "Requirement already satisfied: certifi>=2017.4.17 in c:\\programdata\\anaconda3\\lib\\site-packages (from requests>=2.2->pyspider) (2019.3.9)\n",
      "Requirement already satisfied: PyYAML in c:\\programdata\\anaconda3\\lib\\site-packages (from wsgidav>=2.0.0->pyspider) (5.1)\n",
      "Collecting jsmin (from wsgidav>=2.0.0->pyspider)\n",
      "  Downloading https://files.pythonhosted.org/packages/17/73/615d1267a82ed26cd7c124108c3c61169d8e40c36d393883eaee3a561852/jsmin-2.2.2.tar.gz\n",
      "Requirement already satisfied: defusedxml in c:\\programdata\\anaconda3\\lib\\site-packages (from wsgidav>=2.0.0->pyspider) (0.5.0)\n",
      "Building wheels for collected packages: pyspider, Flask-Login, tornado, jsmin\n",
      "  Building wheel for pyspider (setup.py): started\n",
      "  Building wheel for pyspider (setup.py): finished with status 'done'\n",
      "  Stored in directory: C:\\Users\\student\\AppData\\Local\\pip\\Cache\\wheels\\39\\60\\ec\\9ba1af9e0798333d32198784880b8cc5b22f00a81801c6fcec\n",
      "  Building wheel for Flask-Login (setup.py): started\n",
      "  Building wheel for Flask-Login (setup.py): finished with status 'done'\n",
      "  Stored in directory: C:\\Users\\student\\AppData\\Local\\pip\\Cache\\wheels\\39\\10\\74\\d68194e28d5f7a83de5f66e5b2deff5ccbb424fe45e6b0e927\n",
      "  Building wheel for tornado (setup.py): started\n",
      "  Building wheel for tornado (setup.py): finished with status 'done'\n",
      "  Stored in directory: C:\\Users\\student\\AppData\\Local\\pip\\Cache\\wheels\\72\\bf\\f4\\b68fa69596986881b397b18ff2b9af5f8181233aadcc9f76fd\n",
      "  Building wheel for jsmin (setup.py): started\n",
      "  Building wheel for jsmin (setup.py): finished with status 'done'\n",
      "  Stored in directory: C:\\Users\\student\\AppData\\Local\\pip\\Cache\\wheels\\64\\f4\\de\\9667d84f759289edf5442220997c6d4334637a6bb2a7b90f73\n",
      "Successfully built pyspider Flask-Login tornado jsmin\n",
      "Installing collected packages: cssselect, Flask-Login, u-msgpack-python, jsmin, wsgidav, tornado, pyquery, pyspider\n",
      "  Found existing installation: tornado 6.0.2\n",
      "    Uninstalling tornado-6.0.2:\n",
      "      Successfully uninstalled tornado-6.0.2\n",
      "Note: you may need to restart the kernel to use updated packages.\n"
     ]
    },
    {
     "name": "stderr",
     "output_type": "stream",
     "text": [
      "distributed 1.26.0 has requirement tornado>=5, but you'll have tornado 4.5.3 which is incompatible.\n",
      "Could not install packages due to an EnvironmentError: [WinError 5] 액세스가 거부되었습니다: 'c:\\\\programdata\\\\anaconda3\\\\lib\\\\site-packages\\\\~ornado\\\\speedups.cp37-win_amd64.pyd'\n",
      "Consider using the `--user` option or check the permissions.\n",
      "\n"
     ]
    }
   ],
   "source": [
    "pip install pyspider"
   ]
  },
  {
   "cell_type": "code",
   "execution_count": null,
   "metadata": {},
   "outputs": [],
   "source": []
  },
  {
   "cell_type": "code",
   "execution_count": 279,
   "metadata": {},
   "outputs": [],
   "source": [
    "model=Lasso().fit(X_train,y_train)"
   ]
  },
  {
   "cell_type": "code",
   "execution_count": 275,
   "metadata": {},
   "outputs": [],
   "source": [
    "#5-2-1 ocean_proximity는 범주형이니까 숫자로 encoding해준다 근데 유사도 헷갈려짐\n",
    "#5-2-2 그래서 범주형은 one hot encoding씀. (단점 feature 커짐)범주형을 feature 확장하고 해당하는 것만 1주고 나머진 다 0 주자 \n",
    "#(임퓨처-속성-스케일러)여태의 전처리 과정을 =>변환 파이프라인으로 한방에 해버린당  \n",
    "#"
   ]
  }
 ],
 "metadata": {
  "kernelspec": {
   "display_name": "Python 3",
   "language": "python",
   "name": "python3"
  },
  "language_info": {
   "codemirror_mode": {
    "name": "ipython",
    "version": 3
   },
   "file_extension": ".py",
   "mimetype": "text/x-python",
   "name": "python",
   "nbconvert_exporter": "python",
   "pygments_lexer": "ipython3",
   "version": "3.7.3"
  }
 },
 "nbformat": 4,
 "nbformat_minor": 2
}
