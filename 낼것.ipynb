{
 "cells": [
  {
   "cell_type": "code",
   "execution_count": 2,
   "metadata": {},
   "outputs": [],
   "source": [
    "import pandas as pd\n",
    "import numpy as np\n",
    "d1='A반은 마라탕을 좋아해'\n",
    "d2='A반은 마라탕을 더 이상 먹지않을거야.그래도 마라탕을 좋아해'\n",
    "a=d1.split()\n",
    "b=d2.split()"
   ]
  },
  {
   "cell_type": "code",
   "execution_count": null,
   "metadata": {},
   "outputs": [],
   "source": [
    "뉴스1=뉴스1.apply(lambda x:re.sub('[가-힣]+ 기자 \\([a-z]+\\S[a-z]+.[a-z]+.[a-z]+\\) [가-힣]+ \\S\\n등록\\s\\S{1} \\d{4}\\-\\d{2}-\\d{2} \\d{2}\\S\\d{2}','',x))\n",
    "뉴스2=뉴스2.apply(lambda x:re.sub('\\d{4}\\-\\d{2}-\\d{2} \\d{2}\\S\\d{2}:\\d{2}.\\d\\n','',x))\n",
    "뉴스2=뉴스2.apply(lambda x:re.sub('\\(사진=[가-힣]+ [가-힣]+\\)\\n\\n\\[[가-힣]+ [가-힣]+=[가-힣]+ [가-힣]+\\/[가-힣]+ [가-힣]+]','',x))\n"
   ]
  }
 ],
 "metadata": {
  "kernelspec": {
   "display_name": "Python 3",
   "language": "python",
   "name": "python3"
  },
  "language_info": {
   "codemirror_mode": {
    "name": "ipython",
    "version": 3
   },
   "file_extension": ".py",
   "mimetype": "text/x-python",
   "name": "python",
   "nbconvert_exporter": "python",
   "pygments_lexer": "ipython3",
   "version": "3.7.3"
  }
 },
 "nbformat": 4,
 "nbformat_minor": 2
}
