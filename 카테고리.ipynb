{
 "cells": [
  {
   "cell_type": "code",
   "execution_count": 1,
   "metadata": {},
   "outputs": [],
   "source": [
    "# -*- coding: utf-8 -*-\n",
    "with open(\"lotte_super_online.json\", 'rt', encoding='utf-8') as f:\n",
    "    lines  = f.readlines()\n",
    "import pandas as pd\n",
    "import re\n",
    "dt=pd.DataFrame(lines)\n",
    "cate=dt[dt[0].str.contains('name')]\n",
    "cate=cate[0].apply(lambda x : re.sub(\"(\\\"name\\\": \\\"|\\\",\\\\n)\",\"\",x))\n",
    "cate=pd.DataFrame(cate)"
   ]
  },
  {
   "cell_type": "code",
   "execution_count": 3,
   "metadata": {},
   "outputs": [],
   "source": [
    "cate=dt[dt[0].str.contains('name|level')]\n",
    "cate=cate[0].apply(lambda x : re.sub(\"(\\\"name\\\": \\\"|\\\",\\\\n)\",\"\",x))\n",
    "cate=pd.DataFrame(cate)"
   ]
  },
  {
   "cell_type": "code",
   "execution_count": 100,
   "metadata": {},
   "outputs": [],
   "source": [
    "etegory[0]=etegory[0].apply(lambda x : re.sub('\\\",\\n|\\\": \\\"|\\\"name |\\\"name|\\xa0','',x))"
   ]
  },
  {
   "cell_type": "code",
   "execution_count": 98,
   "metadata": {},
   "outputs": [],
   "source": [
    "etegory=etegory[~etegory[0].str.contains('level')].drop(1).reset_index().drop('index',axis=1).drop('level_0',axis=1)"
   ]
  },
  {
   "cell_type": "code",
   "execution_count": 104,
   "metadata": {},
   "outputs": [],
   "source": [
    "etegory.to_csv('lotte_Super_json_to.csv',index=False)"
   ]
  },
  {
   "cell_type": "code",
   "execution_count": 82,
   "metadata": {},
   "outputs": [
    {
     "data": {
      "text/plain": [
       "'사과/참외 '"
      ]
     },
     "execution_count": 82,
     "metadata": {},
     "output_type": "execute_result"
    }
   ],
   "source": [
    "etegory.loc[[soso[0][0]],0].values[0]"
   ]
  },
  {
   "cell_type": "code",
   "execution_count": 83,
   "metadata": {},
   "outputs": [],
   "source": [
    "for j in range(len(soso[0])-1):\n",
    "    for i in range(soso[0][j],soso[0][j+1]):\n",
    "        etegory.iloc[[i],4]=etegory.loc[[soso[0][j]],0].values[0]"
   ]
  },
  {
   "cell_type": "code",
   "execution_count": 84,
   "metadata": {},
   "outputs": [],
   "source": [
    "j=len(soso[0])-1\n",
    "for i in range(soso[0][j],len(etegory)):\n",
    "        etegory.iloc[[i],4]=etegory.loc[[soso[0][j]],0].values[0]"
   ]
  },
  {
   "cell_type": "code",
   "execution_count": 5,
   "metadata": {},
   "outputs": [],
   "source": [
    "def ioi(meat):\n",
    "    meat.reset_index(inplace=True)\n",
    "    meat.drop('index',axis=1,inplace=True)\n",
    "    meat['category']=meat[0][0]\n",
    "    meat.drop(0,inplace=True)\n",
    "    return meat"
   ]
  },
  {
   "cell_type": "code",
   "execution_count": 11,
   "metadata": {
    "collapsed": true,
    "jupyter": {
     "outputs_hidden": true
    }
   },
   "outputs": [
    {
     "data": {
      "text/html": [
       "<div>\n",
       "<style scoped>\n",
       "    .dataframe tbody tr th:only-of-type {\n",
       "        vertical-align: middle;\n",
       "    }\n",
       "\n",
       "    .dataframe tbody tr th {\n",
       "        vertical-align: top;\n",
       "    }\n",
       "\n",
       "    .dataframe thead th {\n",
       "        text-align: right;\n",
       "    }\n",
       "</style>\n",
       "<table border=\"1\" class=\"dataframe\">\n",
       "  <thead>\n",
       "    <tr style=\"text-align: right;\">\n",
       "      <th></th>\n",
       "      <th>index</th>\n",
       "      <th>0</th>\n",
       "    </tr>\n",
       "  </thead>\n",
       "  <tbody>\n",
       "    <tr>\n",
       "      <th>3280</th>\n",
       "      <td>1365849</td>\n",
       "      <td>수산/정육</td>\n",
       "    </tr>\n",
       "    <tr>\n",
       "      <th>6794</th>\n",
       "      <td>1762092</td>\n",
       "      <td>유제품/냉장/냉동</td>\n",
       "    </tr>\n",
       "    <tr>\n",
       "      <th>10153</th>\n",
       "      <td>4079427</td>\n",
       "      <td>가공식품</td>\n",
       "    </tr>\n",
       "    <tr>\n",
       "      <th>18264</th>\n",
       "      <td>8468691</td>\n",
       "      <td>유기가공식품 현미수 150ml 30포</td>\n",
       "    </tr>\n",
       "    <tr>\n",
       "      <th>21747</th>\n",
       "      <td>9209504</td>\n",
       "      <td>유기가공식품 양배추 브로콜리 진액 90ml 30포</td>\n",
       "    </tr>\n",
       "    <tr>\n",
       "      <th>21749</th>\n",
       "      <td>9209524</td>\n",
       "      <td>유기가공식품 양배추 브로콜리 진액 90ml 60포</td>\n",
       "    </tr>\n",
       "    <tr>\n",
       "      <th>21751</th>\n",
       "      <td>9209544</td>\n",
       "      <td>유기가공식품 양배추 브로콜리 진액 90ml 90포</td>\n",
       "    </tr>\n",
       "    <tr>\n",
       "      <th>21753</th>\n",
       "      <td>9209564</td>\n",
       "      <td>유기가공식품 야채수 90ml 30포</td>\n",
       "    </tr>\n",
       "    <tr>\n",
       "      <th>21756</th>\n",
       "      <td>9209594</td>\n",
       "      <td>유기가공식품 야채수 90ml 60포</td>\n",
       "    </tr>\n",
       "    <tr>\n",
       "      <th>21757</th>\n",
       "      <td>9209604</td>\n",
       "      <td>유기가공식품 야채수 90ml 90포</td>\n",
       "    </tr>\n",
       "    <tr>\n",
       "      <th>21758</th>\n",
       "      <td>9209614</td>\n",
       "      <td>유기가공식품 야채수 150ml 30포</td>\n",
       "    </tr>\n",
       "    <tr>\n",
       "      <th>21759</th>\n",
       "      <td>9209624</td>\n",
       "      <td>유기가공식품 야채수 150ml 60포</td>\n",
       "    </tr>\n",
       "    <tr>\n",
       "      <th>21760</th>\n",
       "      <td>9209634</td>\n",
       "      <td>유기가공식품 야채수 150ml 90포</td>\n",
       "    </tr>\n",
       "    <tr>\n",
       "      <th>21761</th>\n",
       "      <td>9209644</td>\n",
       "      <td>유기가공식품 현미수 150ml 60포</td>\n",
       "    </tr>\n",
       "    <tr>\n",
       "      <th>21762</th>\n",
       "      <td>9209654</td>\n",
       "      <td>유기가공식품 현미수 150ml 90포</td>\n",
       "    </tr>\n",
       "    <tr>\n",
       "      <th>22390</th>\n",
       "      <td>9215941</td>\n",
       "      <td>유아/위생/미용</td>\n",
       "    </tr>\n",
       "    <tr>\n",
       "      <th>24847</th>\n",
       "      <td>9624803</td>\n",
       "      <td>주방/청소/세제</td>\n",
       "    </tr>\n",
       "    <tr>\n",
       "      <th>27423</th>\n",
       "      <td>9982406</td>\n",
       "      <td>생활잡화</td>\n",
       "    </tr>\n",
       "  </tbody>\n",
       "</table>\n",
       "</div>"
      ],
      "text/plain": [
       "         index                             0\n",
       "3280   1365849                         수산/정육\n",
       "6794   1762092                     유제품/냉장/냉동\n",
       "10153  4079427                          가공식품\n",
       "18264  8468691          유기가공식품 현미수 150ml 30포\n",
       "21747  9209504   유기가공식품 양배추 브로콜리 진액 90ml 30포\n",
       "21749  9209524   유기가공식품 양배추 브로콜리 진액 90ml 60포\n",
       "21751  9209544   유기가공식품 양배추 브로콜리 진액 90ml 90포\n",
       "21753  9209564           유기가공식품 야채수 90ml 30포\n",
       "21756  9209594           유기가공식품 야채수 90ml 60포\n",
       "21757  9209604           유기가공식품 야채수 90ml 90포\n",
       "21758  9209614         유기가공식품 야채수 150ml 30포 \n",
       "21759  9209624          유기가공식품 야채수 150ml 60포\n",
       "21760  9209634          유기가공식품 야채수 150ml 90포\n",
       "21761  9209644          유기가공식품 현미수 150ml 60포\n",
       "21762  9209654          유기가공식품 현미수 150ml 90포\n",
       "22390  9215941                      유아/위생/미용\n",
       "24847  9624803                      주방/청소/세제\n",
       "27423  9982406                          생활잡화"
      ]
     },
     "execution_count": 11,
     "metadata": {},
     "output_type": "execute_result"
    }
   ],
   "source": [
    "cate[cate[0].str.contains(\"3279수산/정육|6793유제품/냉장/냉동|10152가공식품|유아/위생/미용22389|주방/청소/세제24846|생활잡화27422\")]"
   ]
  },
  {
   "cell_type": "code",
   "execution_count": 27,
   "metadata": {},
   "outputs": [],
   "source": [
    "fruit=cate[:3279]\n",
    "meat=cate[3279:6793]\n",
    "milk=cate[6793:10152]\n",
    "instant=cate[10152:22389]\n",
    "sanity=cate[22389:24846]\n",
    "clean=cate[24846:27422]\n",
    "stuff=cate[27422:]"
   ]
  },
  {
   "cell_type": "code",
   "execution_count": 31,
   "metadata": {},
   "outputs": [],
   "source": [
    "listu=[fruit,meat,milk,instant,sanity,clean,stuff]"
   ]
  },
  {
   "cell_type": "code",
   "execution_count": 32,
   "metadata": {},
   "outputs": [
    {
     "name": "stderr",
     "output_type": "stream",
     "text": [
      "/usr/local/lib/python3.6/dist-packages/pandas/core/frame.py:3997: SettingWithCopyWarning: \n",
      "A value is trying to be set on a copy of a slice from a DataFrame\n",
      "\n",
      "See the caveats in the documentation: https://pandas.pydata.org/pandas-docs/stable/user_guide/indexing.html#returning-a-view-versus-a-copy\n",
      "  errors=errors,\n",
      "/usr/local/lib/python3.6/dist-packages/ipykernel_launcher.py:4: SettingWithCopyWarning: \n",
      "A value is trying to be set on a copy of a slice from a DataFrame.\n",
      "Try using .loc[row_indexer,col_indexer] = value instead\n",
      "\n",
      "See the caveats in the documentation: https://pandas.pydata.org/pandas-docs/stable/user_guide/indexing.html#returning-a-view-versus-a-copy\n",
      "  after removing the cwd from sys.path.\n"
     ]
    }
   ],
   "source": [
    "for i in range(len(listu)):\n",
    "    listu[i]=ioi(listu[i])"
   ]
  },
  {
   "cell_type": "code",
   "execution_count": 33,
   "metadata": {},
   "outputs": [],
   "source": [
    "category=pd.concat([fruit,meat,milk,instant,sanity,clean,stuff])"
   ]
  },
  {
   "cell_type": "code",
   "execution_count": 34,
   "metadata": {},
   "outputs": [],
   "source": [
    "category[0]=category[0].apply(lambda x : re.sub(\"\\xa0\",\"\",x))"
   ]
  },
  {
   "cell_type": "code",
   "execution_count": 79,
   "metadata": {},
   "outputs": [],
   "source": [
    "# -*- coding: utf-8 -*-\n",
    "with open(\"ssg_emart_online.json\", 'rt', encoding='utf-8') as f:\n",
    "    lines  = f.readlines(10000000000)\n",
    "import pandas as pd\n",
    "import re\n",
    "dt=pd.DataFrame(lines)\n",
    "cate=dt[dt[0].str.contains('name|level')]\n",
    "cate=cate[0].apply(lambda x : re.sub(\"(\\\"name\\\": \\\"|\\\",\\\\n)\",\"\",x))\n",
    "cate=pd.DataFrame(cate)"
   ]
  },
  {
   "cell_type": "code",
   "execution_count": 37,
   "metadata": {},
   "outputs": [],
   "source": [
    "category=category.rename(columns={0:'ITEM_NAME'})"
   ]
  },
  {
   "cell_type": "code",
   "execution_count": 106,
   "metadata": {},
   "outputs": [],
   "source": [
    "lol=[cate[cate[0]=='\"level\": \"1'].index+1]"
   ]
  },
  {
   "cell_type": "code",
   "execution_count": 6,
   "metadata": {},
   "outputs": [
    {
     "data": {
      "text/plain": [
       "[Int64Index([8, 1365849, 1762092, 4079427, 9215941, 9624803, 9982406], dtype='int64')]"
      ]
     },
     "execution_count": 6,
     "metadata": {},
     "output_type": "execute_result"
    }
   ],
   "source": [
    "lol"
   ]
  },
  {
   "cell_type": "code",
   "execution_count": 107,
   "metadata": {},
   "outputs": [
    {
     "data": {
      "text/plain": [
       "['과일',\n",
       " '채소',\n",
       " '쌀/잡곡/견과',\n",
       " '정육/계란류',\n",
       " '수산물/건해산',\n",
       " '우유/유제품/유아식',\n",
       " '냉장/냉동/간편식',\n",
       " '김치/반찬/밀키트',\n",
       " '생수/음료/주류',\n",
       " '커피/원두/차',\n",
       " '라면/면류/즉석식품/통조림',\n",
       " '장류/양념/가루/오일',\n",
       " '과자/시리얼/빙과/떡',\n",
       " '베이커리/잼/샐러드',\n",
       " '건강식품',\n",
       " '유기농/친환경',\n",
       " '화장지/물티슈/위생용품',\n",
       " '구강용품/면도/의약외품',\n",
       " '세제/세탁/청소/욕실용품',\n",
       " '뷰티',\n",
       " '주방용품/일회용품',\n",
       " '가구/침구/홈인테리어',\n",
       " '유아동/출산/완구',\n",
       " '패션의류/언더웨어',\n",
       " '잡화/슈즈/명품',\n",
       " '스포츠/레저/여행/자동차',\n",
       " '컴퓨터/가전/디지털/렌탈',\n",
       " '문구/취미/도서/반려용품']"
      ]
     },
     "execution_count": 107,
     "metadata": {},
     "output_type": "execute_result"
    }
   ],
   "source": [
    "[cate.iloc[i,0] for i in lol[0]]"
   ]
  },
  {
   "cell_type": "code",
   "execution_count": null,
   "metadata": {},
   "outputs": [],
   "source": [
    "def name():\n",
    "    cate['category']"
   ]
  },
  {
   "cell_type": "code",
   "execution_count": 105,
   "metadata": {
    "collapsed": true,
    "jupyter": {
     "outputs_hidden": true
    }
   },
   "outputs": [
    {
     "data": {
      "text/html": [
       "<div>\n",
       "<style scoped>\n",
       "    .dataframe tbody tr th:only-of-type {\n",
       "        vertical-align: middle;\n",
       "    }\n",
       "\n",
       "    .dataframe tbody tr th {\n",
       "        vertical-align: top;\n",
       "    }\n",
       "\n",
       "    .dataframe thead th {\n",
       "        text-align: right;\n",
       "    }\n",
       "</style>\n",
       "<table border=\"1\" class=\"dataframe\">\n",
       "  <thead>\n",
       "    <tr style=\"text-align: right;\">\n",
       "      <th></th>\n",
       "      <th>0</th>\n",
       "    </tr>\n",
       "  </thead>\n",
       "  <tbody>\n",
       "    <tr>\n",
       "      <th>0</th>\n",
       "      <td>\"level\": \"0</td>\n",
       "    </tr>\n",
       "    <tr>\n",
       "      <th>1</th>\n",
       "      <td>root</td>\n",
       "    </tr>\n",
       "    <tr>\n",
       "      <th>2</th>\n",
       "      <td>\"level\": \"1</td>\n",
       "    </tr>\n",
       "    <tr>\n",
       "      <th>3</th>\n",
       "      <td>과일</td>\n",
       "    </tr>\n",
       "    <tr>\n",
       "      <th>4</th>\n",
       "      <td>\"level\": \"2</td>\n",
       "    </tr>\n",
       "    <tr>\n",
       "      <th>5</th>\n",
       "      <td>사과/배</td>\n",
       "    </tr>\n",
       "    <tr>\n",
       "      <th>6</th>\n",
       "      <td>\"level\": \"3</td>\n",
       "    </tr>\n",
       "    <tr>\n",
       "      <th>7</th>\n",
       "      <td>사과</td>\n",
       "    </tr>\n",
       "    <tr>\n",
       "      <th>8</th>\n",
       "      <td>E-MART FRESH [국내산] 당찬사과 4-7입/봉</td>\n",
       "    </tr>\n",
       "    <tr>\n",
       "      <th>9</th>\n",
       "      <td>[국내산] 990 세척사과/봉</td>\n",
       "    </tr>\n",
       "    <tr>\n",
       "      <th>10</th>\n",
       "      <td>SSG.Fresh [당도선별] 유명산지 청송사과 1.5kg (봉)</td>\n",
       "    </tr>\n",
       "    <tr>\n",
       "      <th>11</th>\n",
       "      <td>[프리미엄] 고당도사과 1.2kg 내외 (봉)</td>\n",
       "    </tr>\n",
       "    <tr>\n",
       "      <th>12</th>\n",
       "      <td>SSG.Fresh 못생겨도 맛좋은 보조개사과 3kg (봉)</td>\n",
       "    </tr>\n",
       "    <tr>\n",
       "      <th>13</th>\n",
       "      <td>SSG.Fresh [당도선별] 대표산지 안동사과 2kg 내외 (봉)</td>\n",
       "    </tr>\n",
       "    <tr>\n",
       "      <th>14</th>\n",
       "      <td>[당도선별] 세척사과 8입 (박스)</td>\n",
       "    </tr>\n",
       "    <tr>\n",
       "      <th>15</th>\n",
       "      <td>SSG.Fresh [당도선별] 고산지 정선사과 1.3kg 내외 (봉)</td>\n",
       "    </tr>\n",
       "    <tr>\n",
       "      <th>16</th>\n",
       "      <td>SSG.Fresh [당도선별] 깊은 산속 봉화사과 2kg 내외 (봉)</td>\n",
       "    </tr>\n",
       "    <tr>\n",
       "      <th>17</th>\n",
       "      <td>[당도선별] 세척사과 3입 (팩)</td>\n",
       "    </tr>\n",
       "    <tr>\n",
       "      <th>18</th>\n",
       "      <td>특대왕 꿀뚝뚝 청송사과 3입(팩)</td>\n",
       "    </tr>\n",
       "    <tr>\n",
       "      <th>19</th>\n",
       "      <td>후르츠팜 밤푸 새콤달콤 아오리사과 2kg (10~13과)</td>\n",
       "    </tr>\n",
       "    <tr>\n",
       "      <th>20</th>\n",
       "      <td>[프리미엄] 당도선별 왕배 2입 (팩)</td>\n",
       "    </tr>\n",
       "    <tr>\n",
       "      <th>21</th>\n",
       "      <td>참좋은 당도선별 보조개사과 5kg</td>\n",
       "    </tr>\n",
       "    <tr>\n",
       "      <th>22</th>\n",
       "      <td>한아름농수산 하루애 세척사과 실중량 3.3kg (20-26과/가정용 흠과)</td>\n",
       "    </tr>\n",
       "    <tr>\n",
       "      <th>23</th>\n",
       "      <td>더조은푸드 경북 부사 세척사과 가정용 5kg 22-24과</td>\n",
       "    </tr>\n",
       "    <tr>\n",
       "      <th>24</th>\n",
       "      <td>자연맛남  아삭아삭 세척사과 2.5kg (14과내)</td>\n",
       "    </tr>\n",
       "    <tr>\n",
       "      <th>25</th>\n",
       "      <td>자연맛남  아삭아삭 세척사과 2.5kg x 2박스 (28과내)</td>\n",
       "    </tr>\n",
       "    <tr>\n",
       "      <th>26</th>\n",
       "      <td>후르츠팜 밤푸 새콤달콤 아오리사과 5kg (25~30과)</td>\n",
       "    </tr>\n",
       "    <tr>\n",
       "      <th>27</th>\n",
       "      <td>후르츠팜 밤푸 새콤달콤 아오리사과 3kg (15~18과)</td>\n",
       "    </tr>\n",
       "    <tr>\n",
       "      <th>28</th>\n",
       "      <td>참좋은 당도선별 청송사과 5kg</td>\n",
       "    </tr>\n",
       "    <tr>\n",
       "      <th>29</th>\n",
       "      <td>더조은푸드 경북 부사 세척사과 가정용 5kg 13-15과</td>\n",
       "    </tr>\n",
       "    <tr>\n",
       "      <th>30</th>\n",
       "      <td>착한식탁 당도높은 맛있는 사과 8kg</td>\n",
       "    </tr>\n",
       "    <tr>\n",
       "      <th>31</th>\n",
       "      <td>더조은푸드 경북 세척사과 가정용 3kg 13-15과</td>\n",
       "    </tr>\n",
       "    <tr>\n",
       "      <th>32</th>\n",
       "      <td>친환경팔도 ABC주스 재료 7일세트(사과 비트 당근)</td>\n",
       "    </tr>\n",
       "    <tr>\n",
       "      <th>33</th>\n",
       "      <td>[명품청송사과/산지직송]한입 세척 청송사과 3kg(9-14과/중소과 정품)</td>\n",
       "    </tr>\n",
       "    <tr>\n",
       "      <th>34</th>\n",
       "      <td>[명품청송사과]산지직송 청송사과 6kg(벌크/랜덤과/주스 샐러드용)</td>\n",
       "    </tr>\n",
       "    <tr>\n",
       "      <th>35</th>\n",
       "      <td>청송 꿀사과 1.5kg (5~8입)</td>\n",
       "    </tr>\n",
       "    <tr>\n",
       "      <th>36</th>\n",
       "      <td>참좋은 당도선별 안동사과 5kg</td>\n",
       "    </tr>\n",
       "    <tr>\n",
       "      <th>37</th>\n",
       "      <td>산들네 [껍질째 먹는 경북 사과]산들네 세척사과 5kg 25과내</td>\n",
       "    </tr>\n",
       "    <tr>\n",
       "      <th>38</th>\n",
       "      <td>쓱-신 [맛다름][품질보장] 꿀사과 3kg내외(10~12개)/봉</td>\n",
       "    </tr>\n",
       "    <tr>\n",
       "      <th>39</th>\n",
       "      <td>[명품청송사과/산지직송]한입 세척 청송사과 5kg(17-25과/중소과 정품)</td>\n",
       "    </tr>\n",
       "    <tr>\n",
       "      <th>40</th>\n",
       "      <td>[아침이슬사과]경북 가저용 사과 2.5kg 간식(12-14과)</td>\n",
       "    </tr>\n",
       "    <tr>\n",
       "      <th>41</th>\n",
       "      <td>더조은푸드 경북 부사 사과 가정용 10kg 48-51과</td>\n",
       "    </tr>\n",
       "    <tr>\n",
       "      <th>42</th>\n",
       "      <td>참좋은 당도선별 청송사과 10kg(5kg*2BOX)</td>\n",
       "    </tr>\n",
       "    <tr>\n",
       "      <th>43</th>\n",
       "      <td>참좋은 당도선별 봉화사과 10kg(5kg*2BOX)</td>\n",
       "    </tr>\n",
       "    <tr>\n",
       "      <th>44</th>\n",
       "      <td>이레뜰  껍질째먹는 세척사과 2kg 10과내외</td>\n",
       "    </tr>\n",
       "    <tr>\n",
       "      <th>45</th>\n",
       "      <td>과일연가 [과일선물세트] 사과선물세트 5kg3호(17~18개입)</td>\n",
       "    </tr>\n",
       "    <tr>\n",
       "      <th>46</th>\n",
       "      <td>[명품청송사과/산지직송]한입 세척 청송사과 10kg(33-50과/중소과 정품)</td>\n",
       "    </tr>\n",
       "    <tr>\n",
       "      <th>47</th>\n",
       "      <td>[명품청송사과]산지직송 청송사과 5kg(12-18과/중대과 알뜰 흠과)</td>\n",
       "    </tr>\n",
       "    <tr>\n",
       "      <th>48</th>\n",
       "      <td>더조은푸드 경북 부사 사과 가정용 5kg 22-24과</td>\n",
       "    </tr>\n",
       "    <tr>\n",
       "      <th>49</th>\n",
       "      <td>참좋은 당도선별 안동사과 10kg(5kg*2BOX)</td>\n",
       "    </tr>\n",
       "    <tr>\n",
       "      <th>50</th>\n",
       "      <td>[아침이슬사과]경북 가저용 사과 2.5kg 소과(15-19과)</td>\n",
       "    </tr>\n",
       "    <tr>\n",
       "      <th>51</th>\n",
       "      <td>더조은푸드 경북 부사 사과 알뜰주스용 5kg 25-30과</td>\n",
       "    </tr>\n",
       "    <tr>\n",
       "      <th>52</th>\n",
       "      <td>[아침이슬사과]경북 가저용 사과 4.5kg 간식(19-24과)</td>\n",
       "    </tr>\n",
       "    <tr>\n",
       "      <th>53</th>\n",
       "      <td>[아침이슬사과]경북 가저용 사과 2.5kg 중과(10-11과)</td>\n",
       "    </tr>\n",
       "    <tr>\n",
       "      <th>54</th>\n",
       "      <td>쓱-신 [맛다름][품질보장] 꿀사과 1.8kg내외(5~6개)/봉</td>\n",
       "    </tr>\n",
       "    <tr>\n",
       "      <th>55</th>\n",
       "      <td>더조은푸드 경북 부사 사과 가정용 5kg 19-21과</td>\n",
       "    </tr>\n",
       "    <tr>\n",
       "      <th>56</th>\n",
       "      <td>착한식탁 아삭한 아오리사과 2kg(12과 내외)</td>\n",
       "    </tr>\n",
       "    <tr>\n",
       "      <th>57</th>\n",
       "      <td>참좋은 당도선별 봉화사과 5kg</td>\n",
       "    </tr>\n",
       "    <tr>\n",
       "      <th>58</th>\n",
       "      <td>[명품청송사과]산지직송 청송사과 5kg(15-18과/중과 특 정품)</td>\n",
       "    </tr>\n",
       "    <tr>\n",
       "      <th>59</th>\n",
       "      <td>햇살아름 [햇살아름실속사과배 혼합 세트 4kg(사과5  배5)</td>\n",
       "    </tr>\n",
       "  </tbody>\n",
       "</table>\n",
       "</div>"
      ],
      "text/plain": [
       "                                               0\n",
       "0                                    \"level\": \"0\n",
       "1                                           root\n",
       "2                                    \"level\": \"1\n",
       "3                                             과일\n",
       "4                                    \"level\": \"2\n",
       "5                                           사과/배\n",
       "6                                    \"level\": \"3\n",
       "7                                             사과\n",
       "8                 E-MART FRESH [국내산] 당찬사과 4-7입/봉\n",
       "9                               [국내산] 990 세척사과/봉\n",
       "10          SSG.Fresh [당도선별] 유명산지 청송사과 1.5kg (봉)\n",
       "11                     [프리미엄] 고당도사과 1.2kg 내외 (봉)\n",
       "12              SSG.Fresh 못생겨도 맛좋은 보조개사과 3kg (봉)\n",
       "13         SSG.Fresh [당도선별] 대표산지 안동사과 2kg 내외 (봉)\n",
       "14                           [당도선별] 세척사과 8입 (박스)\n",
       "15        SSG.Fresh [당도선별] 고산지 정선사과 1.3kg 내외 (봉)\n",
       "16        SSG.Fresh [당도선별] 깊은 산속 봉화사과 2kg 내외 (봉)\n",
       "17                            [당도선별] 세척사과 3입 (팩)\n",
       "18                            특대왕 꿀뚝뚝 청송사과 3입(팩)\n",
       "19               후르츠팜 밤푸 새콤달콤 아오리사과 2kg (10~13과)\n",
       "20                         [프리미엄] 당도선별 왕배 2입 (팩)\n",
       "21                            참좋은 당도선별 보조개사과 5kg\n",
       "22     한아름농수산 하루애 세척사과 실중량 3.3kg (20-26과/가정용 흠과)\n",
       "23               더조은푸드 경북 부사 세척사과 가정용 5kg 22-24과\n",
       "24                  자연맛남  아삭아삭 세척사과 2.5kg (14과내)\n",
       "25            자연맛남  아삭아삭 세척사과 2.5kg x 2박스 (28과내)\n",
       "26               후르츠팜 밤푸 새콤달콤 아오리사과 5kg (25~30과)\n",
       "27               후르츠팜 밤푸 새콤달콤 아오리사과 3kg (15~18과)\n",
       "28                             참좋은 당도선별 청송사과 5kg\n",
       "29               더조은푸드 경북 부사 세척사과 가정용 5kg 13-15과\n",
       "30                          착한식탁 당도높은 맛있는 사과 8kg\n",
       "31                  더조은푸드 경북 세척사과 가정용 3kg 13-15과\n",
       "32                 친환경팔도 ABC주스 재료 7일세트(사과 비트 당근)\n",
       "33     [명품청송사과/산지직송]한입 세척 청송사과 3kg(9-14과/중소과 정품)\n",
       "34         [명품청송사과]산지직송 청송사과 6kg(벌크/랜덤과/주스 샐러드용)\n",
       "35                           청송 꿀사과 1.5kg (5~8입)\n",
       "36                             참좋은 당도선별 안동사과 5kg\n",
       "37           산들네 [껍질째 먹는 경북 사과]산들네 세척사과 5kg 25과내\n",
       "38           쓱-신 [맛다름][품질보장] 꿀사과 3kg내외(10~12개)/봉\n",
       "39    [명품청송사과/산지직송]한입 세척 청송사과 5kg(17-25과/중소과 정품)\n",
       "40            [아침이슬사과]경북 가저용 사과 2.5kg 간식(12-14과)\n",
       "41                더조은푸드 경북 부사 사과 가정용 10kg 48-51과\n",
       "42                  참좋은 당도선별 청송사과 10kg(5kg*2BOX)\n",
       "43                  참좋은 당도선별 봉화사과 10kg(5kg*2BOX)\n",
       "44                     이레뜰  껍질째먹는 세척사과 2kg 10과내외\n",
       "45           과일연가 [과일선물세트] 사과선물세트 5kg3호(17~18개입)\n",
       "46   [명품청송사과/산지직송]한입 세척 청송사과 10kg(33-50과/중소과 정품)\n",
       "47       [명품청송사과]산지직송 청송사과 5kg(12-18과/중대과 알뜰 흠과)\n",
       "48                 더조은푸드 경북 부사 사과 가정용 5kg 22-24과\n",
       "49                  참좋은 당도선별 안동사과 10kg(5kg*2BOX)\n",
       "50            [아침이슬사과]경북 가저용 사과 2.5kg 소과(15-19과)\n",
       "51               더조은푸드 경북 부사 사과 알뜰주스용 5kg 25-30과\n",
       "52            [아침이슬사과]경북 가저용 사과 4.5kg 간식(19-24과)\n",
       "53            [아침이슬사과]경북 가저용 사과 2.5kg 중과(10-11과)\n",
       "54           쓱-신 [맛다름][품질보장] 꿀사과 1.8kg내외(5~6개)/봉\n",
       "55                 더조은푸드 경북 부사 사과 가정용 5kg 19-21과\n",
       "56                    착한식탁 아삭한 아오리사과 2kg(12과 내외)\n",
       "57                             참좋은 당도선별 봉화사과 5kg\n",
       "58         [명품청송사과]산지직송 청송사과 5kg(15-18과/중과 특 정품)\n",
       "59            햇살아름 [햇살아름실속사과배 혼합 세트 4kg(사과5  배5)"
      ]
     },
     "execution_count": 105,
     "metadata": {},
     "output_type": "execute_result"
    }
   ],
   "source": [
    "cate['category']"
   ]
  },
  {
   "cell_type": "code",
   "execution_count": 110,
   "metadata": {
    "collapsed": true,
    "jupyter": {
     "outputs_hidden": true
    }
   },
   "outputs": [
    {
     "ename": "UnicodeDecodeError",
     "evalue": "'utf-16-le' codec can't decode bytes in position 82-83: illegal UTF-16 surrogate",
     "output_type": "error",
     "traceback": [
      "\u001b[0;31m\u001b[0m",
      "\u001b[0;31mUnicodeDecodeError\u001b[0mTraceback (most recent call last)",
      "\u001b[0;32m<ipython-input-110-78f447ba8802>\u001b[0m in \u001b[0;36m<module>\u001b[0;34m\u001b[0m\n\u001b[1;32m      1\u001b[0m \u001b[0;31m# -*- coding: utf-8 -*-\u001b[0m\u001b[0;34m\u001b[0m\u001b[0;34m\u001b[0m\u001b[0;34m\u001b[0m\u001b[0m\n\u001b[1;32m      2\u001b[0m \u001b[0;32mwith\u001b[0m \u001b[0mopen\u001b[0m\u001b[0;34m(\u001b[0m\u001b[0;34m\"super_order.z01\"\u001b[0m\u001b[0;34m,\u001b[0m \u001b[0;34m'rt'\u001b[0m\u001b[0;34m,\u001b[0m \u001b[0mencoding\u001b[0m\u001b[0;34m=\u001b[0m\u001b[0;34m'utf-16'\u001b[0m\u001b[0;34m)\u001b[0m \u001b[0;32mas\u001b[0m \u001b[0mf\u001b[0m\u001b[0;34m:\u001b[0m\u001b[0;34m\u001b[0m\u001b[0;34m\u001b[0m\u001b[0m\n\u001b[0;32m----> 3\u001b[0;31m     \u001b[0mlines\u001b[0m  \u001b[0;34m=\u001b[0m \u001b[0mf\u001b[0m\u001b[0;34m.\u001b[0m\u001b[0mreadlines\u001b[0m\u001b[0;34m(\u001b[0m\u001b[0;34m)\u001b[0m\u001b[0;34m\u001b[0m\u001b[0;34m\u001b[0m\u001b[0m\n\u001b[0m\u001b[1;32m      4\u001b[0m \u001b[0;32mimport\u001b[0m \u001b[0mpandas\u001b[0m \u001b[0;32mas\u001b[0m \u001b[0mpd\u001b[0m\u001b[0;34m\u001b[0m\u001b[0;34m\u001b[0m\u001b[0m\n\u001b[1;32m      5\u001b[0m \u001b[0;32mimport\u001b[0m \u001b[0mre\u001b[0m\u001b[0;34m\u001b[0m\u001b[0;34m\u001b[0m\u001b[0m\n",
      "\u001b[0;32m/usr/lib/python3.6/codecs.py\u001b[0m in \u001b[0;36mdecode\u001b[0;34m(self, input, final)\u001b[0m\n\u001b[1;32m    319\u001b[0m         \u001b[0;31m# decode input (taking the buffer into account)\u001b[0m\u001b[0;34m\u001b[0m\u001b[0;34m\u001b[0m\u001b[0;34m\u001b[0m\u001b[0m\n\u001b[1;32m    320\u001b[0m         \u001b[0mdata\u001b[0m \u001b[0;34m=\u001b[0m \u001b[0mself\u001b[0m\u001b[0;34m.\u001b[0m\u001b[0mbuffer\u001b[0m \u001b[0;34m+\u001b[0m \u001b[0minput\u001b[0m\u001b[0;34m\u001b[0m\u001b[0;34m\u001b[0m\u001b[0m\n\u001b[0;32m--> 321\u001b[0;31m         \u001b[0;34m(\u001b[0m\u001b[0mresult\u001b[0m\u001b[0;34m,\u001b[0m \u001b[0mconsumed\u001b[0m\u001b[0;34m)\u001b[0m \u001b[0;34m=\u001b[0m \u001b[0mself\u001b[0m\u001b[0;34m.\u001b[0m\u001b[0m_buffer_decode\u001b[0m\u001b[0;34m(\u001b[0m\u001b[0mdata\u001b[0m\u001b[0;34m,\u001b[0m \u001b[0mself\u001b[0m\u001b[0;34m.\u001b[0m\u001b[0merrors\u001b[0m\u001b[0;34m,\u001b[0m \u001b[0mfinal\u001b[0m\u001b[0;34m)\u001b[0m\u001b[0;34m\u001b[0m\u001b[0;34m\u001b[0m\u001b[0m\n\u001b[0m\u001b[1;32m    322\u001b[0m         \u001b[0;31m# keep undecoded input until the next call\u001b[0m\u001b[0;34m\u001b[0m\u001b[0;34m\u001b[0m\u001b[0;34m\u001b[0m\u001b[0m\n\u001b[1;32m    323\u001b[0m         \u001b[0mself\u001b[0m\u001b[0;34m.\u001b[0m\u001b[0mbuffer\u001b[0m \u001b[0;34m=\u001b[0m \u001b[0mdata\u001b[0m\u001b[0;34m[\u001b[0m\u001b[0mconsumed\u001b[0m\u001b[0;34m:\u001b[0m\u001b[0;34m]\u001b[0m\u001b[0;34m\u001b[0m\u001b[0;34m\u001b[0m\u001b[0m\n",
      "\u001b[0;32m/usr/lib/python3.6/encodings/utf_16.py\u001b[0m in \u001b[0;36m_buffer_decode\u001b[0;34m(self, input, errors, final)\u001b[0m\n\u001b[1;32m     59\u001b[0m         \u001b[0;32mif\u001b[0m \u001b[0mself\u001b[0m\u001b[0;34m.\u001b[0m\u001b[0mdecoder\u001b[0m \u001b[0;32mis\u001b[0m \u001b[0;32mNone\u001b[0m\u001b[0;34m:\u001b[0m\u001b[0;34m\u001b[0m\u001b[0;34m\u001b[0m\u001b[0m\n\u001b[1;32m     60\u001b[0m             \u001b[0;34m(\u001b[0m\u001b[0moutput\u001b[0m\u001b[0;34m,\u001b[0m \u001b[0mconsumed\u001b[0m\u001b[0;34m,\u001b[0m \u001b[0mbyteorder\u001b[0m\u001b[0;34m)\u001b[0m \u001b[0;34m=\u001b[0m\u001b[0;31m \u001b[0m\u001b[0;31m\\\u001b[0m\u001b[0;34m\u001b[0m\u001b[0;34m\u001b[0m\u001b[0m\n\u001b[0;32m---> 61\u001b[0;31m                 \u001b[0mcodecs\u001b[0m\u001b[0;34m.\u001b[0m\u001b[0mutf_16_ex_decode\u001b[0m\u001b[0;34m(\u001b[0m\u001b[0minput\u001b[0m\u001b[0;34m,\u001b[0m \u001b[0merrors\u001b[0m\u001b[0;34m,\u001b[0m \u001b[0;36m0\u001b[0m\u001b[0;34m,\u001b[0m \u001b[0mfinal\u001b[0m\u001b[0;34m)\u001b[0m\u001b[0;34m\u001b[0m\u001b[0;34m\u001b[0m\u001b[0m\n\u001b[0m\u001b[1;32m     62\u001b[0m             \u001b[0;32mif\u001b[0m \u001b[0mbyteorder\u001b[0m \u001b[0;34m==\u001b[0m \u001b[0;34m-\u001b[0m\u001b[0;36m1\u001b[0m\u001b[0;34m:\u001b[0m\u001b[0;34m\u001b[0m\u001b[0;34m\u001b[0m\u001b[0m\n\u001b[1;32m     63\u001b[0m                 \u001b[0mself\u001b[0m\u001b[0;34m.\u001b[0m\u001b[0mdecoder\u001b[0m \u001b[0;34m=\u001b[0m \u001b[0mcodecs\u001b[0m\u001b[0;34m.\u001b[0m\u001b[0mutf_16_le_decode\u001b[0m\u001b[0;34m\u001b[0m\u001b[0;34m\u001b[0m\u001b[0m\n",
      "\u001b[0;31mUnicodeDecodeError\u001b[0m: 'utf-16-le' codec can't decode bytes in position 82-83: illegal UTF-16 surrogate"
     ]
    }
   ],
   "source": [
    "# -*- coding: utf-8 -*-\n",
    "with open(\"super_order.z01\", 'rt', encoding='utf-16') as f:\n",
    "    lines  = f.readlines()\n",
    "import pandas as pd\n",
    "import re\n",
    "dt=pd.DataFrame(lines)"
   ]
  },
  {
   "cell_type": "code",
   "execution_count": 112,
   "metadata": {
    "collapsed": true,
    "jupyter": {
     "outputs_hidden": true
    }
   },
   "outputs": [
    {
     "ename": "UnicodeDecodeError",
     "evalue": "'utf-16-le' codec can't decode bytes in position 3880-3881: illegal UTF-16 surrogate",
     "output_type": "error",
     "traceback": [
      "\u001b[0;31m\u001b[0m",
      "\u001b[0;31mUnicodeDecodeError\u001b[0mTraceback (most recent call last)",
      "\u001b[0;32m<ipython-input-112-80a44d85963f>\u001b[0m in \u001b[0;36m<module>\u001b[0;34m\u001b[0m\n\u001b[1;32m      1\u001b[0m \u001b[0;31m# -*- coding: utf-8 -*-\u001b[0m\u001b[0;34m\u001b[0m\u001b[0;34m\u001b[0m\u001b[0;34m\u001b[0m\u001b[0m\n\u001b[1;32m      2\u001b[0m \u001b[0;32mwith\u001b[0m \u001b[0mopen\u001b[0m\u001b[0;34m(\u001b[0m\u001b[0;34m\"super_order.dmp\"\u001b[0m\u001b[0;34m,\u001b[0m \u001b[0;34m'rt'\u001b[0m\u001b[0;34m,\u001b[0m \u001b[0mencoding\u001b[0m\u001b[0;34m=\u001b[0m\u001b[0;34m'utf-16'\u001b[0m\u001b[0;34m)\u001b[0m \u001b[0;32mas\u001b[0m \u001b[0mf\u001b[0m\u001b[0;34m:\u001b[0m\u001b[0;34m\u001b[0m\u001b[0;34m\u001b[0m\u001b[0m\n\u001b[0;32m----> 3\u001b[0;31m     \u001b[0mlines\u001b[0m  \u001b[0;34m=\u001b[0m \u001b[0mf\u001b[0m\u001b[0;34m.\u001b[0m\u001b[0mreadlines\u001b[0m\u001b[0;34m(\u001b[0m\u001b[0;36m10000000000\u001b[0m\u001b[0;34m)\u001b[0m\u001b[0;34m\u001b[0m\u001b[0;34m\u001b[0m\u001b[0m\n\u001b[0m\u001b[1;32m      4\u001b[0m \u001b[0;32mimport\u001b[0m \u001b[0mpandas\u001b[0m \u001b[0;32mas\u001b[0m \u001b[0mpd\u001b[0m\u001b[0;34m\u001b[0m\u001b[0;34m\u001b[0m\u001b[0m\n\u001b[1;32m      5\u001b[0m \u001b[0;32mimport\u001b[0m \u001b[0mre\u001b[0m\u001b[0;34m\u001b[0m\u001b[0;34m\u001b[0m\u001b[0m\n",
      "\u001b[0;32m/usr/lib/python3.6/codecs.py\u001b[0m in \u001b[0;36mdecode\u001b[0;34m(self, input, final)\u001b[0m\n\u001b[1;32m    319\u001b[0m         \u001b[0;31m# decode input (taking the buffer into account)\u001b[0m\u001b[0;34m\u001b[0m\u001b[0;34m\u001b[0m\u001b[0;34m\u001b[0m\u001b[0m\n\u001b[1;32m    320\u001b[0m         \u001b[0mdata\u001b[0m \u001b[0;34m=\u001b[0m \u001b[0mself\u001b[0m\u001b[0;34m.\u001b[0m\u001b[0mbuffer\u001b[0m \u001b[0;34m+\u001b[0m \u001b[0minput\u001b[0m\u001b[0;34m\u001b[0m\u001b[0;34m\u001b[0m\u001b[0m\n\u001b[0;32m--> 321\u001b[0;31m         \u001b[0;34m(\u001b[0m\u001b[0mresult\u001b[0m\u001b[0;34m,\u001b[0m \u001b[0mconsumed\u001b[0m\u001b[0;34m)\u001b[0m \u001b[0;34m=\u001b[0m \u001b[0mself\u001b[0m\u001b[0;34m.\u001b[0m\u001b[0m_buffer_decode\u001b[0m\u001b[0;34m(\u001b[0m\u001b[0mdata\u001b[0m\u001b[0;34m,\u001b[0m \u001b[0mself\u001b[0m\u001b[0;34m.\u001b[0m\u001b[0merrors\u001b[0m\u001b[0;34m,\u001b[0m \u001b[0mfinal\u001b[0m\u001b[0;34m)\u001b[0m\u001b[0;34m\u001b[0m\u001b[0;34m\u001b[0m\u001b[0m\n\u001b[0m\u001b[1;32m    322\u001b[0m         \u001b[0;31m# keep undecoded input until the next call\u001b[0m\u001b[0;34m\u001b[0m\u001b[0;34m\u001b[0m\u001b[0;34m\u001b[0m\u001b[0m\n\u001b[1;32m    323\u001b[0m         \u001b[0mself\u001b[0m\u001b[0;34m.\u001b[0m\u001b[0mbuffer\u001b[0m \u001b[0;34m=\u001b[0m \u001b[0mdata\u001b[0m\u001b[0;34m[\u001b[0m\u001b[0mconsumed\u001b[0m\u001b[0;34m:\u001b[0m\u001b[0;34m]\u001b[0m\u001b[0;34m\u001b[0m\u001b[0;34m\u001b[0m\u001b[0m\n",
      "\u001b[0;32m/usr/lib/python3.6/encodings/utf_16.py\u001b[0m in \u001b[0;36m_buffer_decode\u001b[0;34m(self, input, errors, final)\u001b[0m\n\u001b[1;32m     59\u001b[0m         \u001b[0;32mif\u001b[0m \u001b[0mself\u001b[0m\u001b[0;34m.\u001b[0m\u001b[0mdecoder\u001b[0m \u001b[0;32mis\u001b[0m \u001b[0;32mNone\u001b[0m\u001b[0;34m:\u001b[0m\u001b[0;34m\u001b[0m\u001b[0;34m\u001b[0m\u001b[0m\n\u001b[1;32m     60\u001b[0m             \u001b[0;34m(\u001b[0m\u001b[0moutput\u001b[0m\u001b[0;34m,\u001b[0m \u001b[0mconsumed\u001b[0m\u001b[0;34m,\u001b[0m \u001b[0mbyteorder\u001b[0m\u001b[0;34m)\u001b[0m \u001b[0;34m=\u001b[0m\u001b[0;31m \u001b[0m\u001b[0;31m\\\u001b[0m\u001b[0;34m\u001b[0m\u001b[0;34m\u001b[0m\u001b[0m\n\u001b[0;32m---> 61\u001b[0;31m                 \u001b[0mcodecs\u001b[0m\u001b[0;34m.\u001b[0m\u001b[0mutf_16_ex_decode\u001b[0m\u001b[0;34m(\u001b[0m\u001b[0minput\u001b[0m\u001b[0;34m,\u001b[0m \u001b[0merrors\u001b[0m\u001b[0;34m,\u001b[0m \u001b[0;36m0\u001b[0m\u001b[0;34m,\u001b[0m \u001b[0mfinal\u001b[0m\u001b[0;34m)\u001b[0m\u001b[0;34m\u001b[0m\u001b[0;34m\u001b[0m\u001b[0m\n\u001b[0m\u001b[1;32m     62\u001b[0m             \u001b[0;32mif\u001b[0m \u001b[0mbyteorder\u001b[0m \u001b[0;34m==\u001b[0m \u001b[0;34m-\u001b[0m\u001b[0;36m1\u001b[0m\u001b[0;34m:\u001b[0m\u001b[0;34m\u001b[0m\u001b[0;34m\u001b[0m\u001b[0m\n\u001b[1;32m     63\u001b[0m                 \u001b[0mself\u001b[0m\u001b[0;34m.\u001b[0m\u001b[0mdecoder\u001b[0m \u001b[0;34m=\u001b[0m \u001b[0mcodecs\u001b[0m\u001b[0;34m.\u001b[0m\u001b[0mutf_16_le_decode\u001b[0m\u001b[0;34m\u001b[0m\u001b[0;34m\u001b[0m\u001b[0m\n",
      "\u001b[0;31mUnicodeDecodeError\u001b[0m: 'utf-16-le' codec can't decode bytes in position 3880-3881: illegal UTF-16 surrogate"
     ]
    }
   ],
   "source": [
    "# -*- coding: utf-8 -*-\n",
    "with open(\"super_order.dmp\", 'rt', encoding='utf-16') as f:\n",
    "    lines  = f.readlines(10000000000)\n",
    "import pandas as pd\n",
    "import re\n",
    "dt=pd.DataFrame(lines)\n",
    "dt\n",
    "# cate=dt[dt[0].str.contains('name')]\n",
    "# cate=cate[0].apply(lambda x : re.sub(\"(\\\"name\\\": \\\"|\\\",\\\\n)\",\"\",x))\n",
    "# cate=pd.DataFrame(cate)"
   ]
  },
  {
   "cell_type": "code",
   "execution_count": 116,
   "metadata": {},
   "outputs": [
    {
     "ename": "UnicodeDecodeError",
     "evalue": "'utf-16-le' codec can't decode bytes in position 3880-3881: illegal UTF-16 surrogate",
     "output_type": "error",
     "traceback": [
      "\u001b[0;31m\u001b[0m",
      "\u001b[0;31mUnicodeDecodeError\u001b[0mTraceback (most recent call last)",
      "\u001b[0;32m<ipython-input-116-2377b88e1559>\u001b[0m in \u001b[0;36m<module>\u001b[0;34m\u001b[0m\n\u001b[1;32m      1\u001b[0m \u001b[0;31m# -*- coding: utf-16 -*-\u001b[0m\u001b[0;34m\u001b[0m\u001b[0;34m\u001b[0m\u001b[0;34m\u001b[0m\u001b[0m\n\u001b[1;32m      2\u001b[0m \u001b[0;32mwith\u001b[0m \u001b[0mopen\u001b[0m\u001b[0;34m(\u001b[0m\u001b[0;34m\"super_order.dmp\"\u001b[0m\u001b[0;34m,\u001b[0m \u001b[0;34m'r'\u001b[0m\u001b[0;34m,\u001b[0m \u001b[0mencoding\u001b[0m\u001b[0;34m=\u001b[0m\u001b[0;34m'utf-16'\u001b[0m\u001b[0;34m)\u001b[0m \u001b[0;32mas\u001b[0m \u001b[0mf\u001b[0m\u001b[0;34m:\u001b[0m\u001b[0;34m\u001b[0m\u001b[0;34m\u001b[0m\u001b[0m\n\u001b[0;32m----> 3\u001b[0;31m     \u001b[0mlines\u001b[0m  \u001b[0;34m=\u001b[0m \u001b[0mf\u001b[0m\u001b[0;34m.\u001b[0m\u001b[0mreadlines\u001b[0m\u001b[0;34m(\u001b[0m\u001b[0;34m)\u001b[0m\u001b[0;34m\u001b[0m\u001b[0;34m\u001b[0m\u001b[0m\n\u001b[0m",
      "\u001b[0;32m/usr/lib/python3.6/codecs.py\u001b[0m in \u001b[0;36mdecode\u001b[0;34m(self, input, final)\u001b[0m\n\u001b[1;32m    319\u001b[0m         \u001b[0;31m# decode input (taking the buffer into account)\u001b[0m\u001b[0;34m\u001b[0m\u001b[0;34m\u001b[0m\u001b[0;34m\u001b[0m\u001b[0m\n\u001b[1;32m    320\u001b[0m         \u001b[0mdata\u001b[0m \u001b[0;34m=\u001b[0m \u001b[0mself\u001b[0m\u001b[0;34m.\u001b[0m\u001b[0mbuffer\u001b[0m \u001b[0;34m+\u001b[0m \u001b[0minput\u001b[0m\u001b[0;34m\u001b[0m\u001b[0;34m\u001b[0m\u001b[0m\n\u001b[0;32m--> 321\u001b[0;31m         \u001b[0;34m(\u001b[0m\u001b[0mresult\u001b[0m\u001b[0;34m,\u001b[0m \u001b[0mconsumed\u001b[0m\u001b[0;34m)\u001b[0m \u001b[0;34m=\u001b[0m \u001b[0mself\u001b[0m\u001b[0;34m.\u001b[0m\u001b[0m_buffer_decode\u001b[0m\u001b[0;34m(\u001b[0m\u001b[0mdata\u001b[0m\u001b[0;34m,\u001b[0m \u001b[0mself\u001b[0m\u001b[0;34m.\u001b[0m\u001b[0merrors\u001b[0m\u001b[0;34m,\u001b[0m \u001b[0mfinal\u001b[0m\u001b[0;34m)\u001b[0m\u001b[0;34m\u001b[0m\u001b[0;34m\u001b[0m\u001b[0m\n\u001b[0m\u001b[1;32m    322\u001b[0m         \u001b[0;31m# keep undecoded input until the next call\u001b[0m\u001b[0;34m\u001b[0m\u001b[0;34m\u001b[0m\u001b[0;34m\u001b[0m\u001b[0m\n\u001b[1;32m    323\u001b[0m         \u001b[0mself\u001b[0m\u001b[0;34m.\u001b[0m\u001b[0mbuffer\u001b[0m \u001b[0;34m=\u001b[0m \u001b[0mdata\u001b[0m\u001b[0;34m[\u001b[0m\u001b[0mconsumed\u001b[0m\u001b[0;34m:\u001b[0m\u001b[0;34m]\u001b[0m\u001b[0;34m\u001b[0m\u001b[0;34m\u001b[0m\u001b[0m\n",
      "\u001b[0;32m/usr/lib/python3.6/encodings/utf_16.py\u001b[0m in \u001b[0;36m_buffer_decode\u001b[0;34m(self, input, errors, final)\u001b[0m\n\u001b[1;32m     59\u001b[0m         \u001b[0;32mif\u001b[0m \u001b[0mself\u001b[0m\u001b[0;34m.\u001b[0m\u001b[0mdecoder\u001b[0m \u001b[0;32mis\u001b[0m \u001b[0;32mNone\u001b[0m\u001b[0;34m:\u001b[0m\u001b[0;34m\u001b[0m\u001b[0;34m\u001b[0m\u001b[0m\n\u001b[1;32m     60\u001b[0m             \u001b[0;34m(\u001b[0m\u001b[0moutput\u001b[0m\u001b[0;34m,\u001b[0m \u001b[0mconsumed\u001b[0m\u001b[0;34m,\u001b[0m \u001b[0mbyteorder\u001b[0m\u001b[0;34m)\u001b[0m \u001b[0;34m=\u001b[0m\u001b[0;31m \u001b[0m\u001b[0;31m\\\u001b[0m\u001b[0;34m\u001b[0m\u001b[0;34m\u001b[0m\u001b[0m\n\u001b[0;32m---> 61\u001b[0;31m                 \u001b[0mcodecs\u001b[0m\u001b[0;34m.\u001b[0m\u001b[0mutf_16_ex_decode\u001b[0m\u001b[0;34m(\u001b[0m\u001b[0minput\u001b[0m\u001b[0;34m,\u001b[0m \u001b[0merrors\u001b[0m\u001b[0;34m,\u001b[0m \u001b[0;36m0\u001b[0m\u001b[0;34m,\u001b[0m \u001b[0mfinal\u001b[0m\u001b[0;34m)\u001b[0m\u001b[0;34m\u001b[0m\u001b[0;34m\u001b[0m\u001b[0m\n\u001b[0m\u001b[1;32m     62\u001b[0m             \u001b[0;32mif\u001b[0m \u001b[0mbyteorder\u001b[0m \u001b[0;34m==\u001b[0m \u001b[0;34m-\u001b[0m\u001b[0;36m1\u001b[0m\u001b[0;34m:\u001b[0m\u001b[0;34m\u001b[0m\u001b[0;34m\u001b[0m\u001b[0m\n\u001b[1;32m     63\u001b[0m                 \u001b[0mself\u001b[0m\u001b[0;34m.\u001b[0m\u001b[0mdecoder\u001b[0m \u001b[0;34m=\u001b[0m \u001b[0mcodecs\u001b[0m\u001b[0;34m.\u001b[0m\u001b[0mutf_16_le_decode\u001b[0m\u001b[0;34m\u001b[0m\u001b[0;34m\u001b[0m\u001b[0m\n",
      "\u001b[0;31mUnicodeDecodeError\u001b[0m: 'utf-16-le' codec can't decode bytes in position 3880-3881: illegal UTF-16 surrogate"
     ]
    }
   ],
   "source": [
    "# -*- coding: utf-16 -*-\n",
    "with open(\"super_order.dmp\", 'r', encoding='utf-16') as f:\n",
    "    lines  = f.readlines()"
   ]
  },
  {
   "cell_type": "code",
   "execution_count": null,
   "metadata": {},
   "outputs": [],
   "source": [
    "with open(\"super_order.dmp\", \"rb\") as data:\n",
    "    header = data.read(24)\n",
    "    text = data.read(24).decode('utf-16-le')"
   ]
  },
  {
   "cell_type": "code",
   "execution_count": null,
   "metadata": {},
   "outputs": [],
   "source": [
    "text"
   ]
  },
  {
   "cell_type": "code",
   "execution_count": null,
   "metadata": {},
   "outputs": [],
   "source": []
  }
 ],
 "metadata": {
  "kernelspec": {
   "display_name": "TensorFlow 2.3 on Python 3.6 (CUDA 10.1)",
   "language": "python",
   "name": "python3"
  },
  "language_info": {
   "codemirror_mode": {
    "name": "ipython",
    "version": 3
   },
   "file_extension": ".py",
   "mimetype": "text/x-python",
   "name": "python",
   "nbconvert_exporter": "python",
   "pygments_lexer": "ipython3",
   "version": "3.6.9"
  }
 },
 "nbformat": 4,
 "nbformat_minor": 4
}
