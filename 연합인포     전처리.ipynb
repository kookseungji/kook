{
 "cells": [
  {
   "cell_type": "code",
   "execution_count": 4,
   "metadata": {},
   "outputs": [],
   "source": [
    "import pandas as pd\n",
    "import numpy as np\n",
    "import datetime\n",
    "import re\n",
    "yonhap=pd.read_csv('연합인포맥스_2011-2019.csv')\n",
    "yonhap['press']=' 연합인포맥스'\n",
    "yonhap.date=yonhap.date.str[4:14]\n",
    "yonhap['date']=yonhap['date'].apply(lambda x : x[:4]+x[5:7]+x[8:])\n",
    "yonhap['date']=pd.to_datetime(yonhap['date'])\n",
    "sep = '(끝)'\n",
    "yonhap['content']=yonhap['content'].apply(lambda x : x.lstrip('\\r\\n\\t').rstrip('\\r\\n\\t').rstrip('\\r\\n').rstrip('\\t\\t').rstrip('\\r\\n\\r\\n\\t\\t\\r\\n\\t\\t,\\r\\n\\r\\n\\t\\t\\'').split(sep, 1)[0])\n",
    "yonhap['content']=yonhap['content'].apply(lambda x :re.sub('\\(서울=연합인포맥스\\)','',x)).apply(lambda x :re.sub('\\(뉴욕=연합인포맥스\\)','',x))"
   ]
  },
  {
   "cell_type": "code",
   "execution_count": 17,
   "metadata": {},
   "outputs": [
    {
     "ename": "KeyboardInterrupt",
     "evalue": "",
     "output_type": "error",
     "traceback": [
      "\u001b[1;31m---------------------------------------------------------------------------\u001b[0m",
      "\u001b[1;31mKeyboardInterrupt\u001b[0m                         Traceback (most recent call last)",
      "\u001b[1;32m<ipython-input-17-7922814072ee>\u001b[0m in \u001b[0;36m<module>\u001b[1;34m\u001b[0m\n\u001b[1;32m----> 1\u001b[1;33m \u001b[0myonhap\u001b[0m\u001b[1;33m[\u001b[0m\u001b[1;34m'content'\u001b[0m\u001b[1;33m]\u001b[0m\u001b[1;33m=\u001b[0m\u001b[0myonhap\u001b[0m\u001b[1;33m[\u001b[0m\u001b[1;34m'content'\u001b[0m\u001b[1;33m]\u001b[0m\u001b[1;33m.\u001b[0m\u001b[0mapply\u001b[0m\u001b[1;33m(\u001b[0m\u001b[1;32mlambda\u001b[0m \u001b[0mx\u001b[0m \u001b[1;33m:\u001b[0m\u001b[0mre\u001b[0m\u001b[1;33m.\u001b[0m\u001b[0msub\u001b[0m\u001b[1;33m(\u001b[0m\u001b[1;34m'.+[가-힣]{2} \\='\u001b[0m\u001b[1;33m,\u001b[0m\u001b[1;34m''\u001b[0m\u001b[1;33m,\u001b[0m\u001b[0mx\u001b[0m\u001b[1;33m)\u001b[0m\u001b[1;33m)\u001b[0m\u001b[1;33m\u001b[0m\u001b[1;33m\u001b[0m\u001b[0m\n\u001b[0m",
      "\u001b[1;32mC:\\ProgramData\\Anaconda3\\lib\\site-packages\\pandas\\core\\series.py\u001b[0m in \u001b[0;36mapply\u001b[1;34m(self, func, convert_dtype, args, **kwds)\u001b[0m\n\u001b[0;32m   3589\u001b[0m             \u001b[1;32melse\u001b[0m\u001b[1;33m:\u001b[0m\u001b[1;33m\u001b[0m\u001b[1;33m\u001b[0m\u001b[0m\n\u001b[0;32m   3590\u001b[0m                 \u001b[0mvalues\u001b[0m \u001b[1;33m=\u001b[0m \u001b[0mself\u001b[0m\u001b[1;33m.\u001b[0m\u001b[0mastype\u001b[0m\u001b[1;33m(\u001b[0m\u001b[0mobject\u001b[0m\u001b[1;33m)\u001b[0m\u001b[1;33m.\u001b[0m\u001b[0mvalues\u001b[0m\u001b[1;33m\u001b[0m\u001b[1;33m\u001b[0m\u001b[0m\n\u001b[1;32m-> 3591\u001b[1;33m                 \u001b[0mmapped\u001b[0m \u001b[1;33m=\u001b[0m \u001b[0mlib\u001b[0m\u001b[1;33m.\u001b[0m\u001b[0mmap_infer\u001b[0m\u001b[1;33m(\u001b[0m\u001b[0mvalues\u001b[0m\u001b[1;33m,\u001b[0m \u001b[0mf\u001b[0m\u001b[1;33m,\u001b[0m \u001b[0mconvert\u001b[0m\u001b[1;33m=\u001b[0m\u001b[0mconvert_dtype\u001b[0m\u001b[1;33m)\u001b[0m\u001b[1;33m\u001b[0m\u001b[1;33m\u001b[0m\u001b[0m\n\u001b[0m\u001b[0;32m   3592\u001b[0m \u001b[1;33m\u001b[0m\u001b[0m\n\u001b[0;32m   3593\u001b[0m         \u001b[1;32mif\u001b[0m \u001b[0mlen\u001b[0m\u001b[1;33m(\u001b[0m\u001b[0mmapped\u001b[0m\u001b[1;33m)\u001b[0m \u001b[1;32mand\u001b[0m \u001b[0misinstance\u001b[0m\u001b[1;33m(\u001b[0m\u001b[0mmapped\u001b[0m\u001b[1;33m[\u001b[0m\u001b[1;36m0\u001b[0m\u001b[1;33m]\u001b[0m\u001b[1;33m,\u001b[0m \u001b[0mSeries\u001b[0m\u001b[1;33m)\u001b[0m\u001b[1;33m:\u001b[0m\u001b[1;33m\u001b[0m\u001b[1;33m\u001b[0m\u001b[0m\n",
      "\u001b[1;32mpandas/_libs/lib.pyx\u001b[0m in \u001b[0;36mpandas._libs.lib.map_infer\u001b[1;34m()\u001b[0m\n",
      "\u001b[1;32m<ipython-input-17-7922814072ee>\u001b[0m in \u001b[0;36m<lambda>\u001b[1;34m(x)\u001b[0m\n\u001b[1;32m----> 1\u001b[1;33m \u001b[0myonhap\u001b[0m\u001b[1;33m[\u001b[0m\u001b[1;34m'content'\u001b[0m\u001b[1;33m]\u001b[0m\u001b[1;33m=\u001b[0m\u001b[0myonhap\u001b[0m\u001b[1;33m[\u001b[0m\u001b[1;34m'content'\u001b[0m\u001b[1;33m]\u001b[0m\u001b[1;33m.\u001b[0m\u001b[0mapply\u001b[0m\u001b[1;33m(\u001b[0m\u001b[1;32mlambda\u001b[0m \u001b[0mx\u001b[0m \u001b[1;33m:\u001b[0m\u001b[0mre\u001b[0m\u001b[1;33m.\u001b[0m\u001b[0msub\u001b[0m\u001b[1;33m(\u001b[0m\u001b[1;34m'.+[가-힣]{2} \\='\u001b[0m\u001b[1;33m,\u001b[0m\u001b[1;34m''\u001b[0m\u001b[1;33m,\u001b[0m\u001b[0mx\u001b[0m\u001b[1;33m)\u001b[0m\u001b[1;33m)\u001b[0m\u001b[1;33m\u001b[0m\u001b[1;33m\u001b[0m\u001b[0m\n\u001b[0m",
      "\u001b[1;31mKeyboardInterrupt\u001b[0m: "
     ]
    }
   ],
   "source": [
    "yonhap['content']=yonhap['content'].apply(lambda x :re.sub('.+[가-힣]{2} \\=','',x))"
   ]
  },
  {
   "cell_type": "code",
   "execution_count": 5,
   "metadata": {},
   "outputs": [],
   "source": [
    "from ekonlpy.sentiment import MPCK\n",
    "def text2ngram(text):\n",
    "    mpck = MPCK()\n",
    "    bef_tokens = mpck.tokenize(text)\n",
    "    ngrams = mpck.ngramize(bef_tokens)\n",
    "    return ngrams"
   ]
  },
  {
   "cell_type": "code",
   "execution_count": 18,
   "metadata": {},
   "outputs": [],
   "source": [
    "ngram=[]\n",
    "for i in range(120036):\n",
    "    strcat.(a[ngram][i],(text2ngram(yonhap['content'][i]))"
   ]
  },
  {
   "cell_type": "code",
   "execution_count": 22,
   "metadata": {},
   "outputs": [
    {
     "data": {
      "text/plain": [
       "['채권/NNG;금리/NNG;인하/NNG',\n",
       " 'cd/NNG;금리/NNG;하방/NNG',\n",
       " '금리/NNG;하방/NNG;압력/NNG',\n",
       " '금리/NNG;갭/NNG;축소/NNG',\n",
       " 'cd/NNG;금리/NNG;높/VA',\n",
       " '금리/NNG;뚫/VV;내리/VV',\n",
       " '금리/NNG;웃돌/VV']"
      ]
     },
     "execution_count": 22,
     "metadata": {},
     "output_type": "execute_result"
    }
   ],
   "source": [
    "ngram[1000]"
   ]
  },
  {
   "cell_type": "code",
   "execution_count": 24,
   "metadata": {},
   "outputs": [],
   "source": [
    "yonhap['ngram']=ngram"
   ]
  },
  {
   "cell_type": "code",
   "execution_count": 33,
   "metadata": {},
   "outputs": [
    {
     "data": {
      "text/html": [
       "<div>\n",
       "<style scoped>\n",
       "    .dataframe tbody tr th:only-of-type {\n",
       "        vertical-align: middle;\n",
       "    }\n",
       "\n",
       "    .dataframe tbody tr th {\n",
       "        vertical-align: top;\n",
       "    }\n",
       "\n",
       "    .dataframe thead th {\n",
       "        text-align: right;\n",
       "    }\n",
       "</style>\n",
       "<table border=\"1\" class=\"dataframe\">\n",
       "  <thead>\n",
       "    <tr style=\"text-align: right;\">\n",
       "      <th></th>\n",
       "      <th>title</th>\n",
       "      <th>content</th>\n",
       "      <th>date</th>\n",
       "      <th>press</th>\n",
       "      <th>ngram</th>\n",
       "    </tr>\n",
       "  </thead>\n",
       "  <tbody>\n",
       "    <tr>\n",
       "      <th>120031</th>\n",
       "      <td>유로화, 유가 강세로 상승</td>\n",
       "      <td>김홍규 특파원 = 유로화는 9일 뉴욕 외환시장에서 뉴욕유가가 강세를 나타냄에 따라...</td>\n",
       "      <td>2011-03-10</td>\n",
       "      <td>연합인포맥스</td>\n",
       "      <td>[ecb/NNG;금리/NNG;인상/NNG, 유가/NNG;강세/NNG]</td>\n",
       "    </tr>\n",
       "    <tr>\n",
       "      <th>120032</th>\n",
       "      <td>&lt;유럽환시&gt; 유로화, ECB 금리인상 기대로 급등</td>\n",
       "      <td>신경원 기자 = 유로화는 중동 지역에 대한 불안심리가 완화된 데다 유럽중앙은행(E...</td>\n",
       "      <td>2011-02-23</td>\n",
       "      <td>연합인포맥스</td>\n",
       "      <td>[금리/NNG;인상/NNG;기대/NNG;크/VV, 금리/NNG;인상/NNG;주장/N...</td>\n",
       "    </tr>\n",
       "    <tr>\n",
       "      <th>120033</th>\n",
       "      <td>유로화, 안전자산 매수 지속으로 보합권 등락</td>\n",
       "      <td>김홍규 특파원 = 유로화는 9일 뉴욕 외환시장에서 안전자산 매수세가 이어져 미국 ...</td>\n",
       "      <td>2011-03-09</td>\n",
       "      <td>연합인포맥스</td>\n",
       "      <td>[유로존/NNG;신용위험/NNG, 국채입찰/NNG;성공/NNG, 금리/NNG;인상/...</td>\n",
       "    </tr>\n",
       "    <tr>\n",
       "      <th>120034</th>\n",
       "      <td>유로화, 유로존 부채 우려 부각 낙폭 확대</td>\n",
       "      <td>김홍규 특파원 = 유로화는 8일 뉴욕 외환시장에서 유로존의 부채문제가 재부각돼 미...</td>\n",
       "      <td>2011-03-08</td>\n",
       "      <td>연합인포맥스</td>\n",
       "      <td>[국채/NNG;수익률/NNG;상승/NNG, 금리/NNG;인상/NNG]</td>\n",
       "    </tr>\n",
       "    <tr>\n",
       "      <th>120035</th>\n",
       "      <td>유로화, 1.40달러 돌파 무산 따른 약세 심리로 하락</td>\n",
       "      <td>김홍규 특파원 = 유로화는 8일 뉴욕 외환시장에서 미국 달러화에 1.40달러에 도...</td>\n",
       "      <td>2011-03-09</td>\n",
       "      <td>연합인포맥스</td>\n",
       "      <td>[금리/NNG;인상/NNG;강하/VA]</td>\n",
       "    </tr>\n",
       "  </tbody>\n",
       "</table>\n",
       "</div>"
      ],
      "text/plain": [
       "                                 title  \\\n",
       "120031                  유로화, 유가 강세로 상승   \n",
       "120032     <유럽환시> 유로화, ECB 금리인상 기대로 급등   \n",
       "120033        유로화, 안전자산 매수 지속으로 보합권 등락   \n",
       "120034         유로화, 유로존 부채 우려 부각 낙폭 확대   \n",
       "120035  유로화, 1.40달러 돌파 무산 따른 약세 심리로 하락   \n",
       "\n",
       "                                                  content       date    press  \\\n",
       "120031   김홍규 특파원 = 유로화는 9일 뉴욕 외환시장에서 뉴욕유가가 강세를 나타냄에 따라... 2011-03-10   연합인포맥스   \n",
       "120032   신경원 기자 = 유로화는 중동 지역에 대한 불안심리가 완화된 데다 유럽중앙은행(E... 2011-02-23   연합인포맥스   \n",
       "120033   김홍규 특파원 = 유로화는 9일 뉴욕 외환시장에서 안전자산 매수세가 이어져 미국 ... 2011-03-09   연합인포맥스   \n",
       "120034   김홍규 특파원 = 유로화는 8일 뉴욕 외환시장에서 유로존의 부채문제가 재부각돼 미... 2011-03-08   연합인포맥스   \n",
       "120035   김홍규 특파원 = 유로화는 8일 뉴욕 외환시장에서 미국 달러화에 1.40달러에 도... 2011-03-09   연합인포맥스   \n",
       "\n",
       "                                                    ngram  \n",
       "120031             [ecb/NNG;금리/NNG;인상/NNG, 유가/NNG;강세/NNG]  \n",
       "120032  [금리/NNG;인상/NNG;기대/NNG;크/VV, 금리/NNG;인상/NNG;주장/N...  \n",
       "120033  [유로존/NNG;신용위험/NNG, 국채입찰/NNG;성공/NNG, 금리/NNG;인상/...  \n",
       "120034             [국채/NNG;수익률/NNG;상승/NNG, 금리/NNG;인상/NNG]  \n",
       "120035                              [금리/NNG;인상/NNG;강하/VA]  "
      ]
     },
     "execution_count": 33,
     "metadata": {},
     "output_type": "execute_result"
    }
   ],
   "source": [
    "yonhap.tail()"
   ]
  },
  {
   "cell_type": "code",
   "execution_count": 26,
   "metadata": {},
   "outputs": [],
   "source": [
    "  yoninfo1= pd.read_csv(\"연합인포맥스 ngram 2005-2010.csv\")"
   ]
  },
  {
   "cell_type": "code",
   "execution_count": 40,
   "metadata": {},
   "outputs": [
    {
     "data": {
      "text/plain": [
       "pandas._libs.tslibs.timestamps.Timestamp"
      ]
     },
     "execution_count": 40,
     "metadata": {},
     "output_type": "execute_result"
    }
   ],
   "source": [
    "type(yonhap['date'][0])"
   ]
  },
  {
   "cell_type": "code",
   "execution_count": 30,
   "metadata": {},
   "outputs": [],
   "source": [
    "yoninfo1=yoninfo1.drop('Unnamed: 0.1',axis=1)"
   ]
  },
  {
   "cell_type": "code",
   "execution_count": 38,
   "metadata": {},
   "outputs": [],
   "source": [
    "yoninfo1['date']=pd.to_datetime(yoninfo1['date'])"
   ]
  },
  {
   "cell_type": "code",
   "execution_count": 41,
   "metadata": {},
   "outputs": [
    {
     "name": "stderr",
     "output_type": "stream",
     "text": [
      "C:\\ProgramData\\Anaconda3\\lib\\site-packages\\pandas\\core\\frame.py:6692: FutureWarning: Sorting because non-concatenation axis is not aligned. A future version\n",
      "of pandas will change to not sort by default.\n",
      "\n",
      "To accept the future behavior, pass 'sort=False'.\n",
      "\n",
      "To retain the current behavior and silence the warning, pass 'sort=True'.\n",
      "\n",
      "  sort=sort)\n"
     ]
    }
   ],
   "source": [
    "yonhap_info=yoninfo1.append(yonhap)"
   ]
  },
  {
   "cell_type": "code",
   "execution_count": 45,
   "metadata": {},
   "outputs": [
    {
     "data": {
      "text/html": [
       "<div>\n",
       "<style scoped>\n",
       "    .dataframe tbody tr th:only-of-type {\n",
       "        vertical-align: middle;\n",
       "    }\n",
       "\n",
       "    .dataframe tbody tr th {\n",
       "        vertical-align: top;\n",
       "    }\n",
       "\n",
       "    .dataframe thead th {\n",
       "        text-align: right;\n",
       "    }\n",
       "</style>\n",
       "<table border=\"1\" class=\"dataframe\">\n",
       "  <thead>\n",
       "    <tr style=\"text-align: right;\">\n",
       "      <th></th>\n",
       "      <th>content</th>\n",
       "      <th>date</th>\n",
       "      <th>ngram</th>\n",
       "      <th>press</th>\n",
       "      <th>title</th>\n",
       "    </tr>\n",
       "  </thead>\n",
       "  <tbody>\n",
       "    <tr>\n",
       "      <th>140974</th>\n",
       "      <td>김홍규 특파원 = 유로화는 9일 뉴욕 외환시장에서 뉴욕유가가 강세를 나타냄에 따라...</td>\n",
       "      <td>2011-03-10</td>\n",
       "      <td>[ecb/NNG;금리/NNG;인상/NNG, 유가/NNG;강세/NNG]</td>\n",
       "      <td>연합인포맥스</td>\n",
       "      <td>유로화, 유가 강세로 상승</td>\n",
       "    </tr>\n",
       "    <tr>\n",
       "      <th>140975</th>\n",
       "      <td>신경원 기자 = 유로화는 중동 지역에 대한 불안심리가 완화된 데다 유럽중앙은행(E...</td>\n",
       "      <td>2011-02-23</td>\n",
       "      <td>[금리/NNG;인상/NNG;기대/NNG;크/VV, 금리/NNG;인상/NNG;주장/N...</td>\n",
       "      <td>연합인포맥스</td>\n",
       "      <td>&lt;유럽환시&gt; 유로화, ECB 금리인상 기대로 급등</td>\n",
       "    </tr>\n",
       "    <tr>\n",
       "      <th>140976</th>\n",
       "      <td>김홍규 특파원 = 유로화는 9일 뉴욕 외환시장에서 안전자산 매수세가 이어져 미국 ...</td>\n",
       "      <td>2011-03-09</td>\n",
       "      <td>[유로존/NNG;신용위험/NNG, 국채입찰/NNG;성공/NNG, 금리/NNG;인상/...</td>\n",
       "      <td>연합인포맥스</td>\n",
       "      <td>유로화, 안전자산 매수 지속으로 보합권 등락</td>\n",
       "    </tr>\n",
       "    <tr>\n",
       "      <th>140977</th>\n",
       "      <td>김홍규 특파원 = 유로화는 8일 뉴욕 외환시장에서 유로존의 부채문제가 재부각돼 미...</td>\n",
       "      <td>2011-03-08</td>\n",
       "      <td>[국채/NNG;수익률/NNG;상승/NNG, 금리/NNG;인상/NNG]</td>\n",
       "      <td>연합인포맥스</td>\n",
       "      <td>유로화, 유로존 부채 우려 부각 낙폭 확대</td>\n",
       "    </tr>\n",
       "    <tr>\n",
       "      <th>140978</th>\n",
       "      <td>김홍규 특파원 = 유로화는 8일 뉴욕 외환시장에서 미국 달러화에 1.40달러에 도...</td>\n",
       "      <td>2011-03-09</td>\n",
       "      <td>[금리/NNG;인상/NNG;강하/VA]</td>\n",
       "      <td>연합인포맥스</td>\n",
       "      <td>유로화, 1.40달러 돌파 무산 따른 약세 심리로 하락</td>\n",
       "    </tr>\n",
       "  </tbody>\n",
       "</table>\n",
       "</div>"
      ],
      "text/plain": [
       "                                                  content       date  \\\n",
       "140974   김홍규 특파원 = 유로화는 9일 뉴욕 외환시장에서 뉴욕유가가 강세를 나타냄에 따라... 2011-03-10   \n",
       "140975   신경원 기자 = 유로화는 중동 지역에 대한 불안심리가 완화된 데다 유럽중앙은행(E... 2011-02-23   \n",
       "140976   김홍규 특파원 = 유로화는 9일 뉴욕 외환시장에서 안전자산 매수세가 이어져 미국 ... 2011-03-09   \n",
       "140977   김홍규 특파원 = 유로화는 8일 뉴욕 외환시장에서 유로존의 부채문제가 재부각돼 미... 2011-03-08   \n",
       "140978   김홍규 특파원 = 유로화는 8일 뉴욕 외환시장에서 미국 달러화에 1.40달러에 도... 2011-03-09   \n",
       "\n",
       "                                                    ngram    press  \\\n",
       "140974             [ecb/NNG;금리/NNG;인상/NNG, 유가/NNG;강세/NNG]   연합인포맥스   \n",
       "140975  [금리/NNG;인상/NNG;기대/NNG;크/VV, 금리/NNG;인상/NNG;주장/N...   연합인포맥스   \n",
       "140976  [유로존/NNG;신용위험/NNG, 국채입찰/NNG;성공/NNG, 금리/NNG;인상/...   연합인포맥스   \n",
       "140977             [국채/NNG;수익률/NNG;상승/NNG, 금리/NNG;인상/NNG]   연합인포맥스   \n",
       "140978                              [금리/NNG;인상/NNG;강하/VA]   연합인포맥스   \n",
       "\n",
       "                                 title  \n",
       "140974                  유로화, 유가 강세로 상승  \n",
       "140975     <유럽환시> 유로화, ECB 금리인상 기대로 급등  \n",
       "140976        유로화, 안전자산 매수 지속으로 보합권 등락  \n",
       "140977         유로화, 유로존 부채 우려 부각 낙폭 확대  \n",
       "140978  유로화, 1.40달러 돌파 무산 따른 약세 심리로 하락  "
      ]
     },
     "execution_count": 45,
     "metadata": {},
     "output_type": "execute_result"
    }
   ],
   "source": [
    "yonhap_info.tail()"
   ]
  },
  {
   "cell_type": "code",
   "execution_count": 50,
   "metadata": {},
   "outputs": [],
   "source": [
    "yonhap_info= yonhap_info.reset_index(drop=True)"
   ]
  },
  {
   "cell_type": "code",
   "execution_count": 49,
   "metadata": {},
   "outputs": [],
   "source": [
    "yonhap_info= yonhap_info.sort_values(by='date')"
   ]
  },
  {
   "cell_type": "code",
   "execution_count": 54,
   "metadata": {},
   "outputs": [
    {
     "data": {
      "text/html": [
       "<div>\n",
       "<style scoped>\n",
       "    .dataframe tbody tr th:only-of-type {\n",
       "        vertical-align: middle;\n",
       "    }\n",
       "\n",
       "    .dataframe tbody tr th {\n",
       "        vertical-align: top;\n",
       "    }\n",
       "\n",
       "    .dataframe thead th {\n",
       "        text-align: right;\n",
       "    }\n",
       "</style>\n",
       "<table border=\"1\" class=\"dataframe\">\n",
       "  <thead>\n",
       "    <tr style=\"text-align: right;\">\n",
       "      <th></th>\n",
       "      <th>content</th>\n",
       "      <th>date</th>\n",
       "      <th>ngram</th>\n",
       "      <th>press</th>\n",
       "      <th>title</th>\n",
       "    </tr>\n",
       "  </thead>\n",
       "  <tbody>\n",
       "    <tr>\n",
       "      <th>140973</th>\n",
       "      <td>윤영숙 기자 = 달러화가 미국 연방준비제도(연준·Fed)의 금리 인하 기대에 주요...</td>\n",
       "      <td>2019-07-12</td>\n",
       "      <td>[fed/NNG;금리/NNG;인하/NNG;기대/NNG;크/VV, 완화/NNG;않/V...</td>\n",
       "      <td>연합인포맥스</td>\n",
       "      <td>[도쿄환시] 달러, 美금리 인하 기대에 하락</td>\n",
       "    </tr>\n",
       "    <tr>\n",
       "      <th>140974</th>\n",
       "      <td>정선미 기자 = 제롬 파월 연방준비제도(Fed·연준) 의장이 이르면 이달 말 기준...</td>\n",
       "      <td>2019-07-12</td>\n",
       "      <td>[fed/NNG;금리/NNG;인하/NNG, 이례적/VAX;금리/NNG;인하/NNG,...</td>\n",
       "      <td>연합인포맥스</td>\n",
       "      <td>中매체 \"美연준 금리인하 저울질…중국도 인하 배제 못 해\"</td>\n",
       "    </tr>\n",
       "    <tr>\n",
       "      <th>140975</th>\n",
       "      <td>※다음은 12일 오전 11시(상하이 시간) 고시된 중국 상하이 은행간 금리표(shi...</td>\n",
       "      <td>2019-07-12</td>\n",
       "      <td>[]</td>\n",
       "      <td>연합인포맥스</td>\n",
       "      <td>[표] 중국 상하이은행간 금리-shibor(12일)</td>\n",
       "    </tr>\n",
       "    <tr>\n",
       "      <th>140976</th>\n",
       "      <td>전소영 기자 = 국채선물이 하락 출발했다. 간밤 미국 국채금리가 상승한 부담을 받...</td>\n",
       "      <td>2019-07-12</td>\n",
       "      <td>[미/NNG;fed/NNG;비둘기/NNG, 소비자/NNG;물가/NNG;호조/NNG,...</td>\n",
       "      <td>연합인포맥스</td>\n",
       "      <td>국채선물 하락 출발…美 물가 호조에 금리상승</td>\n",
       "    </tr>\n",
       "    <tr>\n",
       "      <th>140977</th>\n",
       "      <td>오진우 특파원 = 토마스 바킨 리치먼드 연방준비은행(연은) 총재는 경제 전망의 위...</td>\n",
       "      <td>2019-07-12</td>\n",
       "      <td>[fed/NNG;금리/NNG;인하/NNG, 경제/NNG;전망/NNG;위험/NNG, ...</td>\n",
       "      <td>연합인포맥스</td>\n",
       "      <td>리치먼드 연은 총재 \"7월 FOMC까지 시간 많다…경제 상당히 긍정적\"(상보)</td>\n",
       "    </tr>\n",
       "  </tbody>\n",
       "</table>\n",
       "</div>"
      ],
      "text/plain": [
       "                                                  content       date  \\\n",
       "140973   윤영숙 기자 = 달러화가 미국 연방준비제도(연준·Fed)의 금리 인하 기대에 주요... 2019-07-12   \n",
       "140974   정선미 기자 = 제롬 파월 연방준비제도(Fed·연준) 의장이 이르면 이달 말 기준... 2019-07-12   \n",
       "140975  ※다음은 12일 오전 11시(상하이 시간) 고시된 중국 상하이 은행간 금리표(shi... 2019-07-12   \n",
       "140976   전소영 기자 = 국채선물이 하락 출발했다. 간밤 미국 국채금리가 상승한 부담을 받... 2019-07-12   \n",
       "140977   오진우 특파원 = 토마스 바킨 리치먼드 연방준비은행(연은) 총재는 경제 전망의 위... 2019-07-12   \n",
       "\n",
       "                                                    ngram    press  \\\n",
       "140973  [fed/NNG;금리/NNG;인하/NNG;기대/NNG;크/VV, 완화/NNG;않/V...   연합인포맥스   \n",
       "140974  [fed/NNG;금리/NNG;인하/NNG, 이례적/VAX;금리/NNG;인하/NNG,...   연합인포맥스   \n",
       "140975                                                 []   연합인포맥스   \n",
       "140976  [미/NNG;fed/NNG;비둘기/NNG, 소비자/NNG;물가/NNG;호조/NNG,...   연합인포맥스   \n",
       "140977  [fed/NNG;금리/NNG;인하/NNG, 경제/NNG;전망/NNG;위험/NNG, ...   연합인포맥스   \n",
       "\n",
       "                                              title  \n",
       "140973                     [도쿄환시] 달러, 美금리 인하 기대에 하락  \n",
       "140974             中매체 \"美연준 금리인하 저울질…중국도 인하 배제 못 해\"  \n",
       "140975                 [표] 중국 상하이은행간 금리-shibor(12일)  \n",
       "140976                     국채선물 하락 출발…美 물가 호조에 금리상승  \n",
       "140977  리치먼드 연은 총재 \"7월 FOMC까지 시간 많다…경제 상당히 긍정적\"(상보)  "
      ]
     },
     "execution_count": 54,
     "metadata": {},
     "output_type": "execute_result"
    }
   ],
   "source": [
    "yonhap_info.tail()"
   ]
  },
  {
   "cell_type": "code",
   "execution_count": 53,
   "metadata": {},
   "outputs": [],
   "source": [
    "yonhap_info=yonhap_info.drop([140978,])"
   ]
  },
  {
   "cell_type": "code",
   "execution_count": 55,
   "metadata": {},
   "outputs": [],
   "source": [
    "col_list=['date','press','title','content','ngram']\n",
    "yonhap_info=yonhap_info[col_list]"
   ]
  },
  {
   "cell_type": "code",
   "execution_count": 59,
   "metadata": {},
   "outputs": [
    {
     "data": {
      "text/html": [
       "<div>\n",
       "<style scoped>\n",
       "    .dataframe tbody tr th:only-of-type {\n",
       "        vertical-align: middle;\n",
       "    }\n",
       "\n",
       "    .dataframe tbody tr th {\n",
       "        vertical-align: top;\n",
       "    }\n",
       "\n",
       "    .dataframe thead th {\n",
       "        text-align: right;\n",
       "    }\n",
       "</style>\n",
       "<table border=\"1\" class=\"dataframe\">\n",
       "  <thead>\n",
       "    <tr style=\"text-align: right;\">\n",
       "      <th></th>\n",
       "      <th>date</th>\n",
       "      <th>press</th>\n",
       "      <th>title</th>\n",
       "      <th>content</th>\n",
       "      <th>ngram</th>\n",
       "    </tr>\n",
       "  </thead>\n",
       "  <tbody>\n",
       "    <tr>\n",
       "      <th>140973</th>\n",
       "      <td>2019-07-12</td>\n",
       "      <td>연합인포맥스</td>\n",
       "      <td>[도쿄환시] 달러, 美금리 인하 기대에 하락</td>\n",
       "      <td>윤영숙 기자 = 달러화가 미국 연방준비제도(연준·Fed)의 금리 인하 기대에 주요...</td>\n",
       "      <td>[fed/NNG;금리/NNG;인하/NNG;기대/NNG;크/VV, 완화/NNG;않/V...</td>\n",
       "    </tr>\n",
       "    <tr>\n",
       "      <th>140974</th>\n",
       "      <td>2019-07-12</td>\n",
       "      <td>연합인포맥스</td>\n",
       "      <td>中매체 \"美연준 금리인하 저울질…중국도 인하 배제 못 해\"</td>\n",
       "      <td>정선미 기자 = 제롬 파월 연방준비제도(Fed·연준) 의장이 이르면 이달 말 기준...</td>\n",
       "      <td>[fed/NNG;금리/NNG;인하/NNG, 이례적/VAX;금리/NNG;인하/NNG,...</td>\n",
       "    </tr>\n",
       "    <tr>\n",
       "      <th>140975</th>\n",
       "      <td>2019-07-12</td>\n",
       "      <td>연합인포맥스</td>\n",
       "      <td>[표] 중국 상하이은행간 금리-shibor(12일)</td>\n",
       "      <td>※다음은 12일 오전 11시(상하이 시간) 고시된 중국 상하이 은행간 금리표(shi...</td>\n",
       "      <td>[]</td>\n",
       "    </tr>\n",
       "    <tr>\n",
       "      <th>140976</th>\n",
       "      <td>2019-07-12</td>\n",
       "      <td>연합인포맥스</td>\n",
       "      <td>국채선물 하락 출발…美 물가 호조에 금리상승</td>\n",
       "      <td>전소영 기자 = 국채선물이 하락 출발했다. 간밤 미국 국채금리가 상승한 부담을 받...</td>\n",
       "      <td>[미/NNG;fed/NNG;비둘기/NNG, 소비자/NNG;물가/NNG;호조/NNG,...</td>\n",
       "    </tr>\n",
       "    <tr>\n",
       "      <th>140977</th>\n",
       "      <td>2019-07-12</td>\n",
       "      <td>연합인포맥스</td>\n",
       "      <td>리치먼드 연은 총재 \"7월 FOMC까지 시간 많다…경제 상당히 긍정적\"(상보)</td>\n",
       "      <td>오진우 특파원 = 토마스 바킨 리치먼드 연방준비은행(연은) 총재는 경제 전망의 위...</td>\n",
       "      <td>[fed/NNG;금리/NNG;인하/NNG, 경제/NNG;전망/NNG;위험/NNG, ...</td>\n",
       "    </tr>\n",
       "  </tbody>\n",
       "</table>\n",
       "</div>"
      ],
      "text/plain": [
       "             date    press                                        title  \\\n",
       "140973 2019-07-12   연합인포맥스                     [도쿄환시] 달러, 美금리 인하 기대에 하락   \n",
       "140974 2019-07-12   연합인포맥스             中매체 \"美연준 금리인하 저울질…중국도 인하 배제 못 해\"   \n",
       "140975 2019-07-12   연합인포맥스                 [표] 중국 상하이은행간 금리-shibor(12일)   \n",
       "140976 2019-07-12   연합인포맥스                     국채선물 하락 출발…美 물가 호조에 금리상승   \n",
       "140977 2019-07-12   연합인포맥스  리치먼드 연은 총재 \"7월 FOMC까지 시간 많다…경제 상당히 긍정적\"(상보)   \n",
       "\n",
       "                                                  content  \\\n",
       "140973   윤영숙 기자 = 달러화가 미국 연방준비제도(연준·Fed)의 금리 인하 기대에 주요...   \n",
       "140974   정선미 기자 = 제롬 파월 연방준비제도(Fed·연준) 의장이 이르면 이달 말 기준...   \n",
       "140975  ※다음은 12일 오전 11시(상하이 시간) 고시된 중국 상하이 은행간 금리표(shi...   \n",
       "140976   전소영 기자 = 국채선물이 하락 출발했다. 간밤 미국 국채금리가 상승한 부담을 받...   \n",
       "140977   오진우 특파원 = 토마스 바킨 리치먼드 연방준비은행(연은) 총재는 경제 전망의 위...   \n",
       "\n",
       "                                                    ngram  \n",
       "140973  [fed/NNG;금리/NNG;인하/NNG;기대/NNG;크/VV, 완화/NNG;않/V...  \n",
       "140974  [fed/NNG;금리/NNG;인하/NNG, 이례적/VAX;금리/NNG;인하/NNG,...  \n",
       "140975                                                 []  \n",
       "140976  [미/NNG;fed/NNG;비둘기/NNG, 소비자/NNG;물가/NNG;호조/NNG,...  \n",
       "140977  [fed/NNG;금리/NNG;인하/NNG, 경제/NNG;전망/NNG;위험/NNG, ...  "
      ]
     },
     "execution_count": 59,
     "metadata": {},
     "output_type": "execute_result"
    }
   ],
   "source": [
    "yonhap_info.tail()"
   ]
  },
  {
   "cell_type": "code",
   "execution_count": 60,
   "metadata": {},
   "outputs": [],
   "source": [
    "yonhap_info.to_csv(\"yonhap_info_2005-2019_전처리.csv\")"
   ]
  },
  {
   "cell_type": "code",
   "execution_count": null,
   "metadata": {},
   "outputs": [],
   "source": []
  }
 ],
 "metadata": {
  "kernelspec": {
   "display_name": "Python 3",
   "language": "python",
   "name": "python3"
  },
  "language_info": {
   "codemirror_mode": {
    "name": "ipython",
    "version": 3
   },
   "file_extension": ".py",
   "mimetype": "text/x-python",
   "name": "python",
   "nbconvert_exporter": "python",
   "pygments_lexer": "ipython3",
   "version": "3.7.3"
  }
 },
 "nbformat": 4,
 "nbformat_minor": 2
}
